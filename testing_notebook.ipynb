{
 "cells": [
  {
   "cell_type": "code",
   "execution_count": 1,
   "metadata": {},
   "outputs": [
    {
     "name": "stdout",
     "output_type": "stream",
     "text": [
      "Engine(sqlite://///Users/schlinkertc/code/wine_project/wine/vivino_db/vivino_wines.db)\n"
     ]
    },
    {
     "data": {
      "text/plain": [
       "['regions', 'styles', 'vintages', 'wineries', 'wines']"
      ]
     },
     "execution_count": 1,
     "metadata": {},
     "output_type": "execute_result"
    }
   ],
   "source": [
    "from class_definitions import *\n",
    "\n",
    "from vivino_db import database\n",
    "db = database.db\n",
    "db.db_engine.table_names()"
   ]
  },
  {
   "cell_type": "code",
   "execution_count": 2,
   "metadata": {},
   "outputs": [],
   "source": [
    "import pandas as pd\n",
    "df = pd.read_csv('dataset.csv')"
   ]
  },
  {
   "cell_type": "code",
   "execution_count": 3,
   "metadata": {},
   "outputs": [],
   "source": [
    "tasting_notes=joblib.load('Wines/tasting_notes.pkl')"
   ]
  },
  {
   "cell_type": "code",
   "execution_count": 6,
   "metadata": {},
   "outputs": [],
   "source": [
    "t = tasting_notes[0]"
   ]
  },
  {
   "cell_type": "code",
   "execution_count": 7,
   "metadata": {},
   "outputs": [
    {
     "data": {
      "text/plain": [
       "{4470482: [{'index': 0,\n",
       "   'tag': 'blackcurrant',\n",
       "   'note': '2 mentions of black fruit notes'},\n",
       "  {'index': 0, 'tag': 'plum', 'note': '2 mentions of black fruit notes'},\n",
       "  {'index': 1, 'tag': 'prune', 'note': '1 mentions of dried fruit notes'},\n",
       "  {'index': 2, 'tag': 'violet', 'note': '1 mentions of floral notes'},\n",
       "  {'index': 3, 'tag': 'chard', 'note': '1 mentions of vegetal notes'},\n",
       "  {'index': 3, 'tag': 'red beet', 'note': '1 mentions of vegetal notes'},\n",
       "  {'index': 4, 'tag': 'chocolate', 'note': '1 mentions of oaky notes'}]}"
      ]
     },
     "execution_count": 7,
     "metadata": {},
     "output_type": "execute_result"
    }
   ],
   "source": [
    "t"
   ]
  },
  {
   "cell_type": "code",
   "execution_count": 9,
   "metadata": {},
   "outputs": [],
   "source": [
    "d = {}\n",
    "for k,v in t.items():\n",
    "    d['id']=k\n",
    "    d['notes']=list({x['note'] for x in v})"
   ]
  },
  {
   "cell_type": "code",
   "execution_count": 10,
   "metadata": {},
   "outputs": [
    {
     "data": {
      "text/plain": [
       "{'id': 4470482,\n",
       " 'notes': ['2 mentions of black fruit notes',\n",
       "  '1 mentions of dried fruit notes',\n",
       "  '1 mentions of floral notes',\n",
       "  '1 mentions of oaky notes',\n",
       "  '1 mentions of vegetal notes']}"
      ]
     },
     "execution_count": 10,
     "metadata": {},
     "output_type": "execute_result"
    }
   ],
   "source": [
    "d"
   ]
  },
  {
   "cell_type": "code",
   "execution_count": 5,
   "metadata": {},
   "outputs": [
    {
     "data": {
      "text/plain": [
       "[{'id': 4470482,\n",
       "  'notes': [{'index': 0,\n",
       "    'tag': 'blackcurrant',\n",
       "    'note': '2 mentions of black fruit notes'},\n",
       "   {'index': 0, 'tag': 'plum', 'note': '2 mentions of black fruit notes'},\n",
       "   {'index': 1, 'tag': 'prune', 'note': '1 mentions of dried fruit notes'},\n",
       "   {'index': 2, 'tag': 'violet', 'note': '1 mentions of floral notes'},\n",
       "   {'index': 3, 'tag': 'chard', 'note': '1 mentions of vegetal notes'},\n",
       "   {'index': 3, 'tag': 'red beet', 'note': '1 mentions of vegetal notes'},\n",
       "   {'index': 4, 'tag': 'chocolate', 'note': '1 mentions of oaky notes'}]}]"
      ]
     },
     "execution_count": 5,
     "metadata": {},
     "output_type": "execute_result"
    }
   ],
   "source": [
    "[{'id':k,'notes':v} for k,v in tasting_notes[0].items()]"
   ]
  }
 ],
 "metadata": {
  "kernelspec": {
   "display_name": "Python 3",
   "language": "python",
   "name": "python3"
  },
  "language_info": {
   "codemirror_mode": {
    "name": "ipython",
    "version": 3
   },
   "file_extension": ".py",
   "mimetype": "text/x-python",
   "name": "python",
   "nbconvert_exporter": "python",
   "pygments_lexer": "ipython3",
   "version": "3.7.3"
  }
 },
 "nbformat": 4,
 "nbformat_minor": 4
}
