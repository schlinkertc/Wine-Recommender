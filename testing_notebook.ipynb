{
 "cells": [
  {
   "cell_type": "code",
   "execution_count": 1,
   "metadata": {},
   "outputs": [],
   "source": [
    "from class_definitions import *"
   ]
  },
  {
   "cell_type": "code",
   "execution_count": 8,
   "metadata": {},
   "outputs": [],
   "source": [
    "Wines = [Wine(x) for x in Wine.pickled_wines]"
   ]
  },
  {
   "cell_type": "code",
   "execution_count": 9,
   "metadata": {},
   "outputs": [
    {
     "data": {
      "text/plain": [
       "225"
      ]
     },
     "execution_count": 9,
     "metadata": {},
     "output_type": "execute_result"
    }
   ],
   "source": [
    "len(Wines)"
   ]
  },
  {
   "cell_type": "code",
   "execution_count": 10,
   "metadata": {},
   "outputs": [
    {
     "data": {
      "text/plain": [
       "[Wine: Jacquère Cuvée Baujues 2016 St. Germain, Source: name-search,\n",
       " Wine: Bugey Cerdon Rosé Demi-Sec NV Dentelle, Source: name-search,\n",
       " Wine: Plavac Mali \"Marica\" 2017 Mrgudic, Source: name-search,\n",
       " Wine: Riesling Fass 2 Extra Trocken 2018 Lauer, Source: name-search,\n",
       " Wine: Muscadet Sèvre-et-Maine 2018 Batard Langelier, Source: name-search,\n",
       " Wine: C-d-P Tradition 750ml 2016 Bois de Boursan, Source: name-search,\n",
       " Wine: Silvaner Vulkan 2018 Helmut Dolde, Source: name-search,\n",
       " Wine: Malvasia \"Bela\" 2014 Rodica, Source: name-search,\n",
       " Wine: Naturalmente Frizzante Bianco 2018 Casa Belfi, Source: name-search,\n",
       " Wine: 2017 spatburgunder kabinett koehler ruprecht, Source: name-search,\n",
       " Wine: Sauvignon Blanc 2019 Le Petit Godon, Source: name-search,\n",
       " Wine: Sauvignon Blanc Pouch 1.5L Maivino, Source: name-search,\n",
       " Wine: Cabernet Sauvignon \"Corrupto\" 2019 Laurent, Source: name-search,\n",
       " Wine: Sincronia 2018 Mesquida Mora, Source: name-search,\n",
       " Wine: Vin de Savoie 2018 Jean Vullien, Source: name-search,\n",
       " Wine: Pineau d'Aunis Touraine 2018 Courtault-Tardieux, Source: name-search,\n",
       " Wine: Saumur-Champigny Les Sables 2018 Chaintres, Source: name-search,\n",
       " Wine: Syrah 2017 Villard, Source: name-search,\n",
       " Wine: Kosher Kiddush Sweet Red NV Queen Esther, Source: name-search,\n",
       " Wine: Blanc 3L Pouch 2019 VRAC, Source: name-search,\n",
       " Wine: Kosher Cabernet Sauvignon Estate Galilee 2016 Dalton, Source: name-search,\n",
       " Wine: Chassagne-Montrachet Rouge VV 2015 Pillot, Source: name-search,\n",
       " Wine: Rosso Umbria Un Paio 2016 Le Pianate, Source: name-search,\n",
       " Wine: CDR \"Petit Ours\" 2017 Barret, Source: name-search,\n",
       " Wine: Falanghina Colline Teatine 2016 Di Sipio, Source: name-search,\n",
       " Wine: Rose Cotes de Provence 2019 Gassier, Source: name-search]"
      ]
     },
     "execution_count": 10,
     "metadata": {},
     "output_type": "execute_result"
    }
   ],
   "source": [
    "[w for w in Wines if w.wineSearcher == '403']"
   ]
  },
  {
   "cell_type": "code",
   "execution_count": 11,
   "metadata": {},
   "outputs": [],
   "source": [
    "kcw_wines = pd.read_csv('kings_county_wines.csv',index_col=0)\n",
    "\n",
    "wine_names = list(kcw_wines['name'])\n",
    "\n",
    "wineSearcher = pd.read_csv('wine-searcher_data.csv')"
   ]
  },
  {
   "cell_type": "code",
   "execution_count": 12,
   "metadata": {},
   "outputs": [],
   "source": [
    "matched = [x for x in wine_names if x in wineSearcher['name'].to_list()]"
   ]
  },
  {
   "cell_type": "code",
   "execution_count": 13,
   "metadata": {},
   "outputs": [],
   "source": [
    "# for wine_name in matched:\n",
    "#     wine = Wine(wine_name)\n",
    "#     if type(wine.wineSearcher) != dict:\n",
    "#         print(wine.wineSearcher)\n",
    "#         continue"
   ]
  },
  {
   "cell_type": "code",
   "execution_count": 14,
   "metadata": {},
   "outputs": [
    {
     "data": {
      "text/html": [
       "<div>\n",
       "<style scoped>\n",
       "    .dataframe tbody tr th:only-of-type {\n",
       "        vertical-align: middle;\n",
       "    }\n",
       "\n",
       "    .dataframe tbody tr th {\n",
       "        vertical-align: top;\n",
       "    }\n",
       "\n",
       "    .dataframe thead th {\n",
       "        text-align: right;\n",
       "    }\n",
       "</style>\n",
       "<table border=\"1\" class=\"dataframe\">\n",
       "  <thead>\n",
       "    <tr style=\"text-align: right;\">\n",
       "      <th></th>\n",
       "      <th>url</th>\n",
       "      <th>name</th>\n",
       "      <th>Producer</th>\n",
       "      <th>Region/Appellation</th>\n",
       "      <th>Grape/Blend</th>\n",
       "      <th>Food Suggestion</th>\n",
       "      <th>Wine Style</th>\n",
       "      <th>Alcohol Content</th>\n",
       "      <th>Notes</th>\n",
       "    </tr>\n",
       "  </thead>\n",
       "  <tbody>\n",
       "    <tr>\n",
       "      <td>1</td>\n",
       "      <td>NaN</td>\n",
       "      <td>Truffle Hound 2017 Unico Zelo</td>\n",
       "      <td>Unico Zelo</td>\n",
       "      <td>Clare Valley</td>\n",
       "      <td>Rare Red Blend</td>\n",
       "      <td>Beef and Venison</td>\n",
       "      <td>Red - Rich and Intense</td>\n",
       "      <td>12 - 13.5%</td>\n",
       "      <td>Indicative blend: Barbera and Nebbiolo</td>\n",
       "    </tr>\n",
       "    <tr>\n",
       "      <td>2</td>\n",
       "      <td>NaN</td>\n",
       "      <td>Sforzato di Valtellina 2013 Alfio Mozzi</td>\n",
       "      <td>Azienda Agricola Alfio Mozzi</td>\n",
       "      <td>Sforzato di Valtellina</td>\n",
       "      <td>Nebbiolo</td>\n",
       "      <td>Beef and Venison</td>\n",
       "      <td>Red - Rich and Intense</td>\n",
       "      <td>NaN</td>\n",
       "      <td>NaN</td>\n",
       "    </tr>\n",
       "    <tr>\n",
       "      <td>3</td>\n",
       "      <td>NaN</td>\n",
       "      <td>Cabernet Sauvignon 2017 Oracle Cellars</td>\n",
       "      <td>NaN</td>\n",
       "      <td>Mendocino</td>\n",
       "      <td>Cabernet Sauvignon</td>\n",
       "      <td>Beef and Venison</td>\n",
       "      <td>Red - Bold and Structured</td>\n",
       "      <td>NaN</td>\n",
       "      <td>NaN</td>\n",
       "    </tr>\n",
       "    <tr>\n",
       "      <td>5</td>\n",
       "      <td>NaN</td>\n",
       "      <td>Sauvignon Blanc 2019 Tablelands</td>\n",
       "      <td>TL Wine Co</td>\n",
       "      <td>New Zealand</td>\n",
       "      <td>Sauvignon Blanc</td>\n",
       "      <td>Goats' Cheese and Feta</td>\n",
       "      <td>White - Green and Flinty</td>\n",
       "      <td>12.5 - 14%</td>\n",
       "      <td>NaN</td>\n",
       "    </tr>\n",
       "    <tr>\n",
       "      <td>8</td>\n",
       "      <td>NaN</td>\n",
       "      <td>Moschofilero Fteri 2017 Troupis Winery</td>\n",
       "      <td>Troupis Winery</td>\n",
       "      <td>Peloponnese</td>\n",
       "      <td>Moschofilero</td>\n",
       "      <td>Shellfish, Crab and Lobster</td>\n",
       "      <td>White - Green and Flinty</td>\n",
       "      <td>12 - 12.5%</td>\n",
       "      <td>NaN</td>\n",
       "    </tr>\n",
       "    <tr>\n",
       "      <td>...</td>\n",
       "      <td>...</td>\n",
       "      <td>...</td>\n",
       "      <td>...</td>\n",
       "      <td>...</td>\n",
       "      <td>...</td>\n",
       "      <td>...</td>\n",
       "      <td>...</td>\n",
       "      <td>...</td>\n",
       "      <td>...</td>\n",
       "    </tr>\n",
       "    <tr>\n",
       "      <td>193</td>\n",
       "      <td>NaN</td>\n",
       "      <td>Caluso Passito \"Sule\" 2009 375ml Orsolani</td>\n",
       "      <td>Azienda Vitivinicola Orsolani</td>\n",
       "      <td>Erbaluce di Caluso</td>\n",
       "      <td>Erbaluce</td>\n",
       "      <td>Fruit-based Desserts</td>\n",
       "      <td>Dessert - Lush and Balanced</td>\n",
       "      <td>NaN</td>\n",
       "      <td>NaN</td>\n",
       "    </tr>\n",
       "    <tr>\n",
       "      <td>194</td>\n",
       "      <td>NaN</td>\n",
       "      <td>Sciaccarelu '1769' 2015 Clos Venturi</td>\n",
       "      <td>Domaine Vico</td>\n",
       "      <td>Vin de Corse</td>\n",
       "      <td>Sciaccarello (Mammolo)</td>\n",
       "      <td>NaN</td>\n",
       "      <td>NaN</td>\n",
       "      <td>13.5%</td>\n",
       "      <td>NaN</td>\n",
       "    </tr>\n",
       "    <tr>\n",
       "      <td>195</td>\n",
       "      <td>NaN</td>\n",
       "      <td>Soave Classico \"Otto\" 2018 Prá</td>\n",
       "      <td>Azienda Agricola Pra</td>\n",
       "      <td>Soave Classico</td>\n",
       "      <td>Soave Blend</td>\n",
       "      <td>White Fish</td>\n",
       "      <td>White - Green and Flinty</td>\n",
       "      <td>12%</td>\n",
       "      <td>Organic wine.</td>\n",
       "    </tr>\n",
       "    <tr>\n",
       "      <td>196</td>\n",
       "      <td>NaN</td>\n",
       "      <td>Tai Rosso 2018 Rezzadore</td>\n",
       "      <td>Azienda Agricola Rezzadore</td>\n",
       "      <td>Colli Berici</td>\n",
       "      <td>Grenache (Garnacha)</td>\n",
       "      <td>Beef and Venison</td>\n",
       "      <td>Red - Rich and Intense</td>\n",
       "      <td>NaN</td>\n",
       "      <td>NaN</td>\n",
       "    </tr>\n",
       "    <tr>\n",
       "      <td>197</td>\n",
       "      <td>NaN</td>\n",
       "      <td>Merlot 2017 Je Déteste Merlot</td>\n",
       "      <td>Les Vignerons de Roquemaure</td>\n",
       "      <td>IGP Gard</td>\n",
       "      <td>Merlot</td>\n",
       "      <td>NaN</td>\n",
       "      <td>NaN</td>\n",
       "      <td>NaN</td>\n",
       "      <td>NaN</td>\n",
       "    </tr>\n",
       "  </tbody>\n",
       "</table>\n",
       "<p>174 rows × 9 columns</p>\n",
       "</div>"
      ],
      "text/plain": [
       "     url                                       name  \\\n",
       "1    NaN              Truffle Hound 2017 Unico Zelo   \n",
       "2    NaN    Sforzato di Valtellina 2013 Alfio Mozzi   \n",
       "3    NaN     Cabernet Sauvignon 2017 Oracle Cellars   \n",
       "5    NaN            Sauvignon Blanc 2019 Tablelands   \n",
       "8    NaN     Moschofilero Fteri 2017 Troupis Winery   \n",
       "..   ...                                        ...   \n",
       "193  NaN  Caluso Passito \"Sule\" 2009 375ml Orsolani   \n",
       "194  NaN       Sciaccarelu '1769' 2015 Clos Venturi   \n",
       "195  NaN             Soave Classico \"Otto\" 2018 Prá   \n",
       "196  NaN                   Tai Rosso 2018 Rezzadore   \n",
       "197  NaN              Merlot 2017 Je Déteste Merlot   \n",
       "\n",
       "                          Producer      Region/Appellation  \\\n",
       "1                       Unico Zelo            Clare Valley   \n",
       "2     Azienda Agricola Alfio Mozzi  Sforzato di Valtellina   \n",
       "3                              NaN               Mendocino   \n",
       "5                       TL Wine Co             New Zealand   \n",
       "8                   Troupis Winery             Peloponnese   \n",
       "..                             ...                     ...   \n",
       "193  Azienda Vitivinicola Orsolani      Erbaluce di Caluso   \n",
       "194                   Domaine Vico            Vin de Corse   \n",
       "195           Azienda Agricola Pra          Soave Classico   \n",
       "196     Azienda Agricola Rezzadore            Colli Berici   \n",
       "197    Les Vignerons de Roquemaure                IGP Gard   \n",
       "\n",
       "                Grape/Blend              Food Suggestion  \\\n",
       "1            Rare Red Blend             Beef and Venison   \n",
       "2                  Nebbiolo             Beef and Venison   \n",
       "3        Cabernet Sauvignon             Beef and Venison   \n",
       "5           Sauvignon Blanc       Goats' Cheese and Feta   \n",
       "8              Moschofilero  Shellfish, Crab and Lobster   \n",
       "..                      ...                          ...   \n",
       "193                Erbaluce         Fruit-based Desserts   \n",
       "194  Sciaccarello (Mammolo)                          NaN   \n",
       "195             Soave Blend                   White Fish   \n",
       "196     Grenache (Garnacha)             Beef and Venison   \n",
       "197                  Merlot                          NaN   \n",
       "\n",
       "                      Wine Style Alcohol Content  \\\n",
       "1         Red - Rich and Intense      12 - 13.5%   \n",
       "2         Red - Rich and Intense             NaN   \n",
       "3      Red - Bold and Structured             NaN   \n",
       "5       White - Green and Flinty      12.5 - 14%   \n",
       "8       White - Green and Flinty      12 - 12.5%   \n",
       "..                           ...             ...   \n",
       "193  Dessert - Lush and Balanced             NaN   \n",
       "194                          NaN           13.5%   \n",
       "195     White - Green and Flinty             12%   \n",
       "196       Red - Rich and Intense             NaN   \n",
       "197                          NaN             NaN   \n",
       "\n",
       "                                      Notes  \n",
       "1    Indicative blend: Barbera and Nebbiolo  \n",
       "2                                       NaN  \n",
       "3                                       NaN  \n",
       "5                                       NaN  \n",
       "8                                       NaN  \n",
       "..                                      ...  \n",
       "193                                     NaN  \n",
       "194                                     NaN  \n",
       "195                           Organic wine.  \n",
       "196                                     NaN  \n",
       "197                                     NaN  \n",
       "\n",
       "[174 rows x 9 columns]"
      ]
     },
     "execution_count": 14,
     "metadata": {},
     "output_type": "execute_result"
    }
   ],
   "source": [
    "wineSearcherData = pd.DataFrame.from_records([wine.wineSearcher for wine in Wines if type(wine.wineSearcher)==dict])\n",
    "wineSearcherData.dropna(axis=0,thresh=3)"
   ]
  },
  {
   "cell_type": "markdown",
   "metadata": {},
   "source": [
    "No result for wine-searcher, but one result for vivino. \n",
    "Re-instantiate from the vivino link for wine-searcher match?"
   ]
  },
  {
   "cell_type": "code",
   "execution_count": 15,
   "metadata": {},
   "outputs": [],
   "source": [
    "wineSearcher_noResults = []\n",
    "for W in Wines:\n",
    "    if W.wineSearcher != '403':\n",
    "        if len(W.wineSearcher.keys())==2:\n",
    "            wineSearcher_noResults.append(W)"
   ]
  },
  {
   "cell_type": "code",
   "execution_count": 16,
   "metadata": {},
   "outputs": [
    {
     "data": {
      "text/plain": [
       "[('Zweigelt 2016 Bauer', 20),\n",
       " ('Spatburgunder Kabinett 2017 Koehler-Ruprecht', 1),\n",
       " ('Costa delle Sesia Uvaggio 2015 Sperino', 1),\n",
       " ('Aloxe Corton \"Les Citernes\" 2015 Bidault', 1),\n",
       " ('Refošk Baracija 2017 Clai Wines', 20),\n",
       " ('Lambrusco Bollarossa NV Corte Manzini', 1),\n",
       " (\"Imereti 2018 Amiran's Wine Cellar\", 20),\n",
       " ('Cinsault 2017 Turbigo', 1),\n",
       " ('Autour du Pigeonnier 2016 Benoît Roseau', 1),\n",
       " ('Garnacha \"Campo de Borja\" 2018 Dos Molinos', 1),\n",
       " ('Cab Sauv \"Super Cali\" Vogelzang 2013 CCGP', 20),\n",
       " ('Saint-Amour À La Folie 2017 Arpaye', 1),\n",
       " ('Piccolo Derthona 2017 Terralba', 1),\n",
       " ('Pet-Nat Orbis Moderandi 2019 OCD', 20),\n",
       " ('Fixin \"Les Champstions\" 2016 Domaine Collotte', 1),\n",
       " (\"Catarratto L'Isola del Satiro 2018 Alcesti\", 1),\n",
       " (\"Sylvaner d'Alsace 2017 Vincent Fleith\", 1),\n",
       " ('Riesling Kaefferkopf 1.5L 2016 Schoech', 2),\n",
       " ('Pinot Noir \"La Belouse\" 2017 L\\'Echelette', 1),\n",
       " ('Langhe Nebbiolo 2017 Fratelli', 17),\n",
       " ('Rioja VS Tinto 2015 Vinos Subterraneos', 20),\n",
       " ('Jeanue Rouge 2017 Chateau Musar', 20),\n",
       " ('Rose 3L 2019 Jacques Florent', 1),\n",
       " ('H-C-de-B Blanc 2017 Rouges-Queues', 20),\n",
       " ('Seyval-Chardo 2018 Les Pervenches', 1)]"
      ]
     },
     "execution_count": 16,
     "metadata": {},
     "output_type": "execute_result"
    }
   ],
   "source": [
    "[(W.name,len(W.vivino)) for W in wineSearcher_noResults]"
   ]
  },
  {
   "cell_type": "code",
   "execution_count": 17,
   "metadata": {},
   "outputs": [
    {
     "data": {
      "text/plain": [
       "91"
      ]
     },
     "execution_count": 17,
     "metadata": {},
     "output_type": "execute_result"
    }
   ],
   "source": [
    "easy_vivino_matches = []\n",
    "for W in Wines:\n",
    "    if len(W.vivino)==1:\n",
    "        easy_vivino_matches.extend(W.vivino)\n",
    "\n",
    "len(easy_vivino_matches)"
   ]
  },
  {
   "cell_type": "markdown",
   "metadata": {},
   "source": [
    "### Scrape and store Vivino"
   ]
  },
  {
   "cell_type": "code",
   "execution_count": 133,
   "metadata": {},
   "outputs": [],
   "source": [
    "import json "
   ]
  },
  {
   "cell_type": "code",
   "execution_count": 212,
   "metadata": {},
   "outputs": [],
   "source": [
    "def scrape_vivino(wine_id):\n",
    "    url = f\"https://vivino.com/wines/{str(wine_id)}\"\n",
    "    page = requests.get(url,headers=Wine.headers)\n",
    "    bs = BeautifulSoup(page.content)\n",
    "    \n",
    "    ld_json = bs.find('script',attrs={'type':\"application/ld+json\"})\n",
    "    overview = json.loads(ld_json.text)['mainEntity']\n",
    "    \n",
    "    scripts = bs.find_all('script')\n",
    "    \n",
    "    for s in scripts:\n",
    "        if \"winePageInformation\" in s.text:\n",
    "            info = s\n",
    "    a = info.text.split(';')[1]\n",
    "    b = a.strip('\\n  window.__PRELOADED_STATE__.winePageInformation = ')\n",
    "    \n",
    "    wine_info = json.loads(b)\n",
    "    \n",
    "    return wine_info"
   ]
  },
  {
   "cell_type": "code",
   "execution_count": 214,
   "metadata": {},
   "outputs": [],
   "source": [
    "result = scrape_vivino(158494162)"
   ]
  },
  {
   "cell_type": "markdown",
   "metadata": {},
   "source": [
    "### selenium scraper "
   ]
  },
  {
   "cell_type": "code",
   "execution_count": 270,
   "metadata": {},
   "outputs": [],
   "source": [
    "from selenium import webdriver\n",
    "from selenium.webdriver.common.keys import Keys\n",
    "from selenium.webdriver.common.by import By\n",
    "from selenium.webdriver.support.ui import WebDriverWait\n",
    "from selenium.webdriver.support import expected_conditions as EC\n",
    "\n",
    "chrome_driver_path = \"/Users/schlinkertc/code/sm_selenium/chromedriver\"\n",
    "driver = webdriver.Chrome(executable_path=chrome_driver_path)"
   ]
  },
  {
   "cell_type": "code",
   "execution_count": 271,
   "metadata": {},
   "outputs": [],
   "source": [
    "driver.get(url)"
   ]
  },
  {
   "cell_type": "code",
   "execution_count": 274,
   "metadata": {},
   "outputs": [],
   "source": [
    "master_wine_page = driver.find_element_by_id('master-wine-page-app')"
   ]
  },
  {
   "cell_type": "code",
   "execution_count": 279,
   "metadata": {},
   "outputs": [
    {
     "data": {
      "text/plain": [
       "'Mary Taylor\\nPierre Vidal Costières-de-Nîmes\\nRed wine from \\nCostières-de-Nîmes\\n · \\nFrance\\n3.8\\n125 ratings\\nAdd to Wishlist\\nVivino doesn’t sell this wine.\\nAlso, we searched other online shops, but couldn’t find it for sale anywhere.\\nFacts about the wine\\nWinery\\nMary Taylor\\nGrapes\\nGrenache, Mourvedre, Shiraz/Syrah\\nRegion\\nCostières-de-Nîmes\\nWine style\\nSouthern Rhône Red\\nFood pairing\\nBeef, Lamb, Game (deer, venison)\\nWhat does this wine taste like?\\nLight\\nBold\\nSmooth\\nTannic\\nDry\\nSweet\\nSoft\\nAcidic\\nWINE LOVERS TASTE SUMMARY\\nThe taste profile of Mary Taylor Pierre Vidal Costières-de-Nîmes is based on 25 user reviews\\nFLAVORS PEOPLE MENTION IN REVIEWS\\nplum, blackberry, black...\\n8 mentions of black fruit notes\\ncherry, red fruit, rasp...\\n6 mentions of red fruit notes\\nvanilla, oak\\n6 mentions of oaky notes\\nCommunity reviews\\nHelpful\\nRecent\\nFriends\\nYou\\nLisa Artuso\\n29 Dec 2019\\nBright fruit, floral. Great Nashville find.\\n0\\n0\\nJeffrey Griffin\\n9 May 20192017 vintage\\nRich dark red fruit tastes up front, moderately full bodied, tannins that smooth out with food pairing. Spice and garrigue notes. 60% Grenache and 20% each of Syrah and Mourvedre. Well balanced.\\n1\\n0\\nLeila Arafat\\n17 Aug 2019\\nFruity, dark notes and smooth.\\n0\\n0\\nShow more reviews\\n3.8\\n125 ratings\\n9\\n56\\n46\\n5\\n0\\nAdd your own rating and help other Vivino users pick the right wine!\\nAdd rating!\\nWine style\\nSouthern Rhône Red\\nFrance\\nThe Southern Rhône is situated in a large, sprawling valley, shaped by the course of the Rhône River. A Mediterranean climate makes the Southern Rhône Valley one of the warmest wine growing regions in France. Grape varieties that thrive in the region are well-suited to the hot, humid summers, and Grenache, Syrah, and Mourvèdre are by far the most common plantings. The vast majority of Rhône wine...\\nRead more\\nA smarter way to drink wine.\\nGet access to our highest-rated, most-loved wines at up to 60% off retail.\\nExplore vintages\\nJump to vintage\\n2017\\n3.7\\n105 ratings\\nThis vintage rates better than any other year for this wine\\n2016\\n2015\\n2014\\n2013\\nAdd this Vivino rating to your website?'"
      ]
     },
     "execution_count": 279,
     "metadata": {},
     "output_type": "execute_result"
    }
   ],
   "source": [
    "master_wine_page.text"
   ]
  },
  {
   "cell_type": "code",
   "execution_count": 280,
   "metadata": {},
   "outputs": [],
   "source": [
    "svgs = master_wine_page.find_elements_by_tag_name('svg')\n",
    "s.get_a"
   ]
  },
  {
   "cell_type": "code",
   "execution_count": 281,
   "metadata": {},
   "outputs": [],
   "source": [
    "tasteNotes = []\n",
    "for s in svgs:\n",
    "    try:\n",
    "        svg_class = s.get_attribute('class')\n",
    "        if 'tasteNote' in svg_class:\n",
    "        \n",
    "            tasteNotes.append(s)\n",
    "    except:\n",
    "        continue "
   ]
  },
  {
   "cell_type": "code",
   "execution_count": null,
   "metadata": {},
   "outputs": [],
   "source": []
  },
  {
   "cell_type": "code",
   "execution_count": 282,
   "metadata": {},
   "outputs": [
    {
     "ename": "IndexError",
     "evalue": "list index out of range",
     "output_type": "error",
     "traceback": [
      "\u001b[0;31m---------------------------------------------------------------------------\u001b[0m",
      "\u001b[0;31mIndexError\u001b[0m                                Traceback (most recent call last)",
      "\u001b[0;32m<ipython-input-282-e0f93a4e26c0>\u001b[0m in \u001b[0;36m<module>\u001b[0;34m\u001b[0m\n\u001b[0;32m----> 1\u001b[0;31m \u001b[0mnote\u001b[0m \u001b[0;34m=\u001b[0m \u001b[0mtasteNotes\u001b[0m\u001b[0;34m[\u001b[0m\u001b[0;36m0\u001b[0m\u001b[0;34m]\u001b[0m\u001b[0;34m\u001b[0m\u001b[0;34m\u001b[0m\u001b[0m\n\u001b[0m",
      "\u001b[0;31mIndexError\u001b[0m: list index out of range"
     ]
    }
   ],
   "source": [
    "note = tasteNotes[0]"
   ]
  },
  {
   "cell_type": "code",
   "execution_count": 254,
   "metadata": {},
   "outputs": [],
   "source": [
    "note.click()"
   ]
  },
  {
   "cell_type": "code",
   "execution_count": 267,
   "metadata": {},
   "outputs": [],
   "source": [
    "divs = driver.find_elements_by_tag_name('div')[:5]"
   ]
  },
  {
   "cell_type": "code",
   "execution_count": 268,
   "metadata": {},
   "outputs": [
    {
     "data": {
      "text/plain": [
       "['',\n",
       " 'Ship to\\nConnecticut\\nLanguage\\nEnglish\\ncart icon\\nWines\\nOffers\\nPairings\\nGrapes\\nRegions\\nMary Taylor\\nPierre Vidal Costières-de-Nîmes\\nRed wine from \\nCostières-de-Nîmes\\n · \\nFrance\\n3.8\\n125 ratings\\nAdd to Wishlist\\nVivino doesn’t sell this wine.\\nAlso, we searched other online shops, but couldn’t find it for sale anywhere.\\nFacts about the wine\\nWinery\\nMary Taylor\\nGrapes\\nGrenache, Mourvedre, Shiraz/Syrah\\nRegion\\nCostières-de-Nîmes\\nWine style\\nSouthern Rhône Red\\nFood pairing\\nBeef, Lamb, Game (deer, venison)\\nWhat does this wine taste like?\\nLight\\nBold\\nSmooth\\nTannic\\nDry\\nSweet\\nSoft\\nAcidic\\nWINE LOVERS TASTE SUMMARY\\nThe taste profile of Mary Taylor Pierre Vidal Costières-de-Nîmes is based on 25 user reviews\\nFLAVORS PEOPLE MENTION IN REVIEWS\\nplum, blackberry, black...\\n8 mentions of black fruit notes\\ncherry, red fruit, rasp...\\n6 mentions of red fruit notes\\nvanilla, oak\\n6 mentions of oaky notes\\nCommunity reviews\\nHelpful\\nRecent\\nFriends\\nYou\\nLisa Artuso\\n29 Dec 2019\\nBright fruit, floral. Great Nashville find.\\n0\\n0\\nJeffrey Griffin\\n9 May 20192017 vintage\\nRich dark red fruit tastes up front, moderately full bodied, tannins that smooth out with food pairing. Spice and garrigue notes. 60% Grenache and 20% each of Syrah and Mourvedre. Well balanced.\\n1\\n0\\nLeila Arafat\\n17 Aug 2019\\nFruity, dark notes and smooth.\\n0\\n0\\nShow more reviews\\n3.8\\n125 ratings\\n9\\n56\\n46\\n5\\n0\\nAdd your own rating and help other Vivino users pick the right wine!\\nAdd rating!\\nWine style\\nSouthern Rhône Red\\nFrance\\nThe Southern Rhône is situated in a large, sprawling valley, shaped by the course of the Rhône River. A Mediterranean climate makes the Southern Rhône Valley one of the warmest wine growing regions in France. Grape varieties that thrive in the region are well-suited to the hot, humid summers, and Grenache, Syrah, and Mourvèdre are by far the most common plantings. The vast majority of Rhône wine...\\nRead more\\nA smarter way to drink wine.\\nGet access to our highest-rated, most-loved wines at up to 60% off retail.\\nExplore vintages\\nJump to vintage\\n2017\\n3.7\\n105 ratings\\nThis vintage rates better than any other year for this wine\\n2016\\n2015\\n2014\\n2013\\nGreat alternatives for you!\\nExplore all Southern Rhône Red wines\\nA Southern Rhône Red with a good deal\\n4.2\\n52 ratings\\n$30\\n$19.99\\n33%\\nA popular Southern Rhône Red choice\\n3.7\\n9565 ratings\\n$16.99\\nA Southern Rhône Red with a higher rating\\n4.3\\n72 ratings\\n$109.98\\nAdd this Vivino rating to your website?\\nTrusted by millions to discover and buy the right wine every time.\\nShop the world’s largest wine marketplace\\nOur support team is always here to help\\nCareful delivery right to your doorstep\\nCheck honest reviews of any wine before purchase\\n© Vivino 2020\\nApp\\nAbout\\nContact\\nPress\\nSupport\\nWine News\\nMerchants\\nBecome an Affiliate\\nJobs\\nTerms of Use\\nPrivacy Policy\\nContent Policy\\nTerms of Sale\\nSitemap\\nPayment options will vary by merchant',\n",
       " 'Ship to\\nConnecticut\\nLanguage\\nEnglish\\ncart icon\\nWines\\nOffers\\nPairings\\nGrapes\\nRegions',\n",
       " 'Ship to\\nConnecticut\\nLanguage\\nEnglish\\ncart icon\\nWines\\nOffers\\nPairings\\nGrapes\\nRegions',\n",
       " '']"
      ]
     },
     "execution_count": 268,
     "metadata": {},
     "output_type": "execute_result"
    }
   ],
   "source": [
    "[div.text for div in divs]"
   ]
  },
  {
   "cell_type": "code",
   "execution_count": 228,
   "metadata": {},
   "outputs": [],
   "source": [
    "spans = [x for x in master_wine_page.find_elements_by_tag_name('span')]"
   ]
  },
  {
   "cell_type": "code",
   "execution_count": 256,
   "metadata": {},
   "outputs": [],
   "source": [
    "styles = []\n",
    "for span in spans:\n",
    "    try:\n",
    "        style = span.get_attribute('style')\n",
    "        if style.startswith('width'):\n",
    "            styles.append(style)\n",
    "    except:\n",
    "        continue"
   ]
  },
  {
   "cell_type": "code",
   "execution_count": 257,
   "metadata": {},
   "outputs": [
    {
     "data": {
      "text/plain": [
       "['width: 20%; left: 61.4717%;',\n",
       " 'width: 20%; left: 49.2689%;',\n",
       " 'width: 20%; left: 9.30189%;',\n",
       " 'width: 20%; left: 56.5%;']"
      ]
     },
     "execution_count": 257,
     "metadata": {},
     "output_type": "execute_result"
    }
   ],
   "source": [
    "styles"
   ]
  },
  {
   "cell_type": "code",
   "execution_count": null,
   "metadata": {},
   "outputs": [],
   "source": []
  }
 ],
 "metadata": {
  "kernelspec": {
   "display_name": "Python 3",
   "language": "python",
   "name": "python3"
  },
  "language_info": {
   "codemirror_mode": {
    "name": "ipython",
    "version": 3
   },
   "file_extension": ".py",
   "mimetype": "text/x-python",
   "name": "python",
   "nbconvert_exporter": "python",
   "pygments_lexer": "ipython3",
   "version": "3.7.3"
  }
 },
 "nbformat": 4,
 "nbformat_minor": 4
}
