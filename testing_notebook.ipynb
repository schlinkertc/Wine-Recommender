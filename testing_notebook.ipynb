{
 "cells": [
  {
   "cell_type": "code",
   "execution_count": 1,
   "metadata": {},
   "outputs": [
    {
     "data": {
      "text/plain": [
       "[Wine: Zweigelt 2016 Bauer, Source: name-search,\n",
       " Wine: Truffle Hound 2017 Unico Zelo, Source: name-search,\n",
       " Wine: Sforzato di Valtellina 2013 Alfio Mozzi, Source: name-search,\n",
       " Wine: Cabernet Sauvignon 2017 Oracle Cellars, Source: name-search,\n",
       " Wine: Spatburgunder Kabinett 2017 Koehler-Ruprecht, Source: name-search]"
      ]
     },
     "execution_count": 1,
     "metadata": {},
     "output_type": "execute_result"
    }
   ],
   "source": [
    "from class_definitions import *\n",
    "\n",
    "Wines[:5]"
   ]
  },
  {
   "cell_type": "code",
   "execution_count": 2,
   "metadata": {},
   "outputs": [
    {
     "name": "stdout",
     "output_type": "stream",
     "text": [
      "Engine(sqlite://///Users/schlinkertc/code/wine_project/wine/vivino_db/vivino_wines.db)\n"
     ]
    }
   ],
   "source": [
    "from vivino_db import database"
   ]
  },
  {
   "cell_type": "code",
   "execution_count": 3,
   "metadata": {},
   "outputs": [],
   "source": [
    "db = database.db"
   ]
  },
  {
   "cell_type": "code",
   "execution_count": 4,
   "metadata": {},
   "outputs": [],
   "source": [
    "vintages_df = pd.read_sql_table('vintages',db.db_engine)\n",
    "wines_df = pd.read_sql('select * from wines',db.db_engine)\n",
    "styles_df = pd.read_sql_table(\"styles\",db.db_engine)\n",
    "regions_df = pd.read_sql_table(\"regions\",db.db_engine)\n",
    "wineries_df = pd.read_sql_table(\"wineries\",db.db_engine)"
   ]
  },
  {
   "cell_type": "code",
   "execution_count": 5,
   "metadata": {},
   "outputs": [
    {
     "data": {
      "text/plain": [
       "['regions', 'styles', 'vintages', 'wineries', 'wines']"
      ]
     },
     "execution_count": 5,
     "metadata": {},
     "output_type": "execute_result"
    }
   ],
   "source": [
    "db.db_engine.table_names()"
   ]
  },
  {
   "cell_type": "markdown",
   "metadata": {},
   "source": [
    "### Fuzzy matching from KCW to vivino"
   ]
  },
  {
   "cell_type": "code",
   "execution_count": 6,
   "metadata": {},
   "outputs": [],
   "source": [
    "from fuzzywuzzy import fuzz\n",
    "from fuzzywuzzy import process"
   ]
  },
  {
   "cell_type": "code",
   "execution_count": 7,
   "metadata": {},
   "outputs": [],
   "source": [
    "vivino_vintages = vintages_df['name'].to_list()"
   ]
  },
  {
   "cell_type": "code",
   "execution_count": 9,
   "metadata": {},
   "outputs": [],
   "source": [
    "stmt = \"\"\"\n",
    "SELECT \n",
    "    v.name as wine,\n",
    "    ws.name as winery\n",
    "FROM \n",
    "    vintages v\n",
    "INNER JOIN \n",
    "    wines w on v.wine_id==w.id\n",
    "INNER JOIN \n",
    "    wineries ws on w.winery_id=ws.id\n",
    "\"\"\""
   ]
  },
  {
   "cell_type": "code",
   "execution_count": 10,
   "metadata": {},
   "outputs": [
    {
     "data": {
      "text/html": [
       "<div>\n",
       "<style scoped>\n",
       "    .dataframe tbody tr th:only-of-type {\n",
       "        vertical-align: middle;\n",
       "    }\n",
       "\n",
       "    .dataframe tbody tr th {\n",
       "        vertical-align: top;\n",
       "    }\n",
       "\n",
       "    .dataframe thead th {\n",
       "        text-align: right;\n",
       "    }\n",
       "</style>\n",
       "<table border=\"1\" class=\"dataframe\">\n",
       "  <thead>\n",
       "    <tr style=\"text-align: right;\">\n",
       "      <th></th>\n",
       "      <th>wine</th>\n",
       "      <th>winery</th>\n",
       "    </tr>\n",
       "  </thead>\n",
       "  <tbody>\n",
       "    <tr>\n",
       "      <td>0</td>\n",
       "      <td>Korta Katarina Plavac Mali</td>\n",
       "      <td>Korta Katarina</td>\n",
       "    </tr>\n",
       "    <tr>\n",
       "      <td>1</td>\n",
       "      <td>West+Wilder White</td>\n",
       "      <td>West+Wilder</td>\n",
       "    </tr>\n",
       "    <tr>\n",
       "      <td>2</td>\n",
       "      <td>Ostatu Rioja Tinto</td>\n",
       "      <td>Ostatu</td>\n",
       "    </tr>\n",
       "    <tr>\n",
       "      <td>3</td>\n",
       "      <td>Le Pianate Un Paio Rosso</td>\n",
       "      <td>Le Pianate</td>\n",
       "    </tr>\n",
       "    <tr>\n",
       "      <td>4</td>\n",
       "      <td>Dirupi Vino Sbagliato Sforzato di Valtellina</td>\n",
       "      <td>Dirupi</td>\n",
       "    </tr>\n",
       "    <tr>\n",
       "      <td>...</td>\n",
       "      <td>...</td>\n",
       "      <td>...</td>\n",
       "    </tr>\n",
       "    <tr>\n",
       "      <td>1462</td>\n",
       "      <td>C&amp;H Fournaise Blanc de Blancs Champagne</td>\n",
       "      <td>C&amp;H Fournaise</td>\n",
       "    </tr>\n",
       "    <tr>\n",
       "      <td>1463</td>\n",
       "      <td>Contini Attilio Brut</td>\n",
       "      <td>Contini</td>\n",
       "    </tr>\n",
       "    <tr>\n",
       "      <td>1464</td>\n",
       "      <td>Domaine du Bel Air Les Marsaules Bourgueil</td>\n",
       "      <td>Domaine du Bel Air</td>\n",
       "    </tr>\n",
       "    <tr>\n",
       "      <td>1465</td>\n",
       "      <td>Casillero del Diablo Sauvignon Blanc (Reserva)</td>\n",
       "      <td>Casillero del Diablo</td>\n",
       "    </tr>\n",
       "    <tr>\n",
       "      <td>1466</td>\n",
       "      <td>Casillero del Diablo Sauvignon Blanc (Reserva)</td>\n",
       "      <td>Casillero del Diablo</td>\n",
       "    </tr>\n",
       "  </tbody>\n",
       "</table>\n",
       "<p>1467 rows × 2 columns</p>\n",
       "</div>"
      ],
      "text/plain": [
       "                                                wine                winery\n",
       "0                         Korta Katarina Plavac Mali        Korta Katarina\n",
       "1                                  West+Wilder White           West+Wilder\n",
       "2                                 Ostatu Rioja Tinto                Ostatu\n",
       "3                           Le Pianate Un Paio Rosso            Le Pianate\n",
       "4       Dirupi Vino Sbagliato Sforzato di Valtellina                Dirupi\n",
       "...                                              ...                   ...\n",
       "1462         C&H Fournaise Blanc de Blancs Champagne         C&H Fournaise\n",
       "1463                            Contini Attilio Brut               Contini\n",
       "1464      Domaine du Bel Air Les Marsaules Bourgueil    Domaine du Bel Air\n",
       "1465  Casillero del Diablo Sauvignon Blanc (Reserva)  Casillero del Diablo\n",
       "1466  Casillero del Diablo Sauvignon Blanc (Reserva)  Casillero del Diablo\n",
       "\n",
       "[1467 rows x 2 columns]"
      ]
     },
     "execution_count": 10,
     "metadata": {},
     "output_type": "execute_result"
    }
   ],
   "source": [
    "pd.read_sql(stmt,db.db_engine)"
   ]
  },
  {
   "cell_type": "code",
   "execution_count": 20,
   "metadata": {},
   "outputs": [],
   "source": [
    "wine_matches = []\n",
    "problems = []\n",
    "for wine in Wines:\n",
    "    search_string = \"\".join([x+' ' for x in wine.search_terms]).strip(' ')\n",
    "    matches = [(x,fuzz.token_sort_ratio(search_string,x),wine) for x in vivino_vintages]\n",
    "    best_match = sorted(matches,key=lambda x: x[1],reverse=True)[0]\n",
    "    if best_match[1] > 60:\n",
    "        wine_matches.append(best_match)\n",
    "    else:\n",
    "        matches = [(x,fuzz.token_sort_ratio(wine.name,x),wine) for x in vivino_vintages]\n",
    "        best_match = sorted(matches,key=lambda x: x[1],reverse=True)[0]\n",
    "        if best_match[1] > 60:\n",
    "            wine_matches.append(best_match)\n",
    "        else:\n",
    "            problems.append(best_match)"
   ]
  },
  {
   "cell_type": "code",
   "execution_count": 26,
   "metadata": {},
   "outputs": [],
   "source": [
    "wine_matches = []\n",
    "for wine in Wines:\n",
    "    if len(wine.wineSearcher.keys())>2:\n",
    "        wine_name = wine.wineSearcher['name']\n",
    "        matches = [(x,fuzz.token_sort_ratio(wine_name,x),wine) for x in vivino_vintages]\n",
    "        best_match = sorted(matches,key=lambda x: x[1],reverse=True)[0]\n",
    "        wine_matches.append(best_match)\n",
    "    else:\n",
    "        matches = [(x,fuzz.token_sort_ratio(wine.name,x),wine) for x in vivino_vintages]\n",
    "        best_match = sorted(matches,key=lambda x: x[1],reverse=True)[0]\n",
    "        if best_match[1] > 60:\n",
    "            wine_matches.append(best_match)\n",
    "        else:\n",
    "            search_string = \"\".join([x+' ' for x in wine.search_terms]).strip(' ')\n",
    "            matches = [(x,fuzz.token_sort_ratio(search_string,x),wine) for x in vivino_vintages]\n",
    "            best_match = sorted(matches,key=lambda x: x[1],reverse=True)[0]\n",
    "            wine_matches.append(best_match)\n"
   ]
  },
  {
   "cell_type": "code",
   "execution_count": 30,
   "metadata": {},
   "outputs": [],
   "source": [
    "problems = list(filter(lambda x: x[1]<70, wine_matches))"
   ]
  },
  {
   "cell_type": "code",
   "execution_count": 31,
   "metadata": {},
   "outputs": [
    {
     "data": {
      "text/plain": [
       "66"
      ]
     },
     "execution_count": 31,
     "metadata": {},
     "output_type": "execute_result"
    }
   ],
   "source": [
    "len(problems)"
   ]
  },
  {
   "cell_type": "code",
   "execution_count": 32,
   "metadata": {},
   "outputs": [
    {
     "data": {
      "text/plain": [
       "[('Proprieta Sperino Uvaggio',\n",
       "  66,\n",
       "  Wine: Costa delle Sesia Uvaggio 2015 Sperino, Source: name-search),\n",
       " ('Lammershoek LBV Cape Vintage Zinfandel',\n",
       "  60,\n",
       "  Wine: Zinfandel 2017 The People's Wine Co., Source: name-search),\n",
       " ('Domaine Saint Germain La Cuvée des Baujues Rouge',\n",
       "  65,\n",
       "  Wine: Jacquère Cuvée Baujues 2016 St. Germain, Source: name-search),\n",
       " ('Xanthos Fly By Chardonnay',\n",
       "  65,\n",
       "  Wine: Chardonnay 2017 Nathan K., Source: name-search),\n",
       " ('Risky Grapes La Traca Bobal',\n",
       "  61,\n",
       "  Wine: Bobal 2018 La Traca, Source: name-search),\n",
       " ('Corte Manzini Bolla Rossa',\n",
       "  65,\n",
       "  Wine: Lambrusco Bollarossa NV Corte Manzini, Source: name-search),\n",
       " ('Torremorón Roble',\n",
       "  61,\n",
       "  Wine: Ribera del Duero 2018 Torremorón, Source: name-search),\n",
       " ('A Blooming Hill Mingle White Blend',\n",
       "  61,\n",
       "  Wine: White Blend 2019 Bloem, Source: name-search),\n",
       " (\"Merabs's Wine Cellar Imereti Krakhuna\",\n",
       "  65,\n",
       "  Wine: Imereti 2018 Amiran's Wine Cellar, Source: name-search),\n",
       " ('Sanfeletto Conegliano-Valdobbiadene Prosecco Superiore Brut',\n",
       "  69,\n",
       "  Wine: Prosecco Superiore Brut 1.5L Sanfeletto, Source: name-search),\n",
       " ('Alma del Toro Tinto Seco',\n",
       "  65,\n",
       "  Wine: Toro Tinto Matsu 2018 El Picaro, Source: name-search),\n",
       " ('Clos des Rocs En Près Forêt Mâcon-Loché',\n",
       "  68,\n",
       "  Wine: Mâcon-Loche 2018 Clos des Rocs, Source: name-search),\n",
       " ('Viñas del Vero Barranco del Vero Chardonnay - Macabeo - Sauvignon Blanc Somontano',\n",
       "  63,\n",
       "  Wine: Sauvignon Blanc-Macabeo 2018 Realce, Source: name-search),\n",
       " ('Les Vignerons Parisiens Turbigo Cinsault',\n",
       "  57,\n",
       "  Wine: Cinsault 2017 Turbigo, Source: name-search),\n",
       " ('Peter Lauer Faß 16 Riesling Trocken',\n",
       "  56,\n",
       "  Wine: Albariño \"Rorick Heritage\" 2018 Etxea, Source: name-search),\n",
       " ('Proidl Senftenberger Beerenauslese Riesling',\n",
       "  63,\n",
       "  Wine: Beerenauslese 500mL 2015 Proidl, Source: name-search),\n",
       " ('Cesca Vicent Lo Piot',\n",
       "  67,\n",
       "  Wine: Priorat 2017 Cesca Vicent, Source: name-search),\n",
       " ('Dos Molinos Garnacha',\n",
       "  67,\n",
       "  Wine: Garnacha \"Campo de Borja\" 2018 Dos Molinos, Source: name-search),\n",
       " ('719 West Rosé', 64, Wine: Rose 2019 Upwell, Source: name-search),\n",
       " ('A to Z Pinot Noir',\n",
       "  55,\n",
       "  Wine: Pinot Noir Practically 2017 Tincan*, Source: name-search),\n",
       " ('Belle Glos Las Alturas Vineyard Pinot Noir',\n",
       "  67,\n",
       "  Wine: Pinot Noir 2018 Delta Vineyard, Source: name-search),\n",
       " ('Tobia Viña Tobía Rioja Tinto',\n",
       "  52,\n",
       "  Wine: Vino Tinto 2017 Traslapiedra, Source: name-search),\n",
       " ('Domaine Bois de Boursan Sélection RR Châteauneuf-du-Pape',\n",
       "  64,\n",
       "  Wine: C-d-P Tradition 750ml 2016 Bois de Boursan, Source: name-search),\n",
       " ('Helmut Weber Blauer Silvaner',\n",
       "  62,\n",
       "  Wine: Silvaner Vulkan 2018 Helmut Dolde, Source: name-search),\n",
       " ('Robertson Winery Natural Sweet Red',\n",
       "  57,\n",
       "  Wine: Rot & Rosa NV Quantum Winery, Source: name-search),\n",
       " ('Bouchaine Hyde Vineyard Chardonnay',\n",
       "  69,\n",
       "  Wine: Chardonnay 2015 Brittan Vineyards, Source: name-search),\n",
       " ('Calliope Cab Sauv',\n",
       "  55,\n",
       "  Wine: Cab Sauv \"Super Cali\" Vogelzang 2013 CCGP, Source: name-search),\n",
       " ('Marengoni Casa Bianco Gutturnio Frizzante',\n",
       "  61,\n",
       "  Wine: Naturalmente Frizzante Bianco 2018 Casa Belfi, Source: name-search),\n",
       " ('Marc Delienne À La Folie Arpayé',\n",
       "  60,\n",
       "  Wine: Saint-Amour À La Folie 2017 Arpaye, Source: name-search),\n",
       " ('Château la Croix Figeac Lamarzelle Saint-Émilion Grand Cru',\n",
       "  65,\n",
       "  Wine: Bordeaux St-Emilion Grand Cru 2012 Lamarzelle Figeac, Source: name-search),\n",
       " ('Pez de Rio Macabeo - Sauvignon Blanc',\n",
       "  67,\n",
       "  Wine: Sauvignon Blanc 2019 Le Petit Godon, Source: name-search),\n",
       " ('Le Colture Fagher Valdobbiadene Brut',\n",
       "  62,\n",
       "  Wine: Prosecco Fagher NV 375mL Le Colture, Source: name-search),\n",
       " ('Matua Sauvignon Blanc',\n",
       "  69,\n",
       "  Wine: Sauvignon Blanc Pouch 1.5L Maivino, Source: name-search),\n",
       " ('Orbis Moderandi Pétillant Naturel',\n",
       "  69,\n",
       "  Wine: Pet-Nat Orbis Moderandi 2019 OCD, Source: name-search),\n",
       " ('Massoferrato Rosso',\n",
       "  69,\n",
       "  Wine: Toscana Rosso 2016 3L Massoferrato, Source: name-search),\n",
       " ('Perissos Rosé', 61, Wine: Rose 3L 2019 Herisson, Source: name-search),\n",
       " ('Sebastiani Alexander Valley Merlot',\n",
       "  69,\n",
       "  Wine: Merlot  Alexander Valley 2017 Taft Street Winery, Source: name-search),\n",
       " ('Château Salettes Bandol Rouge',\n",
       "  57,\n",
       "  Wine: Bandol Rouge 1.5L 2011 Châteaux Pradeaux, Source: name-search),\n",
       " (\"Brovia Brea Vigna Ca'Mia Barolo\",\n",
       "  67,\n",
       "  Wine: Barolo Brea 2013 Brovia, Source: name-search),\n",
       " ('Jean Vullien & Fils Jeannine Pinot Noir',\n",
       "  62,\n",
       "  Wine: Vin de Savoie 2018 Jean Vullien, Source: name-search),\n",
       " ('Cono Sur Sparkling Rosé',\n",
       "  66,\n",
       "  Wine: Sparkling Rose (can) 250ml West + Wilder, Source: name-search),\n",
       " ('La Sastrería Garnacha Blanca',\n",
       "  67,\n",
       "  Wine: Garnacha Volandera 2018 La Calandria, Source: name-search),\n",
       " ('Marotti Campi Albiano Verdicchio dei Castelli di Jesi Classico',\n",
       "  65,\n",
       "  Wine: Verdicchio \"Albiano\" 2018 Marotti Campi, Source: name-search),\n",
       " ('Te Pā Pā Road Sparkling Rosé',\n",
       "  51,\n",
       "  Wine: Rose 3L NV From the Tank, Source: name-search),\n",
       " ('Villard Tanagra Syrah', 67, Wine: Syrah 2017 Villard, Source: name-search),\n",
       " ('Ashbrook Estate Sémillon',\n",
       "  69,\n",
       "  Wine: Semillon Margaret River 2017 Ashbrook Estate, Source: name-search),\n",
       " ('Château Guiraud Le G de Guiraud Bordeaux Blanc Sec',\n",
       "  69,\n",
       "  Wine: G de Guiraud 2016 Château Guiraud, Source: name-search),\n",
       " ('Fratelli del Mare Rosso',\n",
       "  69,\n",
       "  Wine: Vino Rosso 2018 Manzone Fratelli, Source: name-search),\n",
       " ('Κτήμα Ζαφειράκη (Domaine Zafeirakis) Limniona Rosé',\n",
       "  60,\n",
       "  Wine: Limniona \"Tyrnavos\" 2017 Zafeirakis, Source: name-search),\n",
       " ('Brezza Langhe Nebbiolo',\n",
       "  69,\n",
       "  Wine: Langhe Nebbiolo 2018 Brezza, Source: name-search),\n",
       " ('Peter Lauer Riesling Sekt Brut Réserve',\n",
       "  64,\n",
       "  Wine: Riesling Sekt Limestone 2016 Seehof, Source: name-search),\n",
       " (\"Domaine Maurice Schoech Riesling Alsace Grand Cru 'Kaefferkopf'\",\n",
       "  63,\n",
       "  Wine: Riesling Kaefferkopf 1.5L 2016 Schoech, Source: name-search),\n",
       " ('Domaine Les Temps Perdus - Clotilde Davenne Les Preuses Chablis Grand Cru',\n",
       "  64,\n",
       "  Wine: Chablis Les Preuses 2007 Clotilde Davenne, Source: name-search),\n",
       " ('Jack Larkin Red Blend',\n",
       "  61,\n",
       "  Wine: Larkan Red 375mL 2017 Larkin, Source: name-search),\n",
       " (\"Domaine de l'Echelette La Belouse Vielles Vignes Pinot Noir\",\n",
       "  68,\n",
       "  Wine: Pinot Noir \"La Belouse\" 2017 L'Echelette, Source: name-search),\n",
       " ('Pinord Cava Brut Taanug',\n",
       "  64,\n",
       "  Wine: Kosher Cava NV Taanug, Source: name-search),\n",
       " ('Domaine Les Temps Perdus - Clotilde Davenne Saint-Bris Sauvignon',\n",
       "  57,\n",
       "  Wine: Saint Bris 2017 Clotilde Davenne, Source: name-search),\n",
       " ('Nebbiolo di Carema Carema',\n",
       "  58,\n",
       "  Wine: Carema Classico 2015 Produttori di Carema, Source: name-search),\n",
       " ('Jacques Lurton Calcareus Sauvignon Blanc',\n",
       "  50,\n",
       "  Wine: Rose 3L 2019 Jacques Florent, Source: name-search),\n",
       " ('Cantalupo Agamium Colline Novaresi',\n",
       "  65,\n",
       "  Wine: Nebbiolo Agamium 2017 Cantalupo, Source: name-search),\n",
       " ('Johannes B. Blanc de Noir',\n",
       "  62,\n",
       "  Wine: H-C-de-B Blanc 2017 Rouges-Queues, Source: name-search),\n",
       " ('Domaine du Coulet - Matthieu Barret Petit Ours',\n",
       "  62,\n",
       "  Wine: CDR \"Petit Ours\" 2017 Barret, Source: name-search),\n",
       " ('Acacia A by Acacia Chardonnay',\n",
       "  62,\n",
       "  Wine: Chardonnay 2018 Aslina by Ntsiki Biyela, Source: name-search),\n",
       " ('Masciarelli Rosato Colline Teatine',\n",
       "  62,\n",
       "  Wine: Falanghina Colline Teatine 2016 Di Sipio, Source: name-search),\n",
       " ('Domaine Vico 1769 Clos Venturi Red',\n",
       "  62,\n",
       "  Wine: Sciaccarelu '1769' 2015 Clos Venturi, Source: name-search),\n",
       " ('Rocca Maura Je Déteste Merlot',\n",
       "  68,\n",
       "  Wine: Merlot 2017 Je Déteste Merlot, Source: name-search)]"
      ]
     },
     "execution_count": 32,
     "metadata": {},
     "output_type": "execute_result"
    }
   ],
   "source": [
    "problems"
   ]
  },
  {
   "cell_type": "code",
   "execution_count": 11,
   "metadata": {},
   "outputs": [],
   "source": [
    "problem_ids = []\n",
    "for problem in problems:\n",
    "    problem_ids.extend([vw['wine_link'].split('/')[-1] for vw in problem[-1].vivino])"
   ]
  },
  {
   "cell_type": "code",
   "execution_count": 12,
   "metadata": {},
   "outputs": [
    {
     "data": {
      "text/plain": [
       "228"
      ]
     },
     "execution_count": 12,
     "metadata": {},
     "output_type": "execute_result"
    }
   ],
   "source": [
    "len(problem_ids)"
   ]
  },
  {
   "cell_type": "code",
   "execution_count": 52,
   "metadata": {},
   "outputs": [],
   "source": [
    "from vivino_scraper import *"
   ]
  },
  {
   "cell_type": "code",
   "execution_count": 55,
   "metadata": {},
   "outputs": [
    {
     "name": "stdout",
     "output_type": "stream",
     "text": [
      "*\n"
     ]
    }
   ],
   "source": [
    "import time\n",
    "still_not_added = []\n",
    "for wine_id in [\"26696058\"]:\n",
    "    try:\n",
    "        result = scrape_vivino(wine_id)\n",
    "        joblib.dump(result,storage_directory+str(wine_id))\n",
    "        print('*')\n",
    "        time.sleep(5)\n",
    "    except:\n",
    "        still_not_added.append(wine_id)\n",
    "        continue"
   ]
  },
  {
   "cell_type": "markdown",
   "metadata": {},
   "source": [
    "### Bringing it all together"
   ]
  },
  {
   "cell_type": "code",
   "execution_count": 18,
   "metadata": {},
   "outputs": [
    {
     "data": {
      "text/plain": [
       "index                                                              520\n",
       "id                                                           159955768\n",
       "seo_name                              gassier-elevae-rose-d-elevage-uv\n",
       "name                                     Gassier Elevae Rosé d'Elevage\n",
       "statistics_status                                               Normal\n",
       "statistics_ratings_count                                            10\n",
       "statistics_ratings_average                                         4.4\n",
       "statistics_labels_count                                              4\n",
       "statistics_reviews_count                                             0\n",
       "wine_id                                                        7134802\n",
       "description                                                           \n",
       "ratings_distribution_1                                               0\n",
       "ratings_distribution_2                                               0\n",
       "ratings_distribution_3                                               1\n",
       "ratings_distribution_4                                               3\n",
       "ratings_distribution_5                                               4\n",
       "year                                                              U.V.\n",
       "ranking_unknown_description                         Rank within France\n",
       "ranking_unknown_total                                      2.02309e+06\n",
       "ranking_unknown_rank                                             90865\n",
       "ranking_region_description                     Rank within Wine Region\n",
       "ranking_region_total                                             56069\n",
       "ranking_region_rank                                               2743\n",
       "ranking_winery_description                          Rank within Winery\n",
       "ranking_winery_total                                               265\n",
       "ranking_winery_rank                                                 17\n",
       "ranking_global_description                                 Global Rank\n",
       "ranking_global_total                                       7.18419e+06\n",
       "ranking_global_rank                                             352785\n",
       "wine_facts_alcohol                                                 NaN\n",
       "wine_facts_contains_added_sulfites                                None\n",
       "wine_facts_contains_milk_allergens                                None\n",
       "wine_facts_contains_egg_allergens                                 None\n",
       "wine_facts_certified_biodynamic                                   None\n",
       "Name: 520, dtype: object"
      ]
     },
     "execution_count": 18,
     "metadata": {},
     "output_type": "execute_result"
    }
   ],
   "source": [
    "vintages_df.iloc[vintages_df[vintages_df['name']==least_confident].index[0]]"
   ]
  },
  {
   "cell_type": "code",
   "execution_count": 41,
   "metadata": {},
   "outputs": [
    {
     "data": {
      "text/plain": [
       "index                                           29\n",
       "id                                         2237206\n",
       "name                                      Zweigelt\n",
       "seo_name                                  zweigelt\n",
       "type_id                                          1\n",
       "is_natural                                       0\n",
       "region_id                                      869\n",
       "review_status                                    2\n",
       "winery_id                                    42667\n",
       "statistics_status                           Normal\n",
       "statistics_ratings_count                        26\n",
       "statistics_ratings_average                     3.5\n",
       "statistics_labels_count                        112\n",
       "statistics_vintages_count                       12\n",
       "hidden                                           0\n",
       "description                                       \n",
       "non_vintage                                      0\n",
       "alcohol                                         13\n",
       "created_at                    2014-03-09T08:55:09Z\n",
       "is_first_wine                                    0\n",
       "style_id                                       255\n",
       "sweetness_id                                   NaN\n",
       "Name: 29, dtype: object"
      ]
     },
     "execution_count": 41,
     "metadata": {},
     "output_type": "execute_result"
    }
   ],
   "source": [
    "wines_df.iloc[wines_df[wines_df['id']==2237206].index[0]]"
   ]
  },
  {
   "cell_type": "code",
   "execution_count": 15,
   "metadata": {},
   "outputs": [
    {
     "data": {
      "text/plain": [
       "index                                                                        8\n",
       "id                                                                         255\n",
       "seo_name                                                     austrian-zweigelt\n",
       "regional_name                                                         Austrian\n",
       "varietal_name                                                         Zweigelt\n",
       "name                                                         Austrian Zweigelt\n",
       "body                                                                         4\n",
       "body_description                                                   Full-bodied\n",
       "acidity                                                                      3\n",
       "acidity_description                                                       High\n",
       "country_code                                                                at\n",
       "country_name                                                           Austria\n",
       "country_native_name                                                 Österreich\n",
       "country_seo_name                                                       austria\n",
       "country_regions_count                                                       24\n",
       "country_users_count                                                     147508\n",
       "country_wines_count                                                      43242\n",
       "country_wineries_count                                                    4240\n",
       "wine_type_id                                                                 1\n",
       "region_id                                                                  NaN\n",
       "background_image_location                                                 None\n",
       "description                  The fruit-forward and spicy Zweigelt, with fla...\n",
       "blurb                                                                     None\n",
       "Name: 8, dtype: object"
      ]
     },
     "execution_count": 15,
     "metadata": {},
     "output_type": "execute_result"
    }
   ],
   "source": [
    "styles_df.iloc[styles_df[styles_df['id']==255].index[0]]"
   ]
  },
  {
   "cell_type": "code",
   "execution_count": 16,
   "metadata": {},
   "outputs": [
    {
     "data": {
      "text/plain": [
       "index                                28\n",
       "id                                  869\n",
       "name                             Wagram\n",
       "name_en                                \n",
       "seo_name                      donauland\n",
       "country_code                         at\n",
       "country_name                    Austria\n",
       "country_native_name          Österreich\n",
       "country_seo_name                austria\n",
       "country_regions_count                24\n",
       "country_users_count              147508\n",
       "country_wines_count               43242\n",
       "country_wineries_count             4240\n",
       "background_image_location          None\n",
       "Name: 28, dtype: object"
      ]
     },
     "execution_count": 16,
     "metadata": {},
     "output_type": "execute_result"
    }
   ],
   "source": [
    "regions_df.iloc[regions_df[regions_df['id']==869].index[0]]"
   ]
  },
  {
   "cell_type": "code",
   "execution_count": 17,
   "metadata": {},
   "outputs": [
    {
     "data": {
      "text/html": [
       "<div>\n",
       "<style scoped>\n",
       "    .dataframe tbody tr th:only-of-type {\n",
       "        vertical-align: middle;\n",
       "    }\n",
       "\n",
       "    .dataframe tbody tr th {\n",
       "        vertical-align: top;\n",
       "    }\n",
       "\n",
       "    .dataframe thead th {\n",
       "        text-align: right;\n",
       "    }\n",
       "</style>\n",
       "<table border=\"1\" class=\"dataframe\">\n",
       "  <thead>\n",
       "    <tr style=\"text-align: right;\">\n",
       "      <th></th>\n",
       "      <th>index</th>\n",
       "      <th>id</th>\n",
       "      <th>name</th>\n",
       "      <th>seo_name</th>\n",
       "      <th>status</th>\n",
       "      <th>review_status</th>\n",
       "      <th>statistics_ratings_count</th>\n",
       "      <th>statistics_ratings_average</th>\n",
       "      <th>statistics_labels_count</th>\n",
       "      <th>statistics_wines_count</th>\n",
       "    </tr>\n",
       "  </thead>\n",
       "  <tbody>\n",
       "    <tr>\n",
       "      <td>28</td>\n",
       "      <td>28</td>\n",
       "      <td>42667</td>\n",
       "      <td>Stefan Bauer</td>\n",
       "      <td>stefan-bauer</td>\n",
       "      <td>0</td>\n",
       "      <td>Completed</td>\n",
       "      <td>355</td>\n",
       "      <td>3.9</td>\n",
       "      <td>1264</td>\n",
       "      <td>17</td>\n",
       "    </tr>\n",
       "  </tbody>\n",
       "</table>\n",
       "</div>"
      ],
      "text/plain": [
       "    index     id          name      seo_name  status review_status  \\\n",
       "28     28  42667  Stefan Bauer  stefan-bauer       0     Completed   \n",
       "\n",
       "    statistics_ratings_count  statistics_ratings_average  \\\n",
       "28                       355                         3.9   \n",
       "\n",
       "    statistics_labels_count  statistics_wines_count  \n",
       "28                     1264                      17  "
      ]
     },
     "execution_count": 17,
     "metadata": {},
     "output_type": "execute_result"
    }
   ],
   "source": [
    "wineries_df[wineries_df['id']==42667]"
   ]
  },
  {
   "cell_type": "code",
   "execution_count": 18,
   "metadata": {},
   "outputs": [],
   "source": [
    "from selenium import webdriver\n",
    "from selenium.webdriver.common.keys import Keys\n",
    "from selenium.webdriver.common.by import By\n",
    "from selenium.webdriver.support.ui import WebDriverWait\n",
    "from selenium.webdriver.support import expected_conditions as EC"
   ]
  },
  {
   "cell_type": "code",
   "execution_count": 19,
   "metadata": {},
   "outputs": [],
   "source": [
    "import time\n",
    "def selenium_scrape(wine_id):\n",
    "    url = f\"https://vivino.com/wines/{str(wine_id)}\"\n",
    "    \n",
    "    chrome_driver_path = \"/Users/schlinkertc/code/chromedriver\"\n",
    "    driver = webdriver.Chrome(executable_path=chrome_driver_path)\n",
    "    \n",
    "    driver.get(url)\n",
    "    time.sleep(2)\n",
    "    driver.execute_script(\"window.scrollTo(0, 1200)\")\n",
    "    driver.execute_script(\"window.scrollTo(0, 1800)\")\n",
    "    time.sleep(2)\n",
    "    master_wine_page = driver.find_element_by_id('master-wine-page-app')\n",
    "    \n",
    "    driver.set_window_size(width=742,height=983)\n",
    "    a_tags = driver.find_elements_by_tag_name('a')\n",
    "    \n",
    "    for a in a_tags:\n",
    "        a_class = a.get_attribute('class')\n",
    "        if 'toggleShowAll' in a_class:\n",
    "            show_all = a\n",
    "            break\n",
    "\n",
    "    a.click()\n",
    "#     text = master_wine_page.text\n",
    "#     notes = [x for x in text.split('\\n') if 'mentions of' in x]\n",
    "    \n",
    "    svgs = master_wine_page.find_elements_by_tag_name('svg')\n",
    "\n",
    "    tasteNotes = []\n",
    "    for s in svgs:\n",
    "        try:\n",
    "            svg_class = s.get_attribute('class')\n",
    "            if 'tasteNote' in svg_class:\n",
    "                tasteNotes.append(s)\n",
    "        except:\n",
    "            continue \n",
    "\n",
    "    notes = []\n",
    "    note_tags = []\n",
    "    for i in range(len(tasteNotes)):\n",
    "        tasteNotes[i].click()\n",
    "        time.sleep(5)\n",
    "        spans = driver.find_elements_by_tag_name('span')\n",
    "        for span in spans:\n",
    "            try:\n",
    "                span_class = span.get_attribute('class')\n",
    "                if 'tasteReviews__capitalizedTastes' in span_class:\n",
    "                    note_texts.append(span.text)\n",
    "            except:\n",
    "                continue\n",
    "        divs = driver.find_elements_by_tag_name('div')\n",
    "        \n",
    "        \n",
    "        for div in divs:\n",
    "            try:\n",
    "                div_class = div.get_attribute('class')\n",
    "                if 'noteTag__name' in div_class:\n",
    "                    note_tags.append({'index':i,'tag':div.text})\n",
    "            except:\n",
    "                continue\n",
    "        webdriver.ActionChains(driver).send_keys(Keys.ESCAPE).perform()\n",
    "        \n",
    "      ## This is to get the indicator bars. not ready yet  \n",
    "#     spans = [x for x in master_wine_page.find_elements_by_tag_name('span')]\n",
    "#     styles = []\n",
    "#     for span in spans:\n",
    "#         try:\n",
    "#             style = span.get_attribute('style')\n",
    "#             if style.startswith('width'):\n",
    "#                 styles.append(style)\n",
    "#         except:\n",
    "#             continue\n",
    "    driver.quit()\n",
    "    indexed_notes = [{'index':n,'note':note} for n,note in enumerate(notes)]\n",
    "    \n",
    "    for tag in note_tags:\n",
    "        for note in indexed_notes:\n",
    "            if note['index']==tag['index']:\n",
    "                tag['note']=note['note']\n",
    "                \n",
    "    return {wine_id:note_tags}"
   ]
  },
  {
   "cell_type": "code",
   "execution_count": 20,
   "metadata": {},
   "outputs": [
    {
     "data": {
      "text/plain": [
       "{4470482: [{'index': 0, 'tag': 'plum'},\n",
       "  {'index': 0, 'tag': 'blackcurrant'},\n",
       "  {'index': 1, 'tag': 'prune'},\n",
       "  {'index': 2, 'tag': 'violet'},\n",
       "  {'index': 3, 'tag': 'chard'},\n",
       "  {'index': 3, 'tag': 'red beet'},\n",
       "  {'index': 4, 'tag': 'chocolate'}]}"
      ]
     },
     "execution_count": 20,
     "metadata": {},
     "output_type": "execute_result"
    }
   ],
   "source": [
    "selenium_scrape(4470482)"
   ]
  },
  {
   "cell_type": "code",
   "execution_count": 165,
   "metadata": {},
   "outputs": [],
   "source": [
    "def scrape_wineSearcher_fromVivino(seo_name):\n",
    "    seo_name = seo_name.strip(\"-uv\").replace('-','+')\n",
    "    url = f'https://www.wine-searcher.com/find/{seo_name}'\n",
    "\n",
    "    wine_dict = {'url':url}\n",
    "\n",
    "    page = requests.get(url,headers=Wine.headers)\n",
    "    if page.status_code != 200:\n",
    "        return page.status_code\n",
    "    bs = BeautifulSoup(page.content,'lxml')\n",
    "\n",
    "    wine_dict['name'] = bs.find(\n",
    "        'h1',attrs={'class':'wine'}).\\\n",
    "            getText(strip=True)\n",
    "\n",
    "    wine_info_panel = bs.find('div',attrs={\"class\":'wine-info-panel'})\n",
    "    if wine_info_panel==None:\n",
    "        return wine_dict\n",
    "    wine_info = []\n",
    "\n",
    "    for div in wine_info_panel.find_all('div',attrs={'class':'dtc'}):\n",
    "        wine_info.append(\n",
    "            [x.getText() for x in div.find_all(\n",
    "                'span',attrs={'class':\"dtlbl sidepanel-text\"}\n",
    "            ) \n",
    "             if type(x)==bs4.element.Tag])\n",
    "\n",
    "    wine_info = [\n",
    "        item.split('\\n') for sublist in wine_info for item in sublist\n",
    "    ]\n",
    "    wine_info = [\n",
    "        item.strip() for sublist in wine_info \n",
    "        for item in sublist if item not in  ['',' ']\n",
    "    ]\n",
    "\n",
    "    wine_dict_keys = [\n",
    "        'Producer','Region/Appellation',\n",
    "        'Grape/Blend','Food Suggestion',\n",
    "        'Wine Style','Alcohol Content','Notes'\n",
    "    ]\n",
    "\n",
    "    for key in wine_dict_keys:\n",
    "        try:\n",
    "            key_index = wine_info.index(key)\n",
    "            wine_dict[key]=wine_info[key_index+1]\n",
    "        except:\n",
    "            wine_dict[key]='null'\n",
    "\n",
    "    return wine_dict"
   ]
  },
  {
   "cell_type": "code",
   "execution_count": 166,
   "metadata": {},
   "outputs": [
    {
     "data": {
      "text/plain": [
       "{'url': 'https://www.wine-searcher.com/find/stefan+bauer+zweigelt',\n",
       " 'name': 'Stefan Bauer Zweigelt, Wagram, Austria',\n",
       " 'Producer': 'Stefan Bauer',\n",
       " 'Region/Appellation': 'Wagram',\n",
       " 'Grape/Blend': 'Zweigelt',\n",
       " 'Food Suggestion': 'Pork',\n",
       " 'Wine Style': 'Red - Savory and Classic',\n",
       " 'Alcohol Content': 'null',\n",
       " 'Notes': 'null'}"
      ]
     },
     "execution_count": 166,
     "metadata": {},
     "output_type": "execute_result"
    }
   ],
   "source": [
    "scrape_wineSearcher_fromVivino(\"stefan-bauer-zweigelt-uv\")"
   ]
  },
  {
   "cell_type": "code",
   "execution_count": null,
   "metadata": {},
   "outputs": [],
   "source": [
    "def compile_data(wine):\n",
    "    "
   ]
  }
 ],
 "metadata": {
  "kernelspec": {
   "display_name": "Python 3",
   "language": "python",
   "name": "python3"
  },
  "language_info": {
   "codemirror_mode": {
    "name": "ipython",
    "version": 3
   },
   "file_extension": ".py",
   "mimetype": "text/x-python",
   "name": "python",
   "nbconvert_exporter": "python",
   "pygments_lexer": "ipython3",
   "version": "3.7.3"
  }
 },
 "nbformat": 4,
 "nbformat_minor": 4
}
