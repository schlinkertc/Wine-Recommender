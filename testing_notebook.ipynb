{
 "cells": [
  {
   "cell_type": "code",
   "execution_count": 1,
   "metadata": {},
   "outputs": [],
   "source": [
    "from class_definitions import *\n",
    "\n",
    "Wines = []\n",
    "for (dirpath,dirnames,filenames) in walk('Wines/'):\n",
    "    if 'name-search' in dirpath:\n",
    "        for filename in filenames:\n",
    "            pkl = joblib.load(dirpath+'/'+filename)\n",
    "            if pkl.__class__ == Wine:\n",
    "                Wines.append(pkl)\n",
    "\n",
    "vivino_wines = []\n",
    "for w in Wines:\n",
    "    vivino_wines.extend(w.vivino)\n",
    "\n",
    "vivino_ids = [vw['wine_link'].split('/')[-1] for vw in vivino_wines]\n"
   ]
  },
  {
   "cell_type": "code",
   "execution_count": 2,
   "metadata": {},
   "outputs": [],
   "source": [
    "import os\n",
    "import sqlalchemy\n",
    "from sqlalchemy import create_engine\n",
    "class MyDatabase:\n",
    "    # http://docs.sqlalchemy.org/en/latest/core/engines.html\n",
    "    \"\"\"\n",
    "    Custom class for instantiating a SQL Alchemy connection. Configured here for SQLite, but intended to be flexible.\n",
    "    Credit to Medium user Mahmud Ahsan:\n",
    "    https://medium.com/@mahmudahsan/how-to-use-python-sqlite3-using-sqlalchemy-158f9c54eb32\n",
    "    \"\"\"\n",
    "    DB_ENGINE = {\n",
    "       'sqlite': 'sqlite:////{DB}'\n",
    "    }\n",
    "\n",
    "    # Main DB Connection Ref Obj\n",
    "    db_engine = None\n",
    "    def __init__(self, dbtype, \n",
    "                 username='', password='', \n",
    "                 dbname='',path=os.getcwd()+'/'):\n",
    "        dbtype = dbtype.lower()\n",
    "        if dbtype in self.DB_ENGINE.keys():\n",
    "            engine_url = self.DB_ENGINE[dbtype].format(DB=path+dbname)\n",
    "            self.db_engine = create_engine(engine_url)\n",
    "            print(self.db_engine)\n",
    "        else:\n",
    "            print(\"DBType is not found in DB_ENGINE\")"
   ]
  },
  {
   "cell_type": "code",
   "execution_count": 3,
   "metadata": {},
   "outputs": [
    {
     "name": "stdout",
     "output_type": "stream",
     "text": [
      "Engine(sqlite://///Users/schlinkertc/code/wine_project/wine/vivino_db/vivino_wines.db)\n"
     ]
    }
   ],
   "source": [
    "db = MyDatabase(dbtype='sqlite',dbname='vivino_db/vivino_wines.db')"
   ]
  },
  {
   "cell_type": "code",
   "execution_count": 4,
   "metadata": {},
   "outputs": [],
   "source": [
    "vintages_df = pd.read_sql_table('vintages',db.db_engine)"
   ]
  },
  {
   "cell_type": "code",
   "execution_count": 58,
   "metadata": {},
   "outputs": [],
   "source": [
    "wines_df = pd.read_sql('select * from wines',db.db_engine)"
   ]
  },
  {
   "cell_type": "markdown",
   "metadata": {},
   "source": [
    "### Fuzzy matching from KCW to vivino"
   ]
  },
  {
   "cell_type": "code",
   "execution_count": 12,
   "metadata": {},
   "outputs": [],
   "source": [
    "from fuzzywuzzy import fuzz\n",
    "from fuzzywuzzy import process"
   ]
  },
  {
   "cell_type": "code",
   "execution_count": 63,
   "metadata": {},
   "outputs": [],
   "source": [
    "vivino_vintages = vintages_df['name'].to_list()"
   ]
  },
  {
   "cell_type": "code",
   "execution_count": 64,
   "metadata": {},
   "outputs": [],
   "source": [
    "wine = Wines[0]"
   ]
  },
  {
   "cell_type": "code",
   "execution_count": 65,
   "metadata": {},
   "outputs": [
    {
     "data": {
      "text/plain": [
       "Wine: Zweigelt 2016 Bauer, Source: name-search"
      ]
     },
     "execution_count": 65,
     "metadata": {},
     "output_type": "execute_result"
    }
   ],
   "source": [
    "wine"
   ]
  },
  {
   "cell_type": "code",
   "execution_count": 66,
   "metadata": {},
   "outputs": [
    {
     "data": {
      "text/plain": [
       "[('Stefan Bauer Zweigelt', 70),\n",
       " ('Norbert Bauer Zweigelt', 68),\n",
       " ('Christoph Bauer Zweigelt', 65),\n",
       " ('Anton Bauer Zweigelt Alte Reben', 60),\n",
       " ('Familie Bauer Zweigelt Klassik', 57)]"
      ]
     },
     "execution_count": 66,
     "metadata": {},
     "output_type": "execute_result"
    }
   ],
   "source": [
    "matches = [(x,fuzz.token_sort_ratio(wine.name,x)) for x in vivino_vintages]\n",
    "sorted(matches,key=lambda x: x[1],reverse=True)[:5]\n"
   ]
  },
  {
   "cell_type": "code",
   "execution_count": 94,
   "metadata": {},
   "outputs": [
    {
     "data": {
      "text/html": [
       "<div>\n",
       "<style scoped>\n",
       "    .dataframe tbody tr th:only-of-type {\n",
       "        vertical-align: middle;\n",
       "    }\n",
       "\n",
       "    .dataframe tbody tr th {\n",
       "        vertical-align: top;\n",
       "    }\n",
       "\n",
       "    .dataframe thead th {\n",
       "        text-align: right;\n",
       "    }\n",
       "</style>\n",
       "<table border=\"1\" class=\"dataframe\">\n",
       "  <thead>\n",
       "    <tr style=\"text-align: right;\">\n",
       "      <th></th>\n",
       "      <th>index</th>\n",
       "      <th>id</th>\n",
       "      <th>seo_name</th>\n",
       "      <th>name</th>\n",
       "      <th>statistics_status</th>\n",
       "      <th>statistics_ratings_count</th>\n",
       "      <th>statistics_ratings_average</th>\n",
       "      <th>statistics_labels_count</th>\n",
       "      <th>statistics_reviews_count</th>\n",
       "      <th>wine_id</th>\n",
       "      <th>...</th>\n",
       "      <th>ranking_winery_total</th>\n",
       "      <th>ranking_winery_rank</th>\n",
       "      <th>ranking_global_description</th>\n",
       "      <th>ranking_global_total</th>\n",
       "      <th>ranking_global_rank</th>\n",
       "      <th>wine_facts_alcohol</th>\n",
       "      <th>wine_facts_contains_added_sulfites</th>\n",
       "      <th>wine_facts_contains_milk_allergens</th>\n",
       "      <th>wine_facts_contains_egg_allergens</th>\n",
       "      <th>wine_facts_certified_biodynamic</th>\n",
       "    </tr>\n",
       "  </thead>\n",
       "  <tbody>\n",
       "    <tr>\n",
       "      <td>29</td>\n",
       "      <td>29</td>\n",
       "      <td>4470482</td>\n",
       "      <td>stefan-bauer-zweigelt-uv</td>\n",
       "      <td>Stefan Bauer Zweigelt</td>\n",
       "      <td>Normal</td>\n",
       "      <td>26</td>\n",
       "      <td>3.5</td>\n",
       "      <td>4</td>\n",
       "      <td>1</td>\n",
       "      <td>2237206</td>\n",
       "      <td>...</td>\n",
       "      <td>82.0</td>\n",
       "      <td>23.0</td>\n",
       "      <td>Global Rank</td>\n",
       "      <td>7183598.0</td>\n",
       "      <td>2017714.0</td>\n",
       "      <td>NaN</td>\n",
       "      <td>None</td>\n",
       "      <td>None</td>\n",
       "      <td>None</td>\n",
       "      <td>None</td>\n",
       "    </tr>\n",
       "  </tbody>\n",
       "</table>\n",
       "<p>1 rows × 34 columns</p>\n",
       "</div>"
      ],
      "text/plain": [
       "    index       id                  seo_name                   name  \\\n",
       "29     29  4470482  stefan-bauer-zweigelt-uv  Stefan Bauer Zweigelt   \n",
       "\n",
       "   statistics_status  statistics_ratings_count  statistics_ratings_average  \\\n",
       "29            Normal                        26                         3.5   \n",
       "\n",
       "    statistics_labels_count  statistics_reviews_count  wine_id  ...  \\\n",
       "29                        4                         1  2237206  ...   \n",
       "\n",
       "   ranking_winery_total  ranking_winery_rank  ranking_global_description  \\\n",
       "29                 82.0                 23.0                 Global Rank   \n",
       "\n",
       "    ranking_global_total  ranking_global_rank  wine_facts_alcohol  \\\n",
       "29             7183598.0            2017714.0                 NaN   \n",
       "\n",
       "   wine_facts_contains_added_sulfites wine_facts_contains_milk_allergens  \\\n",
       "29                               None                               None   \n",
       "\n",
       "    wine_facts_contains_egg_allergens  wine_facts_certified_biodynamic  \n",
       "29                               None                             None  \n",
       "\n",
       "[1 rows x 34 columns]"
      ]
     },
     "execution_count": 94,
     "metadata": {},
     "output_type": "execute_result"
    }
   ],
   "source": [
    "vintages_df[vintages_df['name']=='Stefan Bauer Zweigelt']"
   ]
  },
  {
   "cell_type": "code",
   "execution_count": 95,
   "metadata": {},
   "outputs": [
    {
     "data": {
      "text/html": [
       "<div>\n",
       "<style scoped>\n",
       "    .dataframe tbody tr th:only-of-type {\n",
       "        vertical-align: middle;\n",
       "    }\n",
       "\n",
       "    .dataframe tbody tr th {\n",
       "        vertical-align: top;\n",
       "    }\n",
       "\n",
       "    .dataframe thead th {\n",
       "        text-align: right;\n",
       "    }\n",
       "</style>\n",
       "<table border=\"1\" class=\"dataframe\">\n",
       "  <thead>\n",
       "    <tr style=\"text-align: right;\">\n",
       "      <th></th>\n",
       "      <th>index</th>\n",
       "      <th>id</th>\n",
       "      <th>name</th>\n",
       "      <th>seo_name</th>\n",
       "      <th>type_id</th>\n",
       "      <th>is_natural</th>\n",
       "      <th>region_id</th>\n",
       "      <th>review_status</th>\n",
       "      <th>winery_id</th>\n",
       "      <th>statistics_status</th>\n",
       "      <th>...</th>\n",
       "      <th>statistics_labels_count</th>\n",
       "      <th>statistics_vintages_count</th>\n",
       "      <th>hidden</th>\n",
       "      <th>description</th>\n",
       "      <th>non_vintage</th>\n",
       "      <th>alcohol</th>\n",
       "      <th>created_at</th>\n",
       "      <th>is_first_wine</th>\n",
       "      <th>style_id</th>\n",
       "      <th>sweetness_id</th>\n",
       "    </tr>\n",
       "  </thead>\n",
       "  <tbody>\n",
       "    <tr>\n",
       "      <td>29</td>\n",
       "      <td>29</td>\n",
       "      <td>2237206</td>\n",
       "      <td>Zweigelt</td>\n",
       "      <td>zweigelt</td>\n",
       "      <td>1</td>\n",
       "      <td>0</td>\n",
       "      <td>869.0</td>\n",
       "      <td>2</td>\n",
       "      <td>42667.0</td>\n",
       "      <td>Normal</td>\n",
       "      <td>...</td>\n",
       "      <td>112</td>\n",
       "      <td>12</td>\n",
       "      <td>0</td>\n",
       "      <td></td>\n",
       "      <td>0</td>\n",
       "      <td>13.0</td>\n",
       "      <td>2014-03-09T08:55:09Z</td>\n",
       "      <td>0</td>\n",
       "      <td>255.0</td>\n",
       "      <td>NaN</td>\n",
       "    </tr>\n",
       "  </tbody>\n",
       "</table>\n",
       "<p>1 rows × 22 columns</p>\n",
       "</div>"
      ],
      "text/plain": [
       "    index       id      name  seo_name  type_id  is_natural  region_id  \\\n",
       "29     29  2237206  Zweigelt  zweigelt        1           0      869.0   \n",
       "\n",
       "    review_status  winery_id statistics_status  ...  statistics_labels_count  \\\n",
       "29              2    42667.0            Normal  ...                      112   \n",
       "\n",
       "    statistics_vintages_count  hidden  description  non_vintage alcohol  \\\n",
       "29                         12       0                         0    13.0   \n",
       "\n",
       "              created_at  is_first_wine style_id  sweetness_id  \n",
       "29  2014-03-09T08:55:09Z              0    255.0           NaN  \n",
       "\n",
       "[1 rows x 22 columns]"
      ]
     },
     "execution_count": 95,
     "metadata": {},
     "output_type": "execute_result"
    }
   ],
   "source": [
    "wines_df[wines_df['id']==2237206]"
   ]
  },
  {
   "cell_type": "code",
   "execution_count": 96,
   "metadata": {},
   "outputs": [],
   "source": [
    "f = []\n",
    "for dirpath,directory,filenames in walk(\"Wines/vivino_tastingNotes/\"):\n",
    "    f.extend(filenames)\n",
    "    break"
   ]
  },
  {
   "cell_type": "code",
   "execution_count": 99,
   "metadata": {},
   "outputs": [
    {
     "data": {
      "text/plain": [
       "True"
      ]
     },
     "execution_count": 99,
     "metadata": {},
     "output_type": "execute_result"
    }
   ],
   "source": [
    "str(4470482) in f"
   ]
  },
  {
   "cell_type": "code",
   "execution_count": 100,
   "metadata": {},
   "outputs": [
    {
     "data": {
      "text/plain": [
       "{'4470482': []}"
      ]
     },
     "execution_count": 100,
     "metadata": {},
     "output_type": "execute_result"
    }
   ],
   "source": [
    "joblib.load(\"Wines/vivino_tastingNotes//4470482\")"
   ]
  },
  {
   "cell_type": "markdown",
   "metadata": {},
   "source": [
    "### WineSearcher Errors "
   ]
  },
  {
   "cell_type": "code",
   "execution_count": null,
   "metadata": {},
   "outputs": [],
   "source": []
  },
  {
   "cell_type": "markdown",
   "metadata": {},
   "source": [
    "No result for wine-searcher, but one result for vivino. \n",
    "Re-instantiate from the vivino link for wine-searcher match?"
   ]
  },
  {
   "cell_type": "code",
   "execution_count": 82,
   "metadata": {},
   "outputs": [],
   "source": [
    "wineSearcher_noResults = []\n",
    "for W in Wines:\n",
    "    if W.wineSearcher != '403':\n",
    "        if len(W.wineSearcher.keys())==2:\n",
    "            wineSearcher_noResults.append(W)\n",
    "\n",
    "ws_errors = [(W.name,len(W.vivino)) for W in wineSearcher_noResults]"
   ]
  },
  {
   "cell_type": "code",
   "execution_count": 68,
   "metadata": {},
   "outputs": [],
   "source": [
    "result = vivino_results[0]"
   ]
  },
  {
   "cell_type": "code",
   "execution_count": 73,
   "metadata": {},
   "outputs": [
    {
     "data": {
      "text/plain": [
       "{'U.V.'}"
      ]
     },
     "execution_count": 73,
     "metadata": {},
     "output_type": "execute_result"
    }
   ],
   "source": [
    "{result['vintage']['year'] for result in vivino_results}"
   ]
  },
  {
   "cell_type": "code",
   "execution_count": 101,
   "metadata": {},
   "outputs": [],
   "source": [
    "from selenium import webdriver\n",
    "from selenium.webdriver.common.keys import Keys\n",
    "from selenium.webdriver.common.by import By\n",
    "from selenium.webdriver.support.ui import WebDriverWait\n",
    "from selenium.webdriver.support import expected_conditions as EC"
   ]
  },
  {
   "cell_type": "code",
   "execution_count": 128,
   "metadata": {},
   "outputs": [],
   "source": [
    "import time\n",
    "def selenium_scrape(wine_id):\n",
    "    url = f\"https://vivino.com/wines/{str(wine_id)}\"\n",
    "    \n",
    "    chrome_driver_path = \"/Users/schlinkertc/code/chromedriver\"\n",
    "    driver = webdriver.Chrome(executable_path=chrome_driver_path)\n",
    "    \n",
    "    driver.get(url)\n",
    "    time.sleep(2)\n",
    "    driver.execute_script(\"window.scrollTo(0, 1200)\")\n",
    "    driver.execute_script(\"window.scrollTo(0, 1800)\")\n",
    "    time.sleep(2)\n",
    "    master_wine_page = driver.find_element_by_id('master-wine-page-app')\n",
    "    \n",
    "    driver.set_window_size(width=742,height=983)\n",
    "    a_tags = driver.find_elements_by_tag_name('a')\n",
    "    \n",
    "    for a in a_tags:\n",
    "        a_class = a.get_attribute('class')\n",
    "        if 'toggleShowAll' in a_class:\n",
    "            show_all = a\n",
    "            break\n",
    "\n",
    "    a.click()\n",
    "#     text = master_wine_page.text\n",
    "#     notes = [x for x in text.split('\\n') if 'mentions of' in x]\n",
    "    \n",
    "    svgs = master_wine_page.find_elements_by_tag_name('svg')\n",
    "\n",
    "    tasteNotes = []\n",
    "    for s in svgs:\n",
    "        try:\n",
    "            svg_class = s.get_attribute('class')\n",
    "            if 'tasteNote' in svg_class:\n",
    "                tasteNotes.append(s)\n",
    "        except:\n",
    "            continue \n",
    "\n",
    "    note_texts = []\n",
    "    notes = []\n",
    "    for i in range(len(tasteNotes)):\n",
    "        tasteNotes[i].click()\n",
    "        time.sleep(5)\n",
    "        spans = driver.find_elements_by_tag_name('span')\n",
    "        for span in spans:\n",
    "            try:\n",
    "                span_class = span.get_attribute('class')\n",
    "                if 'tasteReviews__capitalizedTastes' in span_class:\n",
    "                    note_texts.append(span.text)\n",
    "            except:\n",
    "                continue\n",
    "        divs = driver.find_elements_by_tag_name('div')\n",
    "        \n",
    "        \n",
    "        for div in divs:\n",
    "            try:\n",
    "                div_class = div.get_attribute('class')\n",
    "                if 'noteTag__name' in div_class:\n",
    "                    note_tags.append({'index':i,'tag':div.text})\n",
    "            except:\n",
    "                continue\n",
    "        webdriver.ActionChains(driver).send_keys(Keys.ESCAPE).perform()\n",
    "        \n",
    "      ## This is to get the indicator bars. not ready yet  \n",
    "#     spans = [x for x in master_wine_page.find_elements_by_tag_name('span')]\n",
    "#     styles = []\n",
    "#     for span in spans:\n",
    "#         try:\n",
    "#             style = span.get_attribute('style')\n",
    "#             if style.startswith('width'):\n",
    "#                 styles.append(style)\n",
    "#         except:\n",
    "#             continue\n",
    "    driver.quit()\n",
    "    indexed_notes = [{'index':n,'note':note} for n,note in enumerate(notes)]\n",
    "    \n",
    "    for tag in note_tags:\n",
    "        for note in indexed_notes:\n",
    "            if note['index']==tag['index']:\n",
    "                tag['note']=note['note']\n",
    "                \n",
    "    return {wine_id:note_tags}"
   ]
  },
  {
   "cell_type": "code",
   "execution_count": 129,
   "metadata": {},
   "outputs": [
    {
     "data": {
      "text/plain": [
       "{4470482: [{'index': 0,\n",
       "   'tag': 'blackcurrant',\n",
       "   'note': '2 mentions of black fruit notes'},\n",
       "  {'index': 0, 'tag': 'plum', 'note': '2 mentions of black fruit notes'},\n",
       "  {'index': 1, 'tag': 'prune', 'note': '1 mentions of dried fruit notes'},\n",
       "  {'index': 2, 'tag': 'violet', 'note': '1 mentions of floral notes'},\n",
       "  {'index': 3, 'tag': 'chard'},\n",
       "  {'index': 3, 'tag': 'red beet'},\n",
       "  {'index': 4, 'tag': 'chocolate'}]}"
      ]
     },
     "execution_count": 129,
     "metadata": {},
     "output_type": "execute_result"
    }
   ],
   "source": [
    "selenium_scrape(4470482)"
   ]
  },
  {
   "cell_type": "code",
   "execution_count": null,
   "metadata": {},
   "outputs": [],
   "source": []
  },
  {
   "cell_type": "code",
   "execution_count": null,
   "metadata": {},
   "outputs": [],
   "source": [
    "https://vivino.com/wines/4470482"
   ]
  }
 ],
 "metadata": {
  "kernelspec": {
   "display_name": "Python 3",
   "language": "python",
   "name": "python3"
  },
  "language_info": {
   "codemirror_mode": {
    "name": "ipython",
    "version": 3
   },
   "file_extension": ".py",
   "mimetype": "text/x-python",
   "name": "python",
   "nbconvert_exporter": "python",
   "pygments_lexer": "ipython3",
   "version": "3.7.3"
  }
 },
 "nbformat": 4,
 "nbformat_minor": 4
}
