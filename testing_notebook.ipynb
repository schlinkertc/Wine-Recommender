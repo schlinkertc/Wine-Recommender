{
 "cells": [
  {
   "cell_type": "code",
   "execution_count": 1,
   "metadata": {},
   "outputs": [],
   "source": [
    "from class_definitions import *"
   ]
  },
  {
   "cell_type": "code",
   "execution_count": 18,
   "metadata": {},
   "outputs": [],
   "source": [
    "Wines = [Wine(x) for x in Wine.pickled_wines]"
   ]
  },
  {
   "cell_type": "code",
   "execution_count": 19,
   "metadata": {},
   "outputs": [
    {
     "data": {
      "text/plain": [
       "234"
      ]
     },
     "execution_count": 19,
     "metadata": {},
     "output_type": "execute_result"
    }
   ],
   "source": [
    "len(Wines)"
   ]
  },
  {
   "cell_type": "code",
   "execution_count": 13,
   "metadata": {},
   "outputs": [],
   "source": [
    "kcw_wines = pd.read_csv('kings_county_wines.csv',index_col=0)\n",
    "\n",
    "wine_names = list(kcw_wines['name'])\n",
    "\n",
    "wineSearcher = pd.read_csv('wine-searcher_data.csv')"
   ]
  },
  {
   "cell_type": "code",
   "execution_count": 14,
   "metadata": {},
   "outputs": [],
   "source": [
    "matched = [x for x in wine_names if x in wineSearcher['name'].to_list()]"
   ]
  },
  {
   "cell_type": "code",
   "execution_count": 15,
   "metadata": {},
   "outputs": [
    {
     "name": "stdout",
     "output_type": "stream",
     "text": [
      "403\n"
     ]
    }
   ],
   "source": [
    "for wine_name in matched:\n",
    "    wine = Wine(wine_name)\n",
    "    if type(wine.wineSearcher) != dict:\n",
    "        print(wine.wineSearcher)\n",
    "        continue"
   ]
  },
  {
   "cell_type": "code",
   "execution_count": 55,
   "metadata": {},
   "outputs": [
    {
     "data": {
      "text/html": [
       "<div>\n",
       "<style scoped>\n",
       "    .dataframe tbody tr th:only-of-type {\n",
       "        vertical-align: middle;\n",
       "    }\n",
       "\n",
       "    .dataframe tbody tr th {\n",
       "        vertical-align: top;\n",
       "    }\n",
       "\n",
       "    .dataframe thead th {\n",
       "        text-align: right;\n",
       "    }\n",
       "</style>\n",
       "<table border=\"1\" class=\"dataframe\">\n",
       "  <thead>\n",
       "    <tr style=\"text-align: right;\">\n",
       "      <th></th>\n",
       "      <th>url</th>\n",
       "      <th>name</th>\n",
       "      <th>Producer</th>\n",
       "      <th>Region/Appellation</th>\n",
       "      <th>Grape/Blend</th>\n",
       "      <th>Food Suggestion</th>\n",
       "      <th>Wine Style</th>\n",
       "      <th>Alcohol Content</th>\n",
       "      <th>Notes</th>\n",
       "    </tr>\n",
       "  </thead>\n",
       "  <tbody>\n",
       "    <tr>\n",
       "      <td>1</td>\n",
       "      <td>NaN</td>\n",
       "      <td>Truffle Hound 2017 Unico Zelo</td>\n",
       "      <td>Unico Zelo</td>\n",
       "      <td>Clare Valley</td>\n",
       "      <td>Rare Red Blend</td>\n",
       "      <td>Beef and Venison</td>\n",
       "      <td>Red - Rich and Intense</td>\n",
       "      <td>12 - 13.5%</td>\n",
       "      <td>Indicative blend: Barbera and Nebbiolo</td>\n",
       "    </tr>\n",
       "    <tr>\n",
       "      <td>2</td>\n",
       "      <td>NaN</td>\n",
       "      <td>Sforzato di Valtellina 2013 Alfio Mozzi</td>\n",
       "      <td>Azienda Agricola Alfio Mozzi</td>\n",
       "      <td>Sforzato di Valtellina</td>\n",
       "      <td>Nebbiolo</td>\n",
       "      <td>Beef and Venison</td>\n",
       "      <td>Red - Rich and Intense</td>\n",
       "      <td>NaN</td>\n",
       "      <td>NaN</td>\n",
       "    </tr>\n",
       "    <tr>\n",
       "      <td>3</td>\n",
       "      <td>NaN</td>\n",
       "      <td>Cabernet Sauvignon 2017 Oracle Cellars</td>\n",
       "      <td>NaN</td>\n",
       "      <td>Mendocino</td>\n",
       "      <td>Cabernet Sauvignon</td>\n",
       "      <td>Beef and Venison</td>\n",
       "      <td>Red - Bold and Structured</td>\n",
       "      <td>NaN</td>\n",
       "      <td>NaN</td>\n",
       "    </tr>\n",
       "    <tr>\n",
       "      <td>5</td>\n",
       "      <td>NaN</td>\n",
       "      <td>Sauvignon Blanc 2019 Tablelands</td>\n",
       "      <td>TL Wine Co</td>\n",
       "      <td>New Zealand</td>\n",
       "      <td>Sauvignon Blanc</td>\n",
       "      <td>Goats' Cheese and Feta</td>\n",
       "      <td>White - Green and Flinty</td>\n",
       "      <td>12.5 - 14%</td>\n",
       "      <td>NaN</td>\n",
       "    </tr>\n",
       "    <tr>\n",
       "      <td>8</td>\n",
       "      <td>NaN</td>\n",
       "      <td>Moschofilero Fteri 2017 Troupis Winery</td>\n",
       "      <td>Troupis Winery</td>\n",
       "      <td>Peloponnese</td>\n",
       "      <td>Moschofilero</td>\n",
       "      <td>Shellfish, Crab and Lobster</td>\n",
       "      <td>White - Green and Flinty</td>\n",
       "      <td>12 - 12.5%</td>\n",
       "      <td>NaN</td>\n",
       "    </tr>\n",
       "    <tr>\n",
       "      <td>...</td>\n",
       "      <td>...</td>\n",
       "      <td>...</td>\n",
       "      <td>...</td>\n",
       "      <td>...</td>\n",
       "      <td>...</td>\n",
       "      <td>...</td>\n",
       "      <td>...</td>\n",
       "      <td>...</td>\n",
       "      <td>...</td>\n",
       "    </tr>\n",
       "    <tr>\n",
       "      <td>204</td>\n",
       "      <td>NaN</td>\n",
       "      <td>Collio Ribolla Gialla Oslavia 2018 Fiegl</td>\n",
       "      <td>Fiegl Vini</td>\n",
       "      <td>Friuli-Venezia Giulia</td>\n",
       "      <td>Ribolla</td>\n",
       "      <td>White Fish</td>\n",
       "      <td>White - Green and Flinty</td>\n",
       "      <td>12 - 12.5%</td>\n",
       "      <td>NaN</td>\n",
       "    </tr>\n",
       "    <tr>\n",
       "      <td>205</td>\n",
       "      <td>NaN</td>\n",
       "      <td>Zinfandel 2017 The People's Wine Co.</td>\n",
       "      <td>The People's Wine Company</td>\n",
       "      <td>California</td>\n",
       "      <td>Zinfandel</td>\n",
       "      <td>Lamb</td>\n",
       "      <td>Red - Rich and Intense</td>\n",
       "      <td>NaN</td>\n",
       "      <td>NaN</td>\n",
       "    </tr>\n",
       "    <tr>\n",
       "      <td>206</td>\n",
       "      <td>NaN</td>\n",
       "      <td>Pinotage 2017 Lammershoek</td>\n",
       "      <td>Lammershoek Winery</td>\n",
       "      <td>Swartland</td>\n",
       "      <td>Pinotage</td>\n",
       "      <td>Beef and Venison</td>\n",
       "      <td>Red - Rich and Intense</td>\n",
       "      <td>14%</td>\n",
       "      <td>NaN</td>\n",
       "    </tr>\n",
       "    <tr>\n",
       "      <td>207</td>\n",
       "      <td>NaN</td>\n",
       "      <td>Chardonnay 2017 Nathan K.</td>\n",
       "      <td>N. Kendall Wines</td>\n",
       "      <td>Finger Lakes</td>\n",
       "      <td>Chardonnay</td>\n",
       "      <td>White Fish</td>\n",
       "      <td>White - Tropical and Balanced</td>\n",
       "      <td>12%</td>\n",
       "      <td>NaN</td>\n",
       "    </tr>\n",
       "    <tr>\n",
       "      <td>208</td>\n",
       "      <td>NaN</td>\n",
       "      <td>Syrah 2016 Noble Hill</td>\n",
       "      <td>Noble Hill Wine Estate</td>\n",
       "      <td>Paarl</td>\n",
       "      <td>Syrah</td>\n",
       "      <td>Beef and Venison</td>\n",
       "      <td>Red - Rich and Intense</td>\n",
       "      <td>14 - 14.5%</td>\n",
       "      <td>Indicative blend: Predominantly Syrah with som...</td>\n",
       "    </tr>\n",
       "  </tbody>\n",
       "</table>\n",
       "<p>184 rows × 9 columns</p>\n",
       "</div>"
      ],
      "text/plain": [
       "     url                                      name  \\\n",
       "1    NaN             Truffle Hound 2017 Unico Zelo   \n",
       "2    NaN   Sforzato di Valtellina 2013 Alfio Mozzi   \n",
       "3    NaN    Cabernet Sauvignon 2017 Oracle Cellars   \n",
       "5    NaN           Sauvignon Blanc 2019 Tablelands   \n",
       "8    NaN    Moschofilero Fteri 2017 Troupis Winery   \n",
       "..   ...                                       ...   \n",
       "204  NaN  Collio Ribolla Gialla Oslavia 2018 Fiegl   \n",
       "205  NaN      Zinfandel 2017 The People's Wine Co.   \n",
       "206  NaN                 Pinotage 2017 Lammershoek   \n",
       "207  NaN                 Chardonnay 2017 Nathan K.   \n",
       "208  NaN                     Syrah 2016 Noble Hill   \n",
       "\n",
       "                         Producer      Region/Appellation         Grape/Blend  \\\n",
       "1                      Unico Zelo            Clare Valley      Rare Red Blend   \n",
       "2    Azienda Agricola Alfio Mozzi  Sforzato di Valtellina            Nebbiolo   \n",
       "3                             NaN               Mendocino  Cabernet Sauvignon   \n",
       "5                      TL Wine Co             New Zealand     Sauvignon Blanc   \n",
       "8                  Troupis Winery             Peloponnese        Moschofilero   \n",
       "..                            ...                     ...                 ...   \n",
       "204                    Fiegl Vini   Friuli-Venezia Giulia             Ribolla   \n",
       "205     The People's Wine Company              California           Zinfandel   \n",
       "206            Lammershoek Winery               Swartland            Pinotage   \n",
       "207              N. Kendall Wines            Finger Lakes          Chardonnay   \n",
       "208        Noble Hill Wine Estate                   Paarl               Syrah   \n",
       "\n",
       "                 Food Suggestion                     Wine Style  \\\n",
       "1               Beef and Venison         Red - Rich and Intense   \n",
       "2               Beef and Venison         Red - Rich and Intense   \n",
       "3               Beef and Venison      Red - Bold and Structured   \n",
       "5         Goats' Cheese and Feta       White - Green and Flinty   \n",
       "8    Shellfish, Crab and Lobster       White - Green and Flinty   \n",
       "..                           ...                            ...   \n",
       "204                   White Fish       White - Green and Flinty   \n",
       "205                         Lamb         Red - Rich and Intense   \n",
       "206             Beef and Venison         Red - Rich and Intense   \n",
       "207                   White Fish  White - Tropical and Balanced   \n",
       "208             Beef and Venison         Red - Rich and Intense   \n",
       "\n",
       "    Alcohol Content                                              Notes  \n",
       "1        12 - 13.5%             Indicative blend: Barbera and Nebbiolo  \n",
       "2               NaN                                                NaN  \n",
       "3               NaN                                                NaN  \n",
       "5        12.5 - 14%                                                NaN  \n",
       "8        12 - 12.5%                                                NaN  \n",
       "..              ...                                                ...  \n",
       "204      12 - 12.5%                                                NaN  \n",
       "205             NaN                                                NaN  \n",
       "206             14%                                                NaN  \n",
       "207             12%                                                NaN  \n",
       "208      14 - 14.5%  Indicative blend: Predominantly Syrah with som...  \n",
       "\n",
       "[184 rows x 9 columns]"
      ]
     },
     "execution_count": 55,
     "metadata": {},
     "output_type": "execute_result"
    }
   ],
   "source": [
    "wineSearcherData = pd.DataFrame.from_records([wine.wineSearcher for wine in Wines if type(wine.wineSearcher)==dict])\n",
    "wineSearcherData.dropna(axis=0,thresh=3)"
   ]
  },
  {
   "cell_type": "markdown",
   "metadata": {},
   "source": [
    "No result for wine-searcher, but one result for vivino. \n",
    "Re-instantiate from the vivino link for wine-searcher match?"
   ]
  },
  {
   "cell_type": "code",
   "execution_count": 43,
   "metadata": {},
   "outputs": [],
   "source": [
    "wineSearcher_noResults = []\n",
    "for W in Wines:\n",
    "    if W.wineSearcher != '403':\n",
    "        if len(W.wineSearcher.keys())==2:\n",
    "            wineSearcher_noResults.append(W)"
   ]
  },
  {
   "cell_type": "code",
   "execution_count": 56,
   "metadata": {},
   "outputs": [
    {
     "data": {
      "text/plain": [
       "[('Zweigelt 2016 Bauer', 20),\n",
       " ('Spatburgunder Kabinett 2017 Koehler-Ruprecht', 1),\n",
       " ('Costa delle Sesia Uvaggio 2015 Sperino', 1),\n",
       " ('Aloxe Corton \"Les Citernes\" 2015 Bidault', 1),\n",
       " ('Refošk Baracija 2017 Clai Wines', 20),\n",
       " ('Lambrusco Bollarossa NV Corte Manzini', 1),\n",
       " (\"Imereti 2018 Amiran's Wine Cellar\", 20),\n",
       " ('Cinsault 2017 Turbigo', 1),\n",
       " ('Autour du Pigeonnier 2016 Benoît Roseau', 1),\n",
       " ('Garnacha \"Campo de Borja\" 2018 Dos Molinos', 1),\n",
       " ('Cab Sauv \"Super Cali\" Vogelzang 2013 CCGP', 20),\n",
       " ('Saint-Amour À La Folie 2017 Arpaye', 1),\n",
       " ('Piccolo Derthona 2017 Terralba', 1),\n",
       " ('Pet-Nat Orbis Moderandi 2019 OCD', 20),\n",
       " ('Fixin \"Les Champstions\" 2016 Domaine Collotte', 1),\n",
       " (\"Catarratto L'Isola del Satiro 2018 Alcesti\", 1),\n",
       " (\"Sylvaner d'Alsace 2017 Vincent Fleith\", 1),\n",
       " ('Riesling Kaefferkopf 1.5L 2016 Schoech', 2),\n",
       " ('Pinot Noir \"La Belouse\" 2017 L\\'Echelette', 1),\n",
       " ('Langhe Nebbiolo 2017 Fratelli', 17),\n",
       " ('Rioja VS Tinto 2015 Vinos Subterraneos', 20),\n",
       " ('Jeanue Rouge 2017 Chateau Musar', 20),\n",
       " ('Rose 3L 2019 Jacques Florent', 1),\n",
       " ('H-C-de-B Blanc 2017 Rouges-Queues', 20),\n",
       " ('Seyval-Chardo 2018 Les Pervenches', 1)]"
      ]
     },
     "execution_count": 56,
     "metadata": {},
     "output_type": "execute_result"
    }
   ],
   "source": [
    "[(W.name,len(W.vivino)) for W in wineSearcher_noResults]"
   ]
  },
  {
   "cell_type": "markdown",
   "metadata": {},
   "source": [
    "### Scrape and store Vivino matches"
   ]
  },
  {
   "cell_type": "code",
   "execution_count": 67,
   "metadata": {},
   "outputs": [
    {
     "data": {
      "text/plain": [
       "93"
      ]
     },
     "execution_count": 67,
     "metadata": {},
     "output_type": "execute_result"
    }
   ],
   "source": [
    "easy_vivino_matches = []\n",
    "for W in Wines:\n",
    "    if len(W.vivino)==1:\n",
    "        easy_vivino_matches.extend(W.vivino)\n",
    "\n",
    "len(easy_vivino_matches)"
   ]
  },
  {
   "cell_type": "code",
   "execution_count": null,
   "metadata": {},
   "outputs": [],
   "source": []
  }
 ],
 "metadata": {
  "kernelspec": {
   "display_name": "Python 3",
   "language": "python",
   "name": "python3"
  },
  "language_info": {
   "codemirror_mode": {
    "name": "ipython",
    "version": 3
   },
   "file_extension": ".py",
   "mimetype": "text/x-python",
   "name": "python",
   "nbconvert_exporter": "python",
   "pygments_lexer": "ipython3",
   "version": "3.7.3"
  }
 },
 "nbformat": 4,
 "nbformat_minor": 4
}
