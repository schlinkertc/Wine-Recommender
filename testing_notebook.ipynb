{
 "cells": [
  {
   "cell_type": "code",
   "execution_count": 1,
   "metadata": {},
   "outputs": [
    {
     "data": {
      "text/plain": [
       "[Wine: Zweigelt 2016 Bauer, Source: name-search,\n",
       " Wine: Truffle Hound 2017 Unico Zelo, Source: name-search,\n",
       " Wine: Sforzato di Valtellina 2013 Alfio Mozzi, Source: name-search,\n",
       " Wine: Cabernet Sauvignon 2017 Oracle Cellars, Source: name-search,\n",
       " Wine: Spatburgunder Kabinett 2017 Koehler-Ruprecht, Source: name-search]"
      ]
     },
     "execution_count": 1,
     "metadata": {},
     "output_type": "execute_result"
    }
   ],
   "source": [
    "from class_definitions import *\n",
    "\n",
    "Wines[:5]"
   ]
  },
  {
   "cell_type": "code",
   "execution_count": 2,
   "metadata": {},
   "outputs": [
    {
     "name": "stdout",
     "output_type": "stream",
     "text": [
      "Engine(sqlite://///Users/schlinkertc/code/wine_project/wine/vivino_db/vivino_wines.db)\n"
     ]
    }
   ],
   "source": [
    "from vivino_db import database"
   ]
  },
  {
   "cell_type": "code",
   "execution_count": 3,
   "metadata": {},
   "outputs": [],
   "source": [
    "db = database.db"
   ]
  },
  {
   "cell_type": "code",
   "execution_count": 4,
   "metadata": {},
   "outputs": [],
   "source": [
    "vintages_df = pd.read_sql_table('vintages',db.db_engine)\n",
    "wines_df = pd.read_sql('select * from wines',db.db_engine)\n",
    "styles_df = pd.read_sql_table(\"styles\",db.db_engine)\n",
    "regions_df = pd.read_sql_table(\"regions\",db.db_engine)\n",
    "wineries_df = pd.read_sql_table(\"wineries\",db.db_engine)"
   ]
  },
  {
   "cell_type": "code",
   "execution_count": 5,
   "metadata": {},
   "outputs": [
    {
     "data": {
      "text/plain": [
       "['regions', 'styles', 'vintages', 'wineries', 'wines']"
      ]
     },
     "execution_count": 5,
     "metadata": {},
     "output_type": "execute_result"
    }
   ],
   "source": [
    "db.db_engine.table_names()"
   ]
  },
  {
   "cell_type": "code",
   "execution_count": 100,
   "metadata": {},
   "outputs": [
    {
     "data": {
      "text/plain": [
       "Index(['id', 'name', 'seo_name', 'type_id', 'is_natural', 'region_id',\n",
       "       'review_status', 'winery_id', 'statistics_status',\n",
       "       'statistics_ratings_count', 'statistics_ratings_average',\n",
       "       'statistics_labels_count', 'statistics_vintages_count', 'hidden',\n",
       "       'description', 'non_vintage', 'alcohol', 'created_at', 'is_first_wine',\n",
       "       'style_id', 'sweetness_id'],\n",
       "      dtype='object')"
      ]
     },
     "execution_count": 100,
     "metadata": {},
     "output_type": "execute_result"
    }
   ],
   "source": [
    "wines_df.columns"
   ]
  },
  {
   "cell_type": "code",
   "execution_count": 86,
   "metadata": {},
   "outputs": [
    {
     "data": {
      "text/plain": [
       "Index(['id', 'seo_name', 'regional_name', 'varietal_name', 'name', 'body',\n",
       "       'body_description', 'acidity', 'acidity_description', 'country_code',\n",
       "       'country_name', 'country_native_name', 'country_seo_name',\n",
       "       'country_regions_count', 'country_users_count', 'country_wines_count',\n",
       "       'country_wineries_count', 'wine_type_id', 'region_id',\n",
       "       'background_image_location', 'description', 'blurb'],\n",
       "      dtype='object')"
      ]
     },
     "execution_count": 86,
     "metadata": {},
     "output_type": "execute_result"
    }
   ],
   "source": [
    "styles_df.columns"
   ]
  },
  {
   "cell_type": "markdown",
   "metadata": {},
   "source": [
    "### Fuzzy matching from KCW to vivino"
   ]
  },
  {
   "cell_type": "code",
   "execution_count": 6,
   "metadata": {},
   "outputs": [],
   "source": [
    "from fuzzywuzzy import fuzz\n",
    "from fuzzywuzzy import process"
   ]
  },
  {
   "cell_type": "code",
   "execution_count": 7,
   "metadata": {},
   "outputs": [],
   "source": [
    "vivino_vintages = vintages_df['name'].to_list()"
   ]
  },
  {
   "cell_type": "code",
   "execution_count": 87,
   "metadata": {},
   "outputs": [],
   "source": [
    "stmt = \"\"\"\n",
    "SELECT \n",
    "    v.name as vivino_wine,\n",
    "    ws.name as winery,\n",
    "    r.name as region,\n",
    "    s.name as style,\n",
    "    s.varietal_name,\n",
    "    s.regional_name,\n",
    "    s.body,\n",
    "    s.acidity,\n",
    "    s.description as style_description,\n",
    "    v.statistics_ratings_count as ratings_count,\n",
    "    v.statistics_ratings_average as ratings_average,\n",
    "    v.description as vintage_description,\n",
    "    v.ranking_region_rank / v.ranking_region_total as ranking_region,\n",
    "    v.ranking_global_rank / v.ranking_global_total as ranking_global,\n",
    "    v.wine_facts_contains_added_sulfites as added_sulfites,\n",
    "    v.wine_facts_certified_biodynamic as biodynamic,\n",
    "    w.description as wine_description\n",
    "FROM \n",
    "    vintages v\n",
    "INNER JOIN \n",
    "    wines w on v.wine_id==w.id\n",
    "INNER JOIN \n",
    "    wineries ws on w.winery_id=ws.id\n",
    "INNER JOIN \n",
    "    styles s on s.id = w.style_id\n",
    "INNER JOIN \n",
    "    regions r on r.id = w.region_id\n",
    "\"\"\""
   ]
  },
  {
   "cell_type": "code",
   "execution_count": 88,
   "metadata": {},
   "outputs": [
    {
     "data": {
      "text/html": [
       "<div>\n",
       "<style scoped>\n",
       "    .dataframe tbody tr th:only-of-type {\n",
       "        vertical-align: middle;\n",
       "    }\n",
       "\n",
       "    .dataframe tbody tr th {\n",
       "        vertical-align: top;\n",
       "    }\n",
       "\n",
       "    .dataframe thead th {\n",
       "        text-align: right;\n",
       "    }\n",
       "</style>\n",
       "<table border=\"1\" class=\"dataframe\">\n",
       "  <thead>\n",
       "    <tr style=\"text-align: right;\">\n",
       "      <th></th>\n",
       "      <th>vivino_wine</th>\n",
       "      <th>winery</th>\n",
       "      <th>region</th>\n",
       "      <th>style</th>\n",
       "      <th>varietal_name</th>\n",
       "      <th>regional_name</th>\n",
       "      <th>body</th>\n",
       "      <th>acidity</th>\n",
       "      <th>style_description</th>\n",
       "      <th>ratings_count</th>\n",
       "      <th>ratings_average</th>\n",
       "      <th>vintage_description</th>\n",
       "      <th>ranking_region</th>\n",
       "      <th>ranking_global</th>\n",
       "      <th>added_sulfites</th>\n",
       "      <th>biodynamic</th>\n",
       "    </tr>\n",
       "  </thead>\n",
       "  <tbody>\n",
       "    <tr>\n",
       "      <td>0</td>\n",
       "      <td>West+Wilder White</td>\n",
       "      <td>West+Wilder</td>\n",
       "      <td>California</td>\n",
       "      <td>Californian White Blend</td>\n",
       "      <td>White Blend</td>\n",
       "      <td>Californian</td>\n",
       "      <td>3</td>\n",
       "      <td>3</td>\n",
       "      <td>None</td>\n",
       "      <td>12</td>\n",
       "      <td>3.2</td>\n",
       "      <td></td>\n",
       "      <td>0.381230</td>\n",
       "      <td>0.365556</td>\n",
       "      <td>NaN</td>\n",
       "      <td>NaN</td>\n",
       "    </tr>\n",
       "    <tr>\n",
       "      <td>1</td>\n",
       "      <td>Ostatu Rioja Tinto</td>\n",
       "      <td>Ostatu</td>\n",
       "      <td>Rioja Alavesa</td>\n",
       "      <td>Spanish Rioja Red</td>\n",
       "      <td>Rioja Red</td>\n",
       "      <td>Spanish</td>\n",
       "      <td>4</td>\n",
       "      <td>3</td>\n",
       "      <td>Rioja is arguably Spain's top wine region and ...</td>\n",
       "      <td>944</td>\n",
       "      <td>3.4</td>\n",
       "      <td></td>\n",
       "      <td>0.317237</td>\n",
       "      <td>0.182369</td>\n",
       "      <td>NaN</td>\n",
       "      <td>NaN</td>\n",
       "    </tr>\n",
       "    <tr>\n",
       "      <td>2</td>\n",
       "      <td>Le Pianate Un Paio Rosso</td>\n",
       "      <td>Le Pianate</td>\n",
       "      <td>Umbria</td>\n",
       "      <td>Central Italy Red</td>\n",
       "      <td>Red</td>\n",
       "      <td>Central Italy</td>\n",
       "      <td>3</td>\n",
       "      <td>3</td>\n",
       "      <td>Perhaps the greatest wines in the Chianti area...</td>\n",
       "      <td>34</td>\n",
       "      <td>4.3</td>\n",
       "      <td></td>\n",
       "      <td>0.038699</td>\n",
       "      <td>0.037175</td>\n",
       "      <td>NaN</td>\n",
       "      <td>NaN</td>\n",
       "    </tr>\n",
       "    <tr>\n",
       "      <td>3</td>\n",
       "      <td>Dirupi Vino Sbagliato Sforzato di Valtellina</td>\n",
       "      <td>Dirupi</td>\n",
       "      <td>Sforzato della Valtellina</td>\n",
       "      <td>Italian Nebbiolo</td>\n",
       "      <td>Nebbiolo</td>\n",
       "      <td>Italian</td>\n",
       "      <td>5</td>\n",
       "      <td>3</td>\n",
       "      <td>None</td>\n",
       "      <td>296</td>\n",
       "      <td>4.4</td>\n",
       "      <td></td>\n",
       "      <td>0.001062</td>\n",
       "      <td>0.002333</td>\n",
       "      <td>NaN</td>\n",
       "      <td>NaN</td>\n",
       "    </tr>\n",
       "    <tr>\n",
       "      <td>4</td>\n",
       "      <td>Produttori di Portacomaro Barolo</td>\n",
       "      <td>Produttori di Portacomaro</td>\n",
       "      <td>Barolo</td>\n",
       "      <td>Italian Barolo</td>\n",
       "      <td>Barolo</td>\n",
       "      <td>Italian</td>\n",
       "      <td>5</td>\n",
       "      <td>3</td>\n",
       "      <td>Barolo is a delicious red wine from the Piedmo...</td>\n",
       "      <td>167</td>\n",
       "      <td>3.8</td>\n",
       "      <td></td>\n",
       "      <td>0.091022</td>\n",
       "      <td>0.067287</td>\n",
       "      <td>NaN</td>\n",
       "      <td>NaN</td>\n",
       "    </tr>\n",
       "    <tr>\n",
       "      <td>...</td>\n",
       "      <td>...</td>\n",
       "      <td>...</td>\n",
       "      <td>...</td>\n",
       "      <td>...</td>\n",
       "      <td>...</td>\n",
       "      <td>...</td>\n",
       "      <td>...</td>\n",
       "      <td>...</td>\n",
       "      <td>...</td>\n",
       "      <td>...</td>\n",
       "      <td>...</td>\n",
       "      <td>...</td>\n",
       "      <td>...</td>\n",
       "      <td>...</td>\n",
       "      <td>...</td>\n",
       "      <td>...</td>\n",
       "    </tr>\n",
       "    <tr>\n",
       "      <td>969</td>\n",
       "      <td>Vall de Baldomar Petit Baldomà Tinto</td>\n",
       "      <td>Vall de Baldomar</td>\n",
       "      <td>Costers del Segre</td>\n",
       "      <td>Spanish Red</td>\n",
       "      <td>Red</td>\n",
       "      <td>Spanish</td>\n",
       "      <td>4</td>\n",
       "      <td>3</td>\n",
       "      <td>The savory red wines of Spain are brooding and...</td>\n",
       "      <td>463</td>\n",
       "      <td>3.3</td>\n",
       "      <td></td>\n",
       "      <td>0.288680</td>\n",
       "      <td>0.215776</td>\n",
       "      <td>NaN</td>\n",
       "      <td>NaN</td>\n",
       "    </tr>\n",
       "    <tr>\n",
       "      <td>970</td>\n",
       "      <td>Schola Sarmenti Fiano Bianco</td>\n",
       "      <td>Schola Sarmenti</td>\n",
       "      <td>Salento</td>\n",
       "      <td>Southern Italy White</td>\n",
       "      <td>White</td>\n",
       "      <td>Southern Italy</td>\n",
       "      <td>3</td>\n",
       "      <td>3</td>\n",
       "      <td>Italy is responsible for some of the finest wi...</td>\n",
       "      <td>429</td>\n",
       "      <td>3.6</td>\n",
       "      <td></td>\n",
       "      <td>0.319521</td>\n",
       "      <td>0.262504</td>\n",
       "      <td>NaN</td>\n",
       "      <td>NaN</td>\n",
       "    </tr>\n",
       "    <tr>\n",
       "      <td>971</td>\n",
       "      <td>C&amp;H Fournaise Blanc de Blancs Champagne</td>\n",
       "      <td>C&amp;H Fournaise</td>\n",
       "      <td>Champagne</td>\n",
       "      <td>French Champagne</td>\n",
       "      <td>Champagne</td>\n",
       "      <td>French</td>\n",
       "      <td>3</td>\n",
       "      <td>3</td>\n",
       "      <td>While there are many sparkling wine regions ar...</td>\n",
       "      <td>0</td>\n",
       "      <td>0.0</td>\n",
       "      <td></td>\n",
       "      <td>NaN</td>\n",
       "      <td>NaN</td>\n",
       "      <td>NaN</td>\n",
       "      <td>NaN</td>\n",
       "    </tr>\n",
       "    <tr>\n",
       "      <td>972</td>\n",
       "      <td>Casillero del Diablo Sauvignon Blanc (Reserva)</td>\n",
       "      <td>Casillero del Diablo</td>\n",
       "      <td>Casablanca Valley</td>\n",
       "      <td>Chilean Sauvignon Blanc</td>\n",
       "      <td>Sauvignon Blanc</td>\n",
       "      <td>Chilean</td>\n",
       "      <td>3</td>\n",
       "      <td>3</td>\n",
       "      <td>Chile is known for making some of the most pop...</td>\n",
       "      <td>18554</td>\n",
       "      <td>3.4</td>\n",
       "      <td></td>\n",
       "      <td>0.199740</td>\n",
       "      <td>0.182944</td>\n",
       "      <td>NaN</td>\n",
       "      <td>NaN</td>\n",
       "    </tr>\n",
       "    <tr>\n",
       "      <td>973</td>\n",
       "      <td>Casillero del Diablo Sauvignon Blanc (Reserva)</td>\n",
       "      <td>Casillero del Diablo</td>\n",
       "      <td>Casablanca Valley</td>\n",
       "      <td>Chilean Sauvignon Blanc</td>\n",
       "      <td>Sauvignon Blanc</td>\n",
       "      <td>Chilean</td>\n",
       "      <td>3</td>\n",
       "      <td>3</td>\n",
       "      <td>Chile is known for making some of the most pop...</td>\n",
       "      <td>18554</td>\n",
       "      <td>3.4</td>\n",
       "      <td></td>\n",
       "      <td>0.199740</td>\n",
       "      <td>0.182944</td>\n",
       "      <td>NaN</td>\n",
       "      <td>NaN</td>\n",
       "    </tr>\n",
       "  </tbody>\n",
       "</table>\n",
       "<p>974 rows × 16 columns</p>\n",
       "</div>"
      ],
      "text/plain": [
       "                                        vivino_wine  \\\n",
       "0                                 West+Wilder White   \n",
       "1                                Ostatu Rioja Tinto   \n",
       "2                          Le Pianate Un Paio Rosso   \n",
       "3      Dirupi Vino Sbagliato Sforzato di Valtellina   \n",
       "4                  Produttori di Portacomaro Barolo   \n",
       "..                                              ...   \n",
       "969            Vall de Baldomar Petit Baldomà Tinto   \n",
       "970                    Schola Sarmenti Fiano Bianco   \n",
       "971         C&H Fournaise Blanc de Blancs Champagne   \n",
       "972  Casillero del Diablo Sauvignon Blanc (Reserva)   \n",
       "973  Casillero del Diablo Sauvignon Blanc (Reserva)   \n",
       "\n",
       "                        winery                     region  \\\n",
       "0                  West+Wilder                 California   \n",
       "1                       Ostatu              Rioja Alavesa   \n",
       "2                   Le Pianate                     Umbria   \n",
       "3                       Dirupi  Sforzato della Valtellina   \n",
       "4    Produttori di Portacomaro                     Barolo   \n",
       "..                         ...                        ...   \n",
       "969           Vall de Baldomar          Costers del Segre   \n",
       "970            Schola Sarmenti                    Salento   \n",
       "971              C&H Fournaise                  Champagne   \n",
       "972       Casillero del Diablo          Casablanca Valley   \n",
       "973       Casillero del Diablo          Casablanca Valley   \n",
       "\n",
       "                       style    varietal_name   regional_name  body  acidity  \\\n",
       "0    Californian White Blend      White Blend     Californian     3        3   \n",
       "1          Spanish Rioja Red        Rioja Red         Spanish     4        3   \n",
       "2          Central Italy Red              Red   Central Italy     3        3   \n",
       "3           Italian Nebbiolo         Nebbiolo         Italian     5        3   \n",
       "4             Italian Barolo           Barolo         Italian     5        3   \n",
       "..                       ...              ...             ...   ...      ...   \n",
       "969              Spanish Red              Red         Spanish     4        3   \n",
       "970     Southern Italy White            White  Southern Italy     3        3   \n",
       "971         French Champagne        Champagne          French     3        3   \n",
       "972  Chilean Sauvignon Blanc  Sauvignon Blanc         Chilean     3        3   \n",
       "973  Chilean Sauvignon Blanc  Sauvignon Blanc         Chilean     3        3   \n",
       "\n",
       "                                     style_description  ratings_count  \\\n",
       "0                                                 None             12   \n",
       "1    Rioja is arguably Spain's top wine region and ...            944   \n",
       "2    Perhaps the greatest wines in the Chianti area...             34   \n",
       "3                                                 None            296   \n",
       "4    Barolo is a delicious red wine from the Piedmo...            167   \n",
       "..                                                 ...            ...   \n",
       "969  The savory red wines of Spain are brooding and...            463   \n",
       "970  Italy is responsible for some of the finest wi...            429   \n",
       "971  While there are many sparkling wine regions ar...              0   \n",
       "972  Chile is known for making some of the most pop...          18554   \n",
       "973  Chile is known for making some of the most pop...          18554   \n",
       "\n",
       "     ratings_average vintage_description  ranking_region  ranking_global  \\\n",
       "0                3.2                            0.381230        0.365556   \n",
       "1                3.4                            0.317237        0.182369   \n",
       "2                4.3                            0.038699        0.037175   \n",
       "3                4.4                            0.001062        0.002333   \n",
       "4                3.8                            0.091022        0.067287   \n",
       "..               ...                 ...             ...             ...   \n",
       "969              3.3                            0.288680        0.215776   \n",
       "970              3.6                            0.319521        0.262504   \n",
       "971              0.0                                 NaN             NaN   \n",
       "972              3.4                            0.199740        0.182944   \n",
       "973              3.4                            0.199740        0.182944   \n",
       "\n",
       "     added_sulfites  biodynamic  \n",
       "0               NaN         NaN  \n",
       "1               NaN         NaN  \n",
       "2               NaN         NaN  \n",
       "3               NaN         NaN  \n",
       "4               NaN         NaN  \n",
       "..              ...         ...  \n",
       "969             NaN         NaN  \n",
       "970             NaN         NaN  \n",
       "971             NaN         NaN  \n",
       "972             NaN         NaN  \n",
       "973             NaN         NaN  \n",
       "\n",
       "[974 rows x 16 columns]"
      ]
     },
     "execution_count": 88,
     "metadata": {},
     "output_type": "execute_result"
    }
   ],
   "source": [
    "pd.read_sql(stmt,db.db_engine)"
   ]
  },
  {
   "cell_type": "code",
   "execution_count": 20,
   "metadata": {},
   "outputs": [],
   "source": [
    "wine_matches = []\n",
    "problems = []\n",
    "for wine in Wines:\n",
    "    search_string = \"\".join([x+' ' for x in wine.search_terms]).strip(' ')\n",
    "    matches = [(x,fuzz.token_sort_ratio(search_string,x),wine) for x in vivino_vintages]\n",
    "    best_match = sorted(matches,key=lambda x: x[1],reverse=True)[0]\n",
    "    if best_match[1] > 60:\n",
    "        wine_matches.append(best_match)\n",
    "    else:\n",
    "        matches = [(x,fuzz.token_sort_ratio(wine.name,x),wine) for x in vivino_vintages]\n",
    "        best_match = sorted(matches,key=lambda x: x[1],reverse=True)[0]\n",
    "        if best_match[1] > 60:\n",
    "            wine_matches.append(best_match)\n",
    "        else:\n",
    "            problems.append(best_match)"
   ]
  },
  {
   "cell_type": "code",
   "execution_count": 26,
   "metadata": {},
   "outputs": [],
   "source": [
    "wine_matches = []\n",
    "for wine in Wines:\n",
    "    if len(wine.wineSearcher.keys())>2:\n",
    "        wine_name = wine.wineSearcher['name']\n",
    "        matches = [(x,fuzz.token_sort_ratio(wine_name,x),wine) for x in vivino_vintages]\n",
    "        best_match = sorted(matches,key=lambda x: x[1],reverse=True)[0]\n",
    "        wine_matches.append(best_match)\n",
    "    else:\n",
    "        matches = [(x,fuzz.token_sort_ratio(wine.name,x),wine) for x in vivino_vintages]\n",
    "        best_match = sorted(matches,key=lambda x: x[1],reverse=True)[0]\n",
    "        if best_match[1] > 60:\n",
    "            wine_matches.append(best_match)\n",
    "        else:\n",
    "            search_string = \"\".join([x+' ' for x in wine.search_terms]).strip(' ')\n",
    "            matches = [(x,fuzz.token_sort_ratio(search_string,x),wine) for x in vivino_vintages]\n",
    "            best_match = sorted(matches,key=lambda x: x[1],reverse=True)[0]\n",
    "            wine_matches.append(best_match)\n"
   ]
  },
  {
   "cell_type": "code",
   "execution_count": 30,
   "metadata": {},
   "outputs": [],
   "source": [
    "problems = list(filter(lambda x: x[1]<70, wine_matches))"
   ]
  },
  {
   "cell_type": "code",
   "execution_count": 31,
   "metadata": {},
   "outputs": [
    {
     "data": {
      "text/plain": [
       "66"
      ]
     },
     "execution_count": 31,
     "metadata": {},
     "output_type": "execute_result"
    }
   ],
   "source": [
    "len(problems)"
   ]
  },
  {
   "cell_type": "code",
   "execution_count": 11,
   "metadata": {},
   "outputs": [],
   "source": [
    "problem_ids = []\n",
    "for problem in problems:\n",
    "    problem_ids.extend([vw['wine_link'].split('/')[-1] for vw in problem[-1].vivino])"
   ]
  },
  {
   "cell_type": "code",
   "execution_count": 12,
   "metadata": {},
   "outputs": [
    {
     "data": {
      "text/plain": [
       "228"
      ]
     },
     "execution_count": 12,
     "metadata": {},
     "output_type": "execute_result"
    }
   ],
   "source": [
    "len(problem_ids)"
   ]
  },
  {
   "cell_type": "code",
   "execution_count": 52,
   "metadata": {},
   "outputs": [],
   "source": [
    "from vivino_scraper import *"
   ]
  },
  {
   "cell_type": "code",
   "execution_count": 55,
   "metadata": {},
   "outputs": [
    {
     "name": "stdout",
     "output_type": "stream",
     "text": [
      "*\n"
     ]
    }
   ],
   "source": [
    "import time\n",
    "still_not_added = []\n",
    "for wine_id in [\"26696058\"]:\n",
    "    try:\n",
    "        result = scrape_vivino(wine_id)\n",
    "        joblib.dump(result,storage_directory+str(wine_id))\n",
    "        print('*')\n",
    "        time.sleep(5)\n",
    "    except:\n",
    "        still_not_added.append(wine_id)\n",
    "        continue"
   ]
  },
  {
   "cell_type": "code",
   "execution_count": 33,
   "metadata": {},
   "outputs": [],
   "source": [
    "wineSearcher_errors = []\n",
    "for wine in Wines:\n",
    "    if len(wine.wineSearcher.keys())==2:\n",
    "        wineSearcher_errors.append(wine)"
   ]
  },
  {
   "cell_type": "code",
   "execution_count": 40,
   "metadata": {},
   "outputs": [],
   "source": [
    "def match_toVivino(wine):\n",
    "    vintages_df = pd.read_sql_table('vintages',db.db_engine)\n",
    "    wine_name = wine.wineSearcher['name']\n",
    "    search_string = \"\".join([x+' ' for x in wine.search_terms]).strip(' ')\n",
    "    \n",
    "    matches = [(x,fuzz.token_sort_ratio(wine_name,x),wine) for x in vivino_vintages]\n",
    "    name_match = sorted(matches,key=lambda x: x[1],reverse=True)[0]\n",
    "    \n",
    "    matches = [(x,fuzz.token_sort_ratio(search_string,x),wine) for x in vivino_vintages]\n",
    "    searchString_match = sorted(matches,key=lambda x: x[1],reverse=True)[0]\n",
    "    \n",
    "    if name_match[1]>searchString_match[1]:\n",
    "        return name_match\n",
    "    else:\n",
    "        return searchString_match\n",
    "    "
   ]
  },
  {
   "cell_type": "code",
   "execution_count": 73,
   "metadata": {},
   "outputs": [],
   "source": [
    "s = match_toVivino(wineSearcher_errors[0])"
   ]
  },
  {
   "cell_type": "code",
   "execution_count": 74,
   "metadata": {},
   "outputs": [
    {
     "data": {
      "text/plain": [
       "('Stefan Bauer Zweigelt', 80, Wine: Zweigelt 2016 Bauer, Source: name-search)"
      ]
     },
     "execution_count": 74,
     "metadata": {},
     "output_type": "execute_result"
    }
   ],
   "source": [
    "s"
   ]
  },
  {
   "cell_type": "code",
   "execution_count": 44,
   "metadata": {},
   "outputs": [
    {
     "data": {
      "text/plain": [
       "'Stefan+Bauer+Zweigelt'"
      ]
     },
     "execution_count": 44,
     "metadata": {},
     "output_type": "execute_result"
    }
   ],
   "source": [
    "s.replace(' ','+')"
   ]
  },
  {
   "cell_type": "code",
   "execution_count": 63,
   "metadata": {},
   "outputs": [],
   "source": [
    "def update_wineSearcher_fromVivino(wine):\n",
    "    vivino_match = match_toVivino(wine)\n",
    "    search_terms=vivino_match[0].replace(' ',\"+\")\n",
    "\n",
    "    url = f'https://www.wine-searcher.com/find/{search_terms}'\n",
    "\n",
    "    wine_dict = {'url':url}\n",
    "\n",
    "    page = requests.get(url,headers=Wine.headers)\n",
    "    if page.status_code != 200:\n",
    "        return page.status_code\n",
    "    bs = BeautifulSoup(page.content,'lxml')\n",
    "\n",
    "    wine_dict['name'] = bs.find(\n",
    "        'h1',attrs={'class':'wine'}).\\\n",
    "            getText(strip=True)\n",
    "\n",
    "    wine_info_panel = bs.find('div',attrs={\"class\":'wine-info-panel'})\n",
    "    if wine_info_panel==None:\n",
    "        print(f\"failure{wine}\")\n",
    "        return wine_dict\n",
    "    wine_info = []\n",
    "\n",
    "    for div in wine_info_panel.find_all('div',attrs={'class':'dtc'}):\n",
    "        wine_info.append(\n",
    "            [x.getText() for x in div.find_all(\n",
    "                'span',attrs={'class':\"dtlbl sidepanel-text\"}\n",
    "            ) \n",
    "             if type(x)==bs4.element.Tag])\n",
    "\n",
    "    wine_info = [\n",
    "        item.split('\\n') for sublist in wine_info for item in sublist\n",
    "    ]\n",
    "    wine_info = [\n",
    "        item.strip() for sublist in wine_info \n",
    "        for item in sublist if item not in  ['',' ']\n",
    "    ]\n",
    "\n",
    "    wine_dict_keys = [\n",
    "        'Producer','Region/Appellation',\n",
    "        'Grape/Blend','Food Suggestion',\n",
    "        'Wine Style','Alcohol Content','Notes'\n",
    "    ]\n",
    "\n",
    "    for key in wine_dict_keys:\n",
    "        try:\n",
    "            key_index = wine_info.index(key)\n",
    "            wine_dict[key]=wine_info[key_index+1]\n",
    "        except:\n",
    "            wine_dict[key]='null'\n",
    "    \n",
    "    wine.wineSearcher = wine_dict\n",
    "    \n",
    "    joblib.dump(wine,f\"Wines/name-search/{wine.name}.pkl\")\n",
    "    print('success')"
   ]
  },
  {
   "cell_type": "code",
   "execution_count": 64,
   "metadata": {},
   "outputs": [],
   "source": [
    "import time"
   ]
  },
  {
   "cell_type": "code",
   "execution_count": 65,
   "metadata": {},
   "outputs": [
    {
     "name": "stdout",
     "output_type": "stream",
     "text": [
      "failureWine: Aloxe Corton \"Les Citernes\" 2015 Bidault, Source: name-search\n",
      "failureWine: Jacquère Cuvée Baujues 2016 St. Germain, Source: name-search\n",
      "failureWine: Bugey Cerdon Rosé Demi-Sec NV Dentelle, Source: name-search\n",
      "failureWine: Refošk Baracija 2017 Clai Wines, Source: name-search\n"
     ]
    },
    {
     "ename": "KeyboardInterrupt",
     "evalue": "",
     "output_type": "error",
     "traceback": [
      "\u001b[0;31m---------------------------------------------------------------------------\u001b[0m",
      "\u001b[0;31mKeyboardInterrupt\u001b[0m                         Traceback (most recent call last)",
      "\u001b[0;32m<ipython-input-65-c7f7957abe87>\u001b[0m in \u001b[0;36m<module>\u001b[0;34m\u001b[0m\n\u001b[1;32m      1\u001b[0m \u001b[0;32mfor\u001b[0m \u001b[0mwine\u001b[0m \u001b[0;32min\u001b[0m \u001b[0mwineSearcher_errors\u001b[0m\u001b[0;34m[\u001b[0m\u001b[0;36m3\u001b[0m\u001b[0;34m:\u001b[0m\u001b[0;34m]\u001b[0m\u001b[0;34m:\u001b[0m\u001b[0;34m\u001b[0m\u001b[0;34m\u001b[0m\u001b[0m\n\u001b[1;32m      2\u001b[0m     \u001b[0mupdate_wineSearcher_fromVivino\u001b[0m\u001b[0;34m(\u001b[0m\u001b[0mwine\u001b[0m\u001b[0;34m)\u001b[0m\u001b[0;34m\u001b[0m\u001b[0;34m\u001b[0m\u001b[0m\n\u001b[0;32m----> 3\u001b[0;31m     \u001b[0mtime\u001b[0m\u001b[0;34m.\u001b[0m\u001b[0msleep\u001b[0m\u001b[0;34m(\u001b[0m\u001b[0;36m15\u001b[0m\u001b[0;34m)\u001b[0m\u001b[0;34m\u001b[0m\u001b[0;34m\u001b[0m\u001b[0m\n\u001b[0m",
      "\u001b[0;31mKeyboardInterrupt\u001b[0m: "
     ]
    }
   ],
   "source": [
    "for wine in wineSearcher_errors[3:]:\n",
    "    update_wineSearcher_fromVivino(wine)\n",
    "    time.sleep(15)"
   ]
  },
  {
   "cell_type": "markdown",
   "metadata": {},
   "source": [
    "### Bringing it all together"
   ]
  },
  {
   "cell_type": "code",
   "execution_count": 18,
   "metadata": {},
   "outputs": [
    {
     "data": {
      "text/plain": [
       "index                                                              520\n",
       "id                                                           159955768\n",
       "seo_name                              gassier-elevae-rose-d-elevage-uv\n",
       "name                                     Gassier Elevae Rosé d'Elevage\n",
       "statistics_status                                               Normal\n",
       "statistics_ratings_count                                            10\n",
       "statistics_ratings_average                                         4.4\n",
       "statistics_labels_count                                              4\n",
       "statistics_reviews_count                                             0\n",
       "wine_id                                                        7134802\n",
       "description                                                           \n",
       "ratings_distribution_1                                               0\n",
       "ratings_distribution_2                                               0\n",
       "ratings_distribution_3                                               1\n",
       "ratings_distribution_4                                               3\n",
       "ratings_distribution_5                                               4\n",
       "year                                                              U.V.\n",
       "ranking_unknown_description                         Rank within France\n",
       "ranking_unknown_total                                      2.02309e+06\n",
       "ranking_unknown_rank                                             90865\n",
       "ranking_region_description                     Rank within Wine Region\n",
       "ranking_region_total                                             56069\n",
       "ranking_region_rank                                               2743\n",
       "ranking_winery_description                          Rank within Winery\n",
       "ranking_winery_total                                               265\n",
       "ranking_winery_rank                                                 17\n",
       "ranking_global_description                                 Global Rank\n",
       "ranking_global_total                                       7.18419e+06\n",
       "ranking_global_rank                                             352785\n",
       "wine_facts_alcohol                                                 NaN\n",
       "wine_facts_contains_added_sulfites                                None\n",
       "wine_facts_contains_milk_allergens                                None\n",
       "wine_facts_contains_egg_allergens                                 None\n",
       "wine_facts_certified_biodynamic                                   None\n",
       "Name: 520, dtype: object"
      ]
     },
     "execution_count": 18,
     "metadata": {},
     "output_type": "execute_result"
    }
   ],
   "source": [
    "vintages_df.iloc[vintages_df[vintages_df['name']==least_confident].index[0]]"
   ]
  },
  {
   "cell_type": "code",
   "execution_count": 41,
   "metadata": {},
   "outputs": [
    {
     "data": {
      "text/plain": [
       "index                                           29\n",
       "id                                         2237206\n",
       "name                                      Zweigelt\n",
       "seo_name                                  zweigelt\n",
       "type_id                                          1\n",
       "is_natural                                       0\n",
       "region_id                                      869\n",
       "review_status                                    2\n",
       "winery_id                                    42667\n",
       "statistics_status                           Normal\n",
       "statistics_ratings_count                        26\n",
       "statistics_ratings_average                     3.5\n",
       "statistics_labels_count                        112\n",
       "statistics_vintages_count                       12\n",
       "hidden                                           0\n",
       "description                                       \n",
       "non_vintage                                      0\n",
       "alcohol                                         13\n",
       "created_at                    2014-03-09T08:55:09Z\n",
       "is_first_wine                                    0\n",
       "style_id                                       255\n",
       "sweetness_id                                   NaN\n",
       "Name: 29, dtype: object"
      ]
     },
     "execution_count": 41,
     "metadata": {},
     "output_type": "execute_result"
    }
   ],
   "source": [
    "wines_df.iloc[wines_df[wines_df['id']==2237206].index[0]]"
   ]
  },
  {
   "cell_type": "code",
   "execution_count": 15,
   "metadata": {},
   "outputs": [
    {
     "data": {
      "text/plain": [
       "index                                                                        8\n",
       "id                                                                         255\n",
       "seo_name                                                     austrian-zweigelt\n",
       "regional_name                                                         Austrian\n",
       "varietal_name                                                         Zweigelt\n",
       "name                                                         Austrian Zweigelt\n",
       "body                                                                         4\n",
       "body_description                                                   Full-bodied\n",
       "acidity                                                                      3\n",
       "acidity_description                                                       High\n",
       "country_code                                                                at\n",
       "country_name                                                           Austria\n",
       "country_native_name                                                 Österreich\n",
       "country_seo_name                                                       austria\n",
       "country_regions_count                                                       24\n",
       "country_users_count                                                     147508\n",
       "country_wines_count                                                      43242\n",
       "country_wineries_count                                                    4240\n",
       "wine_type_id                                                                 1\n",
       "region_id                                                                  NaN\n",
       "background_image_location                                                 None\n",
       "description                  The fruit-forward and spicy Zweigelt, with fla...\n",
       "blurb                                                                     None\n",
       "Name: 8, dtype: object"
      ]
     },
     "execution_count": 15,
     "metadata": {},
     "output_type": "execute_result"
    }
   ],
   "source": [
    "styles_df.iloc[styles_df[styles_df['id']==255].index[0]]"
   ]
  },
  {
   "cell_type": "code",
   "execution_count": 16,
   "metadata": {},
   "outputs": [
    {
     "data": {
      "text/plain": [
       "index                                28\n",
       "id                                  869\n",
       "name                             Wagram\n",
       "name_en                                \n",
       "seo_name                      donauland\n",
       "country_code                         at\n",
       "country_name                    Austria\n",
       "country_native_name          Österreich\n",
       "country_seo_name                austria\n",
       "country_regions_count                24\n",
       "country_users_count              147508\n",
       "country_wines_count               43242\n",
       "country_wineries_count             4240\n",
       "background_image_location          None\n",
       "Name: 28, dtype: object"
      ]
     },
     "execution_count": 16,
     "metadata": {},
     "output_type": "execute_result"
    }
   ],
   "source": [
    "regions_df.iloc[regions_df[regions_df['id']==869].index[0]]"
   ]
  },
  {
   "cell_type": "code",
   "execution_count": 17,
   "metadata": {},
   "outputs": [
    {
     "data": {
      "text/html": [
       "<div>\n",
       "<style scoped>\n",
       "    .dataframe tbody tr th:only-of-type {\n",
       "        vertical-align: middle;\n",
       "    }\n",
       "\n",
       "    .dataframe tbody tr th {\n",
       "        vertical-align: top;\n",
       "    }\n",
       "\n",
       "    .dataframe thead th {\n",
       "        text-align: right;\n",
       "    }\n",
       "</style>\n",
       "<table border=\"1\" class=\"dataframe\">\n",
       "  <thead>\n",
       "    <tr style=\"text-align: right;\">\n",
       "      <th></th>\n",
       "      <th>index</th>\n",
       "      <th>id</th>\n",
       "      <th>name</th>\n",
       "      <th>seo_name</th>\n",
       "      <th>status</th>\n",
       "      <th>review_status</th>\n",
       "      <th>statistics_ratings_count</th>\n",
       "      <th>statistics_ratings_average</th>\n",
       "      <th>statistics_labels_count</th>\n",
       "      <th>statistics_wines_count</th>\n",
       "    </tr>\n",
       "  </thead>\n",
       "  <tbody>\n",
       "    <tr>\n",
       "      <td>28</td>\n",
       "      <td>28</td>\n",
       "      <td>42667</td>\n",
       "      <td>Stefan Bauer</td>\n",
       "      <td>stefan-bauer</td>\n",
       "      <td>0</td>\n",
       "      <td>Completed</td>\n",
       "      <td>355</td>\n",
       "      <td>3.9</td>\n",
       "      <td>1264</td>\n",
       "      <td>17</td>\n",
       "    </tr>\n",
       "  </tbody>\n",
       "</table>\n",
       "</div>"
      ],
      "text/plain": [
       "    index     id          name      seo_name  status review_status  \\\n",
       "28     28  42667  Stefan Bauer  stefan-bauer       0     Completed   \n",
       "\n",
       "    statistics_ratings_count  statistics_ratings_average  \\\n",
       "28                       355                         3.9   \n",
       "\n",
       "    statistics_labels_count  statistics_wines_count  \n",
       "28                     1264                      17  "
      ]
     },
     "execution_count": 17,
     "metadata": {},
     "output_type": "execute_result"
    }
   ],
   "source": [
    "wineries_df[wineries_df['id']==42667]"
   ]
  },
  {
   "cell_type": "code",
   "execution_count": 18,
   "metadata": {},
   "outputs": [],
   "source": [
    "from selenium import webdriver\n",
    "from selenium.webdriver.common.keys import Keys\n",
    "from selenium.webdriver.common.by import By\n",
    "from selenium.webdriver.support.ui import WebDriverWait\n",
    "from selenium.webdriver.support import expected_conditions as EC"
   ]
  },
  {
   "cell_type": "code",
   "execution_count": 19,
   "metadata": {},
   "outputs": [],
   "source": [
    "import time\n",
    "def selenium_scrape(wine_id):\n",
    "    url = f\"https://vivino.com/wines/{str(wine_id)}\"\n",
    "    \n",
    "    chrome_driver_path = \"/Users/schlinkertc/code/chromedriver\"\n",
    "    driver = webdriver.Chrome(executable_path=chrome_driver_path)\n",
    "    \n",
    "    driver.get(url)\n",
    "    time.sleep(2)\n",
    "    driver.execute_script(\"window.scrollTo(0, 1200)\")\n",
    "    driver.execute_script(\"window.scrollTo(0, 1800)\")\n",
    "    time.sleep(2)\n",
    "    master_wine_page = driver.find_element_by_id('master-wine-page-app')\n",
    "    \n",
    "    driver.set_window_size(width=742,height=983)\n",
    "    a_tags = driver.find_elements_by_tag_name('a')\n",
    "    \n",
    "    for a in a_tags:\n",
    "        a_class = a.get_attribute('class')\n",
    "        if 'toggleShowAll' in a_class:\n",
    "            show_all = a\n",
    "            break\n",
    "\n",
    "    a.click()\n",
    "#     text = master_wine_page.text\n",
    "#     notes = [x for x in text.split('\\n') if 'mentions of' in x]\n",
    "    \n",
    "    svgs = master_wine_page.find_elements_by_tag_name('svg')\n",
    "\n",
    "    tasteNotes = []\n",
    "    for s in svgs:\n",
    "        try:\n",
    "            svg_class = s.get_attribute('class')\n",
    "            if 'tasteNote' in svg_class:\n",
    "                tasteNotes.append(s)\n",
    "        except:\n",
    "            continue \n",
    "\n",
    "    notes = []\n",
    "    note_tags = []\n",
    "    for i in range(len(tasteNotes)):\n",
    "        tasteNotes[i].click()\n",
    "        time.sleep(5)\n",
    "        spans = driver.find_elements_by_tag_name('span')\n",
    "        for span in spans:\n",
    "            try:\n",
    "                span_class = span.get_attribute('class')\n",
    "                if 'tasteReviews__capitalizedTastes' in span_class:\n",
    "                    note_texts.append(span.text)\n",
    "            except:\n",
    "                continue\n",
    "        divs = driver.find_elements_by_tag_name('div')\n",
    "        \n",
    "        \n",
    "        for div in divs:\n",
    "            try:\n",
    "                div_class = div.get_attribute('class')\n",
    "                if 'noteTag__name' in div_class:\n",
    "                    note_tags.append({'index':i,'tag':div.text})\n",
    "            except:\n",
    "                continue\n",
    "        webdriver.ActionChains(driver).send_keys(Keys.ESCAPE).perform()\n",
    "        \n",
    "      ## This is to get the indicator bars. not ready yet  \n",
    "#     spans = [x for x in master_wine_page.find_elements_by_tag_name('span')]\n",
    "#     styles = []\n",
    "#     for span in spans:\n",
    "#         try:\n",
    "#             style = span.get_attribute('style')\n",
    "#             if style.startswith('width'):\n",
    "#                 styles.append(style)\n",
    "#         except:\n",
    "#             continue\n",
    "    driver.quit()\n",
    "    indexed_notes = [{'index':n,'note':note} for n,note in enumerate(notes)]\n",
    "    \n",
    "    for tag in note_tags:\n",
    "        for note in indexed_notes:\n",
    "            if note['index']==tag['index']:\n",
    "                tag['note']=note['note']\n",
    "                \n",
    "    return {wine_id:note_tags}"
   ]
  },
  {
   "cell_type": "code",
   "execution_count": 20,
   "metadata": {},
   "outputs": [
    {
     "data": {
      "text/plain": [
       "{4470482: [{'index': 0, 'tag': 'plum'},\n",
       "  {'index': 0, 'tag': 'blackcurrant'},\n",
       "  {'index': 1, 'tag': 'prune'},\n",
       "  {'index': 2, 'tag': 'violet'},\n",
       "  {'index': 3, 'tag': 'chard'},\n",
       "  {'index': 3, 'tag': 'red beet'},\n",
       "  {'index': 4, 'tag': 'chocolate'}]}"
      ]
     },
     "execution_count": 20,
     "metadata": {},
     "output_type": "execute_result"
    }
   ],
   "source": [
    "selenium_scrape(4470482)"
   ]
  },
  {
   "cell_type": "code",
   "execution_count": 165,
   "metadata": {},
   "outputs": [],
   "source": [
    "def scrape_wineSearcher_fromVivino(seo_name):\n",
    "    seo_name = seo_name.strip(\"-uv\").replace('-','+')\n",
    "    url = f'https://www.wine-searcher.com/find/{seo_name}'\n",
    "\n",
    "    wine_dict = {'url':url}\n",
    "\n",
    "    page = requests.get(url,headers=Wine.headers)\n",
    "    if page.status_code != 200:\n",
    "        return page.status_code\n",
    "    bs = BeautifulSoup(page.content,'lxml')\n",
    "\n",
    "    wine_dict['name'] = bs.find(\n",
    "        'h1',attrs={'class':'wine'}).\\\n",
    "            getText(strip=True)\n",
    "\n",
    "    wine_info_panel = bs.find('div',attrs={\"class\":'wine-info-panel'})\n",
    "    if wine_info_panel==None:\n",
    "        return wine_dict\n",
    "    wine_info = []\n",
    "\n",
    "    for div in wine_info_panel.find_all('div',attrs={'class':'dtc'}):\n",
    "        wine_info.append(\n",
    "            [x.getText() for x in div.find_all(\n",
    "                'span',attrs={'class':\"dtlbl sidepanel-text\"}\n",
    "            ) \n",
    "             if type(x)==bs4.element.Tag])\n",
    "\n",
    "    wine_info = [\n",
    "        item.split('\\n') for sublist in wine_info for item in sublist\n",
    "    ]\n",
    "    wine_info = [\n",
    "        item.strip() for sublist in wine_info \n",
    "        for item in sublist if item not in  ['',' ']\n",
    "    ]\n",
    "\n",
    "    wine_dict_keys = [\n",
    "        'Producer','Region/Appellation',\n",
    "        'Grape/Blend','Food Suggestion',\n",
    "        'Wine Style','Alcohol Content','Notes'\n",
    "    ]\n",
    "\n",
    "    for key in wine_dict_keys:\n",
    "        try:\n",
    "            key_index = wine_info.index(key)\n",
    "            wine_dict[key]=wine_info[key_index+1]\n",
    "        except:\n",
    "            wine_dict[key]='null'\n",
    "\n",
    "    return wine_dict"
   ]
  },
  {
   "cell_type": "code",
   "execution_count": 166,
   "metadata": {},
   "outputs": [
    {
     "data": {
      "text/plain": [
       "{'url': 'https://www.wine-searcher.com/find/stefan+bauer+zweigelt',\n",
       " 'name': 'Stefan Bauer Zweigelt, Wagram, Austria',\n",
       " 'Producer': 'Stefan Bauer',\n",
       " 'Region/Appellation': 'Wagram',\n",
       " 'Grape/Blend': 'Zweigelt',\n",
       " 'Food Suggestion': 'Pork',\n",
       " 'Wine Style': 'Red - Savory and Classic',\n",
       " 'Alcohol Content': 'null',\n",
       " 'Notes': 'null'}"
      ]
     },
     "execution_count": 166,
     "metadata": {},
     "output_type": "execute_result"
    }
   ],
   "source": [
    "scrape_wineSearcher_fromVivino(\"stefan-bauer-zweigelt-uv\")"
   ]
  },
  {
   "cell_type": "code",
   "execution_count": 144,
   "metadata": {},
   "outputs": [],
   "source": [
    "def compile_data(wines):\n",
    "    #wineSearcher \n",
    "    records = []\n",
    "    for wine in wines:\n",
    "        record = wine.wineSearcher\n",
    "        record['instance']=wine\n",
    "        records.append(record)\n",
    "    df = pd.DataFrame.from_records(records)\n",
    "    df.drop(columns=['url','Notes'],inplace=True)\n",
    "    \n",
    "    #vivino\n",
    "    vivino_records = []\n",
    "    for wine in wines:\n",
    "        vivino_match = match_toVivino(wine)\n",
    "        stmt = f\"\"\"\n",
    "        SELECT \n",
    "            v.name as vivino_wine,\n",
    "            ws.name as winery,\n",
    "            r.name as region,\n",
    "            s.name as style,\n",
    "            s.varietal_name,\n",
    "            s.regional_name,\n",
    "            s.body,\n",
    "            s.acidity,\n",
    "            s.description as style_description,\n",
    "            v.statistics_ratings_count as ratings_count,\n",
    "            v.statistics_ratings_average as ratings_average,\n",
    "            v.description as vintage_description,\n",
    "            v.ranking_region_rank / v.ranking_region_total as ranking_region,\n",
    "            v.ranking_global_rank / v.ranking_global_total as ranking_global,\n",
    "            v.wine_facts_contains_added_sulfites as added_sulfites,\n",
    "            v.wine_facts_certified_biodynamic as biodynamic,\n",
    "            w.description as wine_description\n",
    "        FROM \n",
    "            vintages v\n",
    "        INNER JOIN \n",
    "            wines w on v.wine_id==w.id\n",
    "        INNER JOIN \n",
    "            wineries ws on w.winery_id=ws.id\n",
    "        INNER JOIN \n",
    "            styles s on s.id = w.style_id\n",
    "        INNER JOIN \n",
    "            regions r on r.id = w.region_id\n",
    "        WHERE\n",
    "            vivino_wine = \"{vivino_match[0]}\"\n",
    "        \"\"\"\n",
    "        resultproxy = db.db_engine.execute(stmt)\n",
    "\n",
    "        d, a = {}, []\n",
    "        for rowproxy in resultproxy:\n",
    "            # rowproxy.items() returns an array like [(key0, value0), (key1, value1)]\n",
    "            for column, value in rowproxy.items():\n",
    "                # build up the dictionary\n",
    "                d = {**d, **{column: value}}\n",
    "            a.append(d)\n",
    "        try:\n",
    "            vivino_record = a[0]\n",
    "            vivino_record['instance']=vivino_match[-1]\n",
    "            vivino_records.append(vivino_record)\n",
    "        except:\n",
    "            continue \n",
    "    return df,vivino_records"
   ]
  },
  {
   "cell_type": "code",
   "execution_count": 145,
   "metadata": {},
   "outputs": [],
   "source": [
    "df,v_df = compile_data(Wines)"
   ]
  },
  {
   "cell_type": "code",
   "execution_count": 146,
   "metadata": {},
   "outputs": [],
   "source": [
    "v_df =  pd.DataFrame.from_records(v_df)"
   ]
  },
  {
   "cell_type": "code",
   "execution_count": 147,
   "metadata": {},
   "outputs": [
    {
     "data": {
      "text/plain": [
       "(237, 8)"
      ]
     },
     "execution_count": 147,
     "metadata": {},
     "output_type": "execute_result"
    }
   ],
   "source": [
    "df.shape"
   ]
  },
  {
   "cell_type": "code",
   "execution_count": 148,
   "metadata": {},
   "outputs": [
    {
     "data": {
      "text/plain": [
       "(161, 18)"
      ]
     },
     "execution_count": 148,
     "metadata": {},
     "output_type": "execute_result"
    }
   ],
   "source": [
    "v_df.shape"
   ]
  },
  {
   "cell_type": "code",
   "execution_count": 150,
   "metadata": {},
   "outputs": [],
   "source": [
    "data = pd.merge(left=df,right=v_df,on='instance')\n"
   ]
  },
  {
   "cell_type": "code",
   "execution_count": 154,
   "metadata": {},
   "outputs": [
    {
     "data": {
      "text/plain": [
       "Index(['name', 'Producer', 'Region/Appellation', 'Grape/Blend',\n",
       "       'Food Suggestion', 'Wine Style', 'Alcohol Content', 'instance',\n",
       "       'vivino_wine', 'winery', 'region', 'style', 'varietal_name',\n",
       "       'regional_name', 'body', 'acidity', 'style_description',\n",
       "       'ratings_count', 'ratings_average', 'vintage_description',\n",
       "       'ranking_region', 'ranking_global', 'added_sulfites', 'biodynamic',\n",
       "       'wine_description'],\n",
       "      dtype='object')"
      ]
     },
     "execution_count": 154,
     "metadata": {},
     "output_type": "execute_result"
    }
   ],
   "source": [
    "data.columns"
   ]
  },
  {
   "cell_type": "code",
   "execution_count": 155,
   "metadata": {},
   "outputs": [
    {
     "data": {
      "text/html": [
       "<div>\n",
       "<style scoped>\n",
       "    .dataframe tbody tr th:only-of-type {\n",
       "        vertical-align: middle;\n",
       "    }\n",
       "\n",
       "    .dataframe tbody tr th {\n",
       "        vertical-align: top;\n",
       "    }\n",
       "\n",
       "    .dataframe thead th {\n",
       "        text-align: right;\n",
       "    }\n",
       "</style>\n",
       "<table border=\"1\" class=\"dataframe\">\n",
       "  <thead>\n",
       "    <tr style=\"text-align: right;\">\n",
       "      <th></th>\n",
       "      <th>name</th>\n",
       "      <th>vivino_wine</th>\n",
       "    </tr>\n",
       "  </thead>\n",
       "  <tbody>\n",
       "    <tr>\n",
       "      <td>0</td>\n",
       "      <td>Stefan Bauer Zweigelt, Wagram, Austria</td>\n",
       "      <td>Stefan Bauer Zweigelt</td>\n",
       "    </tr>\n",
       "    <tr>\n",
       "      <td>1</td>\n",
       "      <td>Sforzato di Valtellina 2013 Alfio Mozzi</td>\n",
       "      <td>Plozza Sforzato di Valtellina</td>\n",
       "    </tr>\n",
       "    <tr>\n",
       "      <td>2</td>\n",
       "      <td>Cabernet Sauvignon 2017 Oracle Cellars</td>\n",
       "      <td>Oracle Cellars Cabernet Sauvignon</td>\n",
       "    </tr>\n",
       "    <tr>\n",
       "      <td>3</td>\n",
       "      <td>Koehler-Ruprecht Spatburgunder Kabinett Trocke...</td>\n",
       "      <td>Koehler-Ruprecht Spätburgunder Kabinett Trocken</td>\n",
       "    </tr>\n",
       "    <tr>\n",
       "      <td>4</td>\n",
       "      <td>Sauvignon Blanc 2019 Tablelands</td>\n",
       "      <td>Tablelands Sauvignon Blanc</td>\n",
       "    </tr>\n",
       "    <tr>\n",
       "      <td>...</td>\n",
       "      <td>...</td>\n",
       "      <td>...</td>\n",
       "    </tr>\n",
       "    <tr>\n",
       "      <td>156</td>\n",
       "      <td>L'Effet Papillon Blanc 2019 Roc des Anges</td>\n",
       "      <td>Le Roc des Anges L'Effet Papillon Blanc</td>\n",
       "    </tr>\n",
       "    <tr>\n",
       "      <td>157</td>\n",
       "      <td>Soave Classico \"Otto\" 2018 Prá</td>\n",
       "      <td>Prà Otto Soave Classico</td>\n",
       "    </tr>\n",
       "    <tr>\n",
       "      <td>158</td>\n",
       "      <td>Tai Rosso 2018 Rezzadore</td>\n",
       "      <td>Rezzadore Tai Rosso</td>\n",
       "    </tr>\n",
       "    <tr>\n",
       "      <td>159</td>\n",
       "      <td>2019 rose cotes de provence gassier</td>\n",
       "      <td>Gassier La Santonnière Côtes de Provence Rosé</td>\n",
       "    </tr>\n",
       "    <tr>\n",
       "      <td>160</td>\n",
       "      <td>Müller 2018 Enderle &amp; Moll</td>\n",
       "      <td>Enderle &amp; Moll Müller</td>\n",
       "    </tr>\n",
       "  </tbody>\n",
       "</table>\n",
       "<p>161 rows × 2 columns</p>\n",
       "</div>"
      ],
      "text/plain": [
       "                                                  name  \\\n",
       "0               Stefan Bauer Zweigelt, Wagram, Austria   \n",
       "1              Sforzato di Valtellina 2013 Alfio Mozzi   \n",
       "2               Cabernet Sauvignon 2017 Oracle Cellars   \n",
       "3    Koehler-Ruprecht Spatburgunder Kabinett Trocke...   \n",
       "4                      Sauvignon Blanc 2019 Tablelands   \n",
       "..                                                 ...   \n",
       "156          L'Effet Papillon Blanc 2019 Roc des Anges   \n",
       "157                     Soave Classico \"Otto\" 2018 Prá   \n",
       "158                           Tai Rosso 2018 Rezzadore   \n",
       "159                2019 rose cotes de provence gassier   \n",
       "160                         Müller 2018 Enderle & Moll   \n",
       "\n",
       "                                         vivino_wine  \n",
       "0                              Stefan Bauer Zweigelt  \n",
       "1                      Plozza Sforzato di Valtellina  \n",
       "2                  Oracle Cellars Cabernet Sauvignon  \n",
       "3    Koehler-Ruprecht Spätburgunder Kabinett Trocken  \n",
       "4                         Tablelands Sauvignon Blanc  \n",
       "..                                               ...  \n",
       "156          Le Roc des Anges L'Effet Papillon Blanc  \n",
       "157                          Prà Otto Soave Classico  \n",
       "158                              Rezzadore Tai Rosso  \n",
       "159    Gassier La Santonnière Côtes de Provence Rosé  \n",
       "160                            Enderle & Moll Müller  \n",
       "\n",
       "[161 rows x 2 columns]"
      ]
     },
     "execution_count": 155,
     "metadata": {},
     "output_type": "execute_result"
    }
   ],
   "source": [
    "data[['name','vivino_wine']]"
   ]
  },
  {
   "cell_type": "code",
   "execution_count": 157,
   "metadata": {},
   "outputs": [
    {
     "name": "stdout",
     "output_type": "stream",
     "text": [
      "<class 'pandas.core.frame.DataFrame'>\n",
      "Int64Index: 161 entries, 0 to 160\n",
      "Data columns (total 25 columns):\n",
      "name                   161 non-null object\n",
      "Producer               122 non-null object\n",
      "Region/Appellation     137 non-null object\n",
      "Grape/Blend            137 non-null object\n",
      "Food Suggestion        131 non-null object\n",
      "Wine Style             131 non-null object\n",
      "Alcohol Content        89 non-null object\n",
      "instance               161 non-null object\n",
      "vivino_wine            161 non-null object\n",
      "winery                 161 non-null object\n",
      "region                 161 non-null object\n",
      "style                  161 non-null object\n",
      "varietal_name          161 non-null object\n",
      "regional_name          161 non-null object\n",
      "body                   161 non-null int64\n",
      "acidity                161 non-null int64\n",
      "style_description      122 non-null object\n",
      "ratings_count          161 non-null int64\n",
      "ratings_average        161 non-null float64\n",
      "vintage_description    161 non-null object\n",
      "ranking_region         160 non-null float64\n",
      "ranking_global         160 non-null float64\n",
      "added_sulfites         0 non-null object\n",
      "biodynamic             0 non-null object\n",
      "wine_description       161 non-null object\n",
      "dtypes: float64(3), int64(3), object(19)\n",
      "memory usage: 32.7+ KB\n"
     ]
    }
   ],
   "source": [
    "data.info()"
   ]
  },
  {
   "cell_type": "code",
   "execution_count": null,
   "metadata": {},
   "outputs": [],
   "source": []
  }
 ],
 "metadata": {
  "kernelspec": {
   "display_name": "Python 3",
   "language": "python",
   "name": "python3"
  },
  "language_info": {
   "codemirror_mode": {
    "name": "ipython",
    "version": 3
   },
   "file_extension": ".py",
   "mimetype": "text/x-python",
   "name": "python",
   "nbconvert_exporter": "python",
   "pygments_lexer": "ipython3",
   "version": "3.7.3"
  }
 },
 "nbformat": 4,
 "nbformat_minor": 4
}
