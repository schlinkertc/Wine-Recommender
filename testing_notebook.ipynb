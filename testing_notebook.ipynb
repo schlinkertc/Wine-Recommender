{
 "cells": [
  {
   "cell_type": "code",
   "execution_count": 1,
   "metadata": {},
   "outputs": [],
   "source": [
    "from class_definitions import *"
   ]
  },
  {
   "cell_type": "code",
   "execution_count": 2,
   "metadata": {},
   "outputs": [],
   "source": [
    "kcw_wines = pd.read_csv('kings_county_wines.csv',index_col=0)"
   ]
  },
  {
   "cell_type": "code",
   "execution_count": 3,
   "metadata": {},
   "outputs": [],
   "source": [
    "wine_names = list(kcw_wines['name'])"
   ]
  },
  {
   "cell_type": "code",
   "execution_count": 4,
   "metadata": {},
   "outputs": [],
   "source": [
    "wine = Wine(wine_names[0])"
   ]
  },
  {
   "cell_type": "code",
   "execution_count": 5,
   "metadata": {},
   "outputs": [
    {
     "data": {
      "text/plain": [
       "'Mâcon-Loche 2018 Clos des Rocs'"
      ]
     },
     "execution_count": 5,
     "metadata": {},
     "output_type": "execute_result"
    }
   ],
   "source": [
    "wine.name"
   ]
  },
  {
   "cell_type": "code",
   "execution_count": 6,
   "metadata": {},
   "outputs": [
    {
     "data": {
      "text/plain": [
       "['macon', 'loche', 'clos', 'des', 'rocs']"
      ]
     },
     "execution_count": 6,
     "metadata": {},
     "output_type": "execute_result"
    }
   ],
   "source": [
    "wine.search_terms"
   ]
  },
  {
   "cell_type": "code",
   "execution_count": 7,
   "metadata": {},
   "outputs": [
    {
     "data": {
      "text/plain": [
       "{'source': 'name-search',\n",
       " 'name': 'Mâcon-Loche 2018 Clos des Rocs',\n",
       " 'search_terms': ['macon', 'loche', 'clos', 'des', 'rocs'],\n",
       " 'vintage': '2018',\n",
       " 'wineSearcher': {'url': 'https://www.wine-searcher.com/find/macon+loche+clos+des+rocs+2018',\n",
       "  'Producer': 'Domaine Clos des Rocs',\n",
       "  'Region/Appellation': 'Macon Loche',\n",
       "  'Grape/Blend': 'Chardonnay',\n",
       "  'Food Suggestion': 'Chicken and Turkey',\n",
       "  'Wine Style': 'White - Buttery and Complex',\n",
       "  'Alcohol Content': '12.5 - 13.5%',\n",
       "  'Notes': 'null',\n",
       "  'name': '2018 Domaine Clos des Rocs Macon-Loche En Pres Foret, Burgundy, France'}}"
      ]
     },
     "execution_count": 7,
     "metadata": {},
     "output_type": "execute_result"
    }
   ],
   "source": [
    "wine.__dict__"
   ]
  },
  {
   "cell_type": "code",
   "execution_count": 8,
   "metadata": {},
   "outputs": [],
   "source": [
    "bs = wine._scrape_vivino()"
   ]
  },
  {
   "cell_type": "code",
   "execution_count": 9,
   "metadata": {},
   "outputs": [
    {
     "data": {
      "text/plain": [
       "'https://www.vivino.com/search/wines?q=macon+loche+clos+des+rocs+2018'"
      ]
     },
     "execution_count": 9,
     "metadata": {},
     "output_type": "execute_result"
    }
   ],
   "source": [
    "wine._get_searchURL('https://www.vivino.com/search/wines?q=')"
   ]
  },
  {
   "cell_type": "code",
   "execution_count": 10,
   "metadata": {},
   "outputs": [],
   "source": [
    "#possible matches \n",
    "wine_cards = bs.find_all(attrs={'class':'wine-card__content'})"
   ]
  },
  {
   "cell_type": "code",
   "execution_count": 11,
   "metadata": {},
   "outputs": [],
   "source": [
    "wine_card = wine_cards[0]"
   ]
  },
  {
   "cell_type": "code",
   "execution_count": 12,
   "metadata": {},
   "outputs": [
    {
     "data": {
      "text/plain": [
       "['/wines/4844313', '/wines/162577570', '/wines/4844309']"
      ]
     },
     "execution_count": 12,
     "metadata": {},
     "output_type": "execute_result"
    }
   ],
   "source": [
    "# links to wines \n",
    "[card.find_all('a')[0]['href'] for card in wine_cards]"
   ]
  },
  {
   "cell_type": "code",
   "execution_count": 13,
   "metadata": {},
   "outputs": [
    {
     "name": "stdout",
     "output_type": "stream",
     "text": [
      "[{'wine_link': '/wines/4844313', 'wine_name': 'Clos des Rocs Mâcon-Loché', 'average_rating': 3.7, 'ratings_count': 74}, {'wine_link': '/wines/162577570', 'wine_name': 'Clos des Rocs En Charpaux Mâcon-Loché', 'average_rating': 0.0, 'ratings_count': 1}, {'wine_link': '/wines/4844309', 'wine_name': 'Clos des Rocs En Près Forêt Mâcon-Loché', 'average_rating': 3.8, 'ratings_count': 440}]\n"
     ]
    }
   ],
   "source": [
    "possible_matches = []\n",
    "for card in wine_cards:\n",
    "    d = {}\n",
    "    d['wine_link'] = card.find('a')['href']\n",
    "    d['wine_name'] = card.find('a').getText().replace('\\n','')\n",
    "    \n",
    "    averages = card.find('div',attrs={'class':\"text-color-alt-gray wine-card__averages\"})\n",
    "    average_rating = averages.find(\n",
    "        attrs={'class':\"text-inline-block light average__number\"})\\\n",
    "    .getText(strip=True)\n",
    "    d['average_rating']=float(average_rating)\n",
    "    \n",
    "    p_tags = averages.find_all('p')\n",
    "    text = [p.getText(strip=True) for p in p_tags]\n",
    "    for t in text:\n",
    "        if 'rating' in t:\n",
    "            pattern = re.compile(\"[0-9]\")\n",
    "            temp = re.findall(r'\\d+',t)\n",
    "            ratings = list(map(int,temp))[0]\n",
    "            d['ratings_count'] = ratings\n",
    "    possible_matches.append(d)\n",
    "print(possible_matches)"
   ]
  },
  {
   "cell_type": "code",
   "execution_count": 14,
   "metadata": {},
   "outputs": [
    {
     "data": {
      "text/plain": [
       "'Clos des Rocs Mâcon-Loché'"
      ]
     },
     "execution_count": 14,
     "metadata": {},
     "output_type": "execute_result"
    }
   ],
   "source": [
    "wine_card.find('a').getText().replace('\\n','')"
   ]
  },
  {
   "cell_type": "code",
   "execution_count": 15,
   "metadata": {},
   "outputs": [],
   "source": [
    "wine_page = requests.get(\"https://www.kingscountywines.com/albarino-rias-baixas-2017-columna.html\")\n",
    "wine_bs = BeautifulSoup(wine_page.content,features='lxml')\n",
    "wine_dict = {}\n",
    "\n",
    "wine_dict['name']=wine_bs.find('h1').getText()\n",
    "\n",
    "offer = wine_bs.find('div',{'itemprop':'offers'})\n",
    "price = float(offer.find('span',{'itemprop':'price'}).getText())\n",
    "wine_dict['price']=price\n",
    "\n",
    "wine_dict['description'] = offer.p.getText()\n",
    "\n",
    "image_link = wine_bs.find('img',attrs={'itemprop':'image'})\n",
    "if image_link != None:\n",
    "    wine_dict['image_link'] = image_link['src']\n",
    "else:\n",
    "    wine_dict['image_link'] = 'null'\n",
    "\n",
    "in_stock = wine_bs.find('table',attrs={'class':'details'})\n",
    "if in_stock != None:\n",
    "    in_stock = in_stock.find_all('td')[-1].getText().split(' \\n')[0]\n",
    "else:\n",
    "    in_stock = 'null'\n",
    "wine_dict['in_stock']=in_stock\n",
    "\n",
    "details_text = [x.getText() for x in wine_bs.find('div',attrs={'class':'page info active'}).find_all('p')]\n",
    "details = \"\".join([x for x in details_text if x != ' ' and x != '\\xa0'])\n",
    "wine_dict['details'] = details"
   ]
  },
  {
   "cell_type": "code",
   "execution_count": 16,
   "metadata": {},
   "outputs": [
    {
     "data": {
      "text/plain": [
       "{'name': 'Albariño Rias Baixas 2019 Columna',\n",
       " 'price': 18.99,\n",
       " 'description': 'Saline & mineral, with peach & pear high notes. Essential.',\n",
       " 'image_link': 'https://cdn.shoplightspeed.com/shops/603808/files/19164536/albarino-rias-baixas-2019-columna.jpg',\n",
       " 'in_stock': 'In stock',\n",
       " 'details': ''}"
      ]
     },
     "execution_count": 16,
     "metadata": {},
     "output_type": "execute_result"
    }
   ],
   "source": [
    "wine_dict"
   ]
  },
  {
   "cell_type": "code",
   "execution_count": 17,
   "metadata": {},
   "outputs": [
    {
     "data": {
      "text/plain": [
       "'Albariño Rias Baixas 2019 Columna'"
      ]
     },
     "execution_count": 17,
     "metadata": {},
     "output_type": "execute_result"
    }
   ],
   "source": [
    "wine_bs.find('h1').getText()"
   ]
  },
  {
   "cell_type": "code",
   "execution_count": 21,
   "metadata": {},
   "outputs": [],
   "source": [
    "KCW_wine = Wine(KCW_link=\"https://www.kingscountywines.com/albarino-rias-baixas-2017-columna.html\")"
   ]
  },
  {
   "cell_type": "code",
   "execution_count": 22,
   "metadata": {},
   "outputs": [
    {
     "data": {
      "text/plain": [
       "{'source': 'KCW',\n",
       " 'KCW': {'KCW_name': 'Albariño Rias Baixas 2019 Columna',\n",
       "  'price': 18.99,\n",
       "  'description': 'Saline & mineral, with peach & pear high notes. Essential.',\n",
       "  'image_link': 'https://cdn.shoplightspeed.com/shops/603808/files/19164536/albarino-rias-baixas-2019-columna.jpg',\n",
       "  'in_stock': 'In stock',\n",
       "  'details': ''},\n",
       " 'name': 'Albariño Rias Baixas 2019 Columna',\n",
       " 'search_terms': ['albarino', 'rias', 'baixas', 'columna'],\n",
       " 'vintage': '2019',\n",
       " 'wineSearcher': {'url': 'https://www.wine-searcher.com/find/albarino+rias+baixas+columna+2019',\n",
       "  'Producer': 'Compania de Vinos del Atlantico',\n",
       "  'Region/Appellation': 'Rias Baixas',\n",
       "  'Grape/Blend': 'Albarino (Alvarinho)',\n",
       "  'Food Suggestion': 'Shellfish, Crab and Lobster',\n",
       "  'Wine Style': 'White - Green and Flinty',\n",
       "  'Alcohol Content': '12.5%',\n",
       "  'Notes': 'Ownership: Compania de Vinos del Atlantico.',\n",
       "  'name': '2019 Columna Albarino, Rias Baixas, Spain'}}"
      ]
     },
     "execution_count": 22,
     "metadata": {},
     "output_type": "execute_result"
    }
   ],
   "source": [
    "KCW_wine.__dict__"
   ]
  },
  {
   "cell_type": "code",
   "execution_count": 19,
   "metadata": {},
   "outputs": [],
   "source": [
    "import joblib"
   ]
  },
  {
   "cell_type": "code",
   "execution_count": 24,
   "metadata": {},
   "outputs": [
    {
     "data": {
      "text/plain": [
       "['Wines/Albariño Rias Baixas 2019 Columna']"
      ]
     },
     "execution_count": 24,
     "metadata": {},
     "output_type": "execute_result"
    }
   ],
   "source": [
    "joblib.dump(KCW_wine,f'Wines/{KCW_wine.name}')"
   ]
  },
  {
   "cell_type": "code",
   "execution_count": null,
   "metadata": {},
   "outputs": [],
   "source": []
  }
 ],
 "metadata": {
  "kernelspec": {
   "display_name": "Python 3",
   "language": "python",
   "name": "python3"
  },
  "language_info": {
   "codemirror_mode": {
    "name": "ipython",
    "version": 3
   },
   "file_extension": ".py",
   "mimetype": "text/x-python",
   "name": "python",
   "nbconvert_exporter": "python",
   "pygments_lexer": "ipython3",
   "version": "3.7.3"
  }
 },
 "nbformat": 4,
 "nbformat_minor": 4
}
