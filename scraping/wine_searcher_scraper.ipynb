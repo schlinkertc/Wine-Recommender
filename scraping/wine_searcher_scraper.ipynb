{
 "cells": [
  {
   "cell_type": "code",
   "execution_count": 1,
   "metadata": {},
   "outputs": [],
   "source": [
    "import requests\n",
    "import bs4\n",
    "from bs4 import BeautifulSoup\n",
    "import pandas as pd\n",
    "import time\n",
    "from random import randint"
   ]
  },
  {
   "cell_type": "code",
   "execution_count": 2,
   "metadata": {},
   "outputs": [],
   "source": [
    "import os,sys,inspect\n",
    "currentdir = os.path.dirname(os.path.abspath(inspect.getfile(inspect.currentframe())))\n",
    "parentdir = os.path.dirname(currentdir)\n",
    "sys.path.insert(0,parentdir) \n",
    "\n",
    "from class_definitions import KCW_product"
   ]
  },
  {
   "cell_type": "code",
   "execution_count": 3,
   "metadata": {},
   "outputs": [],
   "source": [
    "df = pd.read_csv('../kings_county_wines.csv',index_col=0)"
   ]
  },
  {
   "cell_type": "code",
   "execution_count": 4,
   "metadata": {},
   "outputs": [],
   "source": [
    "wines = list(df['name'])"
   ]
  },
  {
   "cell_type": "code",
   "execution_count": 5,
   "metadata": {},
   "outputs": [],
   "source": [
    "failed_products = set()\n",
    "import csv\n",
    "\n",
    "def getWine_info(KCW_products):\n",
    "    import time\n",
    "\n",
    "    #check existing wines\n",
    "    filename = \"../wine-searcher_data.csv\"\n",
    "    reader = csv.DictReader(open(filename))\n",
    "    already_added = [row for row in reader]\n",
    "    keys = reader.fieldnames\n",
    "    \n",
    "    count = 0\n",
    "    wine_dicts = []\n",
    "    for product in KCW_products:\n",
    "        \n",
    "        #don't bother scraping dupes\n",
    "        if product.name in [x['name'] for x in already_added]:\n",
    "            continue \n",
    "        url = product.wine_searcherURL()\n",
    "\n",
    "        headers = {\n",
    "            'User-Agent': \"\"\"Mozilla/5.0 (Macintosh; Intel Mac OS X 10_14_6) AppleWebKit/537.36 (KHTML, like Gecko) Chrome/79.0.3945.130 Safari/537.36\"\"\",\n",
    "            'Connection': 'keep-alive',\n",
    "            'Accept-Language': 'en-US,en;q=0.9',\n",
    "            \"Accept-Encoding\": \"gzip, deflate, br\",\n",
    "            \"Accept\": \"text/html,application/xhtml+xml,application/xml;q=0.9,image/webp,image/apng,*/*;q=0.8,application/signed-exchange;v=b3;q=0.9\",\n",
    "            'Upgrade-Insecure-Requests': '1',\n",
    "            'cookie': 'cookie_enabled=true',\n",
    "            #'referer': f'{wine_searcher_findURL}',\n",
    "            'sec-fetch-mode': 'navigate',\n",
    "            'sec-fetch-site': 'same-origin',\n",
    "            'cache-control': 'max-age=0',\n",
    "            \"sec-fetch-user\": \"?1\"\n",
    "\n",
    "\n",
    "        }\n",
    "\n",
    "        page = requests.get(url,headers=headers)\n",
    "        num_403_errors = 0\n",
    "        if page.status_code == 403:\n",
    "            print('403 encountered. Waiting 3 min before resuming')\n",
    "            num_403_errors +=1\n",
    "            if num_403_errors>10:\n",
    "                print(\"too many 403s! stop what you're doing.\")\n",
    "                break\n",
    "            # add this wine to the end of the list\n",
    "            KCW_products.append(product)\n",
    "            time.sleep(180)\n",
    "            continue \n",
    "        bs = BeautifulSoup(page.content,'lxml')\n",
    "    \n",
    "        wine_info_panel = bs.find('div',attrs={\"class\":'wine-info-panel'})\n",
    "        if wine_info_panel==None:\n",
    "            failed_products.add(product)\n",
    "            continue\n",
    "        wine_info = []\n",
    "        \n",
    "        for div in wine_info_panel.find_all('div',attrs={'class':'dtc'}):\n",
    "            wine_info.append([x.getText() for x in div.find_all('span',attrs={'class':\"dtlbl sidepanel-text\"}) if type(x)==bs4.element.Tag])\n",
    "\n",
    "        wine_info = [item.split('\\n') for sublist in wine_info \n",
    "                     for item in sublist]\n",
    "        wine_info = [item.strip() for sublist in wine_info \n",
    "                     for item in sublist if item not in  ['',' ']]\n",
    "\n",
    "        wine_dict = {'name':product.name}\n",
    "        wine_dict_keys = ['Producer','Region/Appellation','Grape/Blend','Food Suggestion','Wine Style','Alcohol Content','Notes']\n",
    "\n",
    "        for key in wine_dict_keys:\n",
    "            try:\n",
    "                key_index = wine_info.index(key)\n",
    "                wine_dict[key]=wine_info[key_index+1]\n",
    "            except:\n",
    "                wine_dict[key]='null'\n",
    "        \n",
    "        # add the new dict to our current data stored in memory\n",
    "        already_added.append(wine_dict)\n",
    "        count+=1\n",
    "        time.sleep(65)\n",
    "        \n",
    "    current_data = already_added # data has been updated now\n",
    "    \n",
    "    # write the appended data to a new, updated csv \n",
    "    f = open(filename,'w')\n",
    "    writer = csv.DictWriter(f,fieldnames=current_data[0].keys())\n",
    "    writer.writeheader()\n",
    "    writer.writerows(current_data)\n",
    "\n",
    "    return f\"{count} records added out of {len(KCW_products)} possible matches\""
   ]
  },
  {
   "cell_type": "code",
   "execution_count": 6,
   "metadata": {},
   "outputs": [],
   "source": [
    "def chunk(n,list_to_chunk):\n",
    "    \"\"\"\n",
    "    takes in n, and a list to chunk. returns a list of lists with n length. The last chunk size may or may not \n",
    "    be equal to n. \n",
    "    \"\"\"\n",
    "    return [ list_to_chunk[i:i+n] for i in range(0,len(list_to_chunk),n) ]"
   ]
  },
  {
   "cell_type": "code",
   "execution_count": 7,
   "metadata": {},
   "outputs": [],
   "source": [
    "products = [KCW_product(wine) for wine in wines]"
   ]
  },
  {
   "cell_type": "code",
   "execution_count": 8,
   "metadata": {},
   "outputs": [],
   "source": [
    "filename = \"../wine-searcher_data.csv\"\n",
    "reader = csv.DictReader(open(filename))\n",
    "already_added = [row['name'] for row in reader]\n",
    "products_to_add = [product for product in products if product.name not in already_added]\n"
   ]
  },
  {
   "cell_type": "code",
   "execution_count": 17,
   "metadata": {},
   "outputs": [
    {
     "data": {
      "text/plain": [
       "'Mâcon-Loche 2018 Clos des Rocs'"
      ]
     },
     "execution_count": 17,
     "metadata": {},
     "output_type": "execute_result"
    }
   ],
   "source": [
    "products[0].name"
   ]
  },
  {
   "cell_type": "code",
   "execution_count": null,
   "metadata": {},
   "outputs": [],
   "source": []
  },
  {
   "cell_type": "code",
   "execution_count": 9,
   "metadata": {},
   "outputs": [
    {
     "name": "stdout",
     "output_type": "stream",
     "text": [
      "starting chunk 1 out of 16\n",
      "starting chunk 2 out of 16\n",
      "starting chunk 3 out of 16\n"
     ]
    },
    {
     "ename": "KeyboardInterrupt",
     "evalue": "",
     "output_type": "error",
     "traceback": [
      "\u001b[0;31m---------------------------------------------------------------------------\u001b[0m",
      "\u001b[0;31mKeyboardInterrupt\u001b[0m                         Traceback (most recent call last)",
      "\u001b[0;32m<ipython-input-9-c7a70fd00bb5>\u001b[0m in \u001b[0;36m<module>\u001b[0;34m\u001b[0m\n\u001b[1;32m      5\u001b[0m     \u001b[0mprint\u001b[0m\u001b[0;34m(\u001b[0m\u001b[0;34mf\"starting chunk {count} out of {len(wine_chunks)}\"\u001b[0m\u001b[0;34m)\u001b[0m\u001b[0;34m\u001b[0m\u001b[0;34m\u001b[0m\u001b[0m\n\u001b[1;32m      6\u001b[0m     \u001b[0mgetWine_info\u001b[0m\u001b[0;34m(\u001b[0m\u001b[0mwine_chunk\u001b[0m\u001b[0;34m)\u001b[0m\u001b[0;34m\u001b[0m\u001b[0;34m\u001b[0m\u001b[0m\n\u001b[0;32m----> 7\u001b[0;31m     \u001b[0mtime\u001b[0m\u001b[0;34m.\u001b[0m\u001b[0msleep\u001b[0m\u001b[0;34m(\u001b[0m\u001b[0;36m60\u001b[0m\u001b[0;34m)\u001b[0m\u001b[0;34m\u001b[0m\u001b[0;34m\u001b[0m\u001b[0m\n\u001b[0m\u001b[1;32m      8\u001b[0m     \u001b[0mcount\u001b[0m\u001b[0;34m+=\u001b[0m\u001b[0;36m1\u001b[0m\u001b[0;34m\u001b[0m\u001b[0;34m\u001b[0m\u001b[0m\n\u001b[1;32m      9\u001b[0m \u001b[0;34m\u001b[0m\u001b[0m\n",
      "\u001b[0;31mKeyboardInterrupt\u001b[0m: "
     ]
    }
   ],
   "source": [
    "#time.sleep(180)\n",
    "count = 1\n",
    "wine_chunks = chunk(4,products_to_add)\n",
    "for wine_chunk in wine_chunks:\n",
    "    print(f\"starting chunk {count} out of {len(wine_chunks)}\")\n",
    "    getWine_info(wine_chunk)\n",
    "    time.sleep(60)\n",
    "    count+=1\n",
    "    "
   ]
  },
  {
   "cell_type": "code",
   "execution_count": null,
   "metadata": {},
   "outputs": [],
   "source": []
  }
 ],
 "metadata": {
  "kernelspec": {
   "display_name": "Python 3",
   "language": "python",
   "name": "python3"
  },
  "language_info": {
   "codemirror_mode": {
    "name": "ipython",
    "version": 3
   },
   "file_extension": ".py",
   "mimetype": "text/x-python",
   "name": "python",
   "nbconvert_exporter": "python",
   "pygments_lexer": "ipython3",
   "version": "3.7.3"
  }
 },
 "nbformat": 4,
 "nbformat_minor": 4
}
