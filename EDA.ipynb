{
 "cells": [
  {
   "cell_type": "code",
   "execution_count": 1,
   "metadata": {},
   "outputs": [
    {
     "name": "stdout",
     "output_type": "stream",
     "text": [
      "Engine(sqlite://///Users/schlinkertc/code/wine_project/wine/vivino_db/vivino_wines.db)\n"
     ]
    },
    {
     "data": {
      "text/plain": [
       "['regions', 'styles', 'vintages', 'wineries', 'wines']"
      ]
     },
     "execution_count": 1,
     "metadata": {},
     "output_type": "execute_result"
    }
   ],
   "source": [
    "import plotly\n",
    "import plotly.express as px\n",
    "import numpy as np\n",
    "\n",
    "from class_definitions import *\n",
    "import pandas as pd\n",
    "from vivino_db import database\n",
    "db = database.db\n",
    "db.db_engine.table_names()"
   ]
  },
  {
   "cell_type": "code",
   "execution_count": 2,
   "metadata": {},
   "outputs": [],
   "source": [
    "tables = {}\n",
    "for table in db.db_engine.table_names():\n",
    "    tables[table]=pd.read_sql_table(table,db.db_engine)"
   ]
  },
  {
   "cell_type": "code",
   "execution_count": 3,
   "metadata": {},
   "outputs": [],
   "source": [
    "df = pd.read_csv('dataset.csv')"
   ]
  },
  {
   "cell_type": "code",
   "execution_count": 4,
   "metadata": {},
   "outputs": [
    {
     "data": {
      "text/plain": [
       "(128, 30)"
      ]
     },
     "execution_count": 4,
     "metadata": {},
     "output_type": "execute_result"
    }
   ],
   "source": [
    "df.shape"
   ]
  },
  {
   "cell_type": "markdown",
   "metadata": {},
   "source": [
    "### Countries, Regions"
   ]
  },
  {
   "cell_type": "code",
   "execution_count": 9,
   "metadata": {},
   "outputs": [
    {
     "data": {
      "application/vnd.plotly.v1+json": {
       "config": {
        "plotlyServerURL": "https://plot.ly"
       },
       "data": [
        {
         "branchvalues": "total",
         "domain": {
          "x": [
           0,
           1
          ],
          "y": [
           0,
           1
          ]
         },
         "hovertemplate": "labels=%{label}<br>count=%{value}<br>parent=%{parent}<br>id=%{id}<extra></extra>",
         "ids": [
          "United States/Alexander Valley",
          "France/Alsace",
          "Spain/Altamira",
          "Italy/Alto Adige Terlano",
          "Germany/Baden",
          "Italy/Barolo",
          "France/Beaujolais Villages",
          "France/Bordeaux",
          "France/Bouzeron",
          "Italy/Brunello di Montalcino",
          "Argentina/Cafayate - Calchaqui Valley",
          "United States/California",
          "Italy/Campania IGT",
          "Italy/Carema",
          "United States/Carneros",
          "Spain/Cava",
          "New Zealand/Central Valley - Chile",
          "France/Chablis",
          "France/Chablis Grand Cru Preuses",
          "France/Champagne Brut",
          "France/Champagne Brut Nature - Zero",
          "France/Champagne Extra Brut",
          "France/Champagne Rose",
          "Italy/Chianti",
          "Italy/Chianti Classico",
          "France/Chiroubles",
          "Australia/Clare Valley",
          "Italy/Colli Berici",
          "Italy/Colline Novaresi",
          "United States/Columbia Valley",
          "Italy/Conegliano Valdobbiadene Prosecco",
          "Italy/Coste della Sesia",
          "Spain/Costers del Segre",
          "France/Costieres de Nimes",
          "France/Cote Rotie",
          "France/Cotes de Provence",
          "France/Cotes du Roussillon",
          "France/Cremant de Bourgogne",
          "Chile/Curico Valley",
          "Portugal/Dao",
          "United States/Dundee Hills",
          "Italy/Erbaluce di Caluso",
          "United States/Finger Lakes",
          "Italy/Friuli-Venezia Giulia",
          "Italy/Gattinara",
          "France/Graves",
          "New Zealand/Hawke's Bay",
          "France/IGP Pays d'Herault Cotes du Brian",
          "Austria/Kremstal",
          "New Zealand/Kumeu",
          "Switzerland/La Cote [Vaud]",
          "Italy/Langhe Nebbiolo",
          "Italy/Lazio IGT",
          "France/Macon Loche",
          "Chile/Maipo Valley",
          "United States/Marlborough",
          "United States/Mendocino",
          "Argentina/Mendoza",
          "France/Menetou-Salon",
          "France/Meursault",
          "Italy/Montefalco Sagrantino",
          "Italy/Montepulciano d'Abruzzo",
          "France/Morgon",
          "Germany/Mosel",
          "United States/Napa Valley",
          "Italy/Nardo",
          "New Zealand/New Zealand",
          "Austria/Niederosterreich [Lower Austria]",
          "United States/North Coast",
          "South Africa/Paarl",
          "Austria/Pfalz",
          "Germany/Pfalz",
          "Spain/Priorat",
          "Italy/Provincia di Pavia IGT",
          "United States/Redwood Valley",
          "Germany/Rheingau",
          "Spain/Rias Baixas",
          "Spain/Ribeira Sacra",
          "Spain/Ribera del Duero",
          "Italy/Romagna",
          "Spain/Rueda",
          "France/Saint-Bris",
          "France/Saint-Emilion Grand Cru",
          "Spain/Serra Gaucha",
          "Italy/Sforzato di Valtellina",
          "Italy/Sicily",
          "Germany/Sierra Foothills",
          "Italy/Soave Classico",
          "United States/Sonoma Coast",
          "United States/Sonoma County",
          "United States/South Africa",
          "Spain/Spain",
          "South Africa/Stellenbosch",
          "South Africa/Swartland",
          "Spain/Toro",
          "Italy/Toscana IGT",
          "Argentina/Uco Valley",
          "Spain/Valencia",
          "Italy/Veneto",
          "Italy/Veneto IGT",
          "France/Ventoux",
          "Italy/Verdicchio dei Castelli di Jesi Classico",
          "Austria/Wagram",
          "Germany/Westhofen",
          "United States/Willamette Valley",
          "Germany/Winningen",
          "Argentina",
          "Australia",
          "Austria",
          "Chile",
          "France",
          "Germany",
          "Italy",
          "New Zealand",
          "Portugal",
          "South Africa",
          "Spain",
          "Switzerland",
          "United States"
         ],
         "labels": [
          "Alexander Valley",
          "Alsace",
          "Altamira",
          "Alto Adige Terlano",
          "Baden",
          "Barolo",
          "Beaujolais Villages",
          "Bordeaux",
          "Bouzeron",
          "Brunello di Montalcino",
          "Cafayate - Calchaqui Valley",
          "California",
          "Campania IGT",
          "Carema",
          "Carneros",
          "Cava",
          "Central Valley - Chile",
          "Chablis",
          "Chablis Grand Cru Preuses",
          "Champagne Brut",
          "Champagne Brut Nature - Zero",
          "Champagne Extra Brut",
          "Champagne Rose",
          "Chianti",
          "Chianti Classico",
          "Chiroubles",
          "Clare Valley",
          "Colli Berici",
          "Colline Novaresi",
          "Columbia Valley",
          "Conegliano Valdobbiadene Prosecco",
          "Coste della Sesia",
          "Costers del Segre",
          "Costieres de Nimes",
          "Cote Rotie",
          "Cotes de Provence",
          "Cotes du Roussillon",
          "Cremant de Bourgogne",
          "Curico Valley",
          "Dao",
          "Dundee Hills",
          "Erbaluce di Caluso",
          "Finger Lakes",
          "Friuli-Venezia Giulia",
          "Gattinara",
          "Graves",
          "Hawke's Bay",
          "IGP Pays d'Herault Cotes du Brian",
          "Kremstal",
          "Kumeu",
          "La Cote [Vaud]",
          "Langhe Nebbiolo",
          "Lazio IGT",
          "Macon Loche",
          "Maipo Valley",
          "Marlborough",
          "Mendocino",
          "Mendoza",
          "Menetou-Salon",
          "Meursault",
          "Montefalco Sagrantino",
          "Montepulciano d'Abruzzo",
          "Morgon",
          "Mosel",
          "Napa Valley",
          "Nardo",
          "New Zealand",
          "Niederosterreich [Lower Austria]",
          "North Coast",
          "Paarl",
          "Pfalz",
          "Pfalz",
          "Priorat",
          "Provincia di Pavia IGT",
          "Redwood Valley",
          "Rheingau",
          "Rias Baixas",
          "Ribeira Sacra",
          "Ribera del Duero",
          "Romagna",
          "Rueda",
          "Saint-Bris",
          "Saint-Emilion Grand Cru",
          "Serra Gaucha",
          "Sforzato di Valtellina",
          "Sicily",
          "Sierra Foothills",
          "Soave Classico",
          "Sonoma Coast",
          "Sonoma County",
          "South Africa",
          "Spain",
          "Stellenbosch",
          "Swartland",
          "Toro",
          "Toscana IGT",
          "Uco Valley",
          "Valencia",
          "Veneto",
          "Veneto IGT",
          "Ventoux",
          "Verdicchio dei Castelli di Jesi Classico",
          "Wagram",
          "Westhofen",
          "Willamette Valley",
          "Winningen",
          "Argentina",
          "Australia",
          "Austria",
          "Chile",
          "France",
          "Germany",
          "Italy",
          "New Zealand",
          "Portugal",
          "South Africa",
          "Spain",
          "Switzerland",
          "United States"
         ],
         "name": "",
         "parents": [
          "United States",
          "France",
          "Spain",
          "Italy",
          "Germany",
          "Italy",
          "France",
          "France",
          "France",
          "Italy",
          "Argentina",
          "United States",
          "Italy",
          "Italy",
          "United States",
          "Spain",
          "New Zealand",
          "France",
          "France",
          "France",
          "France",
          "France",
          "France",
          "Italy",
          "Italy",
          "France",
          "Australia",
          "Italy",
          "Italy",
          "United States",
          "Italy",
          "Italy",
          "Spain",
          "France",
          "France",
          "France",
          "France",
          "France",
          "Chile",
          "Portugal",
          "United States",
          "Italy",
          "United States",
          "Italy",
          "Italy",
          "France",
          "New Zealand",
          "France",
          "Austria",
          "New Zealand",
          "Switzerland",
          "Italy",
          "Italy",
          "France",
          "Chile",
          "United States",
          "United States",
          "Argentina",
          "France",
          "France",
          "Italy",
          "Italy",
          "France",
          "Germany",
          "United States",
          "Italy",
          "New Zealand",
          "Austria",
          "United States",
          "South Africa",
          "Austria",
          "Germany",
          "Spain",
          "Italy",
          "United States",
          "Germany",
          "Spain",
          "Spain",
          "Spain",
          "Italy",
          "Spain",
          "France",
          "France",
          "Spain",
          "Italy",
          "Italy",
          "Germany",
          "Italy",
          "United States",
          "United States",
          "United States",
          "Spain",
          "South Africa",
          "South Africa",
          "Spain",
          "Italy",
          "Argentina",
          "Spain",
          "Italy",
          "Italy",
          "France",
          "Italy",
          "Austria",
          "Germany",
          "United States",
          "Germany",
          "",
          "",
          "",
          "",
          "",
          "",
          "",
          "",
          "",
          "",
          "",
          "",
          ""
         ],
         "type": "sunburst",
         "values": [
          1,
          4,
          1,
          1,
          1,
          3,
          1,
          1,
          1,
          1,
          1,
          1,
          1,
          1,
          1,
          2,
          1,
          2,
          1,
          1,
          1,
          1,
          1,
          1,
          2,
          1,
          1,
          1,
          1,
          1,
          2,
          1,
          1,
          1,
          1,
          1,
          1,
          1,
          1,
          1,
          1,
          1,
          1,
          2,
          2,
          1,
          1,
          1,
          1,
          1,
          1,
          1,
          1,
          1,
          1,
          1,
          2,
          1,
          2,
          1,
          1,
          2,
          1,
          2,
          1,
          1,
          1,
          1,
          1,
          2,
          1,
          3,
          2,
          1,
          1,
          2,
          1,
          1,
          1,
          1,
          1,
          1,
          1,
          1,
          1,
          1,
          1,
          1,
          1,
          1,
          1,
          1,
          1,
          1,
          1,
          2,
          1,
          1,
          1,
          1,
          1,
          1,
          1,
          1,
          2,
          1,
          3,
          1,
          4,
          2,
          30,
          11,
          36,
          4,
          1,
          4,
          14,
          1,
          17
         ]
        }
       ],
       "layout": {
        "legend": {
         "tracegroupgap": 0
        },
        "margin": {
         "t": 60
        },
        "template": {
         "data": {
          "bar": [
           {
            "error_x": {
             "color": "#2a3f5f"
            },
            "error_y": {
             "color": "#2a3f5f"
            },
            "marker": {
             "line": {
              "color": "#E5ECF6",
              "width": 0.5
             }
            },
            "type": "bar"
           }
          ],
          "barpolar": [
           {
            "marker": {
             "line": {
              "color": "#E5ECF6",
              "width": 0.5
             }
            },
            "type": "barpolar"
           }
          ],
          "carpet": [
           {
            "aaxis": {
             "endlinecolor": "#2a3f5f",
             "gridcolor": "white",
             "linecolor": "white",
             "minorgridcolor": "white",
             "startlinecolor": "#2a3f5f"
            },
            "baxis": {
             "endlinecolor": "#2a3f5f",
             "gridcolor": "white",
             "linecolor": "white",
             "minorgridcolor": "white",
             "startlinecolor": "#2a3f5f"
            },
            "type": "carpet"
           }
          ],
          "choropleth": [
           {
            "colorbar": {
             "outlinewidth": 0,
             "ticks": ""
            },
            "type": "choropleth"
           }
          ],
          "contour": [
           {
            "colorbar": {
             "outlinewidth": 0,
             "ticks": ""
            },
            "colorscale": [
             [
              0,
              "#0d0887"
             ],
             [
              0.1111111111111111,
              "#46039f"
             ],
             [
              0.2222222222222222,
              "#7201a8"
             ],
             [
              0.3333333333333333,
              "#9c179e"
             ],
             [
              0.4444444444444444,
              "#bd3786"
             ],
             [
              0.5555555555555556,
              "#d8576b"
             ],
             [
              0.6666666666666666,
              "#ed7953"
             ],
             [
              0.7777777777777778,
              "#fb9f3a"
             ],
             [
              0.8888888888888888,
              "#fdca26"
             ],
             [
              1,
              "#f0f921"
             ]
            ],
            "type": "contour"
           }
          ],
          "contourcarpet": [
           {
            "colorbar": {
             "outlinewidth": 0,
             "ticks": ""
            },
            "type": "contourcarpet"
           }
          ],
          "heatmap": [
           {
            "colorbar": {
             "outlinewidth": 0,
             "ticks": ""
            },
            "colorscale": [
             [
              0,
              "#0d0887"
             ],
             [
              0.1111111111111111,
              "#46039f"
             ],
             [
              0.2222222222222222,
              "#7201a8"
             ],
             [
              0.3333333333333333,
              "#9c179e"
             ],
             [
              0.4444444444444444,
              "#bd3786"
             ],
             [
              0.5555555555555556,
              "#d8576b"
             ],
             [
              0.6666666666666666,
              "#ed7953"
             ],
             [
              0.7777777777777778,
              "#fb9f3a"
             ],
             [
              0.8888888888888888,
              "#fdca26"
             ],
             [
              1,
              "#f0f921"
             ]
            ],
            "type": "heatmap"
           }
          ],
          "heatmapgl": [
           {
            "colorbar": {
             "outlinewidth": 0,
             "ticks": ""
            },
            "colorscale": [
             [
              0,
              "#0d0887"
             ],
             [
              0.1111111111111111,
              "#46039f"
             ],
             [
              0.2222222222222222,
              "#7201a8"
             ],
             [
              0.3333333333333333,
              "#9c179e"
             ],
             [
              0.4444444444444444,
              "#bd3786"
             ],
             [
              0.5555555555555556,
              "#d8576b"
             ],
             [
              0.6666666666666666,
              "#ed7953"
             ],
             [
              0.7777777777777778,
              "#fb9f3a"
             ],
             [
              0.8888888888888888,
              "#fdca26"
             ],
             [
              1,
              "#f0f921"
             ]
            ],
            "type": "heatmapgl"
           }
          ],
          "histogram": [
           {
            "marker": {
             "colorbar": {
              "outlinewidth": 0,
              "ticks": ""
             }
            },
            "type": "histogram"
           }
          ],
          "histogram2d": [
           {
            "colorbar": {
             "outlinewidth": 0,
             "ticks": ""
            },
            "colorscale": [
             [
              0,
              "#0d0887"
             ],
             [
              0.1111111111111111,
              "#46039f"
             ],
             [
              0.2222222222222222,
              "#7201a8"
             ],
             [
              0.3333333333333333,
              "#9c179e"
             ],
             [
              0.4444444444444444,
              "#bd3786"
             ],
             [
              0.5555555555555556,
              "#d8576b"
             ],
             [
              0.6666666666666666,
              "#ed7953"
             ],
             [
              0.7777777777777778,
              "#fb9f3a"
             ],
             [
              0.8888888888888888,
              "#fdca26"
             ],
             [
              1,
              "#f0f921"
             ]
            ],
            "type": "histogram2d"
           }
          ],
          "histogram2dcontour": [
           {
            "colorbar": {
             "outlinewidth": 0,
             "ticks": ""
            },
            "colorscale": [
             [
              0,
              "#0d0887"
             ],
             [
              0.1111111111111111,
              "#46039f"
             ],
             [
              0.2222222222222222,
              "#7201a8"
             ],
             [
              0.3333333333333333,
              "#9c179e"
             ],
             [
              0.4444444444444444,
              "#bd3786"
             ],
             [
              0.5555555555555556,
              "#d8576b"
             ],
             [
              0.6666666666666666,
              "#ed7953"
             ],
             [
              0.7777777777777778,
              "#fb9f3a"
             ],
             [
              0.8888888888888888,
              "#fdca26"
             ],
             [
              1,
              "#f0f921"
             ]
            ],
            "type": "histogram2dcontour"
           }
          ],
          "mesh3d": [
           {
            "colorbar": {
             "outlinewidth": 0,
             "ticks": ""
            },
            "type": "mesh3d"
           }
          ],
          "parcoords": [
           {
            "line": {
             "colorbar": {
              "outlinewidth": 0,
              "ticks": ""
             }
            },
            "type": "parcoords"
           }
          ],
          "pie": [
           {
            "automargin": true,
            "type": "pie"
           }
          ],
          "scatter": [
           {
            "marker": {
             "colorbar": {
              "outlinewidth": 0,
              "ticks": ""
             }
            },
            "type": "scatter"
           }
          ],
          "scatter3d": [
           {
            "line": {
             "colorbar": {
              "outlinewidth": 0,
              "ticks": ""
             }
            },
            "marker": {
             "colorbar": {
              "outlinewidth": 0,
              "ticks": ""
             }
            },
            "type": "scatter3d"
           }
          ],
          "scattercarpet": [
           {
            "marker": {
             "colorbar": {
              "outlinewidth": 0,
              "ticks": ""
             }
            },
            "type": "scattercarpet"
           }
          ],
          "scattergeo": [
           {
            "marker": {
             "colorbar": {
              "outlinewidth": 0,
              "ticks": ""
             }
            },
            "type": "scattergeo"
           }
          ],
          "scattergl": [
           {
            "marker": {
             "colorbar": {
              "outlinewidth": 0,
              "ticks": ""
             }
            },
            "type": "scattergl"
           }
          ],
          "scattermapbox": [
           {
            "marker": {
             "colorbar": {
              "outlinewidth": 0,
              "ticks": ""
             }
            },
            "type": "scattermapbox"
           }
          ],
          "scatterpolar": [
           {
            "marker": {
             "colorbar": {
              "outlinewidth": 0,
              "ticks": ""
             }
            },
            "type": "scatterpolar"
           }
          ],
          "scatterpolargl": [
           {
            "marker": {
             "colorbar": {
              "outlinewidth": 0,
              "ticks": ""
             }
            },
            "type": "scatterpolargl"
           }
          ],
          "scatterternary": [
           {
            "marker": {
             "colorbar": {
              "outlinewidth": 0,
              "ticks": ""
             }
            },
            "type": "scatterternary"
           }
          ],
          "surface": [
           {
            "colorbar": {
             "outlinewidth": 0,
             "ticks": ""
            },
            "colorscale": [
             [
              0,
              "#0d0887"
             ],
             [
              0.1111111111111111,
              "#46039f"
             ],
             [
              0.2222222222222222,
              "#7201a8"
             ],
             [
              0.3333333333333333,
              "#9c179e"
             ],
             [
              0.4444444444444444,
              "#bd3786"
             ],
             [
              0.5555555555555556,
              "#d8576b"
             ],
             [
              0.6666666666666666,
              "#ed7953"
             ],
             [
              0.7777777777777778,
              "#fb9f3a"
             ],
             [
              0.8888888888888888,
              "#fdca26"
             ],
             [
              1,
              "#f0f921"
             ]
            ],
            "type": "surface"
           }
          ],
          "table": [
           {
            "cells": {
             "fill": {
              "color": "#EBF0F8"
             },
             "line": {
              "color": "white"
             }
            },
            "header": {
             "fill": {
              "color": "#C8D4E3"
             },
             "line": {
              "color": "white"
             }
            },
            "type": "table"
           }
          ]
         },
         "layout": {
          "annotationdefaults": {
           "arrowcolor": "#2a3f5f",
           "arrowhead": 0,
           "arrowwidth": 1
          },
          "coloraxis": {
           "colorbar": {
            "outlinewidth": 0,
            "ticks": ""
           }
          },
          "colorscale": {
           "diverging": [
            [
             0,
             "#8e0152"
            ],
            [
             0.1,
             "#c51b7d"
            ],
            [
             0.2,
             "#de77ae"
            ],
            [
             0.3,
             "#f1b6da"
            ],
            [
             0.4,
             "#fde0ef"
            ],
            [
             0.5,
             "#f7f7f7"
            ],
            [
             0.6,
             "#e6f5d0"
            ],
            [
             0.7,
             "#b8e186"
            ],
            [
             0.8,
             "#7fbc41"
            ],
            [
             0.9,
             "#4d9221"
            ],
            [
             1,
             "#276419"
            ]
           ],
           "sequential": [
            [
             0,
             "#0d0887"
            ],
            [
             0.1111111111111111,
             "#46039f"
            ],
            [
             0.2222222222222222,
             "#7201a8"
            ],
            [
             0.3333333333333333,
             "#9c179e"
            ],
            [
             0.4444444444444444,
             "#bd3786"
            ],
            [
             0.5555555555555556,
             "#d8576b"
            ],
            [
             0.6666666666666666,
             "#ed7953"
            ],
            [
             0.7777777777777778,
             "#fb9f3a"
            ],
            [
             0.8888888888888888,
             "#fdca26"
            ],
            [
             1,
             "#f0f921"
            ]
           ],
           "sequentialminus": [
            [
             0,
             "#0d0887"
            ],
            [
             0.1111111111111111,
             "#46039f"
            ],
            [
             0.2222222222222222,
             "#7201a8"
            ],
            [
             0.3333333333333333,
             "#9c179e"
            ],
            [
             0.4444444444444444,
             "#bd3786"
            ],
            [
             0.5555555555555556,
             "#d8576b"
            ],
            [
             0.6666666666666666,
             "#ed7953"
            ],
            [
             0.7777777777777778,
             "#fb9f3a"
            ],
            [
             0.8888888888888888,
             "#fdca26"
            ],
            [
             1,
             "#f0f921"
            ]
           ]
          },
          "colorway": [
           "#636efa",
           "#EF553B",
           "#00cc96",
           "#ab63fa",
           "#FFA15A",
           "#19d3f3",
           "#FF6692",
           "#B6E880",
           "#FF97FF",
           "#FECB52"
          ],
          "font": {
           "color": "#2a3f5f"
          },
          "geo": {
           "bgcolor": "white",
           "lakecolor": "white",
           "landcolor": "#E5ECF6",
           "showlakes": true,
           "showland": true,
           "subunitcolor": "white"
          },
          "hoverlabel": {
           "align": "left"
          },
          "hovermode": "closest",
          "mapbox": {
           "style": "light"
          },
          "paper_bgcolor": "white",
          "plot_bgcolor": "#E5ECF6",
          "polar": {
           "angularaxis": {
            "gridcolor": "white",
            "linecolor": "white",
            "ticks": ""
           },
           "bgcolor": "#E5ECF6",
           "radialaxis": {
            "gridcolor": "white",
            "linecolor": "white",
            "ticks": ""
           }
          },
          "scene": {
           "xaxis": {
            "backgroundcolor": "#E5ECF6",
            "gridcolor": "white",
            "gridwidth": 2,
            "linecolor": "white",
            "showbackground": true,
            "ticks": "",
            "zerolinecolor": "white"
           },
           "yaxis": {
            "backgroundcolor": "#E5ECF6",
            "gridcolor": "white",
            "gridwidth": 2,
            "linecolor": "white",
            "showbackground": true,
            "ticks": "",
            "zerolinecolor": "white"
           },
           "zaxis": {
            "backgroundcolor": "#E5ECF6",
            "gridcolor": "white",
            "gridwidth": 2,
            "linecolor": "white",
            "showbackground": true,
            "ticks": "",
            "zerolinecolor": "white"
           }
          },
          "shapedefaults": {
           "line": {
            "color": "#2a3f5f"
           }
          },
          "ternary": {
           "aaxis": {
            "gridcolor": "white",
            "linecolor": "white",
            "ticks": ""
           },
           "baxis": {
            "gridcolor": "white",
            "linecolor": "white",
            "ticks": ""
           },
           "bgcolor": "#E5ECF6",
           "caxis": {
            "gridcolor": "white",
            "linecolor": "white",
            "ticks": ""
           }
          },
          "title": {
           "x": 0.05
          },
          "xaxis": {
           "automargin": true,
           "gridcolor": "white",
           "linecolor": "white",
           "ticks": "",
           "title": {
            "standoff": 15
           },
           "zerolinecolor": "white",
           "zerolinewidth": 2
          },
          "yaxis": {
           "automargin": true,
           "gridcolor": "white",
           "linecolor": "white",
           "ticks": "",
           "title": {
            "standoff": 15
           },
           "zerolinecolor": "white",
           "zerolinewidth": 2
          }
         }
        }
       }
      },
      "text/html": [
       "<div>\n",
       "        \n",
       "        \n",
       "            <div id=\"2a408d3c-8c76-4f99-95eb-342dd0fd9015\" class=\"plotly-graph-div\" style=\"height:525px; width:100%;\"></div>\n",
       "            <script type=\"text/javascript\">\n",
       "                require([\"plotly\"], function(Plotly) {\n",
       "                    window.PLOTLYENV=window.PLOTLYENV || {};\n",
       "                    \n",
       "                if (document.getElementById(\"2a408d3c-8c76-4f99-95eb-342dd0fd9015\")) {\n",
       "                    Plotly.newPlot(\n",
       "                        '2a408d3c-8c76-4f99-95eb-342dd0fd9015',\n",
       "                        [{\"branchvalues\": \"total\", \"domain\": {\"x\": [0.0, 1.0], \"y\": [0.0, 1.0]}, \"hovertemplate\": \"labels=%{label}<br>count=%{value}<br>parent=%{parent}<br>id=%{id}<extra></extra>\", \"ids\": [\"United States/Alexander Valley\", \"France/Alsace\", \"Spain/Altamira\", \"Italy/Alto Adige Terlano\", \"Germany/Baden\", \"Italy/Barolo\", \"France/Beaujolais Villages\", \"France/Bordeaux\", \"France/Bouzeron\", \"Italy/Brunello di Montalcino\", \"Argentina/Cafayate - Calchaqui Valley\", \"United States/California\", \"Italy/Campania IGT\", \"Italy/Carema\", \"United States/Carneros\", \"Spain/Cava\", \"New Zealand/Central Valley - Chile\", \"France/Chablis\", \"France/Chablis Grand Cru Preuses\", \"France/Champagne Brut\", \"France/Champagne Brut Nature - Zero\", \"France/Champagne Extra Brut\", \"France/Champagne Rose\", \"Italy/Chianti\", \"Italy/Chianti Classico\", \"France/Chiroubles\", \"Australia/Clare Valley\", \"Italy/Colli Berici\", \"Italy/Colline Novaresi\", \"United States/Columbia Valley\", \"Italy/Conegliano Valdobbiadene Prosecco\", \"Italy/Coste della Sesia\", \"Spain/Costers del Segre\", \"France/Costieres de Nimes\", \"France/Cote Rotie\", \"France/Cotes de Provence\", \"France/Cotes du Roussillon\", \"France/Cremant de Bourgogne\", \"Chile/Curico Valley\", \"Portugal/Dao\", \"United States/Dundee Hills\", \"Italy/Erbaluce di Caluso\", \"United States/Finger Lakes\", \"Italy/Friuli-Venezia Giulia\", \"Italy/Gattinara\", \"France/Graves\", \"New Zealand/Hawke's Bay\", \"France/IGP Pays d'Herault Cotes du Brian\", \"Austria/Kremstal\", \"New Zealand/Kumeu\", \"Switzerland/La Cote [Vaud]\", \"Italy/Langhe Nebbiolo\", \"Italy/Lazio IGT\", \"France/Macon Loche\", \"Chile/Maipo Valley\", \"United States/Marlborough\", \"United States/Mendocino\", \"Argentina/Mendoza\", \"France/Menetou-Salon\", \"France/Meursault\", \"Italy/Montefalco Sagrantino\", \"Italy/Montepulciano d'Abruzzo\", \"France/Morgon\", \"Germany/Mosel\", \"United States/Napa Valley\", \"Italy/Nardo\", \"New Zealand/New Zealand\", \"Austria/Niederosterreich [Lower Austria]\", \"United States/North Coast\", \"South Africa/Paarl\", \"Austria/Pfalz\", \"Germany/Pfalz\", \"Spain/Priorat\", \"Italy/Provincia di Pavia IGT\", \"United States/Redwood Valley\", \"Germany/Rheingau\", \"Spain/Rias Baixas\", \"Spain/Ribeira Sacra\", \"Spain/Ribera del Duero\", \"Italy/Romagna\", \"Spain/Rueda\", \"France/Saint-Bris\", \"France/Saint-Emilion Grand Cru\", \"Spain/Serra Gaucha\", \"Italy/Sforzato di Valtellina\", \"Italy/Sicily\", \"Germany/Sierra Foothills\", \"Italy/Soave Classico\", \"United States/Sonoma Coast\", \"United States/Sonoma County\", \"United States/South Africa\", \"Spain/Spain\", \"South Africa/Stellenbosch\", \"South Africa/Swartland\", \"Spain/Toro\", \"Italy/Toscana IGT\", \"Argentina/Uco Valley\", \"Spain/Valencia\", \"Italy/Veneto\", \"Italy/Veneto IGT\", \"France/Ventoux\", \"Italy/Verdicchio dei Castelli di Jesi Classico\", \"Austria/Wagram\", \"Germany/Westhofen\", \"United States/Willamette Valley\", \"Germany/Winningen\", \"Argentina\", \"Australia\", \"Austria\", \"Chile\", \"France\", \"Germany\", \"Italy\", \"New Zealand\", \"Portugal\", \"South Africa\", \"Spain\", \"Switzerland\", \"United States\"], \"labels\": [\"Alexander Valley\", \"Alsace\", \"Altamira\", \"Alto Adige Terlano\", \"Baden\", \"Barolo\", \"Beaujolais Villages\", \"Bordeaux\", \"Bouzeron\", \"Brunello di Montalcino\", \"Cafayate - Calchaqui Valley\", \"California\", \"Campania IGT\", \"Carema\", \"Carneros\", \"Cava\", \"Central Valley - Chile\", \"Chablis\", \"Chablis Grand Cru Preuses\", \"Champagne Brut\", \"Champagne Brut Nature - Zero\", \"Champagne Extra Brut\", \"Champagne Rose\", \"Chianti\", \"Chianti Classico\", \"Chiroubles\", \"Clare Valley\", \"Colli Berici\", \"Colline Novaresi\", \"Columbia Valley\", \"Conegliano Valdobbiadene Prosecco\", \"Coste della Sesia\", \"Costers del Segre\", \"Costieres de Nimes\", \"Cote Rotie\", \"Cotes de Provence\", \"Cotes du Roussillon\", \"Cremant de Bourgogne\", \"Curico Valley\", \"Dao\", \"Dundee Hills\", \"Erbaluce di Caluso\", \"Finger Lakes\", \"Friuli-Venezia Giulia\", \"Gattinara\", \"Graves\", \"Hawke's Bay\", \"IGP Pays d'Herault Cotes du Brian\", \"Kremstal\", \"Kumeu\", \"La Cote [Vaud]\", \"Langhe Nebbiolo\", \"Lazio IGT\", \"Macon Loche\", \"Maipo Valley\", \"Marlborough\", \"Mendocino\", \"Mendoza\", \"Menetou-Salon\", \"Meursault\", \"Montefalco Sagrantino\", \"Montepulciano d'Abruzzo\", \"Morgon\", \"Mosel\", \"Napa Valley\", \"Nardo\", \"New Zealand\", \"Niederosterreich [Lower Austria]\", \"North Coast\", \"Paarl\", \"Pfalz\", \"Pfalz\", \"Priorat\", \"Provincia di Pavia IGT\", \"Redwood Valley\", \"Rheingau\", \"Rias Baixas\", \"Ribeira Sacra\", \"Ribera del Duero\", \"Romagna\", \"Rueda\", \"Saint-Bris\", \"Saint-Emilion Grand Cru\", \"Serra Gaucha\", \"Sforzato di Valtellina\", \"Sicily\", \"Sierra Foothills\", \"Soave Classico\", \"Sonoma Coast\", \"Sonoma County\", \"South Africa\", \"Spain\", \"Stellenbosch\", \"Swartland\", \"Toro\", \"Toscana IGT\", \"Uco Valley\", \"Valencia\", \"Veneto\", \"Veneto IGT\", \"Ventoux\", \"Verdicchio dei Castelli di Jesi Classico\", \"Wagram\", \"Westhofen\", \"Willamette Valley\", \"Winningen\", \"Argentina\", \"Australia\", \"Austria\", \"Chile\", \"France\", \"Germany\", \"Italy\", \"New Zealand\", \"Portugal\", \"South Africa\", \"Spain\", \"Switzerland\", \"United States\"], \"name\": \"\", \"parents\": [\"United States\", \"France\", \"Spain\", \"Italy\", \"Germany\", \"Italy\", \"France\", \"France\", \"France\", \"Italy\", \"Argentina\", \"United States\", \"Italy\", \"Italy\", \"United States\", \"Spain\", \"New Zealand\", \"France\", \"France\", \"France\", \"France\", \"France\", \"France\", \"Italy\", \"Italy\", \"France\", \"Australia\", \"Italy\", \"Italy\", \"United States\", \"Italy\", \"Italy\", \"Spain\", \"France\", \"France\", \"France\", \"France\", \"France\", \"Chile\", \"Portugal\", \"United States\", \"Italy\", \"United States\", \"Italy\", \"Italy\", \"France\", \"New Zealand\", \"France\", \"Austria\", \"New Zealand\", \"Switzerland\", \"Italy\", \"Italy\", \"France\", \"Chile\", \"United States\", \"United States\", \"Argentina\", \"France\", \"France\", \"Italy\", \"Italy\", \"France\", \"Germany\", \"United States\", \"Italy\", \"New Zealand\", \"Austria\", \"United States\", \"South Africa\", \"Austria\", \"Germany\", \"Spain\", \"Italy\", \"United States\", \"Germany\", \"Spain\", \"Spain\", \"Spain\", \"Italy\", \"Spain\", \"France\", \"France\", \"Spain\", \"Italy\", \"Italy\", \"Germany\", \"Italy\", \"United States\", \"United States\", \"United States\", \"Spain\", \"South Africa\", \"South Africa\", \"Spain\", \"Italy\", \"Argentina\", \"Spain\", \"Italy\", \"Italy\", \"France\", \"Italy\", \"Austria\", \"Germany\", \"United States\", \"Germany\", \"\", \"\", \"\", \"\", \"\", \"\", \"\", \"\", \"\", \"\", \"\", \"\", \"\"], \"type\": \"sunburst\", \"values\": [1, 4, 1, 1, 1, 3, 1, 1, 1, 1, 1, 1, 1, 1, 1, 2, 1, 2, 1, 1, 1, 1, 1, 1, 2, 1, 1, 1, 1, 1, 2, 1, 1, 1, 1, 1, 1, 1, 1, 1, 1, 1, 1, 2, 2, 1, 1, 1, 1, 1, 1, 1, 1, 1, 1, 1, 2, 1, 2, 1, 1, 2, 1, 2, 1, 1, 1, 1, 1, 2, 1, 3, 2, 1, 1, 2, 1, 1, 1, 1, 1, 1, 1, 1, 1, 1, 1, 1, 1, 1, 1, 1, 1, 1, 1, 2, 1, 1, 1, 1, 1, 1, 1, 1, 2, 1, 3, 1, 4, 2, 30, 11, 36, 4, 1, 4, 14, 1, 17]}],\n",
       "                        {\"legend\": {\"tracegroupgap\": 0}, \"margin\": {\"t\": 60}, \"template\": {\"data\": {\"bar\": [{\"error_x\": {\"color\": \"#2a3f5f\"}, \"error_y\": {\"color\": \"#2a3f5f\"}, \"marker\": {\"line\": {\"color\": \"#E5ECF6\", \"width\": 0.5}}, \"type\": \"bar\"}], \"barpolar\": [{\"marker\": {\"line\": {\"color\": \"#E5ECF6\", \"width\": 0.5}}, \"type\": \"barpolar\"}], \"carpet\": [{\"aaxis\": {\"endlinecolor\": \"#2a3f5f\", \"gridcolor\": \"white\", \"linecolor\": \"white\", \"minorgridcolor\": \"white\", \"startlinecolor\": \"#2a3f5f\"}, \"baxis\": {\"endlinecolor\": \"#2a3f5f\", \"gridcolor\": \"white\", \"linecolor\": \"white\", \"minorgridcolor\": \"white\", \"startlinecolor\": \"#2a3f5f\"}, \"type\": \"carpet\"}], \"choropleth\": [{\"colorbar\": {\"outlinewidth\": 0, \"ticks\": \"\"}, \"type\": \"choropleth\"}], \"contour\": [{\"colorbar\": {\"outlinewidth\": 0, \"ticks\": \"\"}, \"colorscale\": [[0.0, \"#0d0887\"], [0.1111111111111111, \"#46039f\"], [0.2222222222222222, \"#7201a8\"], [0.3333333333333333, \"#9c179e\"], [0.4444444444444444, \"#bd3786\"], [0.5555555555555556, \"#d8576b\"], [0.6666666666666666, \"#ed7953\"], [0.7777777777777778, \"#fb9f3a\"], [0.8888888888888888, \"#fdca26\"], [1.0, \"#f0f921\"]], \"type\": \"contour\"}], \"contourcarpet\": [{\"colorbar\": {\"outlinewidth\": 0, \"ticks\": \"\"}, \"type\": \"contourcarpet\"}], \"heatmap\": [{\"colorbar\": {\"outlinewidth\": 0, \"ticks\": \"\"}, \"colorscale\": [[0.0, \"#0d0887\"], [0.1111111111111111, \"#46039f\"], [0.2222222222222222, \"#7201a8\"], [0.3333333333333333, \"#9c179e\"], [0.4444444444444444, \"#bd3786\"], [0.5555555555555556, \"#d8576b\"], [0.6666666666666666, \"#ed7953\"], [0.7777777777777778, \"#fb9f3a\"], [0.8888888888888888, \"#fdca26\"], [1.0, \"#f0f921\"]], \"type\": \"heatmap\"}], \"heatmapgl\": [{\"colorbar\": {\"outlinewidth\": 0, \"ticks\": \"\"}, \"colorscale\": [[0.0, \"#0d0887\"], [0.1111111111111111, \"#46039f\"], [0.2222222222222222, \"#7201a8\"], [0.3333333333333333, \"#9c179e\"], [0.4444444444444444, \"#bd3786\"], [0.5555555555555556, \"#d8576b\"], [0.6666666666666666, \"#ed7953\"], [0.7777777777777778, \"#fb9f3a\"], [0.8888888888888888, \"#fdca26\"], [1.0, \"#f0f921\"]], \"type\": \"heatmapgl\"}], \"histogram\": [{\"marker\": {\"colorbar\": {\"outlinewidth\": 0, \"ticks\": \"\"}}, \"type\": \"histogram\"}], \"histogram2d\": [{\"colorbar\": {\"outlinewidth\": 0, \"ticks\": \"\"}, \"colorscale\": [[0.0, \"#0d0887\"], [0.1111111111111111, \"#46039f\"], [0.2222222222222222, \"#7201a8\"], [0.3333333333333333, \"#9c179e\"], [0.4444444444444444, \"#bd3786\"], [0.5555555555555556, \"#d8576b\"], [0.6666666666666666, \"#ed7953\"], [0.7777777777777778, \"#fb9f3a\"], [0.8888888888888888, \"#fdca26\"], [1.0, \"#f0f921\"]], \"type\": \"histogram2d\"}], \"histogram2dcontour\": [{\"colorbar\": {\"outlinewidth\": 0, \"ticks\": \"\"}, \"colorscale\": [[0.0, \"#0d0887\"], [0.1111111111111111, \"#46039f\"], [0.2222222222222222, \"#7201a8\"], [0.3333333333333333, \"#9c179e\"], [0.4444444444444444, \"#bd3786\"], [0.5555555555555556, \"#d8576b\"], [0.6666666666666666, \"#ed7953\"], [0.7777777777777778, \"#fb9f3a\"], [0.8888888888888888, \"#fdca26\"], [1.0, \"#f0f921\"]], \"type\": \"histogram2dcontour\"}], \"mesh3d\": [{\"colorbar\": {\"outlinewidth\": 0, \"ticks\": \"\"}, \"type\": \"mesh3d\"}], \"parcoords\": [{\"line\": {\"colorbar\": {\"outlinewidth\": 0, \"ticks\": \"\"}}, \"type\": \"parcoords\"}], \"pie\": [{\"automargin\": true, \"type\": \"pie\"}], \"scatter\": [{\"marker\": {\"colorbar\": {\"outlinewidth\": 0, \"ticks\": \"\"}}, \"type\": \"scatter\"}], \"scatter3d\": [{\"line\": {\"colorbar\": {\"outlinewidth\": 0, \"ticks\": \"\"}}, \"marker\": {\"colorbar\": {\"outlinewidth\": 0, \"ticks\": \"\"}}, \"type\": \"scatter3d\"}], \"scattercarpet\": [{\"marker\": {\"colorbar\": {\"outlinewidth\": 0, \"ticks\": \"\"}}, \"type\": \"scattercarpet\"}], \"scattergeo\": [{\"marker\": {\"colorbar\": {\"outlinewidth\": 0, \"ticks\": \"\"}}, \"type\": \"scattergeo\"}], \"scattergl\": [{\"marker\": {\"colorbar\": {\"outlinewidth\": 0, \"ticks\": \"\"}}, \"type\": \"scattergl\"}], \"scattermapbox\": [{\"marker\": {\"colorbar\": {\"outlinewidth\": 0, \"ticks\": \"\"}}, \"type\": \"scattermapbox\"}], \"scatterpolar\": [{\"marker\": {\"colorbar\": {\"outlinewidth\": 0, \"ticks\": \"\"}}, \"type\": \"scatterpolar\"}], \"scatterpolargl\": [{\"marker\": {\"colorbar\": {\"outlinewidth\": 0, \"ticks\": \"\"}}, \"type\": \"scatterpolargl\"}], \"scatterternary\": [{\"marker\": {\"colorbar\": {\"outlinewidth\": 0, \"ticks\": \"\"}}, \"type\": \"scatterternary\"}], \"surface\": [{\"colorbar\": {\"outlinewidth\": 0, \"ticks\": \"\"}, \"colorscale\": [[0.0, \"#0d0887\"], [0.1111111111111111, \"#46039f\"], [0.2222222222222222, \"#7201a8\"], [0.3333333333333333, \"#9c179e\"], [0.4444444444444444, \"#bd3786\"], [0.5555555555555556, \"#d8576b\"], [0.6666666666666666, \"#ed7953\"], [0.7777777777777778, \"#fb9f3a\"], [0.8888888888888888, \"#fdca26\"], [1.0, \"#f0f921\"]], \"type\": \"surface\"}], \"table\": [{\"cells\": {\"fill\": {\"color\": \"#EBF0F8\"}, \"line\": {\"color\": \"white\"}}, \"header\": {\"fill\": {\"color\": \"#C8D4E3\"}, \"line\": {\"color\": \"white\"}}, \"type\": \"table\"}]}, \"layout\": {\"annotationdefaults\": {\"arrowcolor\": \"#2a3f5f\", \"arrowhead\": 0, \"arrowwidth\": 1}, \"coloraxis\": {\"colorbar\": {\"outlinewidth\": 0, \"ticks\": \"\"}}, \"colorscale\": {\"diverging\": [[0, \"#8e0152\"], [0.1, \"#c51b7d\"], [0.2, \"#de77ae\"], [0.3, \"#f1b6da\"], [0.4, \"#fde0ef\"], [0.5, \"#f7f7f7\"], [0.6, \"#e6f5d0\"], [0.7, \"#b8e186\"], [0.8, \"#7fbc41\"], [0.9, \"#4d9221\"], [1, \"#276419\"]], \"sequential\": [[0.0, \"#0d0887\"], [0.1111111111111111, \"#46039f\"], [0.2222222222222222, \"#7201a8\"], [0.3333333333333333, \"#9c179e\"], [0.4444444444444444, \"#bd3786\"], [0.5555555555555556, \"#d8576b\"], [0.6666666666666666, \"#ed7953\"], [0.7777777777777778, \"#fb9f3a\"], [0.8888888888888888, \"#fdca26\"], [1.0, \"#f0f921\"]], \"sequentialminus\": [[0.0, \"#0d0887\"], [0.1111111111111111, \"#46039f\"], [0.2222222222222222, \"#7201a8\"], [0.3333333333333333, \"#9c179e\"], [0.4444444444444444, \"#bd3786\"], [0.5555555555555556, \"#d8576b\"], [0.6666666666666666, \"#ed7953\"], [0.7777777777777778, \"#fb9f3a\"], [0.8888888888888888, \"#fdca26\"], [1.0, \"#f0f921\"]]}, \"colorway\": [\"#636efa\", \"#EF553B\", \"#00cc96\", \"#ab63fa\", \"#FFA15A\", \"#19d3f3\", \"#FF6692\", \"#B6E880\", \"#FF97FF\", \"#FECB52\"], \"font\": {\"color\": \"#2a3f5f\"}, \"geo\": {\"bgcolor\": \"white\", \"lakecolor\": \"white\", \"landcolor\": \"#E5ECF6\", \"showlakes\": true, \"showland\": true, \"subunitcolor\": \"white\"}, \"hoverlabel\": {\"align\": \"left\"}, \"hovermode\": \"closest\", \"mapbox\": {\"style\": \"light\"}, \"paper_bgcolor\": \"white\", \"plot_bgcolor\": \"#E5ECF6\", \"polar\": {\"angularaxis\": {\"gridcolor\": \"white\", \"linecolor\": \"white\", \"ticks\": \"\"}, \"bgcolor\": \"#E5ECF6\", \"radialaxis\": {\"gridcolor\": \"white\", \"linecolor\": \"white\", \"ticks\": \"\"}}, \"scene\": {\"xaxis\": {\"backgroundcolor\": \"#E5ECF6\", \"gridcolor\": \"white\", \"gridwidth\": 2, \"linecolor\": \"white\", \"showbackground\": true, \"ticks\": \"\", \"zerolinecolor\": \"white\"}, \"yaxis\": {\"backgroundcolor\": \"#E5ECF6\", \"gridcolor\": \"white\", \"gridwidth\": 2, \"linecolor\": \"white\", \"showbackground\": true, \"ticks\": \"\", \"zerolinecolor\": \"white\"}, \"zaxis\": {\"backgroundcolor\": \"#E5ECF6\", \"gridcolor\": \"white\", \"gridwidth\": 2, \"linecolor\": \"white\", \"showbackground\": true, \"ticks\": \"\", \"zerolinecolor\": \"white\"}}, \"shapedefaults\": {\"line\": {\"color\": \"#2a3f5f\"}}, \"ternary\": {\"aaxis\": {\"gridcolor\": \"white\", \"linecolor\": \"white\", \"ticks\": \"\"}, \"baxis\": {\"gridcolor\": \"white\", \"linecolor\": \"white\", \"ticks\": \"\"}, \"bgcolor\": \"#E5ECF6\", \"caxis\": {\"gridcolor\": \"white\", \"linecolor\": \"white\", \"ticks\": \"\"}}, \"title\": {\"x\": 0.05}, \"xaxis\": {\"automargin\": true, \"gridcolor\": \"white\", \"linecolor\": \"white\", \"ticks\": \"\", \"title\": {\"standoff\": 15}, \"zerolinecolor\": \"white\", \"zerolinewidth\": 2}, \"yaxis\": {\"automargin\": true, \"gridcolor\": \"white\", \"linecolor\": \"white\", \"ticks\": \"\", \"title\": {\"standoff\": 15}, \"zerolinecolor\": \"white\", \"zerolinewidth\": 2}}}},\n",
       "                        {\"responsive\": true}\n",
       "                    ).then(function(){\n",
       "                            \n",
       "var gd = document.getElementById('2a408d3c-8c76-4f99-95eb-342dd0fd9015');\n",
       "var x = new MutationObserver(function (mutations, observer) {{\n",
       "        var display = window.getComputedStyle(gd).display;\n",
       "        if (!display || display === 'none') {{\n",
       "            console.log([gd, 'removed!']);\n",
       "            Plotly.purge(gd);\n",
       "            observer.disconnect();\n",
       "        }}\n",
       "}});\n",
       "\n",
       "// Listen for the removal of the full notebook cells\n",
       "var notebookContainer = gd.closest('#notebook-container');\n",
       "if (notebookContainer) {{\n",
       "    x.observe(notebookContainer, {childList: true});\n",
       "}}\n",
       "\n",
       "// Listen for the clearing of the current output cell\n",
       "var outputEl = gd.closest('.output');\n",
       "if (outputEl) {{\n",
       "    x.observe(outputEl, {childList: true});\n",
       "}}\n",
       "\n",
       "                        })\n",
       "                };\n",
       "                });\n",
       "            </script>\n",
       "        </div>"
      ]
     },
     "metadata": {},
     "output_type": "display_data"
    }
   ],
   "source": [
    "fig = px.sunburst(df,path=['country_name','Region/Appellation'])\n",
    "fig.show()"
   ]
  },
  {
   "cell_type": "code",
   "execution_count": 12,
   "metadata": {},
   "outputs": [
    {
     "data": {
      "application/vnd.plotly.v1+json": {
       "config": {
        "plotlyServerURL": "https://plot.ly"
       },
       "data": [
        {
         "branchvalues": "total",
         "domain": {
          "x": [
           0,
           1
          ],
          "y": [
           0,
           1
          ]
         },
         "hovertemplate": "labels=%{label}<br>count=%{value}<br>parent=%{parent}<br>id=%{id}<extra></extra>",
         "ids": [
          "Merlot/Alexander Valley",
          "Pinot Blanc/Alsace",
          "Pinot Noir/Alsace",
          "Riesling/Alsace",
          "Rioja Red/Altamira",
          "White/Alto Adige Terlano",
          "Müller Thurgau/Baden",
          "Barolo/Barolo",
          "Red/Beaujolais Villages",
          "White/Bordeaux",
          "White/Bouzeron",
          "Brunello/Brunello di Montalcino",
          "Torrontes/Cafayate - Calchaqui Valley",
          "Chardonnay/California",
          "White/Campania IGT",
          "Nebbiolo/Carema",
          "Chardonnay/Carneros",
          "Cava/Cava",
          "Sauvignon Blanc/Central Valley - Chile",
          "Chablis/Chablis",
          "Chablis/Chablis Grand Cru Preuses",
          "Champagne/Champagne Brut",
          "Champagne/Champagne Brut Nature - Zero",
          "Champagne/Champagne Extra Brut",
          "Champagne/Champagne Rose",
          "Chianti/Chianti",
          "Chianti/Chianti Classico",
          "Red/Chiroubles",
          "Riesling/Clare Valley",
          "Red/Colli Berici",
          "Nebbiolo/Colline Novaresi",
          "Cabernet Sauvignon/Columbia Valley",
          "Prosecco/Conegliano Valdobbiadene Prosecco",
          "Red/Coste della Sesia",
          "Albariño/Costers del Segre",
          "Red/Costieres de Nimes",
          "Côte-Rotie/Cote Rotie",
          "Rosé/Cotes de Provence",
          "White/Cotes du Roussillon",
          "Cremant/Cremant de Bourgogne",
          "Syrah/Curico Valley",
          "Dão Red/Dao",
          "Pinot Gris/Dundee Hills",
          "White/Erbaluce di Caluso",
          "Chardonnay/Finger Lakes",
          "Pinot Grigio/Friuli-Venezia Giulia",
          "White/Friuli-Venezia Giulia",
          "Nebbiolo/Gattinara",
          "Graves Red/Graves",
          "Sauvignon Blanc/Hawke's Bay",
          "White/IGP Pays d'Herault Cotes du Brian",
          "Riesling/Kremstal",
          "Chardonnay/Kumeu",
          "Chasselas/La Cote [Vaud]",
          "Nebbiolo/Langhe Nebbiolo",
          "White/Lazio IGT",
          "Macônnais White/Macon Loche",
          "Cabernet Sauvignon/Maipo Valley",
          "Pinot Noir/Marlborough",
          "Cabernet Sauvignon/Mendocino",
          "Red Blend/Mendocino",
          "Bonarda/Mendoza",
          "White/Menetou-Salon",
          "Côte de Beaune White/Meursault",
          "Red/Montefalco Sagrantino",
          "Montepulciano d'Abruzzo/Montepulciano d'Abruzzo",
          "Red/Morgon",
          "Riesling/Mosel",
          "Bordeaux Blend/Napa Valley",
          "Red/Nardo",
          "Sauvignon Blanc/New Zealand",
          "Grüner Veltliner/Niederosterreich [Lower Austria]",
          "Red Blend/North Coast",
          "Chardonnay/Paarl",
          "Syrah/Paarl",
          "Grauburgunder/Pfalz",
          "Pinot Blanc/Pfalz",
          "Spätburgunder/Pfalz",
          "Priorat Red/Priorat",
          "White/Provincia di Pavia IGT",
          "Red Blend/Redwood Valley",
          "Riesling/Rheingau",
          "Albariño/Rias Baixas",
          "Mencia/Ribeira Sacra",
          "Ribera Del Duero Red/Ribera del Duero",
          "Red/Romagna",
          "Verdejo/Rueda",
          "White/Saint-Bris",
          "Saint-Émilion/Saint-Emilion Grand Cru",
          "Cava/Serra Gaucha",
          "Nebbiolo/Sforzato di Valtellina",
          "Red/Sicily",
          "Riesling/Sierra Foothills",
          "Soave/Soave Classico",
          "Chardonnay/Sonoma Coast",
          "Sauvignon Blanc/Sonoma County",
          "Chardonnay/South Africa",
          "Red/Spain",
          "Chenin Blanc/Stellenbosch",
          "Pinotage/Swartland",
          "Red/Toro",
          "Red/Toscana IGT",
          "Bordeaux Blend/Uco Valley",
          "Red/Valencia",
          "Red/Veneto",
          "Pinot Grigio/Veneto IGT",
          "Red/Ventoux",
          "White/Verdicchio dei Castelli di Jesi Classico",
          "Zweigelt/Wagram",
          "Riesling/Westhofen",
          "Chardonnay/Willamette Valley",
          "Riesling/Winningen",
          "Albariño",
          "Barolo",
          "Bonarda",
          "Bordeaux Blend",
          "Brunello",
          "Cabernet Sauvignon",
          "Cava",
          "Chablis",
          "Champagne",
          "Chardonnay",
          "Chasselas",
          "Chenin Blanc",
          "Chianti",
          "Cremant",
          "Côte de Beaune White",
          "Côte-Rotie",
          "Dão Red",
          "Grauburgunder",
          "Graves Red",
          "Grüner Veltliner",
          "Macônnais White",
          "Mencia",
          "Merlot",
          "Montepulciano d'Abruzzo",
          "Müller Thurgau",
          "Nebbiolo",
          "Pinot Blanc",
          "Pinot Grigio",
          "Pinot Gris",
          "Pinot Noir",
          "Pinotage",
          "Priorat Red",
          "Prosecco",
          "Red",
          "Red Blend",
          "Ribera Del Duero Red",
          "Riesling",
          "Rioja Red",
          "Rosé",
          "Saint-Émilion",
          "Sauvignon Blanc",
          "Soave",
          "Spätburgunder",
          "Syrah",
          "Torrontes",
          "Verdejo",
          "White",
          "Zweigelt"
         ],
         "labels": [
          "Alexander Valley",
          "Alsace",
          "Alsace",
          "Alsace",
          "Altamira",
          "Alto Adige Terlano",
          "Baden",
          "Barolo",
          "Beaujolais Villages",
          "Bordeaux",
          "Bouzeron",
          "Brunello di Montalcino",
          "Cafayate - Calchaqui Valley",
          "California",
          "Campania IGT",
          "Carema",
          "Carneros",
          "Cava",
          "Central Valley - Chile",
          "Chablis",
          "Chablis Grand Cru Preuses",
          "Champagne Brut",
          "Champagne Brut Nature - Zero",
          "Champagne Extra Brut",
          "Champagne Rose",
          "Chianti",
          "Chianti Classico",
          "Chiroubles",
          "Clare Valley",
          "Colli Berici",
          "Colline Novaresi",
          "Columbia Valley",
          "Conegliano Valdobbiadene Prosecco",
          "Coste della Sesia",
          "Costers del Segre",
          "Costieres de Nimes",
          "Cote Rotie",
          "Cotes de Provence",
          "Cotes du Roussillon",
          "Cremant de Bourgogne",
          "Curico Valley",
          "Dao",
          "Dundee Hills",
          "Erbaluce di Caluso",
          "Finger Lakes",
          "Friuli-Venezia Giulia",
          "Friuli-Venezia Giulia",
          "Gattinara",
          "Graves",
          "Hawke's Bay",
          "IGP Pays d'Herault Cotes du Brian",
          "Kremstal",
          "Kumeu",
          "La Cote [Vaud]",
          "Langhe Nebbiolo",
          "Lazio IGT",
          "Macon Loche",
          "Maipo Valley",
          "Marlborough",
          "Mendocino",
          "Mendocino",
          "Mendoza",
          "Menetou-Salon",
          "Meursault",
          "Montefalco Sagrantino",
          "Montepulciano d'Abruzzo",
          "Morgon",
          "Mosel",
          "Napa Valley",
          "Nardo",
          "New Zealand",
          "Niederosterreich [Lower Austria]",
          "North Coast",
          "Paarl",
          "Paarl",
          "Pfalz",
          "Pfalz",
          "Pfalz",
          "Priorat",
          "Provincia di Pavia IGT",
          "Redwood Valley",
          "Rheingau",
          "Rias Baixas",
          "Ribeira Sacra",
          "Ribera del Duero",
          "Romagna",
          "Rueda",
          "Saint-Bris",
          "Saint-Emilion Grand Cru",
          "Serra Gaucha",
          "Sforzato di Valtellina",
          "Sicily",
          "Sierra Foothills",
          "Soave Classico",
          "Sonoma Coast",
          "Sonoma County",
          "South Africa",
          "Spain",
          "Stellenbosch",
          "Swartland",
          "Toro",
          "Toscana IGT",
          "Uco Valley",
          "Valencia",
          "Veneto",
          "Veneto IGT",
          "Ventoux",
          "Verdicchio dei Castelli di Jesi Classico",
          "Wagram",
          "Westhofen",
          "Willamette Valley",
          "Winningen",
          "Albariño",
          "Barolo",
          "Bonarda",
          "Bordeaux Blend",
          "Brunello",
          "Cabernet Sauvignon",
          "Cava",
          "Chablis",
          "Champagne",
          "Chardonnay",
          "Chasselas",
          "Chenin Blanc",
          "Chianti",
          "Cremant",
          "Côte de Beaune White",
          "Côte-Rotie",
          "Dão Red",
          "Grauburgunder",
          "Graves Red",
          "Grüner Veltliner",
          "Macônnais White",
          "Mencia",
          "Merlot",
          "Montepulciano d'Abruzzo",
          "Müller Thurgau",
          "Nebbiolo",
          "Pinot Blanc",
          "Pinot Grigio",
          "Pinot Gris",
          "Pinot Noir",
          "Pinotage",
          "Priorat Red",
          "Prosecco",
          "Red",
          "Red Blend",
          "Ribera Del Duero Red",
          "Riesling",
          "Rioja Red",
          "Rosé",
          "Saint-Émilion",
          "Sauvignon Blanc",
          "Soave",
          "Spätburgunder",
          "Syrah",
          "Torrontes",
          "Verdejo",
          "White",
          "Zweigelt"
         ],
         "name": "",
         "parents": [
          "Merlot",
          "Pinot Blanc",
          "Pinot Noir",
          "Riesling",
          "Rioja Red",
          "White",
          "Müller Thurgau",
          "Barolo",
          "Red",
          "White",
          "White",
          "Brunello",
          "Torrontes",
          "Chardonnay",
          "White",
          "Nebbiolo",
          "Chardonnay",
          "Cava",
          "Sauvignon Blanc",
          "Chablis",
          "Chablis",
          "Champagne",
          "Champagne",
          "Champagne",
          "Champagne",
          "Chianti",
          "Chianti",
          "Red",
          "Riesling",
          "Red",
          "Nebbiolo",
          "Cabernet Sauvignon",
          "Prosecco",
          "Red",
          "Albariño",
          "Red",
          "Côte-Rotie",
          "Rosé",
          "White",
          "Cremant",
          "Syrah",
          "Dão Red",
          "Pinot Gris",
          "White",
          "Chardonnay",
          "Pinot Grigio",
          "White",
          "Nebbiolo",
          "Graves Red",
          "Sauvignon Blanc",
          "White",
          "Riesling",
          "Chardonnay",
          "Chasselas",
          "Nebbiolo",
          "White",
          "Macônnais White",
          "Cabernet Sauvignon",
          "Pinot Noir",
          "Cabernet Sauvignon",
          "Red Blend",
          "Bonarda",
          "White",
          "Côte de Beaune White",
          "Red",
          "Montepulciano d'Abruzzo",
          "Red",
          "Riesling",
          "Bordeaux Blend",
          "Red",
          "Sauvignon Blanc",
          "Grüner Veltliner",
          "Red Blend",
          "Chardonnay",
          "Syrah",
          "Grauburgunder",
          "Pinot Blanc",
          "Spätburgunder",
          "Priorat Red",
          "White",
          "Red Blend",
          "Riesling",
          "Albariño",
          "Mencia",
          "Ribera Del Duero Red",
          "Red",
          "Verdejo",
          "White",
          "Saint-Émilion",
          "Cava",
          "Nebbiolo",
          "Red",
          "Riesling",
          "Soave",
          "Chardonnay",
          "Sauvignon Blanc",
          "Chardonnay",
          "Red",
          "Chenin Blanc",
          "Pinotage",
          "Red",
          "Red",
          "Bordeaux Blend",
          "Red",
          "Red",
          "Pinot Grigio",
          "Red",
          "White",
          "Zweigelt",
          "Riesling",
          "Chardonnay",
          "Riesling",
          "",
          "",
          "",
          "",
          "",
          "",
          "",
          "",
          "",
          "",
          "",
          "",
          "",
          "",
          "",
          "",
          "",
          "",
          "",
          "",
          "",
          "",
          "",
          "",
          "",
          "",
          "",
          "",
          "",
          "",
          "",
          "",
          "",
          "",
          "",
          "",
          "",
          "",
          "",
          "",
          "",
          "",
          "",
          "",
          "",
          "",
          "",
          ""
         ],
         "type": "sunburst",
         "values": [
          1,
          1,
          1,
          2,
          1,
          1,
          1,
          3,
          1,
          1,
          1,
          1,
          1,
          1,
          1,
          1,
          1,
          2,
          1,
          2,
          1,
          1,
          1,
          1,
          1,
          1,
          2,
          1,
          1,
          1,
          1,
          1,
          2,
          1,
          1,
          1,
          1,
          1,
          1,
          1,
          1,
          1,
          1,
          1,
          1,
          1,
          1,
          2,
          1,
          1,
          1,
          1,
          1,
          1,
          1,
          1,
          1,
          1,
          1,
          1,
          1,
          1,
          2,
          1,
          1,
          2,
          1,
          2,
          1,
          1,
          1,
          1,
          1,
          1,
          1,
          1,
          1,
          2,
          2,
          1,
          1,
          2,
          1,
          1,
          1,
          1,
          1,
          1,
          1,
          1,
          1,
          1,
          1,
          1,
          1,
          1,
          1,
          1,
          1,
          1,
          1,
          2,
          1,
          1,
          1,
          1,
          1,
          1,
          1,
          1,
          2,
          1,
          2,
          3,
          1,
          2,
          1,
          3,
          3,
          3,
          4,
          9,
          1,
          1,
          3,
          1,
          1,
          1,
          1,
          1,
          1,
          1,
          1,
          1,
          1,
          2,
          1,
          6,
          2,
          2,
          1,
          2,
          1,
          2,
          2,
          17,
          3,
          1,
          11,
          1,
          1,
          1,
          4,
          1,
          2,
          2,
          1,
          1,
          14,
          1
         ]
        }
       ],
       "layout": {
        "legend": {
         "tracegroupgap": 0
        },
        "margin": {
         "t": 60
        },
        "template": {
         "data": {
          "bar": [
           {
            "error_x": {
             "color": "#2a3f5f"
            },
            "error_y": {
             "color": "#2a3f5f"
            },
            "marker": {
             "line": {
              "color": "#E5ECF6",
              "width": 0.5
             }
            },
            "type": "bar"
           }
          ],
          "barpolar": [
           {
            "marker": {
             "line": {
              "color": "#E5ECF6",
              "width": 0.5
             }
            },
            "type": "barpolar"
           }
          ],
          "carpet": [
           {
            "aaxis": {
             "endlinecolor": "#2a3f5f",
             "gridcolor": "white",
             "linecolor": "white",
             "minorgridcolor": "white",
             "startlinecolor": "#2a3f5f"
            },
            "baxis": {
             "endlinecolor": "#2a3f5f",
             "gridcolor": "white",
             "linecolor": "white",
             "minorgridcolor": "white",
             "startlinecolor": "#2a3f5f"
            },
            "type": "carpet"
           }
          ],
          "choropleth": [
           {
            "colorbar": {
             "outlinewidth": 0,
             "ticks": ""
            },
            "type": "choropleth"
           }
          ],
          "contour": [
           {
            "colorbar": {
             "outlinewidth": 0,
             "ticks": ""
            },
            "colorscale": [
             [
              0,
              "#0d0887"
             ],
             [
              0.1111111111111111,
              "#46039f"
             ],
             [
              0.2222222222222222,
              "#7201a8"
             ],
             [
              0.3333333333333333,
              "#9c179e"
             ],
             [
              0.4444444444444444,
              "#bd3786"
             ],
             [
              0.5555555555555556,
              "#d8576b"
             ],
             [
              0.6666666666666666,
              "#ed7953"
             ],
             [
              0.7777777777777778,
              "#fb9f3a"
             ],
             [
              0.8888888888888888,
              "#fdca26"
             ],
             [
              1,
              "#f0f921"
             ]
            ],
            "type": "contour"
           }
          ],
          "contourcarpet": [
           {
            "colorbar": {
             "outlinewidth": 0,
             "ticks": ""
            },
            "type": "contourcarpet"
           }
          ],
          "heatmap": [
           {
            "colorbar": {
             "outlinewidth": 0,
             "ticks": ""
            },
            "colorscale": [
             [
              0,
              "#0d0887"
             ],
             [
              0.1111111111111111,
              "#46039f"
             ],
             [
              0.2222222222222222,
              "#7201a8"
             ],
             [
              0.3333333333333333,
              "#9c179e"
             ],
             [
              0.4444444444444444,
              "#bd3786"
             ],
             [
              0.5555555555555556,
              "#d8576b"
             ],
             [
              0.6666666666666666,
              "#ed7953"
             ],
             [
              0.7777777777777778,
              "#fb9f3a"
             ],
             [
              0.8888888888888888,
              "#fdca26"
             ],
             [
              1,
              "#f0f921"
             ]
            ],
            "type": "heatmap"
           }
          ],
          "heatmapgl": [
           {
            "colorbar": {
             "outlinewidth": 0,
             "ticks": ""
            },
            "colorscale": [
             [
              0,
              "#0d0887"
             ],
             [
              0.1111111111111111,
              "#46039f"
             ],
             [
              0.2222222222222222,
              "#7201a8"
             ],
             [
              0.3333333333333333,
              "#9c179e"
             ],
             [
              0.4444444444444444,
              "#bd3786"
             ],
             [
              0.5555555555555556,
              "#d8576b"
             ],
             [
              0.6666666666666666,
              "#ed7953"
             ],
             [
              0.7777777777777778,
              "#fb9f3a"
             ],
             [
              0.8888888888888888,
              "#fdca26"
             ],
             [
              1,
              "#f0f921"
             ]
            ],
            "type": "heatmapgl"
           }
          ],
          "histogram": [
           {
            "marker": {
             "colorbar": {
              "outlinewidth": 0,
              "ticks": ""
             }
            },
            "type": "histogram"
           }
          ],
          "histogram2d": [
           {
            "colorbar": {
             "outlinewidth": 0,
             "ticks": ""
            },
            "colorscale": [
             [
              0,
              "#0d0887"
             ],
             [
              0.1111111111111111,
              "#46039f"
             ],
             [
              0.2222222222222222,
              "#7201a8"
             ],
             [
              0.3333333333333333,
              "#9c179e"
             ],
             [
              0.4444444444444444,
              "#bd3786"
             ],
             [
              0.5555555555555556,
              "#d8576b"
             ],
             [
              0.6666666666666666,
              "#ed7953"
             ],
             [
              0.7777777777777778,
              "#fb9f3a"
             ],
             [
              0.8888888888888888,
              "#fdca26"
             ],
             [
              1,
              "#f0f921"
             ]
            ],
            "type": "histogram2d"
           }
          ],
          "histogram2dcontour": [
           {
            "colorbar": {
             "outlinewidth": 0,
             "ticks": ""
            },
            "colorscale": [
             [
              0,
              "#0d0887"
             ],
             [
              0.1111111111111111,
              "#46039f"
             ],
             [
              0.2222222222222222,
              "#7201a8"
             ],
             [
              0.3333333333333333,
              "#9c179e"
             ],
             [
              0.4444444444444444,
              "#bd3786"
             ],
             [
              0.5555555555555556,
              "#d8576b"
             ],
             [
              0.6666666666666666,
              "#ed7953"
             ],
             [
              0.7777777777777778,
              "#fb9f3a"
             ],
             [
              0.8888888888888888,
              "#fdca26"
             ],
             [
              1,
              "#f0f921"
             ]
            ],
            "type": "histogram2dcontour"
           }
          ],
          "mesh3d": [
           {
            "colorbar": {
             "outlinewidth": 0,
             "ticks": ""
            },
            "type": "mesh3d"
           }
          ],
          "parcoords": [
           {
            "line": {
             "colorbar": {
              "outlinewidth": 0,
              "ticks": ""
             }
            },
            "type": "parcoords"
           }
          ],
          "pie": [
           {
            "automargin": true,
            "type": "pie"
           }
          ],
          "scatter": [
           {
            "marker": {
             "colorbar": {
              "outlinewidth": 0,
              "ticks": ""
             }
            },
            "type": "scatter"
           }
          ],
          "scatter3d": [
           {
            "line": {
             "colorbar": {
              "outlinewidth": 0,
              "ticks": ""
             }
            },
            "marker": {
             "colorbar": {
              "outlinewidth": 0,
              "ticks": ""
             }
            },
            "type": "scatter3d"
           }
          ],
          "scattercarpet": [
           {
            "marker": {
             "colorbar": {
              "outlinewidth": 0,
              "ticks": ""
             }
            },
            "type": "scattercarpet"
           }
          ],
          "scattergeo": [
           {
            "marker": {
             "colorbar": {
              "outlinewidth": 0,
              "ticks": ""
             }
            },
            "type": "scattergeo"
           }
          ],
          "scattergl": [
           {
            "marker": {
             "colorbar": {
              "outlinewidth": 0,
              "ticks": ""
             }
            },
            "type": "scattergl"
           }
          ],
          "scattermapbox": [
           {
            "marker": {
             "colorbar": {
              "outlinewidth": 0,
              "ticks": ""
             }
            },
            "type": "scattermapbox"
           }
          ],
          "scatterpolar": [
           {
            "marker": {
             "colorbar": {
              "outlinewidth": 0,
              "ticks": ""
             }
            },
            "type": "scatterpolar"
           }
          ],
          "scatterpolargl": [
           {
            "marker": {
             "colorbar": {
              "outlinewidth": 0,
              "ticks": ""
             }
            },
            "type": "scatterpolargl"
           }
          ],
          "scatterternary": [
           {
            "marker": {
             "colorbar": {
              "outlinewidth": 0,
              "ticks": ""
             }
            },
            "type": "scatterternary"
           }
          ],
          "surface": [
           {
            "colorbar": {
             "outlinewidth": 0,
             "ticks": ""
            },
            "colorscale": [
             [
              0,
              "#0d0887"
             ],
             [
              0.1111111111111111,
              "#46039f"
             ],
             [
              0.2222222222222222,
              "#7201a8"
             ],
             [
              0.3333333333333333,
              "#9c179e"
             ],
             [
              0.4444444444444444,
              "#bd3786"
             ],
             [
              0.5555555555555556,
              "#d8576b"
             ],
             [
              0.6666666666666666,
              "#ed7953"
             ],
             [
              0.7777777777777778,
              "#fb9f3a"
             ],
             [
              0.8888888888888888,
              "#fdca26"
             ],
             [
              1,
              "#f0f921"
             ]
            ],
            "type": "surface"
           }
          ],
          "table": [
           {
            "cells": {
             "fill": {
              "color": "#EBF0F8"
             },
             "line": {
              "color": "white"
             }
            },
            "header": {
             "fill": {
              "color": "#C8D4E3"
             },
             "line": {
              "color": "white"
             }
            },
            "type": "table"
           }
          ]
         },
         "layout": {
          "annotationdefaults": {
           "arrowcolor": "#2a3f5f",
           "arrowhead": 0,
           "arrowwidth": 1
          },
          "coloraxis": {
           "colorbar": {
            "outlinewidth": 0,
            "ticks": ""
           }
          },
          "colorscale": {
           "diverging": [
            [
             0,
             "#8e0152"
            ],
            [
             0.1,
             "#c51b7d"
            ],
            [
             0.2,
             "#de77ae"
            ],
            [
             0.3,
             "#f1b6da"
            ],
            [
             0.4,
             "#fde0ef"
            ],
            [
             0.5,
             "#f7f7f7"
            ],
            [
             0.6,
             "#e6f5d0"
            ],
            [
             0.7,
             "#b8e186"
            ],
            [
             0.8,
             "#7fbc41"
            ],
            [
             0.9,
             "#4d9221"
            ],
            [
             1,
             "#276419"
            ]
           ],
           "sequential": [
            [
             0,
             "#0d0887"
            ],
            [
             0.1111111111111111,
             "#46039f"
            ],
            [
             0.2222222222222222,
             "#7201a8"
            ],
            [
             0.3333333333333333,
             "#9c179e"
            ],
            [
             0.4444444444444444,
             "#bd3786"
            ],
            [
             0.5555555555555556,
             "#d8576b"
            ],
            [
             0.6666666666666666,
             "#ed7953"
            ],
            [
             0.7777777777777778,
             "#fb9f3a"
            ],
            [
             0.8888888888888888,
             "#fdca26"
            ],
            [
             1,
             "#f0f921"
            ]
           ],
           "sequentialminus": [
            [
             0,
             "#0d0887"
            ],
            [
             0.1111111111111111,
             "#46039f"
            ],
            [
             0.2222222222222222,
             "#7201a8"
            ],
            [
             0.3333333333333333,
             "#9c179e"
            ],
            [
             0.4444444444444444,
             "#bd3786"
            ],
            [
             0.5555555555555556,
             "#d8576b"
            ],
            [
             0.6666666666666666,
             "#ed7953"
            ],
            [
             0.7777777777777778,
             "#fb9f3a"
            ],
            [
             0.8888888888888888,
             "#fdca26"
            ],
            [
             1,
             "#f0f921"
            ]
           ]
          },
          "colorway": [
           "#636efa",
           "#EF553B",
           "#00cc96",
           "#ab63fa",
           "#FFA15A",
           "#19d3f3",
           "#FF6692",
           "#B6E880",
           "#FF97FF",
           "#FECB52"
          ],
          "font": {
           "color": "#2a3f5f"
          },
          "geo": {
           "bgcolor": "white",
           "lakecolor": "white",
           "landcolor": "#E5ECF6",
           "showlakes": true,
           "showland": true,
           "subunitcolor": "white"
          },
          "hoverlabel": {
           "align": "left"
          },
          "hovermode": "closest",
          "mapbox": {
           "style": "light"
          },
          "paper_bgcolor": "white",
          "plot_bgcolor": "#E5ECF6",
          "polar": {
           "angularaxis": {
            "gridcolor": "white",
            "linecolor": "white",
            "ticks": ""
           },
           "bgcolor": "#E5ECF6",
           "radialaxis": {
            "gridcolor": "white",
            "linecolor": "white",
            "ticks": ""
           }
          },
          "scene": {
           "xaxis": {
            "backgroundcolor": "#E5ECF6",
            "gridcolor": "white",
            "gridwidth": 2,
            "linecolor": "white",
            "showbackground": true,
            "ticks": "",
            "zerolinecolor": "white"
           },
           "yaxis": {
            "backgroundcolor": "#E5ECF6",
            "gridcolor": "white",
            "gridwidth": 2,
            "linecolor": "white",
            "showbackground": true,
            "ticks": "",
            "zerolinecolor": "white"
           },
           "zaxis": {
            "backgroundcolor": "#E5ECF6",
            "gridcolor": "white",
            "gridwidth": 2,
            "linecolor": "white",
            "showbackground": true,
            "ticks": "",
            "zerolinecolor": "white"
           }
          },
          "shapedefaults": {
           "line": {
            "color": "#2a3f5f"
           }
          },
          "ternary": {
           "aaxis": {
            "gridcolor": "white",
            "linecolor": "white",
            "ticks": ""
           },
           "baxis": {
            "gridcolor": "white",
            "linecolor": "white",
            "ticks": ""
           },
           "bgcolor": "#E5ECF6",
           "caxis": {
            "gridcolor": "white",
            "linecolor": "white",
            "ticks": ""
           }
          },
          "title": {
           "x": 0.05
          },
          "xaxis": {
           "automargin": true,
           "gridcolor": "white",
           "linecolor": "white",
           "ticks": "",
           "title": {
            "standoff": 15
           },
           "zerolinecolor": "white",
           "zerolinewidth": 2
          },
          "yaxis": {
           "automargin": true,
           "gridcolor": "white",
           "linecolor": "white",
           "ticks": "",
           "title": {
            "standoff": 15
           },
           "zerolinecolor": "white",
           "zerolinewidth": 2
          }
         }
        }
       }
      },
      "text/html": [
       "<div>\n",
       "        \n",
       "        \n",
       "            <div id=\"f5f33f59-757d-407b-b500-9255a28cfd5b\" class=\"plotly-graph-div\" style=\"height:525px; width:100%;\"></div>\n",
       "            <script type=\"text/javascript\">\n",
       "                require([\"plotly\"], function(Plotly) {\n",
       "                    window.PLOTLYENV=window.PLOTLYENV || {};\n",
       "                    \n",
       "                if (document.getElementById(\"f5f33f59-757d-407b-b500-9255a28cfd5b\")) {\n",
       "                    Plotly.newPlot(\n",
       "                        'f5f33f59-757d-407b-b500-9255a28cfd5b',\n",
       "                        [{\"branchvalues\": \"total\", \"domain\": {\"x\": [0.0, 1.0], \"y\": [0.0, 1.0]}, \"hovertemplate\": \"labels=%{label}<br>count=%{value}<br>parent=%{parent}<br>id=%{id}<extra></extra>\", \"ids\": [\"Merlot/Alexander Valley\", \"Pinot Blanc/Alsace\", \"Pinot Noir/Alsace\", \"Riesling/Alsace\", \"Rioja Red/Altamira\", \"White/Alto Adige Terlano\", \"M\\u00fcller Thurgau/Baden\", \"Barolo/Barolo\", \"Red/Beaujolais Villages\", \"White/Bordeaux\", \"White/Bouzeron\", \"Brunello/Brunello di Montalcino\", \"Torrontes/Cafayate - Calchaqui Valley\", \"Chardonnay/California\", \"White/Campania IGT\", \"Nebbiolo/Carema\", \"Chardonnay/Carneros\", \"Cava/Cava\", \"Sauvignon Blanc/Central Valley - Chile\", \"Chablis/Chablis\", \"Chablis/Chablis Grand Cru Preuses\", \"Champagne/Champagne Brut\", \"Champagne/Champagne Brut Nature - Zero\", \"Champagne/Champagne Extra Brut\", \"Champagne/Champagne Rose\", \"Chianti/Chianti\", \"Chianti/Chianti Classico\", \"Red/Chiroubles\", \"Riesling/Clare Valley\", \"Red/Colli Berici\", \"Nebbiolo/Colline Novaresi\", \"Cabernet Sauvignon/Columbia Valley\", \"Prosecco/Conegliano Valdobbiadene Prosecco\", \"Red/Coste della Sesia\", \"Albari\\u00f1o/Costers del Segre\", \"Red/Costieres de Nimes\", \"C\\u00f4te-Rotie/Cote Rotie\", \"Ros\\u00e9/Cotes de Provence\", \"White/Cotes du Roussillon\", \"Cremant/Cremant de Bourgogne\", \"Syrah/Curico Valley\", \"D\\u00e3o Red/Dao\", \"Pinot Gris/Dundee Hills\", \"White/Erbaluce di Caluso\", \"Chardonnay/Finger Lakes\", \"Pinot Grigio/Friuli-Venezia Giulia\", \"White/Friuli-Venezia Giulia\", \"Nebbiolo/Gattinara\", \"Graves Red/Graves\", \"Sauvignon Blanc/Hawke's Bay\", \"White/IGP Pays d'Herault Cotes du Brian\", \"Riesling/Kremstal\", \"Chardonnay/Kumeu\", \"Chasselas/La Cote [Vaud]\", \"Nebbiolo/Langhe Nebbiolo\", \"White/Lazio IGT\", \"Mac\\u00f4nnais White/Macon Loche\", \"Cabernet Sauvignon/Maipo Valley\", \"Pinot Noir/Marlborough\", \"Cabernet Sauvignon/Mendocino\", \"Red Blend/Mendocino\", \"Bonarda/Mendoza\", \"White/Menetou-Salon\", \"C\\u00f4te de Beaune White/Meursault\", \"Red/Montefalco Sagrantino\", \"Montepulciano d'Abruzzo/Montepulciano d'Abruzzo\", \"Red/Morgon\", \"Riesling/Mosel\", \"Bordeaux Blend/Napa Valley\", \"Red/Nardo\", \"Sauvignon Blanc/New Zealand\", \"Gr\\u00fcner Veltliner/Niederosterreich [Lower Austria]\", \"Red Blend/North Coast\", \"Chardonnay/Paarl\", \"Syrah/Paarl\", \"Grauburgunder/Pfalz\", \"Pinot Blanc/Pfalz\", \"Sp\\u00e4tburgunder/Pfalz\", \"Priorat Red/Priorat\", \"White/Provincia di Pavia IGT\", \"Red Blend/Redwood Valley\", \"Riesling/Rheingau\", \"Albari\\u00f1o/Rias Baixas\", \"Mencia/Ribeira Sacra\", \"Ribera Del Duero Red/Ribera del Duero\", \"Red/Romagna\", \"Verdejo/Rueda\", \"White/Saint-Bris\", \"Saint-\\u00c9milion/Saint-Emilion Grand Cru\", \"Cava/Serra Gaucha\", \"Nebbiolo/Sforzato di Valtellina\", \"Red/Sicily\", \"Riesling/Sierra Foothills\", \"Soave/Soave Classico\", \"Chardonnay/Sonoma Coast\", \"Sauvignon Blanc/Sonoma County\", \"Chardonnay/South Africa\", \"Red/Spain\", \"Chenin Blanc/Stellenbosch\", \"Pinotage/Swartland\", \"Red/Toro\", \"Red/Toscana IGT\", \"Bordeaux Blend/Uco Valley\", \"Red/Valencia\", \"Red/Veneto\", \"Pinot Grigio/Veneto IGT\", \"Red/Ventoux\", \"White/Verdicchio dei Castelli di Jesi Classico\", \"Zweigelt/Wagram\", \"Riesling/Westhofen\", \"Chardonnay/Willamette Valley\", \"Riesling/Winningen\", \"Albari\\u00f1o\", \"Barolo\", \"Bonarda\", \"Bordeaux Blend\", \"Brunello\", \"Cabernet Sauvignon\", \"Cava\", \"Chablis\", \"Champagne\", \"Chardonnay\", \"Chasselas\", \"Chenin Blanc\", \"Chianti\", \"Cremant\", \"C\\u00f4te de Beaune White\", \"C\\u00f4te-Rotie\", \"D\\u00e3o Red\", \"Grauburgunder\", \"Graves Red\", \"Gr\\u00fcner Veltliner\", \"Mac\\u00f4nnais White\", \"Mencia\", \"Merlot\", \"Montepulciano d'Abruzzo\", \"M\\u00fcller Thurgau\", \"Nebbiolo\", \"Pinot Blanc\", \"Pinot Grigio\", \"Pinot Gris\", \"Pinot Noir\", \"Pinotage\", \"Priorat Red\", \"Prosecco\", \"Red\", \"Red Blend\", \"Ribera Del Duero Red\", \"Riesling\", \"Rioja Red\", \"Ros\\u00e9\", \"Saint-\\u00c9milion\", \"Sauvignon Blanc\", \"Soave\", \"Sp\\u00e4tburgunder\", \"Syrah\", \"Torrontes\", \"Verdejo\", \"White\", \"Zweigelt\"], \"labels\": [\"Alexander Valley\", \"Alsace\", \"Alsace\", \"Alsace\", \"Altamira\", \"Alto Adige Terlano\", \"Baden\", \"Barolo\", \"Beaujolais Villages\", \"Bordeaux\", \"Bouzeron\", \"Brunello di Montalcino\", \"Cafayate - Calchaqui Valley\", \"California\", \"Campania IGT\", \"Carema\", \"Carneros\", \"Cava\", \"Central Valley - Chile\", \"Chablis\", \"Chablis Grand Cru Preuses\", \"Champagne Brut\", \"Champagne Brut Nature - Zero\", \"Champagne Extra Brut\", \"Champagne Rose\", \"Chianti\", \"Chianti Classico\", \"Chiroubles\", \"Clare Valley\", \"Colli Berici\", \"Colline Novaresi\", \"Columbia Valley\", \"Conegliano Valdobbiadene Prosecco\", \"Coste della Sesia\", \"Costers del Segre\", \"Costieres de Nimes\", \"Cote Rotie\", \"Cotes de Provence\", \"Cotes du Roussillon\", \"Cremant de Bourgogne\", \"Curico Valley\", \"Dao\", \"Dundee Hills\", \"Erbaluce di Caluso\", \"Finger Lakes\", \"Friuli-Venezia Giulia\", \"Friuli-Venezia Giulia\", \"Gattinara\", \"Graves\", \"Hawke's Bay\", \"IGP Pays d'Herault Cotes du Brian\", \"Kremstal\", \"Kumeu\", \"La Cote [Vaud]\", \"Langhe Nebbiolo\", \"Lazio IGT\", \"Macon Loche\", \"Maipo Valley\", \"Marlborough\", \"Mendocino\", \"Mendocino\", \"Mendoza\", \"Menetou-Salon\", \"Meursault\", \"Montefalco Sagrantino\", \"Montepulciano d'Abruzzo\", \"Morgon\", \"Mosel\", \"Napa Valley\", \"Nardo\", \"New Zealand\", \"Niederosterreich [Lower Austria]\", \"North Coast\", \"Paarl\", \"Paarl\", \"Pfalz\", \"Pfalz\", \"Pfalz\", \"Priorat\", \"Provincia di Pavia IGT\", \"Redwood Valley\", \"Rheingau\", \"Rias Baixas\", \"Ribeira Sacra\", \"Ribera del Duero\", \"Romagna\", \"Rueda\", \"Saint-Bris\", \"Saint-Emilion Grand Cru\", \"Serra Gaucha\", \"Sforzato di Valtellina\", \"Sicily\", \"Sierra Foothills\", \"Soave Classico\", \"Sonoma Coast\", \"Sonoma County\", \"South Africa\", \"Spain\", \"Stellenbosch\", \"Swartland\", \"Toro\", \"Toscana IGT\", \"Uco Valley\", \"Valencia\", \"Veneto\", \"Veneto IGT\", \"Ventoux\", \"Verdicchio dei Castelli di Jesi Classico\", \"Wagram\", \"Westhofen\", \"Willamette Valley\", \"Winningen\", \"Albari\\u00f1o\", \"Barolo\", \"Bonarda\", \"Bordeaux Blend\", \"Brunello\", \"Cabernet Sauvignon\", \"Cava\", \"Chablis\", \"Champagne\", \"Chardonnay\", \"Chasselas\", \"Chenin Blanc\", \"Chianti\", \"Cremant\", \"C\\u00f4te de Beaune White\", \"C\\u00f4te-Rotie\", \"D\\u00e3o Red\", \"Grauburgunder\", \"Graves Red\", \"Gr\\u00fcner Veltliner\", \"Mac\\u00f4nnais White\", \"Mencia\", \"Merlot\", \"Montepulciano d'Abruzzo\", \"M\\u00fcller Thurgau\", \"Nebbiolo\", \"Pinot Blanc\", \"Pinot Grigio\", \"Pinot Gris\", \"Pinot Noir\", \"Pinotage\", \"Priorat Red\", \"Prosecco\", \"Red\", \"Red Blend\", \"Ribera Del Duero Red\", \"Riesling\", \"Rioja Red\", \"Ros\\u00e9\", \"Saint-\\u00c9milion\", \"Sauvignon Blanc\", \"Soave\", \"Sp\\u00e4tburgunder\", \"Syrah\", \"Torrontes\", \"Verdejo\", \"White\", \"Zweigelt\"], \"name\": \"\", \"parents\": [\"Merlot\", \"Pinot Blanc\", \"Pinot Noir\", \"Riesling\", \"Rioja Red\", \"White\", \"M\\u00fcller Thurgau\", \"Barolo\", \"Red\", \"White\", \"White\", \"Brunello\", \"Torrontes\", \"Chardonnay\", \"White\", \"Nebbiolo\", \"Chardonnay\", \"Cava\", \"Sauvignon Blanc\", \"Chablis\", \"Chablis\", \"Champagne\", \"Champagne\", \"Champagne\", \"Champagne\", \"Chianti\", \"Chianti\", \"Red\", \"Riesling\", \"Red\", \"Nebbiolo\", \"Cabernet Sauvignon\", \"Prosecco\", \"Red\", \"Albari\\u00f1o\", \"Red\", \"C\\u00f4te-Rotie\", \"Ros\\u00e9\", \"White\", \"Cremant\", \"Syrah\", \"D\\u00e3o Red\", \"Pinot Gris\", \"White\", \"Chardonnay\", \"Pinot Grigio\", \"White\", \"Nebbiolo\", \"Graves Red\", \"Sauvignon Blanc\", \"White\", \"Riesling\", \"Chardonnay\", \"Chasselas\", \"Nebbiolo\", \"White\", \"Mac\\u00f4nnais White\", \"Cabernet Sauvignon\", \"Pinot Noir\", \"Cabernet Sauvignon\", \"Red Blend\", \"Bonarda\", \"White\", \"C\\u00f4te de Beaune White\", \"Red\", \"Montepulciano d'Abruzzo\", \"Red\", \"Riesling\", \"Bordeaux Blend\", \"Red\", \"Sauvignon Blanc\", \"Gr\\u00fcner Veltliner\", \"Red Blend\", \"Chardonnay\", \"Syrah\", \"Grauburgunder\", \"Pinot Blanc\", \"Sp\\u00e4tburgunder\", \"Priorat Red\", \"White\", \"Red Blend\", \"Riesling\", \"Albari\\u00f1o\", \"Mencia\", \"Ribera Del Duero Red\", \"Red\", \"Verdejo\", \"White\", \"Saint-\\u00c9milion\", \"Cava\", \"Nebbiolo\", \"Red\", \"Riesling\", \"Soave\", \"Chardonnay\", \"Sauvignon Blanc\", \"Chardonnay\", \"Red\", \"Chenin Blanc\", \"Pinotage\", \"Red\", \"Red\", \"Bordeaux Blend\", \"Red\", \"Red\", \"Pinot Grigio\", \"Red\", \"White\", \"Zweigelt\", \"Riesling\", \"Chardonnay\", \"Riesling\", \"\", \"\", \"\", \"\", \"\", \"\", \"\", \"\", \"\", \"\", \"\", \"\", \"\", \"\", \"\", \"\", \"\", \"\", \"\", \"\", \"\", \"\", \"\", \"\", \"\", \"\", \"\", \"\", \"\", \"\", \"\", \"\", \"\", \"\", \"\", \"\", \"\", \"\", \"\", \"\", \"\", \"\", \"\", \"\", \"\", \"\", \"\", \"\"], \"type\": \"sunburst\", \"values\": [1, 1, 1, 2, 1, 1, 1, 3, 1, 1, 1, 1, 1, 1, 1, 1, 1, 2, 1, 2, 1, 1, 1, 1, 1, 1, 2, 1, 1, 1, 1, 1, 2, 1, 1, 1, 1, 1, 1, 1, 1, 1, 1, 1, 1, 1, 1, 2, 1, 1, 1, 1, 1, 1, 1, 1, 1, 1, 1, 1, 1, 1, 2, 1, 1, 2, 1, 2, 1, 1, 1, 1, 1, 1, 1, 1, 1, 2, 2, 1, 1, 2, 1, 1, 1, 1, 1, 1, 1, 1, 1, 1, 1, 1, 1, 1, 1, 1, 1, 1, 1, 2, 1, 1, 1, 1, 1, 1, 1, 1, 2, 1, 2, 3, 1, 2, 1, 3, 3, 3, 4, 9, 1, 1, 3, 1, 1, 1, 1, 1, 1, 1, 1, 1, 1, 2, 1, 6, 2, 2, 1, 2, 1, 2, 2, 17, 3, 1, 11, 1, 1, 1, 4, 1, 2, 2, 1, 1, 14, 1]}],\n",
       "                        {\"legend\": {\"tracegroupgap\": 0}, \"margin\": {\"t\": 60}, \"template\": {\"data\": {\"bar\": [{\"error_x\": {\"color\": \"#2a3f5f\"}, \"error_y\": {\"color\": \"#2a3f5f\"}, \"marker\": {\"line\": {\"color\": \"#E5ECF6\", \"width\": 0.5}}, \"type\": \"bar\"}], \"barpolar\": [{\"marker\": {\"line\": {\"color\": \"#E5ECF6\", \"width\": 0.5}}, \"type\": \"barpolar\"}], \"carpet\": [{\"aaxis\": {\"endlinecolor\": \"#2a3f5f\", \"gridcolor\": \"white\", \"linecolor\": \"white\", \"minorgridcolor\": \"white\", \"startlinecolor\": \"#2a3f5f\"}, \"baxis\": {\"endlinecolor\": \"#2a3f5f\", \"gridcolor\": \"white\", \"linecolor\": \"white\", \"minorgridcolor\": \"white\", \"startlinecolor\": \"#2a3f5f\"}, \"type\": \"carpet\"}], \"choropleth\": [{\"colorbar\": {\"outlinewidth\": 0, \"ticks\": \"\"}, \"type\": \"choropleth\"}], \"contour\": [{\"colorbar\": {\"outlinewidth\": 0, \"ticks\": \"\"}, \"colorscale\": [[0.0, \"#0d0887\"], [0.1111111111111111, \"#46039f\"], [0.2222222222222222, \"#7201a8\"], [0.3333333333333333, \"#9c179e\"], [0.4444444444444444, \"#bd3786\"], [0.5555555555555556, \"#d8576b\"], [0.6666666666666666, \"#ed7953\"], [0.7777777777777778, \"#fb9f3a\"], [0.8888888888888888, \"#fdca26\"], [1.0, \"#f0f921\"]], \"type\": \"contour\"}], \"contourcarpet\": [{\"colorbar\": {\"outlinewidth\": 0, \"ticks\": \"\"}, \"type\": \"contourcarpet\"}], \"heatmap\": [{\"colorbar\": {\"outlinewidth\": 0, \"ticks\": \"\"}, \"colorscale\": [[0.0, \"#0d0887\"], [0.1111111111111111, \"#46039f\"], [0.2222222222222222, \"#7201a8\"], [0.3333333333333333, \"#9c179e\"], [0.4444444444444444, \"#bd3786\"], [0.5555555555555556, \"#d8576b\"], [0.6666666666666666, \"#ed7953\"], [0.7777777777777778, \"#fb9f3a\"], [0.8888888888888888, \"#fdca26\"], [1.0, \"#f0f921\"]], \"type\": \"heatmap\"}], \"heatmapgl\": [{\"colorbar\": {\"outlinewidth\": 0, \"ticks\": \"\"}, \"colorscale\": [[0.0, \"#0d0887\"], [0.1111111111111111, \"#46039f\"], [0.2222222222222222, \"#7201a8\"], [0.3333333333333333, \"#9c179e\"], [0.4444444444444444, \"#bd3786\"], [0.5555555555555556, \"#d8576b\"], [0.6666666666666666, \"#ed7953\"], [0.7777777777777778, \"#fb9f3a\"], [0.8888888888888888, \"#fdca26\"], [1.0, \"#f0f921\"]], \"type\": \"heatmapgl\"}], \"histogram\": [{\"marker\": {\"colorbar\": {\"outlinewidth\": 0, \"ticks\": \"\"}}, \"type\": \"histogram\"}], \"histogram2d\": [{\"colorbar\": {\"outlinewidth\": 0, \"ticks\": \"\"}, \"colorscale\": [[0.0, \"#0d0887\"], [0.1111111111111111, \"#46039f\"], [0.2222222222222222, \"#7201a8\"], [0.3333333333333333, \"#9c179e\"], [0.4444444444444444, \"#bd3786\"], [0.5555555555555556, \"#d8576b\"], [0.6666666666666666, \"#ed7953\"], [0.7777777777777778, \"#fb9f3a\"], [0.8888888888888888, \"#fdca26\"], [1.0, \"#f0f921\"]], \"type\": \"histogram2d\"}], \"histogram2dcontour\": [{\"colorbar\": {\"outlinewidth\": 0, \"ticks\": \"\"}, \"colorscale\": [[0.0, \"#0d0887\"], [0.1111111111111111, \"#46039f\"], [0.2222222222222222, \"#7201a8\"], [0.3333333333333333, \"#9c179e\"], [0.4444444444444444, \"#bd3786\"], [0.5555555555555556, \"#d8576b\"], [0.6666666666666666, \"#ed7953\"], [0.7777777777777778, \"#fb9f3a\"], [0.8888888888888888, \"#fdca26\"], [1.0, \"#f0f921\"]], \"type\": \"histogram2dcontour\"}], \"mesh3d\": [{\"colorbar\": {\"outlinewidth\": 0, \"ticks\": \"\"}, \"type\": \"mesh3d\"}], \"parcoords\": [{\"line\": {\"colorbar\": {\"outlinewidth\": 0, \"ticks\": \"\"}}, \"type\": \"parcoords\"}], \"pie\": [{\"automargin\": true, \"type\": \"pie\"}], \"scatter\": [{\"marker\": {\"colorbar\": {\"outlinewidth\": 0, \"ticks\": \"\"}}, \"type\": \"scatter\"}], \"scatter3d\": [{\"line\": {\"colorbar\": {\"outlinewidth\": 0, \"ticks\": \"\"}}, \"marker\": {\"colorbar\": {\"outlinewidth\": 0, \"ticks\": \"\"}}, \"type\": \"scatter3d\"}], \"scattercarpet\": [{\"marker\": {\"colorbar\": {\"outlinewidth\": 0, \"ticks\": \"\"}}, \"type\": \"scattercarpet\"}], \"scattergeo\": [{\"marker\": {\"colorbar\": {\"outlinewidth\": 0, \"ticks\": \"\"}}, \"type\": \"scattergeo\"}], \"scattergl\": [{\"marker\": {\"colorbar\": {\"outlinewidth\": 0, \"ticks\": \"\"}}, \"type\": \"scattergl\"}], \"scattermapbox\": [{\"marker\": {\"colorbar\": {\"outlinewidth\": 0, \"ticks\": \"\"}}, \"type\": \"scattermapbox\"}], \"scatterpolar\": [{\"marker\": {\"colorbar\": {\"outlinewidth\": 0, \"ticks\": \"\"}}, \"type\": \"scatterpolar\"}], \"scatterpolargl\": [{\"marker\": {\"colorbar\": {\"outlinewidth\": 0, \"ticks\": \"\"}}, \"type\": \"scatterpolargl\"}], \"scatterternary\": [{\"marker\": {\"colorbar\": {\"outlinewidth\": 0, \"ticks\": \"\"}}, \"type\": \"scatterternary\"}], \"surface\": [{\"colorbar\": {\"outlinewidth\": 0, \"ticks\": \"\"}, \"colorscale\": [[0.0, \"#0d0887\"], [0.1111111111111111, \"#46039f\"], [0.2222222222222222, \"#7201a8\"], [0.3333333333333333, \"#9c179e\"], [0.4444444444444444, \"#bd3786\"], [0.5555555555555556, \"#d8576b\"], [0.6666666666666666, \"#ed7953\"], [0.7777777777777778, \"#fb9f3a\"], [0.8888888888888888, \"#fdca26\"], [1.0, \"#f0f921\"]], \"type\": \"surface\"}], \"table\": [{\"cells\": {\"fill\": {\"color\": \"#EBF0F8\"}, \"line\": {\"color\": \"white\"}}, \"header\": {\"fill\": {\"color\": \"#C8D4E3\"}, \"line\": {\"color\": \"white\"}}, \"type\": \"table\"}]}, \"layout\": {\"annotationdefaults\": {\"arrowcolor\": \"#2a3f5f\", \"arrowhead\": 0, \"arrowwidth\": 1}, \"coloraxis\": {\"colorbar\": {\"outlinewidth\": 0, \"ticks\": \"\"}}, \"colorscale\": {\"diverging\": [[0, \"#8e0152\"], [0.1, \"#c51b7d\"], [0.2, \"#de77ae\"], [0.3, \"#f1b6da\"], [0.4, \"#fde0ef\"], [0.5, \"#f7f7f7\"], [0.6, \"#e6f5d0\"], [0.7, \"#b8e186\"], [0.8, \"#7fbc41\"], [0.9, \"#4d9221\"], [1, \"#276419\"]], \"sequential\": [[0.0, \"#0d0887\"], [0.1111111111111111, \"#46039f\"], [0.2222222222222222, \"#7201a8\"], [0.3333333333333333, \"#9c179e\"], [0.4444444444444444, \"#bd3786\"], [0.5555555555555556, \"#d8576b\"], [0.6666666666666666, \"#ed7953\"], [0.7777777777777778, \"#fb9f3a\"], [0.8888888888888888, \"#fdca26\"], [1.0, \"#f0f921\"]], \"sequentialminus\": [[0.0, \"#0d0887\"], [0.1111111111111111, \"#46039f\"], [0.2222222222222222, \"#7201a8\"], [0.3333333333333333, \"#9c179e\"], [0.4444444444444444, \"#bd3786\"], [0.5555555555555556, \"#d8576b\"], [0.6666666666666666, \"#ed7953\"], [0.7777777777777778, \"#fb9f3a\"], [0.8888888888888888, \"#fdca26\"], [1.0, \"#f0f921\"]]}, \"colorway\": [\"#636efa\", \"#EF553B\", \"#00cc96\", \"#ab63fa\", \"#FFA15A\", \"#19d3f3\", \"#FF6692\", \"#B6E880\", \"#FF97FF\", \"#FECB52\"], \"font\": {\"color\": \"#2a3f5f\"}, \"geo\": {\"bgcolor\": \"white\", \"lakecolor\": \"white\", \"landcolor\": \"#E5ECF6\", \"showlakes\": true, \"showland\": true, \"subunitcolor\": \"white\"}, \"hoverlabel\": {\"align\": \"left\"}, \"hovermode\": \"closest\", \"mapbox\": {\"style\": \"light\"}, \"paper_bgcolor\": \"white\", \"plot_bgcolor\": \"#E5ECF6\", \"polar\": {\"angularaxis\": {\"gridcolor\": \"white\", \"linecolor\": \"white\", \"ticks\": \"\"}, \"bgcolor\": \"#E5ECF6\", \"radialaxis\": {\"gridcolor\": \"white\", \"linecolor\": \"white\", \"ticks\": \"\"}}, \"scene\": {\"xaxis\": {\"backgroundcolor\": \"#E5ECF6\", \"gridcolor\": \"white\", \"gridwidth\": 2, \"linecolor\": \"white\", \"showbackground\": true, \"ticks\": \"\", \"zerolinecolor\": \"white\"}, \"yaxis\": {\"backgroundcolor\": \"#E5ECF6\", \"gridcolor\": \"white\", \"gridwidth\": 2, \"linecolor\": \"white\", \"showbackground\": true, \"ticks\": \"\", \"zerolinecolor\": \"white\"}, \"zaxis\": {\"backgroundcolor\": \"#E5ECF6\", \"gridcolor\": \"white\", \"gridwidth\": 2, \"linecolor\": \"white\", \"showbackground\": true, \"ticks\": \"\", \"zerolinecolor\": \"white\"}}, \"shapedefaults\": {\"line\": {\"color\": \"#2a3f5f\"}}, \"ternary\": {\"aaxis\": {\"gridcolor\": \"white\", \"linecolor\": \"white\", \"ticks\": \"\"}, \"baxis\": {\"gridcolor\": \"white\", \"linecolor\": \"white\", \"ticks\": \"\"}, \"bgcolor\": \"#E5ECF6\", \"caxis\": {\"gridcolor\": \"white\", \"linecolor\": \"white\", \"ticks\": \"\"}}, \"title\": {\"x\": 0.05}, \"xaxis\": {\"automargin\": true, \"gridcolor\": \"white\", \"linecolor\": \"white\", \"ticks\": \"\", \"title\": {\"standoff\": 15}, \"zerolinecolor\": \"white\", \"zerolinewidth\": 2}, \"yaxis\": {\"automargin\": true, \"gridcolor\": \"white\", \"linecolor\": \"white\", \"ticks\": \"\", \"title\": {\"standoff\": 15}, \"zerolinecolor\": \"white\", \"zerolinewidth\": 2}}}},\n",
       "                        {\"responsive\": true}\n",
       "                    ).then(function(){\n",
       "                            \n",
       "var gd = document.getElementById('f5f33f59-757d-407b-b500-9255a28cfd5b');\n",
       "var x = new MutationObserver(function (mutations, observer) {{\n",
       "        var display = window.getComputedStyle(gd).display;\n",
       "        if (!display || display === 'none') {{\n",
       "            console.log([gd, 'removed!']);\n",
       "            Plotly.purge(gd);\n",
       "            observer.disconnect();\n",
       "        }}\n",
       "}});\n",
       "\n",
       "// Listen for the removal of the full notebook cells\n",
       "var notebookContainer = gd.closest('#notebook-container');\n",
       "if (notebookContainer) {{\n",
       "    x.observe(notebookContainer, {childList: true});\n",
       "}}\n",
       "\n",
       "// Listen for the clearing of the current output cell\n",
       "var outputEl = gd.closest('.output');\n",
       "if (outputEl) {{\n",
       "    x.observe(outputEl, {childList: true});\n",
       "}}\n",
       "\n",
       "                        })\n",
       "                };\n",
       "                });\n",
       "            </script>\n",
       "        </div>"
      ]
     },
     "metadata": {},
     "output_type": "display_data"
    }
   ],
   "source": [
    "fig = px.sunburst(df,path=['varietal_name','Region/Appellation'])\n",
    "fig.show()"
   ]
  },
  {
   "cell_type": "code",
   "execution_count": 13,
   "metadata": {},
   "outputs": [
    {
     "data": {
      "application/vnd.plotly.v1+json": {
       "config": {
        "plotlyServerURL": "https://plot.ly"
       },
       "data": [
        {
         "alignmentgroup": "True",
         "boxpoints": "all",
         "hovertemplate": "<b>%{hovertext}</b><br><br>country_name=%{x}<br>ratings_average=%{y}<extra></extra>",
         "hovertext": [
          "Stefan Bauer Zweigelt, Wagram, Austria",
          "Sforzato di Valtellina 2013 Alfio Mozzi",
          "Cabernet Sauvignon 2017 Oracle Cellars",
          "Koehler-Ruprecht Spatburgunder Kabinett Trocken, Pfalz, Germany",
          "2017 spatburgunder kabinett koehler ruprecht",
          "Pinot Gris 2018 Friedrich Becker",
          "Sauvignon Blanc 2019 Tablelands",
          "Proprieta Sperino Uvaggio Coste della Sesia Rosso, Piedmont, Italy",
          "Collio Ribolla Gialla Oslavia 2018 Fiegl",
          "Beaujolais-Villages Le Bouteau 2016 Granger",
          "Gruner Veltliner 1L 2019 Hugl Weine",
          "Vino Tinto 2017 Traslapiedra",
          "Mencia \"Fusco\" 2018 Bodegas Albamar",
          "Pinot Gris 2017 Eyrie Vineyards",
          "Menetou-Salon Blanc 2018 Philippe Gilbert",
          "Menetou-Salon Les Blanchais 2018 Pellé",
          "2015 Larry Hyde & Sons Chardonnay, Carneros, USA",
          "Chardonnay 2015 Brittan Vineyards",
          "Syrah \"Generoso\" 2019 Laurent Family",
          "Cabernet Sauvignon 2017 Pura Fe",
          "Chardonnay 2017 Nathan K.",
          "Sauvignon Blanc 2016 Pied à Terre",
          "Minervois Blanc \"Champ du Roy\" 2018 Coupe-Roses",
          "Riesling Trocken 2018 Peter Jakob Kuhn",
          "Riesling Charta 2018 Johannishof*",
          "Bobal 2018 La Traca",
          "Kosher Chardonnay 2018 Backsberg",
          "Syrah 2016 Noble Hill",
          "Reserve della Contessa 2017 Manincor",
          "Barolo \"Pernanno\" Jeroboam 2007 Sobrero",
          "Barolo 2015 Fletcher",
          "Barolo Brea 2013 Brovia",
          "Ribera del Duero 2018 Torremorón",
          "Chardonnay 2018 Strangeways",
          "Chardonnay 2018 Aslina by Ntsiki Biyela",
          "2017 Gundlach-Bundschu Estate Vineyard Chardonnay, Sonoma Coast, USA",
          "Prosecco Superiore Brut 1.5L Sanfeletto",
          "Prosecco Fagher NV 375mL Le Colture",
          "Albariño Rias Baixas 2019 Columna",
          "Toro Tinto Matsu 2018 El Picaro",
          "2018 Domaine Clos des Rocs Macon-Loche En Pres Foret, Burgundy, France",
          "Meursault Les Narvaux 2017 Chavy-Chouet",
          "Graves La Raison 2010 Chateau des Fougères",
          "Albariño \"Rorick Heritage\" 2018 Etxea",
          "Riesling 1000L 2018 Julian Haart",
          "Riesling Extreme Trocken Palmberg 2017 Stein",
          "Riesling GG Uhlen R 2014 Heymann-Lowenstein",
          "2017 Cesca Vincent, Priorat DOCa, Spain",
          "Priorat 2016 Cesca Vicent",
          "Costières de Nîmes 2017 Mary Taylor",
          "Brunello di Montalcino 1.5L 2013 Il Palazzone",
          "Cabernet Sauvignon 2016 Grapesmith & Crusher",
          "Chianti 2015 L'Arco",
          "Riesling Kabinett Morstein 2018 Seehof",
          "Vinos de Montaña 2017 Peninsula Vinicultores",
          "Cava Brut Nature NV Camps d'Estels",
          "Brut Método Tradicional 2016 Cave Geisse",
          "Kosher Cava NV Taanug",
          "Pinot Noir 2018 Delta Vineyard",
          "Sangiovese 2015 Massoferrato",
          "Cagnina \"Dolce Viola\" 2019 Tenuta Amalia",
          "Côte-Rôtie \"Les Rochains\" 2015 Patrick et Bonnefond",
          "Sauvignon Blanc 2018 Te Mata",
          "Sauvignon Blanc 2018 Oops Wines",
          "Chiroubles 2018 La Grosse Pierre",
          "Riesling 2018 Michel Nartz",
          "Pinot Blanc 2018 Emile Beyer",
          "2018 Francois Baur Pinot Noir Schlittweg, Alsace, France",
          "2015 Domaine Bechtold Riesling Sussenberg, Alsace, France",
          "Nardo Rosso Roccamora 2016 Schola Sarmenti",
          "Gattinara 2015 Nervi",
          "Gattinara 2015 Nervi",
          "Bonarda \"Serie A\" 2015 Zuccardi",
          "2018 Bella Vita Montepulciano d'Abruzzo, Italy",
          "Montepulciano d'Abruzzo 2018 Coste di Brenta",
          "Pinot Grigio 1.5L 2018 Bella Vita",
          "Chianti Classico 2017 Montefili",
          "Refosco 2017 Redentore",
          "La Côte Le Morget 2017 Henri Cruchon",
          "Chablis Bienommée 2017 Poitout",
          "Chablis 1.5L 2018 Jean-Marc Brocard",
          "Torrontes 2019 Dos Minas",
          "Bordeaux St-Emilion Grand Cru 2012 Lamarzelle Figeac",
          "Toscana Rosso 2016 3L Massoferrato",
          "Merlot  Alexander Valley 2017 Taft Street Winery",
          "Bouzeron Aligoté 2017 Julien Cruchandeau",
          "Brut Rosé NV Billecarte-Salmon",
          "Champagne Extra Brut NV Besserat de Bellefon",
          "Champagne Brut 375mL NV Montaudon",
          "Cremant de Bourgogne Brut 1.5L NV Tripoz",
          "Pinotage 2017 Lammershoek",
          "Tinto Rufia 2016 Quinta da Boavista*",
          "Pinot Grigio 2018 Il Tasso",
          "Verdicchio \"Albiano\" 2018 Marotti Campi",
          "Counoise 2018 Benevolent Neglect",
          "G de Guiraud 2016 Château Guiraud",
          "Greco Mastro 2017 Mastroberardino*",
          "Albarino “Saira” 2018 Raimat",
          "Red Blend Monkey Jacket 2018 Cruse",
          "Chianti Classico Gran Selezione 2015 Montefili",
          "Malbec-Syrah Perlita 2017 DiamAndes",
          "Chardonnay 2017 Kumeu Village",
          "2018 Brezza Langhe Nebbiolo, Piedmont, Italy",
          "Valdiguié 2017 Folk Machine",
          "Champagne Silver Brut Nature NV Andre Clouet",
          "Verdejo 2018 Vega de Tera",
          "Weissburgunder 1L 2018 Brand",
          "Moscato di Pavia 2018 Centorri",
          "Chablis Les Preuses 2007 Clotilde Davenne",
          "Larkan Red 375mL 2017 Larkin",
          "Moro 2016 Marco Carpineti",
          "Chenin Blanc \"First Light\" 2018 Remhoogte",
          "Ventoux Rouge 2018 Domaine de Fenouillet",
          "Saint Bris 2017 Clotilde Davenne",
          "Nero d'Avola 2017 Feudo Montoni",
          "Pagliaro Sagrantino Secco di Montefalco 2012 Paolo Bea",
          "Carema Classico 2015 Produttori di Carema",
          "Nebbiolo Agamium 2017 Cantalupo",
          "2015 Lemelson Vineyards Reserve Chardonnay, Willamette Valley, USA",
          "Erbaluce di Caluso “Al Bacio” 2018 Orsolani",
          "Riesling Watervale 2018 Koerner",
          "Morgon Les Charmes 2016 Raphael Chopin*",
          "L'Effet Papillon Blanc 2019 Roc des Anges",
          "Soave Classico \"Otto\" 2018 Prá",
          "Tai Rosso 2018 Rezzadore",
          "2019 rose cotes de provence gassier",
          "Müller 2018 Enderle & Moll"
         ],
         "legendgroup": "",
         "marker": {
          "color": "#636efa"
         },
         "name": "",
         "notched": false,
         "offsetgroup": "",
         "orientation": "v",
         "quartilemethod": "exclusive",
         "showlegend": false,
         "type": "box",
         "x": [
          "Austria",
          "Italy",
          "United States",
          "Germany",
          "Germany",
          "Germany",
          "New Zealand",
          "Italy",
          "Italy",
          "France",
          "Austria",
          "Spain",
          "Spain",
          "United States",
          "France",
          "France",
          "United States",
          "United States",
          "Chile",
          "Chile",
          "United States",
          "United States",
          "France",
          "Germany",
          "Germany",
          "Spain",
          "South Africa",
          "South Africa",
          "Italy",
          "Italy",
          "Italy",
          "Italy",
          "Spain",
          "United States",
          "United States",
          "United States",
          "Italy",
          "Italy",
          "Spain",
          "Spain",
          "France",
          "France",
          "France",
          "Germany",
          "Germany",
          "Germany",
          "Germany",
          "Spain",
          "Spain",
          "France",
          "Italy",
          "United States",
          "Italy",
          "Germany",
          "Spain",
          "Spain",
          "Spain",
          "Spain",
          "United States",
          "Italy",
          "Italy",
          "France",
          "New Zealand",
          "New Zealand",
          "France",
          "France",
          "France",
          "France",
          "France",
          "Italy",
          "Italy",
          "Italy",
          "Argentina",
          "Italy",
          "Italy",
          "Italy",
          "Italy",
          "Italy",
          "Switzerland",
          "France",
          "France",
          "Argentina",
          "France",
          "Italy",
          "United States",
          "France",
          "France",
          "France",
          "France",
          "France",
          "South Africa",
          "Portugal",
          "Italy",
          "Italy",
          "United States",
          "France",
          "Italy",
          "Spain",
          "United States",
          "Italy",
          "Argentina",
          "New Zealand",
          "Italy",
          "United States",
          "France",
          "Spain",
          "Austria",
          "Italy",
          "France",
          "United States",
          "Italy",
          "South Africa",
          "France",
          "France",
          "Italy",
          "Italy",
          "Italy",
          "Italy",
          "United States",
          "Italy",
          "Australia",
          "France",
          "France",
          "Italy",
          "Italy",
          "France",
          "Germany"
         ],
         "x0": " ",
         "xaxis": "x",
         "y": [
          3.5,
          3.6,
          4,
          3.8,
          3.8,
          3.8,
          3.8,
          4.1,
          3.6,
          3.6,
          3.8,
          3.2,
          3.6,
          3.8,
          3.8,
          3.8,
          4.5,
          4,
          3.7,
          3.9,
          3.4,
          4.2,
          3.6,
          3.8,
          3.9,
          3.5,
          3.3,
          3.8,
          3.8,
          4.3,
          3.8,
          4.2,
          3.3,
          4.1,
          3.4,
          3.7,
          3.8,
          3.6,
          3.8,
          3,
          3.8,
          4.1,
          3.7,
          4,
          3.9,
          4,
          4,
          4,
          4,
          3.8,
          4.3,
          3.8,
          3.4,
          3.9,
          3.5,
          3.7,
          3.6,
          3.5,
          4.4,
          3.8,
          3.7,
          4.1,
          3.9,
          3.6,
          3.9,
          3.9,
          3.9,
          4,
          3.8,
          3.8,
          4,
          4,
          3.6,
          3.8,
          3.5,
          3.6,
          4,
          3.9,
          3.8,
          3.8,
          3.8,
          3.8,
          4.2,
          4,
          4,
          3.6,
          4.4,
          3.8,
          3.9,
          3.8,
          3.3,
          3.4,
          3.7,
          3.4,
          3.8,
          3.8,
          3.4,
          3.8,
          4,
          3.7,
          3.7,
          3.6,
          3.5,
          3.9,
          3.8,
          3.5,
          3.4,
          4.3,
          3.8,
          4.3,
          3.8,
          3.5,
          3.6,
          3.6,
          3.8,
          4.5,
          3.7,
          3.7,
          3.8,
          3.7,
          3.8,
          3.9,
          3.7,
          3.8,
          2.9,
          3.3,
          3.8
         ],
         "y0": " ",
         "yaxis": "y"
        }
       ],
       "layout": {
        "boxmode": "group",
        "legend": {
         "tracegroupgap": 0
        },
        "margin": {
         "t": 60
        },
        "template": {
         "data": {
          "bar": [
           {
            "error_x": {
             "color": "#2a3f5f"
            },
            "error_y": {
             "color": "#2a3f5f"
            },
            "marker": {
             "line": {
              "color": "#E5ECF6",
              "width": 0.5
             }
            },
            "type": "bar"
           }
          ],
          "barpolar": [
           {
            "marker": {
             "line": {
              "color": "#E5ECF6",
              "width": 0.5
             }
            },
            "type": "barpolar"
           }
          ],
          "carpet": [
           {
            "aaxis": {
             "endlinecolor": "#2a3f5f",
             "gridcolor": "white",
             "linecolor": "white",
             "minorgridcolor": "white",
             "startlinecolor": "#2a3f5f"
            },
            "baxis": {
             "endlinecolor": "#2a3f5f",
             "gridcolor": "white",
             "linecolor": "white",
             "minorgridcolor": "white",
             "startlinecolor": "#2a3f5f"
            },
            "type": "carpet"
           }
          ],
          "choropleth": [
           {
            "colorbar": {
             "outlinewidth": 0,
             "ticks": ""
            },
            "type": "choropleth"
           }
          ],
          "contour": [
           {
            "colorbar": {
             "outlinewidth": 0,
             "ticks": ""
            },
            "colorscale": [
             [
              0,
              "#0d0887"
             ],
             [
              0.1111111111111111,
              "#46039f"
             ],
             [
              0.2222222222222222,
              "#7201a8"
             ],
             [
              0.3333333333333333,
              "#9c179e"
             ],
             [
              0.4444444444444444,
              "#bd3786"
             ],
             [
              0.5555555555555556,
              "#d8576b"
             ],
             [
              0.6666666666666666,
              "#ed7953"
             ],
             [
              0.7777777777777778,
              "#fb9f3a"
             ],
             [
              0.8888888888888888,
              "#fdca26"
             ],
             [
              1,
              "#f0f921"
             ]
            ],
            "type": "contour"
           }
          ],
          "contourcarpet": [
           {
            "colorbar": {
             "outlinewidth": 0,
             "ticks": ""
            },
            "type": "contourcarpet"
           }
          ],
          "heatmap": [
           {
            "colorbar": {
             "outlinewidth": 0,
             "ticks": ""
            },
            "colorscale": [
             [
              0,
              "#0d0887"
             ],
             [
              0.1111111111111111,
              "#46039f"
             ],
             [
              0.2222222222222222,
              "#7201a8"
             ],
             [
              0.3333333333333333,
              "#9c179e"
             ],
             [
              0.4444444444444444,
              "#bd3786"
             ],
             [
              0.5555555555555556,
              "#d8576b"
             ],
             [
              0.6666666666666666,
              "#ed7953"
             ],
             [
              0.7777777777777778,
              "#fb9f3a"
             ],
             [
              0.8888888888888888,
              "#fdca26"
             ],
             [
              1,
              "#f0f921"
             ]
            ],
            "type": "heatmap"
           }
          ],
          "heatmapgl": [
           {
            "colorbar": {
             "outlinewidth": 0,
             "ticks": ""
            },
            "colorscale": [
             [
              0,
              "#0d0887"
             ],
             [
              0.1111111111111111,
              "#46039f"
             ],
             [
              0.2222222222222222,
              "#7201a8"
             ],
             [
              0.3333333333333333,
              "#9c179e"
             ],
             [
              0.4444444444444444,
              "#bd3786"
             ],
             [
              0.5555555555555556,
              "#d8576b"
             ],
             [
              0.6666666666666666,
              "#ed7953"
             ],
             [
              0.7777777777777778,
              "#fb9f3a"
             ],
             [
              0.8888888888888888,
              "#fdca26"
             ],
             [
              1,
              "#f0f921"
             ]
            ],
            "type": "heatmapgl"
           }
          ],
          "histogram": [
           {
            "marker": {
             "colorbar": {
              "outlinewidth": 0,
              "ticks": ""
             }
            },
            "type": "histogram"
           }
          ],
          "histogram2d": [
           {
            "colorbar": {
             "outlinewidth": 0,
             "ticks": ""
            },
            "colorscale": [
             [
              0,
              "#0d0887"
             ],
             [
              0.1111111111111111,
              "#46039f"
             ],
             [
              0.2222222222222222,
              "#7201a8"
             ],
             [
              0.3333333333333333,
              "#9c179e"
             ],
             [
              0.4444444444444444,
              "#bd3786"
             ],
             [
              0.5555555555555556,
              "#d8576b"
             ],
             [
              0.6666666666666666,
              "#ed7953"
             ],
             [
              0.7777777777777778,
              "#fb9f3a"
             ],
             [
              0.8888888888888888,
              "#fdca26"
             ],
             [
              1,
              "#f0f921"
             ]
            ],
            "type": "histogram2d"
           }
          ],
          "histogram2dcontour": [
           {
            "colorbar": {
             "outlinewidth": 0,
             "ticks": ""
            },
            "colorscale": [
             [
              0,
              "#0d0887"
             ],
             [
              0.1111111111111111,
              "#46039f"
             ],
             [
              0.2222222222222222,
              "#7201a8"
             ],
             [
              0.3333333333333333,
              "#9c179e"
             ],
             [
              0.4444444444444444,
              "#bd3786"
             ],
             [
              0.5555555555555556,
              "#d8576b"
             ],
             [
              0.6666666666666666,
              "#ed7953"
             ],
             [
              0.7777777777777778,
              "#fb9f3a"
             ],
             [
              0.8888888888888888,
              "#fdca26"
             ],
             [
              1,
              "#f0f921"
             ]
            ],
            "type": "histogram2dcontour"
           }
          ],
          "mesh3d": [
           {
            "colorbar": {
             "outlinewidth": 0,
             "ticks": ""
            },
            "type": "mesh3d"
           }
          ],
          "parcoords": [
           {
            "line": {
             "colorbar": {
              "outlinewidth": 0,
              "ticks": ""
             }
            },
            "type": "parcoords"
           }
          ],
          "pie": [
           {
            "automargin": true,
            "type": "pie"
           }
          ],
          "scatter": [
           {
            "marker": {
             "colorbar": {
              "outlinewidth": 0,
              "ticks": ""
             }
            },
            "type": "scatter"
           }
          ],
          "scatter3d": [
           {
            "line": {
             "colorbar": {
              "outlinewidth": 0,
              "ticks": ""
             }
            },
            "marker": {
             "colorbar": {
              "outlinewidth": 0,
              "ticks": ""
             }
            },
            "type": "scatter3d"
           }
          ],
          "scattercarpet": [
           {
            "marker": {
             "colorbar": {
              "outlinewidth": 0,
              "ticks": ""
             }
            },
            "type": "scattercarpet"
           }
          ],
          "scattergeo": [
           {
            "marker": {
             "colorbar": {
              "outlinewidth": 0,
              "ticks": ""
             }
            },
            "type": "scattergeo"
           }
          ],
          "scattergl": [
           {
            "marker": {
             "colorbar": {
              "outlinewidth": 0,
              "ticks": ""
             }
            },
            "type": "scattergl"
           }
          ],
          "scattermapbox": [
           {
            "marker": {
             "colorbar": {
              "outlinewidth": 0,
              "ticks": ""
             }
            },
            "type": "scattermapbox"
           }
          ],
          "scatterpolar": [
           {
            "marker": {
             "colorbar": {
              "outlinewidth": 0,
              "ticks": ""
             }
            },
            "type": "scatterpolar"
           }
          ],
          "scatterpolargl": [
           {
            "marker": {
             "colorbar": {
              "outlinewidth": 0,
              "ticks": ""
             }
            },
            "type": "scatterpolargl"
           }
          ],
          "scatterternary": [
           {
            "marker": {
             "colorbar": {
              "outlinewidth": 0,
              "ticks": ""
             }
            },
            "type": "scatterternary"
           }
          ],
          "surface": [
           {
            "colorbar": {
             "outlinewidth": 0,
             "ticks": ""
            },
            "colorscale": [
             [
              0,
              "#0d0887"
             ],
             [
              0.1111111111111111,
              "#46039f"
             ],
             [
              0.2222222222222222,
              "#7201a8"
             ],
             [
              0.3333333333333333,
              "#9c179e"
             ],
             [
              0.4444444444444444,
              "#bd3786"
             ],
             [
              0.5555555555555556,
              "#d8576b"
             ],
             [
              0.6666666666666666,
              "#ed7953"
             ],
             [
              0.7777777777777778,
              "#fb9f3a"
             ],
             [
              0.8888888888888888,
              "#fdca26"
             ],
             [
              1,
              "#f0f921"
             ]
            ],
            "type": "surface"
           }
          ],
          "table": [
           {
            "cells": {
             "fill": {
              "color": "#EBF0F8"
             },
             "line": {
              "color": "white"
             }
            },
            "header": {
             "fill": {
              "color": "#C8D4E3"
             },
             "line": {
              "color": "white"
             }
            },
            "type": "table"
           }
          ]
         },
         "layout": {
          "annotationdefaults": {
           "arrowcolor": "#2a3f5f",
           "arrowhead": 0,
           "arrowwidth": 1
          },
          "coloraxis": {
           "colorbar": {
            "outlinewidth": 0,
            "ticks": ""
           }
          },
          "colorscale": {
           "diverging": [
            [
             0,
             "#8e0152"
            ],
            [
             0.1,
             "#c51b7d"
            ],
            [
             0.2,
             "#de77ae"
            ],
            [
             0.3,
             "#f1b6da"
            ],
            [
             0.4,
             "#fde0ef"
            ],
            [
             0.5,
             "#f7f7f7"
            ],
            [
             0.6,
             "#e6f5d0"
            ],
            [
             0.7,
             "#b8e186"
            ],
            [
             0.8,
             "#7fbc41"
            ],
            [
             0.9,
             "#4d9221"
            ],
            [
             1,
             "#276419"
            ]
           ],
           "sequential": [
            [
             0,
             "#0d0887"
            ],
            [
             0.1111111111111111,
             "#46039f"
            ],
            [
             0.2222222222222222,
             "#7201a8"
            ],
            [
             0.3333333333333333,
             "#9c179e"
            ],
            [
             0.4444444444444444,
             "#bd3786"
            ],
            [
             0.5555555555555556,
             "#d8576b"
            ],
            [
             0.6666666666666666,
             "#ed7953"
            ],
            [
             0.7777777777777778,
             "#fb9f3a"
            ],
            [
             0.8888888888888888,
             "#fdca26"
            ],
            [
             1,
             "#f0f921"
            ]
           ],
           "sequentialminus": [
            [
             0,
             "#0d0887"
            ],
            [
             0.1111111111111111,
             "#46039f"
            ],
            [
             0.2222222222222222,
             "#7201a8"
            ],
            [
             0.3333333333333333,
             "#9c179e"
            ],
            [
             0.4444444444444444,
             "#bd3786"
            ],
            [
             0.5555555555555556,
             "#d8576b"
            ],
            [
             0.6666666666666666,
             "#ed7953"
            ],
            [
             0.7777777777777778,
             "#fb9f3a"
            ],
            [
             0.8888888888888888,
             "#fdca26"
            ],
            [
             1,
             "#f0f921"
            ]
           ]
          },
          "colorway": [
           "#636efa",
           "#EF553B",
           "#00cc96",
           "#ab63fa",
           "#FFA15A",
           "#19d3f3",
           "#FF6692",
           "#B6E880",
           "#FF97FF",
           "#FECB52"
          ],
          "font": {
           "color": "#2a3f5f"
          },
          "geo": {
           "bgcolor": "white",
           "lakecolor": "white",
           "landcolor": "#E5ECF6",
           "showlakes": true,
           "showland": true,
           "subunitcolor": "white"
          },
          "hoverlabel": {
           "align": "left"
          },
          "hovermode": "closest",
          "mapbox": {
           "style": "light"
          },
          "paper_bgcolor": "white",
          "plot_bgcolor": "#E5ECF6",
          "polar": {
           "angularaxis": {
            "gridcolor": "white",
            "linecolor": "white",
            "ticks": ""
           },
           "bgcolor": "#E5ECF6",
           "radialaxis": {
            "gridcolor": "white",
            "linecolor": "white",
            "ticks": ""
           }
          },
          "scene": {
           "xaxis": {
            "backgroundcolor": "#E5ECF6",
            "gridcolor": "white",
            "gridwidth": 2,
            "linecolor": "white",
            "showbackground": true,
            "ticks": "",
            "zerolinecolor": "white"
           },
           "yaxis": {
            "backgroundcolor": "#E5ECF6",
            "gridcolor": "white",
            "gridwidth": 2,
            "linecolor": "white",
            "showbackground": true,
            "ticks": "",
            "zerolinecolor": "white"
           },
           "zaxis": {
            "backgroundcolor": "#E5ECF6",
            "gridcolor": "white",
            "gridwidth": 2,
            "linecolor": "white",
            "showbackground": true,
            "ticks": "",
            "zerolinecolor": "white"
           }
          },
          "shapedefaults": {
           "line": {
            "color": "#2a3f5f"
           }
          },
          "ternary": {
           "aaxis": {
            "gridcolor": "white",
            "linecolor": "white",
            "ticks": ""
           },
           "baxis": {
            "gridcolor": "white",
            "linecolor": "white",
            "ticks": ""
           },
           "bgcolor": "#E5ECF6",
           "caxis": {
            "gridcolor": "white",
            "linecolor": "white",
            "ticks": ""
           }
          },
          "title": {
           "x": 0.05
          },
          "xaxis": {
           "automargin": true,
           "gridcolor": "white",
           "linecolor": "white",
           "ticks": "",
           "title": {
            "standoff": 15
           },
           "zerolinecolor": "white",
           "zerolinewidth": 2
          },
          "yaxis": {
           "automargin": true,
           "gridcolor": "white",
           "linecolor": "white",
           "ticks": "",
           "title": {
            "standoff": 15
           },
           "zerolinecolor": "white",
           "zerolinewidth": 2
          }
         }
        },
        "xaxis": {
         "anchor": "y",
         "domain": [
          0,
          1
         ],
         "title": {
          "text": "country_name"
         }
        },
        "yaxis": {
         "anchor": "x",
         "domain": [
          0,
          1
         ],
         "title": {
          "text": "ratings_average"
         }
        }
       }
      },
      "text/html": [
       "<div>\n",
       "        \n",
       "        \n",
       "            <div id=\"f8c88227-fda5-4702-9407-bafe6831e78b\" class=\"plotly-graph-div\" style=\"height:525px; width:100%;\"></div>\n",
       "            <script type=\"text/javascript\">\n",
       "                require([\"plotly\"], function(Plotly) {\n",
       "                    window.PLOTLYENV=window.PLOTLYENV || {};\n",
       "                    \n",
       "                if (document.getElementById(\"f8c88227-fda5-4702-9407-bafe6831e78b\")) {\n",
       "                    Plotly.newPlot(\n",
       "                        'f8c88227-fda5-4702-9407-bafe6831e78b',\n",
       "                        [{\"alignmentgroup\": \"True\", \"boxpoints\": \"all\", \"hovertemplate\": \"<b>%{hovertext}</b><br><br>country_name=%{x}<br>ratings_average=%{y}<extra></extra>\", \"hovertext\": [\"Stefan Bauer Zweigelt, Wagram, Austria\", \"Sforzato di Valtellina 2013 Alfio Mozzi\", \"Cabernet Sauvignon 2017 Oracle Cellars\", \"Koehler-Ruprecht Spatburgunder Kabinett Trocken, Pfalz, Germany\", \"2017 spatburgunder kabinett koehler ruprecht\", \"Pinot Gris 2018 Friedrich Becker\", \"Sauvignon Blanc 2019 Tablelands\", \"Proprieta Sperino Uvaggio Coste della Sesia Rosso, Piedmont, Italy\", \"Collio Ribolla Gialla Oslavia 2018 Fiegl\", \"Beaujolais-Villages Le Bouteau 2016 Granger\", \"Gruner Veltliner 1L 2019 Hugl Weine\", \"Vino Tinto 2017 Traslapiedra\", \"Mencia \\\"Fusco\\\" 2018 Bodegas Albamar\", \"Pinot Gris 2017 Eyrie Vineyards\", \"Menetou-Salon Blanc 2018 Philippe Gilbert\", \"Menetou-Salon Les Blanchais 2018 Pell\\u00e9\", \"2015 Larry Hyde & Sons Chardonnay, Carneros, USA\", \"Chardonnay 2015 Brittan Vineyards\", \"Syrah \\\"Generoso\\\" 2019 Laurent Family\", \"Cabernet Sauvignon 2017 Pura Fe\", \"Chardonnay 2017 Nathan K.\", \"Sauvignon Blanc 2016 Pied \\u00e0 Terre\", \"Minervois Blanc \\\"Champ du Roy\\\" 2018 Coupe-Roses\", \"Riesling Trocken 2018 Peter Jakob Kuhn\", \"Riesling Charta 2018 Johannishof*\", \"Bobal 2018 La Traca\", \"Kosher Chardonnay 2018 Backsberg\", \"Syrah 2016 Noble Hill\", \"Reserve della Contessa 2017 Manincor\", \"Barolo \\\"Pernanno\\\" Jeroboam 2007 Sobrero\", \"Barolo 2015 Fletcher\", \"Barolo Brea 2013 Brovia\", \"Ribera del Duero 2018 Torremor\\u00f3n\", \"Chardonnay 2018 Strangeways\", \"Chardonnay 2018 Aslina by Ntsiki Biyela\", \"2017 Gundlach-Bundschu Estate Vineyard Chardonnay, Sonoma Coast, USA\", \"Prosecco Superiore Brut 1.5L Sanfeletto\", \"Prosecco Fagher NV 375mL Le Colture\", \"Albari\\u00f1o Rias Baixas 2019 Columna\", \"Toro Tinto Matsu 2018 El Picaro\", \"2018 Domaine Clos des Rocs Macon-Loche En Pres Foret, Burgundy, France\", \"Meursault Les Narvaux 2017 Chavy-Chouet\", \"Graves La Raison 2010 Chateau des Fouge\\u0300res\", \"Albari\\u00f1o \\\"Rorick Heritage\\\" 2018 Etxea\", \"Riesling 1000L 2018 Julian Haart\", \"Riesling Extreme Trocken Palmberg 2017 Stein\", \"Riesling GG Uhlen R 2014 Heymann-Lowenstein\", \"2017 Cesca Vincent, Priorat DOCa, Spain\", \"Priorat 2016 Cesca Vicent\", \"Costi\\u00e8res de N\\u00eemes 2017 Mary Taylor\", \"Brunello di Montalcino 1.5L 2013 Il Palazzone\", \"Cabernet Sauvignon 2016 Grapesmith & Crusher\", \"Chianti 2015 L'Arco\", \"Riesling Kabinett Morstein 2018 Seehof\", \"Vinos de Monta\\u00f1a 2017 Peninsula Vinicultores\", \"Cava Brut Nature NV Camps d'Estels\", \"Brut Me\\u0301todo Tradicional 2016 Cave Geisse\", \"Kosher Cava NV Taanug\", \"Pinot Noir 2018 Delta Vineyard\", \"Sangiovese 2015 Massoferrato\", \"Cagnina \\\"Dolce Viola\\\" 2019 Tenuta Amalia\", \"C\\u00f4te-R\\u00f4tie \\\"Les Rochains\\\" 2015 Patrick et Bonnefond\", \"Sauvignon Blanc 2018 Te Mata\", \"Sauvignon Blanc 2018 Oops Wines\", \"Chiroubles 2018 La Grosse Pierre\", \"Riesling 2018 Michel Nartz\", \"Pinot Blanc 2018 Emile Beyer\", \"2018 Francois Baur Pinot Noir Schlittweg, Alsace, France\", \"2015 Domaine Bechtold Riesling Sussenberg, Alsace, France\", \"Nardo Rosso Roccamora 2016 Schola Sarmenti\", \"Gattinara 2015 Nervi\", \"Gattinara 2015 Nervi\", \"Bonarda \\\"Serie A\\\" 2015 Zuccardi\", \"2018 Bella Vita Montepulciano d'Abruzzo, Italy\", \"Montepulciano d'Abruzzo 2018 Coste di Brenta\", \"Pinot Grigio 1.5L 2018 Bella Vita\", \"Chianti Classico 2017 Montefili\", \"Refosco 2017 Redentore\", \"La C\\u00f4te Le Morget 2017 Henri Cruchon\", \"Chablis Bienomm\\u00e9e 2017 Poitout\", \"Chablis 1.5L 2018 Jean-Marc Brocard\", \"Torrontes 2019 Dos Minas\", \"Bordeaux St-Emilion Grand Cru 2012 Lamarzelle Figeac\", \"Toscana Rosso 2016 3L Massoferrato\", \"Merlot  Alexander Valley 2017 Taft Street Winery\", \"Bouzeron Aligot\\u00e9 2017 Julien Cruchandeau\", \"Brut Ros\\u00e9 NV Billecarte-Salmon\", \"Champagne Extra Brut NV Besserat de Bellefon\", \"Champagne Brut 375mL NV Montaudon\", \"Cremant de Bourgogne Brut 1.5L NV Tripoz\", \"Pinotage 2017 Lammershoek\", \"Tinto Rufia 2016 Quinta da Boavista*\", \"Pinot Grigio 2018 Il Tasso\", \"Verdicchio \\\"Albiano\\\" 2018 Marotti Campi\", \"Counoise 2018 Benevolent Neglect\", \"G de Guiraud 2016 Ch\\u00e2teau Guiraud\", \"Greco Mastro 2017 Mastroberardino*\", \"Albarino \\u201cSaira\\u201d 2018 Raimat\", \"Red Blend Monkey Jacket 2018 Cruse\", \"Chianti Classico Gran Selezione 2015 Montefili\", \"Malbec-Syrah Perlita 2017 DiamAndes\", \"Chardonnay 2017 Kumeu Village\", \"2018 Brezza Langhe Nebbiolo, Piedmont, Italy\", \"Valdigui\\u00e9 2017 Folk Machine\", \"Champagne Silver Brut Nature NV Andre Clouet\", \"Verdejo 2018 Vega de Tera\", \"Weissburgunder 1L 2018 Brand\", \"Moscato di Pavia 2018 Centorri\", \"Chablis Les Preuses 2007 Clotilde Davenne\", \"Larkan Red 375mL 2017 Larkin\", \"Moro 2016 Marco Carpineti\", \"Chenin Blanc \\\"First Light\\\" 2018 Remhoogte\", \"Ventoux Rouge 2018 Domaine de Fenouillet\", \"Saint Bris 2017 Clotilde Davenne\", \"Nero d'Avola 2017 Feudo Montoni\", \"Pagliaro Sagrantino Secco di Montefalco 2012 Paolo Bea\", \"Carema Classico 2015 Produttori di Carema\", \"Nebbiolo Agamium 2017 Cantalupo\", \"2015 Lemelson Vineyards Reserve Chardonnay, Willamette Valley, USA\", \"Erbaluce di Caluso \\u201cAl Bacio\\u201d 2018 Orsolani\", \"Riesling Watervale 2018 Koerner\", \"Morgon Les Charmes 2016 Raphael Chopin*\", \"L'Effet Papillon Blanc 2019 Roc des Anges\", \"Soave Classico \\\"Otto\\\" 2018 Pr\\u00e1\", \"Tai Rosso 2018 Rezzadore\", \"2019 rose cotes de provence gassier\", \"M\\u00fcller 2018 Enderle & Moll\"], \"legendgroup\": \"\", \"marker\": {\"color\": \"#636efa\"}, \"name\": \"\", \"notched\": false, \"offsetgroup\": \"\", \"orientation\": \"v\", \"quartilemethod\": \"exclusive\", \"showlegend\": false, \"type\": \"box\", \"x\": [\"Austria\", \"Italy\", \"United States\", \"Germany\", \"Germany\", \"Germany\", \"New Zealand\", \"Italy\", \"Italy\", \"France\", \"Austria\", \"Spain\", \"Spain\", \"United States\", \"France\", \"France\", \"United States\", \"United States\", \"Chile\", \"Chile\", \"United States\", \"United States\", \"France\", \"Germany\", \"Germany\", \"Spain\", \"South Africa\", \"South Africa\", \"Italy\", \"Italy\", \"Italy\", \"Italy\", \"Spain\", \"United States\", \"United States\", \"United States\", \"Italy\", \"Italy\", \"Spain\", \"Spain\", \"France\", \"France\", \"France\", \"Germany\", \"Germany\", \"Germany\", \"Germany\", \"Spain\", \"Spain\", \"France\", \"Italy\", \"United States\", \"Italy\", \"Germany\", \"Spain\", \"Spain\", \"Spain\", \"Spain\", \"United States\", \"Italy\", \"Italy\", \"France\", \"New Zealand\", \"New Zealand\", \"France\", \"France\", \"France\", \"France\", \"France\", \"Italy\", \"Italy\", \"Italy\", \"Argentina\", \"Italy\", \"Italy\", \"Italy\", \"Italy\", \"Italy\", \"Switzerland\", \"France\", \"France\", \"Argentina\", \"France\", \"Italy\", \"United States\", \"France\", \"France\", \"France\", \"France\", \"France\", \"South Africa\", \"Portugal\", \"Italy\", \"Italy\", \"United States\", \"France\", \"Italy\", \"Spain\", \"United States\", \"Italy\", \"Argentina\", \"New Zealand\", \"Italy\", \"United States\", \"France\", \"Spain\", \"Austria\", \"Italy\", \"France\", \"United States\", \"Italy\", \"South Africa\", \"France\", \"France\", \"Italy\", \"Italy\", \"Italy\", \"Italy\", \"United States\", \"Italy\", \"Australia\", \"France\", \"France\", \"Italy\", \"Italy\", \"France\", \"Germany\"], \"x0\": \" \", \"xaxis\": \"x\", \"y\": [3.5, 3.6, 4.0, 3.8, 3.8, 3.8, 3.8, 4.1, 3.6, 3.6, 3.8, 3.2, 3.6, 3.8, 3.8, 3.8, 4.5, 4.0, 3.7, 3.9, 3.4, 4.2, 3.6, 3.8, 3.9, 3.5, 3.3, 3.8, 3.8, 4.3, 3.8, 4.2, 3.3, 4.1, 3.4, 3.7, 3.8, 3.6, 3.8, 3.0, 3.8, 4.1, 3.7, 4.0, 3.9, 4.0, 4.0, 4.0, 4.0, 3.8, 4.3, 3.8, 3.4, 3.9, 3.5, 3.7, 3.6, 3.5, 4.4, 3.8, 3.7, 4.1, 3.9, 3.6, 3.9, 3.9, 3.9, 4.0, 3.8, 3.8, 4.0, 4.0, 3.6, 3.8, 3.5, 3.6, 4.0, 3.9, 3.8, 3.8, 3.8, 3.8, 4.2, 4.0, 4.0, 3.6, 4.4, 3.8, 3.9, 3.8, 3.3, 3.4, 3.7, 3.4, 3.8, 3.8, 3.4, 3.8, 4.0, 3.7, 3.7, 3.6, 3.5, 3.9, 3.8, 3.5, 3.4, 4.3, 3.8, 4.3, 3.8, 3.5, 3.6, 3.6, 3.8, 4.5, 3.7, 3.7, 3.8, 3.7, 3.8, 3.9, 3.7, 3.8, 2.9, 3.3, 3.8], \"y0\": \" \", \"yaxis\": \"y\"}],\n",
       "                        {\"boxmode\": \"group\", \"legend\": {\"tracegroupgap\": 0}, \"margin\": {\"t\": 60}, \"template\": {\"data\": {\"bar\": [{\"error_x\": {\"color\": \"#2a3f5f\"}, \"error_y\": {\"color\": \"#2a3f5f\"}, \"marker\": {\"line\": {\"color\": \"#E5ECF6\", \"width\": 0.5}}, \"type\": \"bar\"}], \"barpolar\": [{\"marker\": {\"line\": {\"color\": \"#E5ECF6\", \"width\": 0.5}}, \"type\": \"barpolar\"}], \"carpet\": [{\"aaxis\": {\"endlinecolor\": \"#2a3f5f\", \"gridcolor\": \"white\", \"linecolor\": \"white\", \"minorgridcolor\": \"white\", \"startlinecolor\": \"#2a3f5f\"}, \"baxis\": {\"endlinecolor\": \"#2a3f5f\", \"gridcolor\": \"white\", \"linecolor\": \"white\", \"minorgridcolor\": \"white\", \"startlinecolor\": \"#2a3f5f\"}, \"type\": \"carpet\"}], \"choropleth\": [{\"colorbar\": {\"outlinewidth\": 0, \"ticks\": \"\"}, \"type\": \"choropleth\"}], \"contour\": [{\"colorbar\": {\"outlinewidth\": 0, \"ticks\": \"\"}, \"colorscale\": [[0.0, \"#0d0887\"], [0.1111111111111111, \"#46039f\"], [0.2222222222222222, \"#7201a8\"], [0.3333333333333333, \"#9c179e\"], [0.4444444444444444, \"#bd3786\"], [0.5555555555555556, \"#d8576b\"], [0.6666666666666666, \"#ed7953\"], [0.7777777777777778, \"#fb9f3a\"], [0.8888888888888888, \"#fdca26\"], [1.0, \"#f0f921\"]], \"type\": \"contour\"}], \"contourcarpet\": [{\"colorbar\": {\"outlinewidth\": 0, \"ticks\": \"\"}, \"type\": \"contourcarpet\"}], \"heatmap\": [{\"colorbar\": {\"outlinewidth\": 0, \"ticks\": \"\"}, \"colorscale\": [[0.0, \"#0d0887\"], [0.1111111111111111, \"#46039f\"], [0.2222222222222222, \"#7201a8\"], [0.3333333333333333, \"#9c179e\"], [0.4444444444444444, \"#bd3786\"], [0.5555555555555556, \"#d8576b\"], [0.6666666666666666, \"#ed7953\"], [0.7777777777777778, \"#fb9f3a\"], [0.8888888888888888, \"#fdca26\"], [1.0, \"#f0f921\"]], \"type\": \"heatmap\"}], \"heatmapgl\": [{\"colorbar\": {\"outlinewidth\": 0, \"ticks\": \"\"}, \"colorscale\": [[0.0, \"#0d0887\"], [0.1111111111111111, \"#46039f\"], [0.2222222222222222, \"#7201a8\"], [0.3333333333333333, \"#9c179e\"], [0.4444444444444444, \"#bd3786\"], [0.5555555555555556, \"#d8576b\"], [0.6666666666666666, \"#ed7953\"], [0.7777777777777778, \"#fb9f3a\"], [0.8888888888888888, \"#fdca26\"], [1.0, \"#f0f921\"]], \"type\": \"heatmapgl\"}], \"histogram\": [{\"marker\": {\"colorbar\": {\"outlinewidth\": 0, \"ticks\": \"\"}}, \"type\": \"histogram\"}], \"histogram2d\": [{\"colorbar\": {\"outlinewidth\": 0, \"ticks\": \"\"}, \"colorscale\": [[0.0, \"#0d0887\"], [0.1111111111111111, \"#46039f\"], [0.2222222222222222, \"#7201a8\"], [0.3333333333333333, \"#9c179e\"], [0.4444444444444444, \"#bd3786\"], [0.5555555555555556, \"#d8576b\"], [0.6666666666666666, \"#ed7953\"], [0.7777777777777778, \"#fb9f3a\"], [0.8888888888888888, \"#fdca26\"], [1.0, \"#f0f921\"]], \"type\": \"histogram2d\"}], \"histogram2dcontour\": [{\"colorbar\": {\"outlinewidth\": 0, \"ticks\": \"\"}, \"colorscale\": [[0.0, \"#0d0887\"], [0.1111111111111111, \"#46039f\"], [0.2222222222222222, \"#7201a8\"], [0.3333333333333333, \"#9c179e\"], [0.4444444444444444, \"#bd3786\"], [0.5555555555555556, \"#d8576b\"], [0.6666666666666666, \"#ed7953\"], [0.7777777777777778, \"#fb9f3a\"], [0.8888888888888888, \"#fdca26\"], [1.0, \"#f0f921\"]], \"type\": \"histogram2dcontour\"}], \"mesh3d\": [{\"colorbar\": {\"outlinewidth\": 0, \"ticks\": \"\"}, \"type\": \"mesh3d\"}], \"parcoords\": [{\"line\": {\"colorbar\": {\"outlinewidth\": 0, \"ticks\": \"\"}}, \"type\": \"parcoords\"}], \"pie\": [{\"automargin\": true, \"type\": \"pie\"}], \"scatter\": [{\"marker\": {\"colorbar\": {\"outlinewidth\": 0, \"ticks\": \"\"}}, \"type\": \"scatter\"}], \"scatter3d\": [{\"line\": {\"colorbar\": {\"outlinewidth\": 0, \"ticks\": \"\"}}, \"marker\": {\"colorbar\": {\"outlinewidth\": 0, \"ticks\": \"\"}}, \"type\": \"scatter3d\"}], \"scattercarpet\": [{\"marker\": {\"colorbar\": {\"outlinewidth\": 0, \"ticks\": \"\"}}, \"type\": \"scattercarpet\"}], \"scattergeo\": [{\"marker\": {\"colorbar\": {\"outlinewidth\": 0, \"ticks\": \"\"}}, \"type\": \"scattergeo\"}], \"scattergl\": [{\"marker\": {\"colorbar\": {\"outlinewidth\": 0, \"ticks\": \"\"}}, \"type\": \"scattergl\"}], \"scattermapbox\": [{\"marker\": {\"colorbar\": {\"outlinewidth\": 0, \"ticks\": \"\"}}, \"type\": \"scattermapbox\"}], \"scatterpolar\": [{\"marker\": {\"colorbar\": {\"outlinewidth\": 0, \"ticks\": \"\"}}, \"type\": \"scatterpolar\"}], \"scatterpolargl\": [{\"marker\": {\"colorbar\": {\"outlinewidth\": 0, \"ticks\": \"\"}}, \"type\": \"scatterpolargl\"}], \"scatterternary\": [{\"marker\": {\"colorbar\": {\"outlinewidth\": 0, \"ticks\": \"\"}}, \"type\": \"scatterternary\"}], \"surface\": [{\"colorbar\": {\"outlinewidth\": 0, \"ticks\": \"\"}, \"colorscale\": [[0.0, \"#0d0887\"], [0.1111111111111111, \"#46039f\"], [0.2222222222222222, \"#7201a8\"], [0.3333333333333333, \"#9c179e\"], [0.4444444444444444, \"#bd3786\"], [0.5555555555555556, \"#d8576b\"], [0.6666666666666666, \"#ed7953\"], [0.7777777777777778, \"#fb9f3a\"], [0.8888888888888888, \"#fdca26\"], [1.0, \"#f0f921\"]], \"type\": \"surface\"}], \"table\": [{\"cells\": {\"fill\": {\"color\": \"#EBF0F8\"}, \"line\": {\"color\": \"white\"}}, \"header\": {\"fill\": {\"color\": \"#C8D4E3\"}, \"line\": {\"color\": \"white\"}}, \"type\": \"table\"}]}, \"layout\": {\"annotationdefaults\": {\"arrowcolor\": \"#2a3f5f\", \"arrowhead\": 0, \"arrowwidth\": 1}, \"coloraxis\": {\"colorbar\": {\"outlinewidth\": 0, \"ticks\": \"\"}}, \"colorscale\": {\"diverging\": [[0, \"#8e0152\"], [0.1, \"#c51b7d\"], [0.2, \"#de77ae\"], [0.3, \"#f1b6da\"], [0.4, \"#fde0ef\"], [0.5, \"#f7f7f7\"], [0.6, \"#e6f5d0\"], [0.7, \"#b8e186\"], [0.8, \"#7fbc41\"], [0.9, \"#4d9221\"], [1, \"#276419\"]], \"sequential\": [[0.0, \"#0d0887\"], [0.1111111111111111, \"#46039f\"], [0.2222222222222222, \"#7201a8\"], [0.3333333333333333, \"#9c179e\"], [0.4444444444444444, \"#bd3786\"], [0.5555555555555556, \"#d8576b\"], [0.6666666666666666, \"#ed7953\"], [0.7777777777777778, \"#fb9f3a\"], [0.8888888888888888, \"#fdca26\"], [1.0, \"#f0f921\"]], \"sequentialminus\": [[0.0, \"#0d0887\"], [0.1111111111111111, \"#46039f\"], [0.2222222222222222, \"#7201a8\"], [0.3333333333333333, \"#9c179e\"], [0.4444444444444444, \"#bd3786\"], [0.5555555555555556, \"#d8576b\"], [0.6666666666666666, \"#ed7953\"], [0.7777777777777778, \"#fb9f3a\"], [0.8888888888888888, \"#fdca26\"], [1.0, \"#f0f921\"]]}, \"colorway\": [\"#636efa\", \"#EF553B\", \"#00cc96\", \"#ab63fa\", \"#FFA15A\", \"#19d3f3\", \"#FF6692\", \"#B6E880\", \"#FF97FF\", \"#FECB52\"], \"font\": {\"color\": \"#2a3f5f\"}, \"geo\": {\"bgcolor\": \"white\", \"lakecolor\": \"white\", \"landcolor\": \"#E5ECF6\", \"showlakes\": true, \"showland\": true, \"subunitcolor\": \"white\"}, \"hoverlabel\": {\"align\": \"left\"}, \"hovermode\": \"closest\", \"mapbox\": {\"style\": \"light\"}, \"paper_bgcolor\": \"white\", \"plot_bgcolor\": \"#E5ECF6\", \"polar\": {\"angularaxis\": {\"gridcolor\": \"white\", \"linecolor\": \"white\", \"ticks\": \"\"}, \"bgcolor\": \"#E5ECF6\", \"radialaxis\": {\"gridcolor\": \"white\", \"linecolor\": \"white\", \"ticks\": \"\"}}, \"scene\": {\"xaxis\": {\"backgroundcolor\": \"#E5ECF6\", \"gridcolor\": \"white\", \"gridwidth\": 2, \"linecolor\": \"white\", \"showbackground\": true, \"ticks\": \"\", \"zerolinecolor\": \"white\"}, \"yaxis\": {\"backgroundcolor\": \"#E5ECF6\", \"gridcolor\": \"white\", \"gridwidth\": 2, \"linecolor\": \"white\", \"showbackground\": true, \"ticks\": \"\", \"zerolinecolor\": \"white\"}, \"zaxis\": {\"backgroundcolor\": \"#E5ECF6\", \"gridcolor\": \"white\", \"gridwidth\": 2, \"linecolor\": \"white\", \"showbackground\": true, \"ticks\": \"\", \"zerolinecolor\": \"white\"}}, \"shapedefaults\": {\"line\": {\"color\": \"#2a3f5f\"}}, \"ternary\": {\"aaxis\": {\"gridcolor\": \"white\", \"linecolor\": \"white\", \"ticks\": \"\"}, \"baxis\": {\"gridcolor\": \"white\", \"linecolor\": \"white\", \"ticks\": \"\"}, \"bgcolor\": \"#E5ECF6\", \"caxis\": {\"gridcolor\": \"white\", \"linecolor\": \"white\", \"ticks\": \"\"}}, \"title\": {\"x\": 0.05}, \"xaxis\": {\"automargin\": true, \"gridcolor\": \"white\", \"linecolor\": \"white\", \"ticks\": \"\", \"title\": {\"standoff\": 15}, \"zerolinecolor\": \"white\", \"zerolinewidth\": 2}, \"yaxis\": {\"automargin\": true, \"gridcolor\": \"white\", \"linecolor\": \"white\", \"ticks\": \"\", \"title\": {\"standoff\": 15}, \"zerolinecolor\": \"white\", \"zerolinewidth\": 2}}}, \"xaxis\": {\"anchor\": \"y\", \"domain\": [0.0, 1.0], \"title\": {\"text\": \"country_name\"}}, \"yaxis\": {\"anchor\": \"x\", \"domain\": [0.0, 1.0], \"title\": {\"text\": \"ratings_average\"}}},\n",
       "                        {\"responsive\": true}\n",
       "                    ).then(function(){\n",
       "                            \n",
       "var gd = document.getElementById('f8c88227-fda5-4702-9407-bafe6831e78b');\n",
       "var x = new MutationObserver(function (mutations, observer) {{\n",
       "        var display = window.getComputedStyle(gd).display;\n",
       "        if (!display || display === 'none') {{\n",
       "            console.log([gd, 'removed!']);\n",
       "            Plotly.purge(gd);\n",
       "            observer.disconnect();\n",
       "        }}\n",
       "}});\n",
       "\n",
       "// Listen for the removal of the full notebook cells\n",
       "var notebookContainer = gd.closest('#notebook-container');\n",
       "if (notebookContainer) {{\n",
       "    x.observe(notebookContainer, {childList: true});\n",
       "}}\n",
       "\n",
       "// Listen for the clearing of the current output cell\n",
       "var outputEl = gd.closest('.output');\n",
       "if (outputEl) {{\n",
       "    x.observe(outputEl, {childList: true});\n",
       "}}\n",
       "\n",
       "                        })\n",
       "                };\n",
       "                });\n",
       "            </script>\n",
       "        </div>"
      ]
     },
     "metadata": {},
     "output_type": "display_data"
    }
   ],
   "source": [
    "fig = px.box(df[df['ratings_average']!=0],x='country_name',y='ratings_average',points='all',hover_name='name')\n",
    "fig.update_traces(quartilemethod=\"exclusive\")\n",
    "fig.show()"
   ]
  },
  {
   "cell_type": "code",
   "execution_count": 14,
   "metadata": {},
   "outputs": [
    {
     "data": {
      "application/vnd.plotly.v1+json": {
       "config": {
        "plotlyServerURL": "https://plot.ly"
       },
       "data": [
        {
         "alignmentgroup": "True",
         "boxpoints": "all",
         "hovertemplate": "<b>%{hovertext}</b><br><br>country_name=%{x}<br>ranking_global=%{y}<extra></extra>",
         "hovertext": [
          "Stefan Bauer Zweigelt, Wagram, Austria",
          "Sforzato di Valtellina 2013 Alfio Mozzi",
          "Cabernet Sauvignon 2017 Oracle Cellars",
          "Koehler-Ruprecht Spatburgunder Kabinett Trocken, Pfalz, Germany",
          "2017 spatburgunder kabinett koehler ruprecht",
          "Pinot Gris 2018 Friedrich Becker",
          "Sauvignon Blanc 2019 Tablelands",
          "Proprieta Sperino Uvaggio Coste della Sesia Rosso, Piedmont, Italy",
          "Collio Ribolla Gialla Oslavia 2018 Fiegl",
          "Beaujolais-Villages Le Bouteau 2016 Granger",
          "Gruner Veltliner 1L 2019 Hugl Weine",
          "Vino Tinto 2017 Traslapiedra",
          "Mencia \"Fusco\" 2018 Bodegas Albamar",
          "Pinot Gris 2017 Eyrie Vineyards",
          "Menetou-Salon Blanc 2018 Philippe Gilbert",
          "Menetou-Salon Les Blanchais 2018 Pellé",
          "2015 Larry Hyde & Sons Chardonnay, Carneros, USA",
          "Chardonnay 2015 Brittan Vineyards",
          "Syrah \"Generoso\" 2019 Laurent Family",
          "Cabernet Sauvignon 2017 Pura Fe",
          "Chardonnay 2017 Nathan K.",
          "Sauvignon Blanc 2016 Pied à Terre",
          "Minervois Blanc \"Champ du Roy\" 2018 Coupe-Roses",
          "Riesling Trocken 2018 Peter Jakob Kuhn",
          "Riesling Charta 2018 Johannishof*",
          "Bobal 2018 La Traca",
          "Kosher Chardonnay 2018 Backsberg",
          "Syrah 2016 Noble Hill",
          "Reserve della Contessa 2017 Manincor",
          "Barolo \"Pernanno\" Jeroboam 2007 Sobrero",
          "Barolo 2015 Fletcher",
          "Barolo Brea 2013 Brovia",
          "Ribera del Duero 2018 Torremorón",
          "Chardonnay 2018 Strangeways",
          "Chardonnay 2018 Aslina by Ntsiki Biyela",
          "2017 Gundlach-Bundschu Estate Vineyard Chardonnay, Sonoma Coast, USA",
          "Prosecco Superiore Brut 1.5L Sanfeletto",
          "Prosecco Fagher NV 375mL Le Colture",
          "Albariño Rias Baixas 2019 Columna",
          "Toro Tinto Matsu 2018 El Picaro",
          "2018 Domaine Clos des Rocs Macon-Loche En Pres Foret, Burgundy, France",
          "Meursault Les Narvaux 2017 Chavy-Chouet",
          "Graves La Raison 2010 Chateau des Fougères",
          "Albariño \"Rorick Heritage\" 2018 Etxea",
          "Riesling 1000L 2018 Julian Haart",
          "Riesling Extreme Trocken Palmberg 2017 Stein",
          "Riesling GG Uhlen R 2014 Heymann-Lowenstein",
          "2017 Cesca Vincent, Priorat DOCa, Spain",
          "Priorat 2016 Cesca Vicent",
          "Costières de Nîmes 2017 Mary Taylor",
          "Brunello di Montalcino 1.5L 2013 Il Palazzone",
          "Cabernet Sauvignon 2016 Grapesmith & Crusher",
          "Chianti 2015 L'Arco",
          "Riesling Kabinett Morstein 2018 Seehof",
          "Vinos de Montaña 2017 Peninsula Vinicultores",
          "Cava Brut Nature NV Camps d'Estels",
          "Brut Método Tradicional 2016 Cave Geisse",
          "Kosher Cava NV Taanug",
          "Pinot Noir 2018 Delta Vineyard",
          "Sangiovese 2015 Massoferrato",
          "Cagnina \"Dolce Viola\" 2019 Tenuta Amalia",
          "Côte-Rôtie \"Les Rochains\" 2015 Patrick et Bonnefond",
          "Sauvignon Blanc 2018 Te Mata",
          "Sauvignon Blanc 2018 Oops Wines",
          "Chiroubles 2018 La Grosse Pierre",
          "Riesling 2018 Michel Nartz",
          "Pinot Blanc 2018 Emile Beyer",
          "2018 Francois Baur Pinot Noir Schlittweg, Alsace, France",
          "2015 Domaine Bechtold Riesling Sussenberg, Alsace, France",
          "Nardo Rosso Roccamora 2016 Schola Sarmenti",
          "Gattinara 2015 Nervi",
          "Gattinara 2015 Nervi",
          "Bonarda \"Serie A\" 2015 Zuccardi",
          "2018 Bella Vita Montepulciano d'Abruzzo, Italy",
          "Montepulciano d'Abruzzo 2018 Coste di Brenta",
          "Pinot Grigio 1.5L 2018 Bella Vita",
          "Chianti Classico 2017 Montefili",
          "Refosco 2017 Redentore",
          "La Côte Le Morget 2017 Henri Cruchon",
          "Chablis Bienommée 2017 Poitout",
          "Chablis 1.5L 2018 Jean-Marc Brocard",
          "Torrontes 2019 Dos Minas",
          "Bordeaux St-Emilion Grand Cru 2012 Lamarzelle Figeac",
          "Toscana Rosso 2016 3L Massoferrato",
          "Merlot  Alexander Valley 2017 Taft Street Winery",
          "Bouzeron Aligoté 2017 Julien Cruchandeau",
          "Brut Rosé NV Billecarte-Salmon",
          "Champagne Extra Brut NV Besserat de Bellefon",
          "Champagne Brut 375mL NV Montaudon",
          "Cremant de Bourgogne Brut 1.5L NV Tripoz",
          "Pinotage 2017 Lammershoek",
          "Tinto Rufia 2016 Quinta da Boavista*",
          "Pinot Grigio 2018 Il Tasso",
          "Verdicchio \"Albiano\" 2018 Marotti Campi",
          "Counoise 2018 Benevolent Neglect",
          "G de Guiraud 2016 Château Guiraud",
          "Greco Mastro 2017 Mastroberardino*",
          "Albarino “Saira” 2018 Raimat",
          "Red Blend Monkey Jacket 2018 Cruse",
          "Chianti Classico Gran Selezione 2015 Montefili",
          "Malbec-Syrah Perlita 2017 DiamAndes",
          "Chardonnay 2017 Kumeu Village",
          "2018 Brezza Langhe Nebbiolo, Piedmont, Italy",
          "Valdiguié 2017 Folk Machine",
          "Champagne Silver Brut Nature NV Andre Clouet",
          "Verdejo 2018 Vega de Tera",
          "Weissburgunder 1L 2018 Brand",
          "Moscato di Pavia 2018 Centorri",
          "Chablis Les Preuses 2007 Clotilde Davenne",
          "Larkan Red 375mL 2017 Larkin",
          "Moro 2016 Marco Carpineti",
          "Chenin Blanc \"First Light\" 2018 Remhoogte",
          "Ventoux Rouge 2018 Domaine de Fenouillet",
          "Saint Bris 2017 Clotilde Davenne",
          "Nero d'Avola 2017 Feudo Montoni",
          "Pagliaro Sagrantino Secco di Montefalco 2012 Paolo Bea",
          "Carema Classico 2015 Produttori di Carema",
          "Nebbiolo Agamium 2017 Cantalupo",
          "2015 Lemelson Vineyards Reserve Chardonnay, Willamette Valley, USA",
          "Erbaluce di Caluso “Al Bacio” 2018 Orsolani",
          "Riesling Watervale 2018 Koerner",
          "Morgon Les Charmes 2016 Raphael Chopin*",
          "L'Effet Papillon Blanc 2019 Roc des Anges",
          "Soave Classico \"Otto\" 2018 Prá",
          "Tai Rosso 2018 Rezzadore",
          "2019 rose cotes de provence gassier",
          "Müller 2018 Enderle & Moll"
         ],
         "legendgroup": "",
         "marker": {
          "color": "#636efa"
         },
         "name": "",
         "notched": false,
         "offsetgroup": "",
         "orientation": "v",
         "quartilemethod": "exclusive",
         "showlegend": false,
         "type": "box",
         "x": [
          "Austria",
          "Italy",
          "United States",
          "Germany",
          "Germany",
          "Germany",
          "New Zealand",
          "Italy",
          "Italy",
          "France",
          "Austria",
          "Spain",
          "Spain",
          "United States",
          "France",
          "France",
          "United States",
          "United States",
          "Chile",
          "Chile",
          "United States",
          "United States",
          "France",
          "Germany",
          "Germany",
          "Spain",
          "South Africa",
          "South Africa",
          "Italy",
          "Italy",
          "Italy",
          "Italy",
          "Spain",
          "United States",
          "United States",
          "United States",
          "Italy",
          "Italy",
          "Spain",
          "Spain",
          "France",
          "France",
          "France",
          "Germany",
          "Germany",
          "Germany",
          "Germany",
          "Spain",
          "Spain",
          "France",
          "Italy",
          "United States",
          "Italy",
          "Germany",
          "Spain",
          "Spain",
          "Spain",
          "Spain",
          "United States",
          "Italy",
          "Italy",
          "France",
          "New Zealand",
          "New Zealand",
          "France",
          "France",
          "France",
          "France",
          "France",
          "Italy",
          "Italy",
          "Italy",
          "Argentina",
          "Italy",
          "Italy",
          "Italy",
          "Italy",
          "Italy",
          "Switzerland",
          "France",
          "France",
          "Argentina",
          "France",
          "Italy",
          "United States",
          "France",
          "France",
          "France",
          "France",
          "France",
          "South Africa",
          "Portugal",
          "Italy",
          "Italy",
          "United States",
          "France",
          "Italy",
          "Spain",
          "United States",
          "Italy",
          "Argentina",
          "New Zealand",
          "Italy",
          "United States",
          "France",
          "Spain",
          "Austria",
          "Italy",
          "France",
          "United States",
          "Italy",
          "South Africa",
          "France",
          "France",
          "Italy",
          "Italy",
          "Italy",
          "Italy",
          "United States",
          "Italy",
          "Australia",
          "France",
          "France",
          "Italy",
          "Italy",
          "France",
          "Germany"
         ],
         "x0": " ",
         "xaxis": "x",
         "y": [
          0.2808779110412359,
          0.12289031877987792,
          0.05232591241368721,
          0.06667462886349244,
          0.06667462886349244,
          0.12898082234264666,
          0.0639600245670284,
          0.015116629350248871,
          0.1244451268374893,
          0.22446697471942406,
          0.06232401801932981,
          0.2443370065386079,
          0.117437177983047,
          0.062071985741163814,
          0.0618872457837086,
          0.06391270492378953,
          0.0009791529783845783,
          0.14881685267178218,
          0.09444895461487876,
          0.042223482106206175,
          0.2610409321820624,
          0.023474693375468002,
          0.12462923666880665,
          0.06698178422650825,
          0.19599977338507985,
          0.2384307093994096,
          0.3455496485764251,
          0.06227414146788054,
          0.061353616351173514,
          0.010554025801668449,
          0.06734796515945522,
          0.008521316305826962,
          0.21750242385476776,
          0.10262132161180564,
          0.2535314761871819,
          0.2320361044379416,
          0.06924930146280107,
          0.11958466044007793,
          0.06086376157500285,
          0.303699498791593,
          0.0635269831128038,
          0.01736396038611635,
          0.08939211607138507,
          0.028061154178632232,
          0.06861009742859338,
          0.14279925584062794,
          0.03190173955201848,
          0.027665150137501,
          0.027665150137501,
          0.06921596361177823,
          0.004254535477639259,
          0.08822314679441966,
          0.18298970901867145,
          0.046597200810427265,
          0.150254987981405,
          0.1467660597327234,
          0.26640437721962695,
          0.15225828148365506,
          0.0008130284824210057,
          0.0689385891062647,
          0.09423939107912883,
          0.21471825420997775,
          0.02597300369683968,
          0.12238024275078582,
          0.037737075595533895,
          0.1485486013303641,
          0.04197709449436299,
          0.08210123940397365,
          0.10585007613951766,
          0.06102433996890828,
          0.025752535456298613,
          0.025752535456298613,
          0.116163025734832,
          0.0651302825586685,
          0.15167301945284697,
          0.1898117240661232,
          0.08431120547446003,
          0.044585277976095114,
          0.1070089918761725,
          0.32001435425214103,
          0.061074154443683325,
          0.06609653105305048,
          0.05436073683851538,
          0.13493527951814946,
          0.02720680024543512,
          0.2498099939031011,
          0.0018417357276964985,
          0.06888383263739503,
          0.04060084964700118,
          0.1600786359888129,
          0.2156730943362556,
          0.24753584148316385,
          0.15673048213424426,
          0.1832210329445716,
          0.1881073039192896,
          0.04652154655342283,
          0.18274203602043085,
          0.06284115581858328,
          0.018289855689774426,
          0.08781006704991376,
          0.08660729336444119,
          0.11664086643133954,
          0.14992595405406947,
          0.13447025823987754,
          0.06099923761740755,
          0.28402429379050115,
          0.3151936884731785,
          0.0044506124842169596,
          0.1903988897650564,
          0.058766999078237875,
          0.06277169502618712,
          0.15131910363507772,
          0.23320192709354834,
          0.1784903689215395,
          0.06388705033417617,
          0.0007842308628669192,
          0.08688079351664348,
          0.08822905077156991,
          0.0749599744103481,
          0.1676122894947903,
          0.0687896661760049,
          0.13562162078645312,
          0.08800452994890028,
          0.061208005188058065,
          0.6404133743103434,
          0.2158259712193064,
          0.06476802613738245
         ],
         "y0": " ",
         "yaxis": "y"
        }
       ],
       "layout": {
        "boxmode": "group",
        "legend": {
         "tracegroupgap": 0
        },
        "margin": {
         "t": 60
        },
        "template": {
         "data": {
          "bar": [
           {
            "error_x": {
             "color": "#2a3f5f"
            },
            "error_y": {
             "color": "#2a3f5f"
            },
            "marker": {
             "line": {
              "color": "#E5ECF6",
              "width": 0.5
             }
            },
            "type": "bar"
           }
          ],
          "barpolar": [
           {
            "marker": {
             "line": {
              "color": "#E5ECF6",
              "width": 0.5
             }
            },
            "type": "barpolar"
           }
          ],
          "carpet": [
           {
            "aaxis": {
             "endlinecolor": "#2a3f5f",
             "gridcolor": "white",
             "linecolor": "white",
             "minorgridcolor": "white",
             "startlinecolor": "#2a3f5f"
            },
            "baxis": {
             "endlinecolor": "#2a3f5f",
             "gridcolor": "white",
             "linecolor": "white",
             "minorgridcolor": "white",
             "startlinecolor": "#2a3f5f"
            },
            "type": "carpet"
           }
          ],
          "choropleth": [
           {
            "colorbar": {
             "outlinewidth": 0,
             "ticks": ""
            },
            "type": "choropleth"
           }
          ],
          "contour": [
           {
            "colorbar": {
             "outlinewidth": 0,
             "ticks": ""
            },
            "colorscale": [
             [
              0,
              "#0d0887"
             ],
             [
              0.1111111111111111,
              "#46039f"
             ],
             [
              0.2222222222222222,
              "#7201a8"
             ],
             [
              0.3333333333333333,
              "#9c179e"
             ],
             [
              0.4444444444444444,
              "#bd3786"
             ],
             [
              0.5555555555555556,
              "#d8576b"
             ],
             [
              0.6666666666666666,
              "#ed7953"
             ],
             [
              0.7777777777777778,
              "#fb9f3a"
             ],
             [
              0.8888888888888888,
              "#fdca26"
             ],
             [
              1,
              "#f0f921"
             ]
            ],
            "type": "contour"
           }
          ],
          "contourcarpet": [
           {
            "colorbar": {
             "outlinewidth": 0,
             "ticks": ""
            },
            "type": "contourcarpet"
           }
          ],
          "heatmap": [
           {
            "colorbar": {
             "outlinewidth": 0,
             "ticks": ""
            },
            "colorscale": [
             [
              0,
              "#0d0887"
             ],
             [
              0.1111111111111111,
              "#46039f"
             ],
             [
              0.2222222222222222,
              "#7201a8"
             ],
             [
              0.3333333333333333,
              "#9c179e"
             ],
             [
              0.4444444444444444,
              "#bd3786"
             ],
             [
              0.5555555555555556,
              "#d8576b"
             ],
             [
              0.6666666666666666,
              "#ed7953"
             ],
             [
              0.7777777777777778,
              "#fb9f3a"
             ],
             [
              0.8888888888888888,
              "#fdca26"
             ],
             [
              1,
              "#f0f921"
             ]
            ],
            "type": "heatmap"
           }
          ],
          "heatmapgl": [
           {
            "colorbar": {
             "outlinewidth": 0,
             "ticks": ""
            },
            "colorscale": [
             [
              0,
              "#0d0887"
             ],
             [
              0.1111111111111111,
              "#46039f"
             ],
             [
              0.2222222222222222,
              "#7201a8"
             ],
             [
              0.3333333333333333,
              "#9c179e"
             ],
             [
              0.4444444444444444,
              "#bd3786"
             ],
             [
              0.5555555555555556,
              "#d8576b"
             ],
             [
              0.6666666666666666,
              "#ed7953"
             ],
             [
              0.7777777777777778,
              "#fb9f3a"
             ],
             [
              0.8888888888888888,
              "#fdca26"
             ],
             [
              1,
              "#f0f921"
             ]
            ],
            "type": "heatmapgl"
           }
          ],
          "histogram": [
           {
            "marker": {
             "colorbar": {
              "outlinewidth": 0,
              "ticks": ""
             }
            },
            "type": "histogram"
           }
          ],
          "histogram2d": [
           {
            "colorbar": {
             "outlinewidth": 0,
             "ticks": ""
            },
            "colorscale": [
             [
              0,
              "#0d0887"
             ],
             [
              0.1111111111111111,
              "#46039f"
             ],
             [
              0.2222222222222222,
              "#7201a8"
             ],
             [
              0.3333333333333333,
              "#9c179e"
             ],
             [
              0.4444444444444444,
              "#bd3786"
             ],
             [
              0.5555555555555556,
              "#d8576b"
             ],
             [
              0.6666666666666666,
              "#ed7953"
             ],
             [
              0.7777777777777778,
              "#fb9f3a"
             ],
             [
              0.8888888888888888,
              "#fdca26"
             ],
             [
              1,
              "#f0f921"
             ]
            ],
            "type": "histogram2d"
           }
          ],
          "histogram2dcontour": [
           {
            "colorbar": {
             "outlinewidth": 0,
             "ticks": ""
            },
            "colorscale": [
             [
              0,
              "#0d0887"
             ],
             [
              0.1111111111111111,
              "#46039f"
             ],
             [
              0.2222222222222222,
              "#7201a8"
             ],
             [
              0.3333333333333333,
              "#9c179e"
             ],
             [
              0.4444444444444444,
              "#bd3786"
             ],
             [
              0.5555555555555556,
              "#d8576b"
             ],
             [
              0.6666666666666666,
              "#ed7953"
             ],
             [
              0.7777777777777778,
              "#fb9f3a"
             ],
             [
              0.8888888888888888,
              "#fdca26"
             ],
             [
              1,
              "#f0f921"
             ]
            ],
            "type": "histogram2dcontour"
           }
          ],
          "mesh3d": [
           {
            "colorbar": {
             "outlinewidth": 0,
             "ticks": ""
            },
            "type": "mesh3d"
           }
          ],
          "parcoords": [
           {
            "line": {
             "colorbar": {
              "outlinewidth": 0,
              "ticks": ""
             }
            },
            "type": "parcoords"
           }
          ],
          "pie": [
           {
            "automargin": true,
            "type": "pie"
           }
          ],
          "scatter": [
           {
            "marker": {
             "colorbar": {
              "outlinewidth": 0,
              "ticks": ""
             }
            },
            "type": "scatter"
           }
          ],
          "scatter3d": [
           {
            "line": {
             "colorbar": {
              "outlinewidth": 0,
              "ticks": ""
             }
            },
            "marker": {
             "colorbar": {
              "outlinewidth": 0,
              "ticks": ""
             }
            },
            "type": "scatter3d"
           }
          ],
          "scattercarpet": [
           {
            "marker": {
             "colorbar": {
              "outlinewidth": 0,
              "ticks": ""
             }
            },
            "type": "scattercarpet"
           }
          ],
          "scattergeo": [
           {
            "marker": {
             "colorbar": {
              "outlinewidth": 0,
              "ticks": ""
             }
            },
            "type": "scattergeo"
           }
          ],
          "scattergl": [
           {
            "marker": {
             "colorbar": {
              "outlinewidth": 0,
              "ticks": ""
             }
            },
            "type": "scattergl"
           }
          ],
          "scattermapbox": [
           {
            "marker": {
             "colorbar": {
              "outlinewidth": 0,
              "ticks": ""
             }
            },
            "type": "scattermapbox"
           }
          ],
          "scatterpolar": [
           {
            "marker": {
             "colorbar": {
              "outlinewidth": 0,
              "ticks": ""
             }
            },
            "type": "scatterpolar"
           }
          ],
          "scatterpolargl": [
           {
            "marker": {
             "colorbar": {
              "outlinewidth": 0,
              "ticks": ""
             }
            },
            "type": "scatterpolargl"
           }
          ],
          "scatterternary": [
           {
            "marker": {
             "colorbar": {
              "outlinewidth": 0,
              "ticks": ""
             }
            },
            "type": "scatterternary"
           }
          ],
          "surface": [
           {
            "colorbar": {
             "outlinewidth": 0,
             "ticks": ""
            },
            "colorscale": [
             [
              0,
              "#0d0887"
             ],
             [
              0.1111111111111111,
              "#46039f"
             ],
             [
              0.2222222222222222,
              "#7201a8"
             ],
             [
              0.3333333333333333,
              "#9c179e"
             ],
             [
              0.4444444444444444,
              "#bd3786"
             ],
             [
              0.5555555555555556,
              "#d8576b"
             ],
             [
              0.6666666666666666,
              "#ed7953"
             ],
             [
              0.7777777777777778,
              "#fb9f3a"
             ],
             [
              0.8888888888888888,
              "#fdca26"
             ],
             [
              1,
              "#f0f921"
             ]
            ],
            "type": "surface"
           }
          ],
          "table": [
           {
            "cells": {
             "fill": {
              "color": "#EBF0F8"
             },
             "line": {
              "color": "white"
             }
            },
            "header": {
             "fill": {
              "color": "#C8D4E3"
             },
             "line": {
              "color": "white"
             }
            },
            "type": "table"
           }
          ]
         },
         "layout": {
          "annotationdefaults": {
           "arrowcolor": "#2a3f5f",
           "arrowhead": 0,
           "arrowwidth": 1
          },
          "coloraxis": {
           "colorbar": {
            "outlinewidth": 0,
            "ticks": ""
           }
          },
          "colorscale": {
           "diverging": [
            [
             0,
             "#8e0152"
            ],
            [
             0.1,
             "#c51b7d"
            ],
            [
             0.2,
             "#de77ae"
            ],
            [
             0.3,
             "#f1b6da"
            ],
            [
             0.4,
             "#fde0ef"
            ],
            [
             0.5,
             "#f7f7f7"
            ],
            [
             0.6,
             "#e6f5d0"
            ],
            [
             0.7,
             "#b8e186"
            ],
            [
             0.8,
             "#7fbc41"
            ],
            [
             0.9,
             "#4d9221"
            ],
            [
             1,
             "#276419"
            ]
           ],
           "sequential": [
            [
             0,
             "#0d0887"
            ],
            [
             0.1111111111111111,
             "#46039f"
            ],
            [
             0.2222222222222222,
             "#7201a8"
            ],
            [
             0.3333333333333333,
             "#9c179e"
            ],
            [
             0.4444444444444444,
             "#bd3786"
            ],
            [
             0.5555555555555556,
             "#d8576b"
            ],
            [
             0.6666666666666666,
             "#ed7953"
            ],
            [
             0.7777777777777778,
             "#fb9f3a"
            ],
            [
             0.8888888888888888,
             "#fdca26"
            ],
            [
             1,
             "#f0f921"
            ]
           ],
           "sequentialminus": [
            [
             0,
             "#0d0887"
            ],
            [
             0.1111111111111111,
             "#46039f"
            ],
            [
             0.2222222222222222,
             "#7201a8"
            ],
            [
             0.3333333333333333,
             "#9c179e"
            ],
            [
             0.4444444444444444,
             "#bd3786"
            ],
            [
             0.5555555555555556,
             "#d8576b"
            ],
            [
             0.6666666666666666,
             "#ed7953"
            ],
            [
             0.7777777777777778,
             "#fb9f3a"
            ],
            [
             0.8888888888888888,
             "#fdca26"
            ],
            [
             1,
             "#f0f921"
            ]
           ]
          },
          "colorway": [
           "#636efa",
           "#EF553B",
           "#00cc96",
           "#ab63fa",
           "#FFA15A",
           "#19d3f3",
           "#FF6692",
           "#B6E880",
           "#FF97FF",
           "#FECB52"
          ],
          "font": {
           "color": "#2a3f5f"
          },
          "geo": {
           "bgcolor": "white",
           "lakecolor": "white",
           "landcolor": "#E5ECF6",
           "showlakes": true,
           "showland": true,
           "subunitcolor": "white"
          },
          "hoverlabel": {
           "align": "left"
          },
          "hovermode": "closest",
          "mapbox": {
           "style": "light"
          },
          "paper_bgcolor": "white",
          "plot_bgcolor": "#E5ECF6",
          "polar": {
           "angularaxis": {
            "gridcolor": "white",
            "linecolor": "white",
            "ticks": ""
           },
           "bgcolor": "#E5ECF6",
           "radialaxis": {
            "gridcolor": "white",
            "linecolor": "white",
            "ticks": ""
           }
          },
          "scene": {
           "xaxis": {
            "backgroundcolor": "#E5ECF6",
            "gridcolor": "white",
            "gridwidth": 2,
            "linecolor": "white",
            "showbackground": true,
            "ticks": "",
            "zerolinecolor": "white"
           },
           "yaxis": {
            "backgroundcolor": "#E5ECF6",
            "gridcolor": "white",
            "gridwidth": 2,
            "linecolor": "white",
            "showbackground": true,
            "ticks": "",
            "zerolinecolor": "white"
           },
           "zaxis": {
            "backgroundcolor": "#E5ECF6",
            "gridcolor": "white",
            "gridwidth": 2,
            "linecolor": "white",
            "showbackground": true,
            "ticks": "",
            "zerolinecolor": "white"
           }
          },
          "shapedefaults": {
           "line": {
            "color": "#2a3f5f"
           }
          },
          "ternary": {
           "aaxis": {
            "gridcolor": "white",
            "linecolor": "white",
            "ticks": ""
           },
           "baxis": {
            "gridcolor": "white",
            "linecolor": "white",
            "ticks": ""
           },
           "bgcolor": "#E5ECF6",
           "caxis": {
            "gridcolor": "white",
            "linecolor": "white",
            "ticks": ""
           }
          },
          "title": {
           "x": 0.05
          },
          "xaxis": {
           "automargin": true,
           "gridcolor": "white",
           "linecolor": "white",
           "ticks": "",
           "title": {
            "standoff": 15
           },
           "zerolinecolor": "white",
           "zerolinewidth": 2
          },
          "yaxis": {
           "automargin": true,
           "gridcolor": "white",
           "linecolor": "white",
           "ticks": "",
           "title": {
            "standoff": 15
           },
           "zerolinecolor": "white",
           "zerolinewidth": 2
          }
         }
        },
        "xaxis": {
         "anchor": "y",
         "domain": [
          0,
          1
         ],
         "title": {
          "text": "country_name"
         }
        },
        "yaxis": {
         "anchor": "x",
         "domain": [
          0,
          1
         ],
         "title": {
          "text": "ranking_global"
         }
        }
       }
      },
      "text/html": [
       "<div>\n",
       "        \n",
       "        \n",
       "            <div id=\"5df1723d-0ac9-4db0-a143-6260a3becfe3\" class=\"plotly-graph-div\" style=\"height:525px; width:100%;\"></div>\n",
       "            <script type=\"text/javascript\">\n",
       "                require([\"plotly\"], function(Plotly) {\n",
       "                    window.PLOTLYENV=window.PLOTLYENV || {};\n",
       "                    \n",
       "                if (document.getElementById(\"5df1723d-0ac9-4db0-a143-6260a3becfe3\")) {\n",
       "                    Plotly.newPlot(\n",
       "                        '5df1723d-0ac9-4db0-a143-6260a3becfe3',\n",
       "                        [{\"alignmentgroup\": \"True\", \"boxpoints\": \"all\", \"hovertemplate\": \"<b>%{hovertext}</b><br><br>country_name=%{x}<br>ranking_global=%{y}<extra></extra>\", \"hovertext\": [\"Stefan Bauer Zweigelt, Wagram, Austria\", \"Sforzato di Valtellina 2013 Alfio Mozzi\", \"Cabernet Sauvignon 2017 Oracle Cellars\", \"Koehler-Ruprecht Spatburgunder Kabinett Trocken, Pfalz, Germany\", \"2017 spatburgunder kabinett koehler ruprecht\", \"Pinot Gris 2018 Friedrich Becker\", \"Sauvignon Blanc 2019 Tablelands\", \"Proprieta Sperino Uvaggio Coste della Sesia Rosso, Piedmont, Italy\", \"Collio Ribolla Gialla Oslavia 2018 Fiegl\", \"Beaujolais-Villages Le Bouteau 2016 Granger\", \"Gruner Veltliner 1L 2019 Hugl Weine\", \"Vino Tinto 2017 Traslapiedra\", \"Mencia \\\"Fusco\\\" 2018 Bodegas Albamar\", \"Pinot Gris 2017 Eyrie Vineyards\", \"Menetou-Salon Blanc 2018 Philippe Gilbert\", \"Menetou-Salon Les Blanchais 2018 Pell\\u00e9\", \"2015 Larry Hyde & Sons Chardonnay, Carneros, USA\", \"Chardonnay 2015 Brittan Vineyards\", \"Syrah \\\"Generoso\\\" 2019 Laurent Family\", \"Cabernet Sauvignon 2017 Pura Fe\", \"Chardonnay 2017 Nathan K.\", \"Sauvignon Blanc 2016 Pied \\u00e0 Terre\", \"Minervois Blanc \\\"Champ du Roy\\\" 2018 Coupe-Roses\", \"Riesling Trocken 2018 Peter Jakob Kuhn\", \"Riesling Charta 2018 Johannishof*\", \"Bobal 2018 La Traca\", \"Kosher Chardonnay 2018 Backsberg\", \"Syrah 2016 Noble Hill\", \"Reserve della Contessa 2017 Manincor\", \"Barolo \\\"Pernanno\\\" Jeroboam 2007 Sobrero\", \"Barolo 2015 Fletcher\", \"Barolo Brea 2013 Brovia\", \"Ribera del Duero 2018 Torremor\\u00f3n\", \"Chardonnay 2018 Strangeways\", \"Chardonnay 2018 Aslina by Ntsiki Biyela\", \"2017 Gundlach-Bundschu Estate Vineyard Chardonnay, Sonoma Coast, USA\", \"Prosecco Superiore Brut 1.5L Sanfeletto\", \"Prosecco Fagher NV 375mL Le Colture\", \"Albari\\u00f1o Rias Baixas 2019 Columna\", \"Toro Tinto Matsu 2018 El Picaro\", \"2018 Domaine Clos des Rocs Macon-Loche En Pres Foret, Burgundy, France\", \"Meursault Les Narvaux 2017 Chavy-Chouet\", \"Graves La Raison 2010 Chateau des Fouge\\u0300res\", \"Albari\\u00f1o \\\"Rorick Heritage\\\" 2018 Etxea\", \"Riesling 1000L 2018 Julian Haart\", \"Riesling Extreme Trocken Palmberg 2017 Stein\", \"Riesling GG Uhlen R 2014 Heymann-Lowenstein\", \"2017 Cesca Vincent, Priorat DOCa, Spain\", \"Priorat 2016 Cesca Vicent\", \"Costi\\u00e8res de N\\u00eemes 2017 Mary Taylor\", \"Brunello di Montalcino 1.5L 2013 Il Palazzone\", \"Cabernet Sauvignon 2016 Grapesmith & Crusher\", \"Chianti 2015 L'Arco\", \"Riesling Kabinett Morstein 2018 Seehof\", \"Vinos de Monta\\u00f1a 2017 Peninsula Vinicultores\", \"Cava Brut Nature NV Camps d'Estels\", \"Brut Me\\u0301todo Tradicional 2016 Cave Geisse\", \"Kosher Cava NV Taanug\", \"Pinot Noir 2018 Delta Vineyard\", \"Sangiovese 2015 Massoferrato\", \"Cagnina \\\"Dolce Viola\\\" 2019 Tenuta Amalia\", \"C\\u00f4te-R\\u00f4tie \\\"Les Rochains\\\" 2015 Patrick et Bonnefond\", \"Sauvignon Blanc 2018 Te Mata\", \"Sauvignon Blanc 2018 Oops Wines\", \"Chiroubles 2018 La Grosse Pierre\", \"Riesling 2018 Michel Nartz\", \"Pinot Blanc 2018 Emile Beyer\", \"2018 Francois Baur Pinot Noir Schlittweg, Alsace, France\", \"2015 Domaine Bechtold Riesling Sussenberg, Alsace, France\", \"Nardo Rosso Roccamora 2016 Schola Sarmenti\", \"Gattinara 2015 Nervi\", \"Gattinara 2015 Nervi\", \"Bonarda \\\"Serie A\\\" 2015 Zuccardi\", \"2018 Bella Vita Montepulciano d'Abruzzo, Italy\", \"Montepulciano d'Abruzzo 2018 Coste di Brenta\", \"Pinot Grigio 1.5L 2018 Bella Vita\", \"Chianti Classico 2017 Montefili\", \"Refosco 2017 Redentore\", \"La C\\u00f4te Le Morget 2017 Henri Cruchon\", \"Chablis Bienomm\\u00e9e 2017 Poitout\", \"Chablis 1.5L 2018 Jean-Marc Brocard\", \"Torrontes 2019 Dos Minas\", \"Bordeaux St-Emilion Grand Cru 2012 Lamarzelle Figeac\", \"Toscana Rosso 2016 3L Massoferrato\", \"Merlot  Alexander Valley 2017 Taft Street Winery\", \"Bouzeron Aligot\\u00e9 2017 Julien Cruchandeau\", \"Brut Ros\\u00e9 NV Billecarte-Salmon\", \"Champagne Extra Brut NV Besserat de Bellefon\", \"Champagne Brut 375mL NV Montaudon\", \"Cremant de Bourgogne Brut 1.5L NV Tripoz\", \"Pinotage 2017 Lammershoek\", \"Tinto Rufia 2016 Quinta da Boavista*\", \"Pinot Grigio 2018 Il Tasso\", \"Verdicchio \\\"Albiano\\\" 2018 Marotti Campi\", \"Counoise 2018 Benevolent Neglect\", \"G de Guiraud 2016 Ch\\u00e2teau Guiraud\", \"Greco Mastro 2017 Mastroberardino*\", \"Albarino \\u201cSaira\\u201d 2018 Raimat\", \"Red Blend Monkey Jacket 2018 Cruse\", \"Chianti Classico Gran Selezione 2015 Montefili\", \"Malbec-Syrah Perlita 2017 DiamAndes\", \"Chardonnay 2017 Kumeu Village\", \"2018 Brezza Langhe Nebbiolo, Piedmont, Italy\", \"Valdigui\\u00e9 2017 Folk Machine\", \"Champagne Silver Brut Nature NV Andre Clouet\", \"Verdejo 2018 Vega de Tera\", \"Weissburgunder 1L 2018 Brand\", \"Moscato di Pavia 2018 Centorri\", \"Chablis Les Preuses 2007 Clotilde Davenne\", \"Larkan Red 375mL 2017 Larkin\", \"Moro 2016 Marco Carpineti\", \"Chenin Blanc \\\"First Light\\\" 2018 Remhoogte\", \"Ventoux Rouge 2018 Domaine de Fenouillet\", \"Saint Bris 2017 Clotilde Davenne\", \"Nero d'Avola 2017 Feudo Montoni\", \"Pagliaro Sagrantino Secco di Montefalco 2012 Paolo Bea\", \"Carema Classico 2015 Produttori di Carema\", \"Nebbiolo Agamium 2017 Cantalupo\", \"2015 Lemelson Vineyards Reserve Chardonnay, Willamette Valley, USA\", \"Erbaluce di Caluso \\u201cAl Bacio\\u201d 2018 Orsolani\", \"Riesling Watervale 2018 Koerner\", \"Morgon Les Charmes 2016 Raphael Chopin*\", \"L'Effet Papillon Blanc 2019 Roc des Anges\", \"Soave Classico \\\"Otto\\\" 2018 Pr\\u00e1\", \"Tai Rosso 2018 Rezzadore\", \"2019 rose cotes de provence gassier\", \"M\\u00fcller 2018 Enderle & Moll\"], \"legendgroup\": \"\", \"marker\": {\"color\": \"#636efa\"}, \"name\": \"\", \"notched\": false, \"offsetgroup\": \"\", \"orientation\": \"v\", \"quartilemethod\": \"exclusive\", \"showlegend\": false, \"type\": \"box\", \"x\": [\"Austria\", \"Italy\", \"United States\", \"Germany\", \"Germany\", \"Germany\", \"New Zealand\", \"Italy\", \"Italy\", \"France\", \"Austria\", \"Spain\", \"Spain\", \"United States\", \"France\", \"France\", \"United States\", \"United States\", \"Chile\", \"Chile\", \"United States\", \"United States\", \"France\", \"Germany\", \"Germany\", \"Spain\", \"South Africa\", \"South Africa\", \"Italy\", \"Italy\", \"Italy\", \"Italy\", \"Spain\", \"United States\", \"United States\", \"United States\", \"Italy\", \"Italy\", \"Spain\", \"Spain\", \"France\", \"France\", \"France\", \"Germany\", \"Germany\", \"Germany\", \"Germany\", \"Spain\", \"Spain\", \"France\", \"Italy\", \"United States\", \"Italy\", \"Germany\", \"Spain\", \"Spain\", \"Spain\", \"Spain\", \"United States\", \"Italy\", \"Italy\", \"France\", \"New Zealand\", \"New Zealand\", \"France\", \"France\", \"France\", \"France\", \"France\", \"Italy\", \"Italy\", \"Italy\", \"Argentina\", \"Italy\", \"Italy\", \"Italy\", \"Italy\", \"Italy\", \"Switzerland\", \"France\", \"France\", \"Argentina\", \"France\", \"Italy\", \"United States\", \"France\", \"France\", \"France\", \"France\", \"France\", \"South Africa\", \"Portugal\", \"Italy\", \"Italy\", \"United States\", \"France\", \"Italy\", \"Spain\", \"United States\", \"Italy\", \"Argentina\", \"New Zealand\", \"Italy\", \"United States\", \"France\", \"Spain\", \"Austria\", \"Italy\", \"France\", \"United States\", \"Italy\", \"South Africa\", \"France\", \"France\", \"Italy\", \"Italy\", \"Italy\", \"Italy\", \"United States\", \"Italy\", \"Australia\", \"France\", \"France\", \"Italy\", \"Italy\", \"France\", \"Germany\"], \"x0\": \" \", \"xaxis\": \"x\", \"y\": [0.2808779110412359, 0.12289031877987792, 0.05232591241368721, 0.06667462886349244, 0.06667462886349244, 0.12898082234264666, 0.0639600245670284, 0.015116629350248871, 0.1244451268374893, 0.22446697471942406, 0.06232401801932981, 0.2443370065386079, 0.117437177983047, 0.062071985741163814, 0.0618872457837086, 0.06391270492378953, 0.0009791529783845783, 0.14881685267178218, 0.09444895461487876, 0.042223482106206175, 0.2610409321820624, 0.023474693375468002, 0.12462923666880665, 0.06698178422650825, 0.19599977338507985, 0.2384307093994096, 0.3455496485764251, 0.06227414146788054, 0.061353616351173514, 0.010554025801668449, 0.06734796515945522, 0.008521316305826962, 0.21750242385476776, 0.10262132161180564, 0.2535314761871819, 0.2320361044379416, 0.06924930146280107, 0.11958466044007793, 0.06086376157500285, 0.303699498791593, 0.0635269831128038, 0.01736396038611635, 0.08939211607138507, 0.028061154178632232, 0.06861009742859338, 0.14279925584062794, 0.03190173955201848, 0.027665150137501, 0.027665150137501, 0.06921596361177823, 0.004254535477639259, 0.08822314679441966, 0.18298970901867145, 0.046597200810427265, 0.150254987981405, 0.1467660597327234, 0.26640437721962695, 0.15225828148365506, 0.0008130284824210057, 0.0689385891062647, 0.09423939107912883, 0.21471825420997775, 0.02597300369683968, 0.12238024275078582, 0.037737075595533895, 0.1485486013303641, 0.04197709449436299, 0.08210123940397365, 0.10585007613951766, 0.06102433996890828, 0.025752535456298613, 0.025752535456298613, 0.116163025734832, 0.0651302825586685, 0.15167301945284697, 0.1898117240661232, 0.08431120547446003, 0.044585277976095114, 0.1070089918761725, 0.32001435425214103, 0.061074154443683325, 0.06609653105305048, 0.05436073683851538, 0.13493527951814946, 0.02720680024543512, 0.2498099939031011, 0.0018417357276964985, 0.06888383263739503, 0.04060084964700118, 0.1600786359888129, 0.2156730943362556, 0.24753584148316385, 0.15673048213424426, 0.1832210329445716, 0.1881073039192896, 0.04652154655342283, 0.18274203602043085, 0.06284115581858328, 0.018289855689774426, 0.08781006704991376, 0.08660729336444119, 0.11664086643133954, 0.14992595405406947, 0.13447025823987754, 0.06099923761740755, 0.28402429379050115, 0.3151936884731785, 0.0044506124842169596, 0.1903988897650564, 0.058766999078237875, 0.06277169502618712, 0.15131910363507772, 0.23320192709354834, 0.1784903689215395, 0.06388705033417617, 0.0007842308628669192, 0.08688079351664348, 0.08822905077156991, 0.0749599744103481, 0.1676122894947903, 0.0687896661760049, 0.13562162078645312, 0.08800452994890028, 0.061208005188058065, 0.6404133743103434, 0.2158259712193064, 0.06476802613738245], \"y0\": \" \", \"yaxis\": \"y\"}],\n",
       "                        {\"boxmode\": \"group\", \"legend\": {\"tracegroupgap\": 0}, \"margin\": {\"t\": 60}, \"template\": {\"data\": {\"bar\": [{\"error_x\": {\"color\": \"#2a3f5f\"}, \"error_y\": {\"color\": \"#2a3f5f\"}, \"marker\": {\"line\": {\"color\": \"#E5ECF6\", \"width\": 0.5}}, \"type\": \"bar\"}], \"barpolar\": [{\"marker\": {\"line\": {\"color\": \"#E5ECF6\", \"width\": 0.5}}, \"type\": \"barpolar\"}], \"carpet\": [{\"aaxis\": {\"endlinecolor\": \"#2a3f5f\", \"gridcolor\": \"white\", \"linecolor\": \"white\", \"minorgridcolor\": \"white\", \"startlinecolor\": \"#2a3f5f\"}, \"baxis\": {\"endlinecolor\": \"#2a3f5f\", \"gridcolor\": \"white\", \"linecolor\": \"white\", \"minorgridcolor\": \"white\", \"startlinecolor\": \"#2a3f5f\"}, \"type\": \"carpet\"}], \"choropleth\": [{\"colorbar\": {\"outlinewidth\": 0, \"ticks\": \"\"}, \"type\": \"choropleth\"}], \"contour\": [{\"colorbar\": {\"outlinewidth\": 0, \"ticks\": \"\"}, \"colorscale\": [[0.0, \"#0d0887\"], [0.1111111111111111, \"#46039f\"], [0.2222222222222222, \"#7201a8\"], [0.3333333333333333, \"#9c179e\"], [0.4444444444444444, \"#bd3786\"], [0.5555555555555556, \"#d8576b\"], [0.6666666666666666, \"#ed7953\"], [0.7777777777777778, \"#fb9f3a\"], [0.8888888888888888, \"#fdca26\"], [1.0, \"#f0f921\"]], \"type\": \"contour\"}], \"contourcarpet\": [{\"colorbar\": {\"outlinewidth\": 0, \"ticks\": \"\"}, \"type\": \"contourcarpet\"}], \"heatmap\": [{\"colorbar\": {\"outlinewidth\": 0, \"ticks\": \"\"}, \"colorscale\": [[0.0, \"#0d0887\"], [0.1111111111111111, \"#46039f\"], [0.2222222222222222, \"#7201a8\"], [0.3333333333333333, \"#9c179e\"], [0.4444444444444444, \"#bd3786\"], [0.5555555555555556, \"#d8576b\"], [0.6666666666666666, \"#ed7953\"], [0.7777777777777778, \"#fb9f3a\"], [0.8888888888888888, \"#fdca26\"], [1.0, \"#f0f921\"]], \"type\": \"heatmap\"}], \"heatmapgl\": [{\"colorbar\": {\"outlinewidth\": 0, \"ticks\": \"\"}, \"colorscale\": [[0.0, \"#0d0887\"], [0.1111111111111111, \"#46039f\"], [0.2222222222222222, \"#7201a8\"], [0.3333333333333333, \"#9c179e\"], [0.4444444444444444, \"#bd3786\"], [0.5555555555555556, \"#d8576b\"], [0.6666666666666666, \"#ed7953\"], [0.7777777777777778, \"#fb9f3a\"], [0.8888888888888888, \"#fdca26\"], [1.0, \"#f0f921\"]], \"type\": \"heatmapgl\"}], \"histogram\": [{\"marker\": {\"colorbar\": {\"outlinewidth\": 0, \"ticks\": \"\"}}, \"type\": \"histogram\"}], \"histogram2d\": [{\"colorbar\": {\"outlinewidth\": 0, \"ticks\": \"\"}, \"colorscale\": [[0.0, \"#0d0887\"], [0.1111111111111111, \"#46039f\"], [0.2222222222222222, \"#7201a8\"], [0.3333333333333333, \"#9c179e\"], [0.4444444444444444, \"#bd3786\"], [0.5555555555555556, \"#d8576b\"], [0.6666666666666666, \"#ed7953\"], [0.7777777777777778, \"#fb9f3a\"], [0.8888888888888888, \"#fdca26\"], [1.0, \"#f0f921\"]], \"type\": \"histogram2d\"}], \"histogram2dcontour\": [{\"colorbar\": {\"outlinewidth\": 0, \"ticks\": \"\"}, \"colorscale\": [[0.0, \"#0d0887\"], [0.1111111111111111, \"#46039f\"], [0.2222222222222222, \"#7201a8\"], [0.3333333333333333, \"#9c179e\"], [0.4444444444444444, \"#bd3786\"], [0.5555555555555556, \"#d8576b\"], [0.6666666666666666, \"#ed7953\"], [0.7777777777777778, \"#fb9f3a\"], [0.8888888888888888, \"#fdca26\"], [1.0, \"#f0f921\"]], \"type\": \"histogram2dcontour\"}], \"mesh3d\": [{\"colorbar\": {\"outlinewidth\": 0, \"ticks\": \"\"}, \"type\": \"mesh3d\"}], \"parcoords\": [{\"line\": {\"colorbar\": {\"outlinewidth\": 0, \"ticks\": \"\"}}, \"type\": \"parcoords\"}], \"pie\": [{\"automargin\": true, \"type\": \"pie\"}], \"scatter\": [{\"marker\": {\"colorbar\": {\"outlinewidth\": 0, \"ticks\": \"\"}}, \"type\": \"scatter\"}], \"scatter3d\": [{\"line\": {\"colorbar\": {\"outlinewidth\": 0, \"ticks\": \"\"}}, \"marker\": {\"colorbar\": {\"outlinewidth\": 0, \"ticks\": \"\"}}, \"type\": \"scatter3d\"}], \"scattercarpet\": [{\"marker\": {\"colorbar\": {\"outlinewidth\": 0, \"ticks\": \"\"}}, \"type\": \"scattercarpet\"}], \"scattergeo\": [{\"marker\": {\"colorbar\": {\"outlinewidth\": 0, \"ticks\": \"\"}}, \"type\": \"scattergeo\"}], \"scattergl\": [{\"marker\": {\"colorbar\": {\"outlinewidth\": 0, \"ticks\": \"\"}}, \"type\": \"scattergl\"}], \"scattermapbox\": [{\"marker\": {\"colorbar\": {\"outlinewidth\": 0, \"ticks\": \"\"}}, \"type\": \"scattermapbox\"}], \"scatterpolar\": [{\"marker\": {\"colorbar\": {\"outlinewidth\": 0, \"ticks\": \"\"}}, \"type\": \"scatterpolar\"}], \"scatterpolargl\": [{\"marker\": {\"colorbar\": {\"outlinewidth\": 0, \"ticks\": \"\"}}, \"type\": \"scatterpolargl\"}], \"scatterternary\": [{\"marker\": {\"colorbar\": {\"outlinewidth\": 0, \"ticks\": \"\"}}, \"type\": \"scatterternary\"}], \"surface\": [{\"colorbar\": {\"outlinewidth\": 0, \"ticks\": \"\"}, \"colorscale\": [[0.0, \"#0d0887\"], [0.1111111111111111, \"#46039f\"], [0.2222222222222222, \"#7201a8\"], [0.3333333333333333, \"#9c179e\"], [0.4444444444444444, \"#bd3786\"], [0.5555555555555556, \"#d8576b\"], [0.6666666666666666, \"#ed7953\"], [0.7777777777777778, \"#fb9f3a\"], [0.8888888888888888, \"#fdca26\"], [1.0, \"#f0f921\"]], \"type\": \"surface\"}], \"table\": [{\"cells\": {\"fill\": {\"color\": \"#EBF0F8\"}, \"line\": {\"color\": \"white\"}}, \"header\": {\"fill\": {\"color\": \"#C8D4E3\"}, \"line\": {\"color\": \"white\"}}, \"type\": \"table\"}]}, \"layout\": {\"annotationdefaults\": {\"arrowcolor\": \"#2a3f5f\", \"arrowhead\": 0, \"arrowwidth\": 1}, \"coloraxis\": {\"colorbar\": {\"outlinewidth\": 0, \"ticks\": \"\"}}, \"colorscale\": {\"diverging\": [[0, \"#8e0152\"], [0.1, \"#c51b7d\"], [0.2, \"#de77ae\"], [0.3, \"#f1b6da\"], [0.4, \"#fde0ef\"], [0.5, \"#f7f7f7\"], [0.6, \"#e6f5d0\"], [0.7, \"#b8e186\"], [0.8, \"#7fbc41\"], [0.9, \"#4d9221\"], [1, \"#276419\"]], \"sequential\": [[0.0, \"#0d0887\"], [0.1111111111111111, \"#46039f\"], [0.2222222222222222, \"#7201a8\"], [0.3333333333333333, \"#9c179e\"], [0.4444444444444444, \"#bd3786\"], [0.5555555555555556, \"#d8576b\"], [0.6666666666666666, \"#ed7953\"], [0.7777777777777778, \"#fb9f3a\"], [0.8888888888888888, \"#fdca26\"], [1.0, \"#f0f921\"]], \"sequentialminus\": [[0.0, \"#0d0887\"], [0.1111111111111111, \"#46039f\"], [0.2222222222222222, \"#7201a8\"], [0.3333333333333333, \"#9c179e\"], [0.4444444444444444, \"#bd3786\"], [0.5555555555555556, \"#d8576b\"], [0.6666666666666666, \"#ed7953\"], [0.7777777777777778, \"#fb9f3a\"], [0.8888888888888888, \"#fdca26\"], [1.0, \"#f0f921\"]]}, \"colorway\": [\"#636efa\", \"#EF553B\", \"#00cc96\", \"#ab63fa\", \"#FFA15A\", \"#19d3f3\", \"#FF6692\", \"#B6E880\", \"#FF97FF\", \"#FECB52\"], \"font\": {\"color\": \"#2a3f5f\"}, \"geo\": {\"bgcolor\": \"white\", \"lakecolor\": \"white\", \"landcolor\": \"#E5ECF6\", \"showlakes\": true, \"showland\": true, \"subunitcolor\": \"white\"}, \"hoverlabel\": {\"align\": \"left\"}, \"hovermode\": \"closest\", \"mapbox\": {\"style\": \"light\"}, \"paper_bgcolor\": \"white\", \"plot_bgcolor\": \"#E5ECF6\", \"polar\": {\"angularaxis\": {\"gridcolor\": \"white\", \"linecolor\": \"white\", \"ticks\": \"\"}, \"bgcolor\": \"#E5ECF6\", \"radialaxis\": {\"gridcolor\": \"white\", \"linecolor\": \"white\", \"ticks\": \"\"}}, \"scene\": {\"xaxis\": {\"backgroundcolor\": \"#E5ECF6\", \"gridcolor\": \"white\", \"gridwidth\": 2, \"linecolor\": \"white\", \"showbackground\": true, \"ticks\": \"\", \"zerolinecolor\": \"white\"}, \"yaxis\": {\"backgroundcolor\": \"#E5ECF6\", \"gridcolor\": \"white\", \"gridwidth\": 2, \"linecolor\": \"white\", \"showbackground\": true, \"ticks\": \"\", \"zerolinecolor\": \"white\"}, \"zaxis\": {\"backgroundcolor\": \"#E5ECF6\", \"gridcolor\": \"white\", \"gridwidth\": 2, \"linecolor\": \"white\", \"showbackground\": true, \"ticks\": \"\", \"zerolinecolor\": \"white\"}}, \"shapedefaults\": {\"line\": {\"color\": \"#2a3f5f\"}}, \"ternary\": {\"aaxis\": {\"gridcolor\": \"white\", \"linecolor\": \"white\", \"ticks\": \"\"}, \"baxis\": {\"gridcolor\": \"white\", \"linecolor\": \"white\", \"ticks\": \"\"}, \"bgcolor\": \"#E5ECF6\", \"caxis\": {\"gridcolor\": \"white\", \"linecolor\": \"white\", \"ticks\": \"\"}}, \"title\": {\"x\": 0.05}, \"xaxis\": {\"automargin\": true, \"gridcolor\": \"white\", \"linecolor\": \"white\", \"ticks\": \"\", \"title\": {\"standoff\": 15}, \"zerolinecolor\": \"white\", \"zerolinewidth\": 2}, \"yaxis\": {\"automargin\": true, \"gridcolor\": \"white\", \"linecolor\": \"white\", \"ticks\": \"\", \"title\": {\"standoff\": 15}, \"zerolinecolor\": \"white\", \"zerolinewidth\": 2}}}, \"xaxis\": {\"anchor\": \"y\", \"domain\": [0.0, 1.0], \"title\": {\"text\": \"country_name\"}}, \"yaxis\": {\"anchor\": \"x\", \"domain\": [0.0, 1.0], \"title\": {\"text\": \"ranking_global\"}}},\n",
       "                        {\"responsive\": true}\n",
       "                    ).then(function(){\n",
       "                            \n",
       "var gd = document.getElementById('5df1723d-0ac9-4db0-a143-6260a3becfe3');\n",
       "var x = new MutationObserver(function (mutations, observer) {{\n",
       "        var display = window.getComputedStyle(gd).display;\n",
       "        if (!display || display === 'none') {{\n",
       "            console.log([gd, 'removed!']);\n",
       "            Plotly.purge(gd);\n",
       "            observer.disconnect();\n",
       "        }}\n",
       "}});\n",
       "\n",
       "// Listen for the removal of the full notebook cells\n",
       "var notebookContainer = gd.closest('#notebook-container');\n",
       "if (notebookContainer) {{\n",
       "    x.observe(notebookContainer, {childList: true});\n",
       "}}\n",
       "\n",
       "// Listen for the clearing of the current output cell\n",
       "var outputEl = gd.closest('.output');\n",
       "if (outputEl) {{\n",
       "    x.observe(outputEl, {childList: true});\n",
       "}}\n",
       "\n",
       "                        })\n",
       "                };\n",
       "                });\n",
       "            </script>\n",
       "        </div>"
      ]
     },
     "metadata": {},
     "output_type": "display_data"
    }
   ],
   "source": [
    "fig = px.box(df[df['ratings_average']!=0],x='country_name',y='ranking_global',points='all',hover_name='name')\n",
    "fig.update_traces(quartilemethod=\"exclusive\")\n",
    "fig.show()"
   ]
  },
  {
   "cell_type": "markdown",
   "metadata": {},
   "source": [
    "### Type,Wine Style,Grape/Blend"
   ]
  },
  {
   "cell_type": "code",
   "execution_count": 15,
   "metadata": {},
   "outputs": [
    {
     "data": {
      "application/vnd.plotly.v1+json": {
       "config": {
        "plotlyServerURL": "https://plot.ly"
       },
       "data": [
        {
         "branchvalues": "total",
         "customdata": [
          [
           3
          ],
          [
           3
          ],
          [
           3
          ],
          [
           3
          ],
          [
           3
          ],
          [
           2
          ],
          [
           3
          ],
          [
           3
          ],
          [
           3
          ],
          [
           3
          ],
          [
           3
          ],
          [
           3
          ],
          [
           3
          ],
          [
           2.3333333333333335
          ],
          [
           3
          ],
          [
           3
          ],
          [
           3
          ],
          [
           3
          ],
          [
           2
          ],
          [
           3
          ],
          [
           3
          ],
          [
           3
          ],
          [
           3
          ],
          [
           3
          ],
          [
           3
          ],
          [
           3
          ],
          [
           3
          ],
          [
           3
          ],
          [
           3
          ],
          [
           3
          ],
          [
           3
          ],
          [
           3
          ],
          [
           2.5
          ],
          [
           3
          ],
          [
           3
          ],
          [
           3
          ],
          [
           3
          ],
          [
           3
          ],
          [
           3
          ],
          [
           3
          ],
          [
           3
          ],
          [
           3
          ],
          [
           3
          ],
          [
           3
          ],
          [
           3
          ],
          [
           3
          ],
          [
           3
          ],
          [
           3
          ],
          [
           3
          ],
          [
           3
          ],
          [
           3
          ],
          [
           3
          ],
          [
           3
          ],
          [
           3
          ],
          [
           3
          ],
          [
           3
          ],
          [
           3
          ],
          [
           3
          ],
          [
           3
          ],
          [
           3
          ],
          [
           2.3333333333333335
          ],
          [
           3
          ],
          [
           3
          ],
          [
           3
          ],
          [
           3
          ],
          [
           3
          ],
          [
           3
          ],
          [
           3
          ],
          [
           3
          ],
          [
           2
          ],
          [
           3
          ],
          [
           3
          ],
          [
           3
          ],
          [
           3
          ],
          [
           2.8
          ],
          [
           3
          ],
          [
           2.8666666666666667
          ],
          [
           2.4
          ],
          [
           3
          ],
          [
           3
          ],
          [
           3
          ],
          [
           2.96875
          ],
          [
           3
          ],
          [
           3
          ],
          [
           3
          ],
          [
           2.9523809523809526
          ],
          [
           2.9375
          ],
          [
           3
          ],
          [
           2.9322033898305087
          ],
          [
           3
          ],
          [
           3
          ],
          [
           2.8620689655172415
          ]
         ],
         "domain": {
          "x": [
           0,
           1
          ],
          "y": [
           0,
           1
          ]
         },
         "hovertemplate": "acidity=%{color}<br>labels=%{label}<br>count=%{value}<br>parent=%{parent}<br>id=%{id}<extra></extra>",
         "ids": [
          "White/Green and Flinty/Albarino (Alvarinho)",
          "White/Tropical and Balanced/Albarino (Alvarinho)",
          "White/Green and Flinty/Aligote",
          "Red/Rich and Intense/Bobal",
          "Red/Savory and Classic/Bordeaux Blend Red",
          "Red/Savory and Classic/Cabernet Franc - Merlot",
          "Red/Bold and Structured/Cabernet Sauvignon",
          "Red/Bold and Structured/Cabernet Sauvignon - Malbec",
          "Red/Rich and Intense/Carignan - Grenache - Syrah",
          "Sparkling/Fresh and Youthful/Cava Blend",
          "Sparkling/Berries and Cream/Champagne Blend",
          "Sparkling/Complex and Traditional/Champagne Blend",
          "Red/Rich and Intense/Charbono (Bonarda)",
          "White/Buttery and Complex/Chardonnay",
          "Sparkling/Complex and Traditional/Chardonnay",
          "White/Green and Flinty/Chardonnay",
          "White/Tropical and Balanced/Chardonnay",
          "Sparkling/Fresh and Youthful/Chardonnay - Pinot Noir",
          "White/Green and Flinty/Chasselas",
          "White/Buttery and Complex/Chenin Blanc",
          "Red/Savory and Classic/Chianti Blend",
          "Red/Rich and Intense/Counoise",
          "White/Green and Flinty/Erbaluce",
          "Red/Light and Perfumed/Gamay",
          "Red/Savory and Classic/Gamay",
          "Sparkling/Fresh and Youthful/Glera (Prosecco)",
          "White/Tropical and Balanced/Greco",
          "Red/Rich and Intense/Grenache (Garnacha)",
          "Red/Rich and Intense/Grenache - Mourvedre - Syrah",
          "White/Green and Flinty/Gruner Veltliner",
          "Red/Bold and Structured/Malbec - Syrah",
          "Red/Rich and Intense/Mencia",
          "Red/Rich and Intense/Merlot",
          "Red/Bold and Structured/Montepulciano",
          "White/Aromatic and Floral/Muller-Thurgau",
          "White/Aromatic and Floral/Muscat",
          "Red/Rich and Intense/Nebbiolo",
          "Red/Savory and Classic/Nebbiolo",
          "Red/Rich and Intense/Negroamaro",
          "Red/Rich and Intense/Nero d'Avola",
          "White/Tropical and Balanced/Pinot Blanc",
          "White/Green and Flinty/Pinot Grigio",
          "White/Aromatic and Floral/Pinot Gris",
          "White/Tropical and Balanced/Pinot Gris",
          "Sparkling/Complex and Traditional/Pinot Noir",
          "Red/Light and Perfumed/Pinot Noir",
          "White/Aromatic and Floral/Pinot d'Alsace",
          "Red/Rich and Intense/Pinotage",
          "Red/Rich and Intense/Portuguese Red Blend",
          "Red/Bold and Structured/Rare Red Blend",
          "Red/Rich and Intense/Rare Red Blend",
          "Rose/Crisp and Dry/Rare Rose Blend",
          "White/Green and Flinty/Rare White Blend",
          "White/Tropical and Balanced/Rare White Blend",
          "Red/Lush and Balanced/Refosco",
          "Red/Rich and Intense/Refosco",
          "White/Green and Flinty/Ribolla",
          "White/Green and Flinty/Riesling",
          "White/Lush and Balanced/Riesling",
          "Red/Bold and Structured/Sagrantino",
          "Red/Bold and Structured/Sangiovese",
          "Red/Savory and Classic/Sangiovese",
          "White/Green and Flinty/Sauvignon Blanc",
          "White/Green and Flinty/Sauvignon Blanc - Semillon",
          "White/Green and Flinty/Soave Blend",
          "White/Tropical and Balanced/Southern Rhone White Blend",
          "Red/Bold and Structured/Syrah",
          "Red/Rich and Intense/Syrah",
          "Red/Rich and Intense/Tempranillo",
          "White/Aromatic and Floral/Torrontes",
          "Red/Rich and Intense/Valdiguie",
          "White/Green and Flinty/Verdejo",
          "White/Green and Flinty/Verdicchio",
          "Red/Savory and Classic/Zweigelt",
          "White/Aromatic and Floral",
          "Sparkling/Berries and Cream",
          "Red/Bold and Structured",
          "White/Buttery and Complex",
          "Sparkling/Complex and Traditional",
          "Rose/Crisp and Dry",
          "Sparkling/Fresh and Youthful",
          "White/Green and Flinty",
          "Red/Light and Perfumed",
          "Red/Lush and Balanced",
          "White/Lush and Balanced",
          "Red/Rich and Intense",
          "Red/Savory and Classic",
          "White/Tropical and Balanced",
          "Red",
          "Rose",
          "Sparkling",
          "White"
         ],
         "labels": [
          "Albarino (Alvarinho)",
          "Albarino (Alvarinho)",
          "Aligote",
          "Bobal",
          "Bordeaux Blend Red",
          "Cabernet Franc - Merlot",
          "Cabernet Sauvignon",
          "Cabernet Sauvignon - Malbec",
          "Carignan - Grenache - Syrah",
          "Cava Blend",
          "Champagne Blend",
          "Champagne Blend",
          "Charbono (Bonarda)",
          "Chardonnay",
          "Chardonnay",
          "Chardonnay",
          "Chardonnay",
          "Chardonnay - Pinot Noir",
          "Chasselas",
          "Chenin Blanc",
          "Chianti Blend",
          "Counoise",
          "Erbaluce",
          "Gamay",
          "Gamay",
          "Glera (Prosecco)",
          "Greco",
          "Grenache (Garnacha)",
          "Grenache - Mourvedre - Syrah",
          "Gruner Veltliner",
          "Malbec - Syrah",
          "Mencia",
          "Merlot",
          "Montepulciano",
          "Muller-Thurgau",
          "Muscat",
          "Nebbiolo",
          "Nebbiolo",
          "Negroamaro",
          "Nero d'Avola",
          "Pinot Blanc",
          "Pinot Grigio",
          "Pinot Gris",
          "Pinot Gris",
          "Pinot Noir",
          "Pinot Noir",
          "Pinot d'Alsace",
          "Pinotage",
          "Portuguese Red Blend",
          "Rare Red Blend",
          "Rare Red Blend",
          "Rare Rose Blend",
          "Rare White Blend",
          "Rare White Blend",
          "Refosco",
          "Refosco",
          "Ribolla",
          "Riesling",
          "Riesling",
          "Sagrantino",
          "Sangiovese",
          "Sangiovese",
          "Sauvignon Blanc",
          "Sauvignon Blanc - Semillon",
          "Soave Blend",
          "Southern Rhone White Blend",
          "Syrah",
          "Syrah",
          "Tempranillo",
          "Torrontes",
          "Valdiguie",
          "Verdejo",
          "Verdicchio",
          "Zweigelt",
          "Aromatic and Floral",
          "Berries and Cream",
          "Bold and Structured",
          "Buttery and Complex",
          "Complex and Traditional",
          "Crisp and Dry",
          "Fresh and Youthful",
          "Green and Flinty",
          "Light and Perfumed",
          "Lush and Balanced",
          "Lush and Balanced",
          "Rich and Intense",
          "Savory and Classic",
          "Tropical and Balanced",
          "Red",
          "Rose",
          "Sparkling",
          "White"
         ],
         "marker": {
          "coloraxis": "coloraxis",
          "colors": [
           3,
           3,
           3,
           3,
           3,
           2,
           3,
           3,
           3,
           3,
           3,
           3,
           3,
           2.3333333333333335,
           3,
           3,
           3,
           3,
           2,
           3,
           3,
           3,
           3,
           3,
           3,
           3,
           3,
           3,
           3,
           3,
           3,
           3,
           2.5,
           3,
           3,
           3,
           3,
           3,
           3,
           3,
           3,
           3,
           3,
           3,
           3,
           3,
           3,
           3,
           3,
           3,
           3,
           3,
           3,
           3,
           3,
           3,
           3,
           3,
           3,
           3,
           2.3333333333333335,
           3,
           3,
           3,
           3,
           3,
           3,
           3,
           3,
           2,
           3,
           3,
           3,
           3,
           2.8,
           3,
           2.8666666666666667,
           2.4,
           3,
           3,
           3,
           2.96875,
           3,
           3,
           3,
           2.9523809523809526,
           2.9375,
           3,
           2.9322033898305087,
           3,
           3,
           2.8620689655172415
          ]
         },
         "name": "",
         "parents": [
          "White/Green and Flinty",
          "White/Tropical and Balanced",
          "White/Green and Flinty",
          "Red/Rich and Intense",
          "Red/Savory and Classic",
          "Red/Savory and Classic",
          "Red/Bold and Structured",
          "Red/Bold and Structured",
          "Red/Rich and Intense",
          "Sparkling/Fresh and Youthful",
          "Sparkling/Berries and Cream",
          "Sparkling/Complex and Traditional",
          "Red/Rich and Intense",
          "White/Buttery and Complex",
          "Sparkling/Complex and Traditional",
          "White/Green and Flinty",
          "White/Tropical and Balanced",
          "Sparkling/Fresh and Youthful",
          "White/Green and Flinty",
          "White/Buttery and Complex",
          "Red/Savory and Classic",
          "Red/Rich and Intense",
          "White/Green and Flinty",
          "Red/Light and Perfumed",
          "Red/Savory and Classic",
          "Sparkling/Fresh and Youthful",
          "White/Tropical and Balanced",
          "Red/Rich and Intense",
          "Red/Rich and Intense",
          "White/Green and Flinty",
          "Red/Bold and Structured",
          "Red/Rich and Intense",
          "Red/Rich and Intense",
          "Red/Bold and Structured",
          "White/Aromatic and Floral",
          "White/Aromatic and Floral",
          "Red/Rich and Intense",
          "Red/Savory and Classic",
          "Red/Rich and Intense",
          "Red/Rich and Intense",
          "White/Tropical and Balanced",
          "White/Green and Flinty",
          "White/Aromatic and Floral",
          "White/Tropical and Balanced",
          "Sparkling/Complex and Traditional",
          "Red/Light and Perfumed",
          "White/Aromatic and Floral",
          "Red/Rich and Intense",
          "Red/Rich and Intense",
          "Red/Bold and Structured",
          "Red/Rich and Intense",
          "Rose/Crisp and Dry",
          "White/Green and Flinty",
          "White/Tropical and Balanced",
          "Red/Lush and Balanced",
          "Red/Rich and Intense",
          "White/Green and Flinty",
          "White/Green and Flinty",
          "White/Lush and Balanced",
          "Red/Bold and Structured",
          "Red/Bold and Structured",
          "Red/Savory and Classic",
          "White/Green and Flinty",
          "White/Green and Flinty",
          "White/Green and Flinty",
          "White/Tropical and Balanced",
          "Red/Bold and Structured",
          "Red/Rich and Intense",
          "Red/Rich and Intense",
          "White/Aromatic and Floral",
          "Red/Rich and Intense",
          "White/Green and Flinty",
          "White/Green and Flinty",
          "Red/Savory and Classic",
          "White",
          "Sparkling",
          "Red",
          "White",
          "Sparkling",
          "Rose",
          "Sparkling",
          "White",
          "Red",
          "Red",
          "White",
          "Red",
          "Red",
          "White",
          "",
          "",
          "",
          ""
         ],
         "type": "sunburst",
         "values": [
          1,
          2,
          1,
          1,
          1,
          1,
          3,
          1,
          1,
          2,
          1,
          2,
          1,
          9,
          1,
          3,
          2,
          1,
          1,
          1,
          2,
          1,
          1,
          2,
          1,
          2,
          2,
          1,
          1,
          1,
          1,
          1,
          2,
          2,
          1,
          1,
          1,
          9,
          1,
          1,
          1,
          2,
          1,
          1,
          1,
          4,
          1,
          1,
          1,
          2,
          2,
          1,
          1,
          1,
          1,
          1,
          1,
          9,
          1,
          1,
          3,
          1,
          7,
          1,
          1,
          1,
          2,
          1,
          2,
          1,
          1,
          1,
          1,
          1,
          5,
          1,
          15,
          10,
          4,
          1,
          5,
          32,
          6,
          1,
          1,
          21,
          16,
          10,
          59,
          1,
          10,
          58
         ]
        }
       ],
       "layout": {
        "coloraxis": {
         "cmid": 2.90625,
         "colorbar": {
          "title": {
           "text": "acidity"
          }
         },
         "colorscale": [
          [
           0,
           "rgb(255,247,251)"
          ],
          [
           0.125,
           "rgb(236,231,242)"
          ],
          [
           0.25,
           "rgb(208,209,230)"
          ],
          [
           0.375,
           "rgb(166,189,219)"
          ],
          [
           0.5,
           "rgb(116,169,207)"
          ],
          [
           0.625,
           "rgb(54,144,192)"
          ],
          [
           0.75,
           "rgb(5,112,176)"
          ],
          [
           0.875,
           "rgb(4,90,141)"
          ],
          [
           1,
           "rgb(2,56,88)"
          ]
         ]
        },
        "legend": {
         "tracegroupgap": 0
        },
        "margin": {
         "t": 60
        },
        "template": {
         "data": {
          "bar": [
           {
            "error_x": {
             "color": "#2a3f5f"
            },
            "error_y": {
             "color": "#2a3f5f"
            },
            "marker": {
             "line": {
              "color": "#E5ECF6",
              "width": 0.5
             }
            },
            "type": "bar"
           }
          ],
          "barpolar": [
           {
            "marker": {
             "line": {
              "color": "#E5ECF6",
              "width": 0.5
             }
            },
            "type": "barpolar"
           }
          ],
          "carpet": [
           {
            "aaxis": {
             "endlinecolor": "#2a3f5f",
             "gridcolor": "white",
             "linecolor": "white",
             "minorgridcolor": "white",
             "startlinecolor": "#2a3f5f"
            },
            "baxis": {
             "endlinecolor": "#2a3f5f",
             "gridcolor": "white",
             "linecolor": "white",
             "minorgridcolor": "white",
             "startlinecolor": "#2a3f5f"
            },
            "type": "carpet"
           }
          ],
          "choropleth": [
           {
            "colorbar": {
             "outlinewidth": 0,
             "ticks": ""
            },
            "type": "choropleth"
           }
          ],
          "contour": [
           {
            "colorbar": {
             "outlinewidth": 0,
             "ticks": ""
            },
            "colorscale": [
             [
              0,
              "#0d0887"
             ],
             [
              0.1111111111111111,
              "#46039f"
             ],
             [
              0.2222222222222222,
              "#7201a8"
             ],
             [
              0.3333333333333333,
              "#9c179e"
             ],
             [
              0.4444444444444444,
              "#bd3786"
             ],
             [
              0.5555555555555556,
              "#d8576b"
             ],
             [
              0.6666666666666666,
              "#ed7953"
             ],
             [
              0.7777777777777778,
              "#fb9f3a"
             ],
             [
              0.8888888888888888,
              "#fdca26"
             ],
             [
              1,
              "#f0f921"
             ]
            ],
            "type": "contour"
           }
          ],
          "contourcarpet": [
           {
            "colorbar": {
             "outlinewidth": 0,
             "ticks": ""
            },
            "type": "contourcarpet"
           }
          ],
          "heatmap": [
           {
            "colorbar": {
             "outlinewidth": 0,
             "ticks": ""
            },
            "colorscale": [
             [
              0,
              "#0d0887"
             ],
             [
              0.1111111111111111,
              "#46039f"
             ],
             [
              0.2222222222222222,
              "#7201a8"
             ],
             [
              0.3333333333333333,
              "#9c179e"
             ],
             [
              0.4444444444444444,
              "#bd3786"
             ],
             [
              0.5555555555555556,
              "#d8576b"
             ],
             [
              0.6666666666666666,
              "#ed7953"
             ],
             [
              0.7777777777777778,
              "#fb9f3a"
             ],
             [
              0.8888888888888888,
              "#fdca26"
             ],
             [
              1,
              "#f0f921"
             ]
            ],
            "type": "heatmap"
           }
          ],
          "heatmapgl": [
           {
            "colorbar": {
             "outlinewidth": 0,
             "ticks": ""
            },
            "colorscale": [
             [
              0,
              "#0d0887"
             ],
             [
              0.1111111111111111,
              "#46039f"
             ],
             [
              0.2222222222222222,
              "#7201a8"
             ],
             [
              0.3333333333333333,
              "#9c179e"
             ],
             [
              0.4444444444444444,
              "#bd3786"
             ],
             [
              0.5555555555555556,
              "#d8576b"
             ],
             [
              0.6666666666666666,
              "#ed7953"
             ],
             [
              0.7777777777777778,
              "#fb9f3a"
             ],
             [
              0.8888888888888888,
              "#fdca26"
             ],
             [
              1,
              "#f0f921"
             ]
            ],
            "type": "heatmapgl"
           }
          ],
          "histogram": [
           {
            "marker": {
             "colorbar": {
              "outlinewidth": 0,
              "ticks": ""
             }
            },
            "type": "histogram"
           }
          ],
          "histogram2d": [
           {
            "colorbar": {
             "outlinewidth": 0,
             "ticks": ""
            },
            "colorscale": [
             [
              0,
              "#0d0887"
             ],
             [
              0.1111111111111111,
              "#46039f"
             ],
             [
              0.2222222222222222,
              "#7201a8"
             ],
             [
              0.3333333333333333,
              "#9c179e"
             ],
             [
              0.4444444444444444,
              "#bd3786"
             ],
             [
              0.5555555555555556,
              "#d8576b"
             ],
             [
              0.6666666666666666,
              "#ed7953"
             ],
             [
              0.7777777777777778,
              "#fb9f3a"
             ],
             [
              0.8888888888888888,
              "#fdca26"
             ],
             [
              1,
              "#f0f921"
             ]
            ],
            "type": "histogram2d"
           }
          ],
          "histogram2dcontour": [
           {
            "colorbar": {
             "outlinewidth": 0,
             "ticks": ""
            },
            "colorscale": [
             [
              0,
              "#0d0887"
             ],
             [
              0.1111111111111111,
              "#46039f"
             ],
             [
              0.2222222222222222,
              "#7201a8"
             ],
             [
              0.3333333333333333,
              "#9c179e"
             ],
             [
              0.4444444444444444,
              "#bd3786"
             ],
             [
              0.5555555555555556,
              "#d8576b"
             ],
             [
              0.6666666666666666,
              "#ed7953"
             ],
             [
              0.7777777777777778,
              "#fb9f3a"
             ],
             [
              0.8888888888888888,
              "#fdca26"
             ],
             [
              1,
              "#f0f921"
             ]
            ],
            "type": "histogram2dcontour"
           }
          ],
          "mesh3d": [
           {
            "colorbar": {
             "outlinewidth": 0,
             "ticks": ""
            },
            "type": "mesh3d"
           }
          ],
          "parcoords": [
           {
            "line": {
             "colorbar": {
              "outlinewidth": 0,
              "ticks": ""
             }
            },
            "type": "parcoords"
           }
          ],
          "pie": [
           {
            "automargin": true,
            "type": "pie"
           }
          ],
          "scatter": [
           {
            "marker": {
             "colorbar": {
              "outlinewidth": 0,
              "ticks": ""
             }
            },
            "type": "scatter"
           }
          ],
          "scatter3d": [
           {
            "line": {
             "colorbar": {
              "outlinewidth": 0,
              "ticks": ""
             }
            },
            "marker": {
             "colorbar": {
              "outlinewidth": 0,
              "ticks": ""
             }
            },
            "type": "scatter3d"
           }
          ],
          "scattercarpet": [
           {
            "marker": {
             "colorbar": {
              "outlinewidth": 0,
              "ticks": ""
             }
            },
            "type": "scattercarpet"
           }
          ],
          "scattergeo": [
           {
            "marker": {
             "colorbar": {
              "outlinewidth": 0,
              "ticks": ""
             }
            },
            "type": "scattergeo"
           }
          ],
          "scattergl": [
           {
            "marker": {
             "colorbar": {
              "outlinewidth": 0,
              "ticks": ""
             }
            },
            "type": "scattergl"
           }
          ],
          "scattermapbox": [
           {
            "marker": {
             "colorbar": {
              "outlinewidth": 0,
              "ticks": ""
             }
            },
            "type": "scattermapbox"
           }
          ],
          "scatterpolar": [
           {
            "marker": {
             "colorbar": {
              "outlinewidth": 0,
              "ticks": ""
             }
            },
            "type": "scatterpolar"
           }
          ],
          "scatterpolargl": [
           {
            "marker": {
             "colorbar": {
              "outlinewidth": 0,
              "ticks": ""
             }
            },
            "type": "scatterpolargl"
           }
          ],
          "scatterternary": [
           {
            "marker": {
             "colorbar": {
              "outlinewidth": 0,
              "ticks": ""
             }
            },
            "type": "scatterternary"
           }
          ],
          "surface": [
           {
            "colorbar": {
             "outlinewidth": 0,
             "ticks": ""
            },
            "colorscale": [
             [
              0,
              "#0d0887"
             ],
             [
              0.1111111111111111,
              "#46039f"
             ],
             [
              0.2222222222222222,
              "#7201a8"
             ],
             [
              0.3333333333333333,
              "#9c179e"
             ],
             [
              0.4444444444444444,
              "#bd3786"
             ],
             [
              0.5555555555555556,
              "#d8576b"
             ],
             [
              0.6666666666666666,
              "#ed7953"
             ],
             [
              0.7777777777777778,
              "#fb9f3a"
             ],
             [
              0.8888888888888888,
              "#fdca26"
             ],
             [
              1,
              "#f0f921"
             ]
            ],
            "type": "surface"
           }
          ],
          "table": [
           {
            "cells": {
             "fill": {
              "color": "#EBF0F8"
             },
             "line": {
              "color": "white"
             }
            },
            "header": {
             "fill": {
              "color": "#C8D4E3"
             },
             "line": {
              "color": "white"
             }
            },
            "type": "table"
           }
          ]
         },
         "layout": {
          "annotationdefaults": {
           "arrowcolor": "#2a3f5f",
           "arrowhead": 0,
           "arrowwidth": 1
          },
          "coloraxis": {
           "colorbar": {
            "outlinewidth": 0,
            "ticks": ""
           }
          },
          "colorscale": {
           "diverging": [
            [
             0,
             "#8e0152"
            ],
            [
             0.1,
             "#c51b7d"
            ],
            [
             0.2,
             "#de77ae"
            ],
            [
             0.3,
             "#f1b6da"
            ],
            [
             0.4,
             "#fde0ef"
            ],
            [
             0.5,
             "#f7f7f7"
            ],
            [
             0.6,
             "#e6f5d0"
            ],
            [
             0.7,
             "#b8e186"
            ],
            [
             0.8,
             "#7fbc41"
            ],
            [
             0.9,
             "#4d9221"
            ],
            [
             1,
             "#276419"
            ]
           ],
           "sequential": [
            [
             0,
             "#0d0887"
            ],
            [
             0.1111111111111111,
             "#46039f"
            ],
            [
             0.2222222222222222,
             "#7201a8"
            ],
            [
             0.3333333333333333,
             "#9c179e"
            ],
            [
             0.4444444444444444,
             "#bd3786"
            ],
            [
             0.5555555555555556,
             "#d8576b"
            ],
            [
             0.6666666666666666,
             "#ed7953"
            ],
            [
             0.7777777777777778,
             "#fb9f3a"
            ],
            [
             0.8888888888888888,
             "#fdca26"
            ],
            [
             1,
             "#f0f921"
            ]
           ],
           "sequentialminus": [
            [
             0,
             "#0d0887"
            ],
            [
             0.1111111111111111,
             "#46039f"
            ],
            [
             0.2222222222222222,
             "#7201a8"
            ],
            [
             0.3333333333333333,
             "#9c179e"
            ],
            [
             0.4444444444444444,
             "#bd3786"
            ],
            [
             0.5555555555555556,
             "#d8576b"
            ],
            [
             0.6666666666666666,
             "#ed7953"
            ],
            [
             0.7777777777777778,
             "#fb9f3a"
            ],
            [
             0.8888888888888888,
             "#fdca26"
            ],
            [
             1,
             "#f0f921"
            ]
           ]
          },
          "colorway": [
           "#636efa",
           "#EF553B",
           "#00cc96",
           "#ab63fa",
           "#FFA15A",
           "#19d3f3",
           "#FF6692",
           "#B6E880",
           "#FF97FF",
           "#FECB52"
          ],
          "font": {
           "color": "#2a3f5f"
          },
          "geo": {
           "bgcolor": "white",
           "lakecolor": "white",
           "landcolor": "#E5ECF6",
           "showlakes": true,
           "showland": true,
           "subunitcolor": "white"
          },
          "hoverlabel": {
           "align": "left"
          },
          "hovermode": "closest",
          "mapbox": {
           "style": "light"
          },
          "paper_bgcolor": "white",
          "plot_bgcolor": "#E5ECF6",
          "polar": {
           "angularaxis": {
            "gridcolor": "white",
            "linecolor": "white",
            "ticks": ""
           },
           "bgcolor": "#E5ECF6",
           "radialaxis": {
            "gridcolor": "white",
            "linecolor": "white",
            "ticks": ""
           }
          },
          "scene": {
           "xaxis": {
            "backgroundcolor": "#E5ECF6",
            "gridcolor": "white",
            "gridwidth": 2,
            "linecolor": "white",
            "showbackground": true,
            "ticks": "",
            "zerolinecolor": "white"
           },
           "yaxis": {
            "backgroundcolor": "#E5ECF6",
            "gridcolor": "white",
            "gridwidth": 2,
            "linecolor": "white",
            "showbackground": true,
            "ticks": "",
            "zerolinecolor": "white"
           },
           "zaxis": {
            "backgroundcolor": "#E5ECF6",
            "gridcolor": "white",
            "gridwidth": 2,
            "linecolor": "white",
            "showbackground": true,
            "ticks": "",
            "zerolinecolor": "white"
           }
          },
          "shapedefaults": {
           "line": {
            "color": "#2a3f5f"
           }
          },
          "ternary": {
           "aaxis": {
            "gridcolor": "white",
            "linecolor": "white",
            "ticks": ""
           },
           "baxis": {
            "gridcolor": "white",
            "linecolor": "white",
            "ticks": ""
           },
           "bgcolor": "#E5ECF6",
           "caxis": {
            "gridcolor": "white",
            "linecolor": "white",
            "ticks": ""
           }
          },
          "title": {
           "x": 0.05
          },
          "xaxis": {
           "automargin": true,
           "gridcolor": "white",
           "linecolor": "white",
           "ticks": "",
           "title": {
            "standoff": 15
           },
           "zerolinecolor": "white",
           "zerolinewidth": 2
          },
          "yaxis": {
           "automargin": true,
           "gridcolor": "white",
           "linecolor": "white",
           "ticks": "",
           "title": {
            "standoff": 15
           },
           "zerolinecolor": "white",
           "zerolinewidth": 2
          }
         }
        }
       }
      },
      "text/html": [
       "<div>\n",
       "        \n",
       "        \n",
       "            <div id=\"75eaf592-f94f-45c9-b413-877917c872fb\" class=\"plotly-graph-div\" style=\"height:525px; width:100%;\"></div>\n",
       "            <script type=\"text/javascript\">\n",
       "                require([\"plotly\"], function(Plotly) {\n",
       "                    window.PLOTLYENV=window.PLOTLYENV || {};\n",
       "                    \n",
       "                if (document.getElementById(\"75eaf592-f94f-45c9-b413-877917c872fb\")) {\n",
       "                    Plotly.newPlot(\n",
       "                        '75eaf592-f94f-45c9-b413-877917c872fb',\n",
       "                        [{\"branchvalues\": \"total\", \"customdata\": [[3.0], [3.0], [3.0], [3.0], [3.0], [2.0], [3.0], [3.0], [3.0], [3.0], [3.0], [3.0], [3.0], [2.3333333333333335], [3.0], [3.0], [3.0], [3.0], [2.0], [3.0], [3.0], [3.0], [3.0], [3.0], [3.0], [3.0], [3.0], [3.0], [3.0], [3.0], [3.0], [3.0], [2.5], [3.0], [3.0], [3.0], [3.0], [3.0], [3.0], [3.0], [3.0], [3.0], [3.0], [3.0], [3.0], [3.0], [3.0], [3.0], [3.0], [3.0], [3.0], [3.0], [3.0], [3.0], [3.0], [3.0], [3.0], [3.0], [3.0], [3.0], [2.3333333333333335], [3.0], [3.0], [3.0], [3.0], [3.0], [3.0], [3.0], [3.0], [2.0], [3.0], [3.0], [3.0], [3.0], [2.8], [3.0], [2.8666666666666667], [2.4], [3.0], [3.0], [3.0], [2.96875], [3.0], [3.0], [3.0], [2.9523809523809526], [2.9375], [3.0], [2.9322033898305087], [3.0], [3.0], [2.8620689655172415]], \"domain\": {\"x\": [0.0, 1.0], \"y\": [0.0, 1.0]}, \"hovertemplate\": \"acidity=%{color}<br>labels=%{label}<br>count=%{value}<br>parent=%{parent}<br>id=%{id}<extra></extra>\", \"ids\": [\"White/Green and Flinty/Albarino (Alvarinho)\", \"White/Tropical and Balanced/Albarino (Alvarinho)\", \"White/Green and Flinty/Aligote\", \"Red/Rich and Intense/Bobal\", \"Red/Savory and Classic/Bordeaux Blend Red\", \"Red/Savory and Classic/Cabernet Franc - Merlot\", \"Red/Bold and Structured/Cabernet Sauvignon\", \"Red/Bold and Structured/Cabernet Sauvignon - Malbec\", \"Red/Rich and Intense/Carignan - Grenache - Syrah\", \"Sparkling/Fresh and Youthful/Cava Blend\", \"Sparkling/Berries and Cream/Champagne Blend\", \"Sparkling/Complex and Traditional/Champagne Blend\", \"Red/Rich and Intense/Charbono (Bonarda)\", \"White/Buttery and Complex/Chardonnay\", \"Sparkling/Complex and Traditional/Chardonnay\", \"White/Green and Flinty/Chardonnay\", \"White/Tropical and Balanced/Chardonnay\", \"Sparkling/Fresh and Youthful/Chardonnay - Pinot Noir\", \"White/Green and Flinty/Chasselas\", \"White/Buttery and Complex/Chenin Blanc\", \"Red/Savory and Classic/Chianti Blend\", \"Red/Rich and Intense/Counoise\", \"White/Green and Flinty/Erbaluce\", \"Red/Light and Perfumed/Gamay\", \"Red/Savory and Classic/Gamay\", \"Sparkling/Fresh and Youthful/Glera (Prosecco)\", \"White/Tropical and Balanced/Greco\", \"Red/Rich and Intense/Grenache (Garnacha)\", \"Red/Rich and Intense/Grenache - Mourvedre - Syrah\", \"White/Green and Flinty/Gruner Veltliner\", \"Red/Bold and Structured/Malbec - Syrah\", \"Red/Rich and Intense/Mencia\", \"Red/Rich and Intense/Merlot\", \"Red/Bold and Structured/Montepulciano\", \"White/Aromatic and Floral/Muller-Thurgau\", \"White/Aromatic and Floral/Muscat\", \"Red/Rich and Intense/Nebbiolo\", \"Red/Savory and Classic/Nebbiolo\", \"Red/Rich and Intense/Negroamaro\", \"Red/Rich and Intense/Nero d'Avola\", \"White/Tropical and Balanced/Pinot Blanc\", \"White/Green and Flinty/Pinot Grigio\", \"White/Aromatic and Floral/Pinot Gris\", \"White/Tropical and Balanced/Pinot Gris\", \"Sparkling/Complex and Traditional/Pinot Noir\", \"Red/Light and Perfumed/Pinot Noir\", \"White/Aromatic and Floral/Pinot d'Alsace\", \"Red/Rich and Intense/Pinotage\", \"Red/Rich and Intense/Portuguese Red Blend\", \"Red/Bold and Structured/Rare Red Blend\", \"Red/Rich and Intense/Rare Red Blend\", \"Rose/Crisp and Dry/Rare Rose Blend\", \"White/Green and Flinty/Rare White Blend\", \"White/Tropical and Balanced/Rare White Blend\", \"Red/Lush and Balanced/Refosco\", \"Red/Rich and Intense/Refosco\", \"White/Green and Flinty/Ribolla\", \"White/Green and Flinty/Riesling\", \"White/Lush and Balanced/Riesling\", \"Red/Bold and Structured/Sagrantino\", \"Red/Bold and Structured/Sangiovese\", \"Red/Savory and Classic/Sangiovese\", \"White/Green and Flinty/Sauvignon Blanc\", \"White/Green and Flinty/Sauvignon Blanc - Semillon\", \"White/Green and Flinty/Soave Blend\", \"White/Tropical and Balanced/Southern Rhone White Blend\", \"Red/Bold and Structured/Syrah\", \"Red/Rich and Intense/Syrah\", \"Red/Rich and Intense/Tempranillo\", \"White/Aromatic and Floral/Torrontes\", \"Red/Rich and Intense/Valdiguie\", \"White/Green and Flinty/Verdejo\", \"White/Green and Flinty/Verdicchio\", \"Red/Savory and Classic/Zweigelt\", \"White/Aromatic and Floral\", \"Sparkling/Berries and Cream\", \"Red/Bold and Structured\", \"White/Buttery and Complex\", \"Sparkling/Complex and Traditional\", \"Rose/Crisp and Dry\", \"Sparkling/Fresh and Youthful\", \"White/Green and Flinty\", \"Red/Light and Perfumed\", \"Red/Lush and Balanced\", \"White/Lush and Balanced\", \"Red/Rich and Intense\", \"Red/Savory and Classic\", \"White/Tropical and Balanced\", \"Red\", \"Rose\", \"Sparkling\", \"White\"], \"labels\": [\"Albarino (Alvarinho)\", \"Albarino (Alvarinho)\", \"Aligote\", \"Bobal\", \"Bordeaux Blend Red\", \"Cabernet Franc - Merlot\", \"Cabernet Sauvignon\", \"Cabernet Sauvignon - Malbec\", \"Carignan - Grenache - Syrah\", \"Cava Blend\", \"Champagne Blend\", \"Champagne Blend\", \"Charbono (Bonarda)\", \"Chardonnay\", \"Chardonnay\", \"Chardonnay\", \"Chardonnay\", \"Chardonnay - Pinot Noir\", \"Chasselas\", \"Chenin Blanc\", \"Chianti Blend\", \"Counoise\", \"Erbaluce\", \"Gamay\", \"Gamay\", \"Glera (Prosecco)\", \"Greco\", \"Grenache (Garnacha)\", \"Grenache - Mourvedre - Syrah\", \"Gruner Veltliner\", \"Malbec - Syrah\", \"Mencia\", \"Merlot\", \"Montepulciano\", \"Muller-Thurgau\", \"Muscat\", \"Nebbiolo\", \"Nebbiolo\", \"Negroamaro\", \"Nero d'Avola\", \"Pinot Blanc\", \"Pinot Grigio\", \"Pinot Gris\", \"Pinot Gris\", \"Pinot Noir\", \"Pinot Noir\", \"Pinot d'Alsace\", \"Pinotage\", \"Portuguese Red Blend\", \"Rare Red Blend\", \"Rare Red Blend\", \"Rare Rose Blend\", \"Rare White Blend\", \"Rare White Blend\", \"Refosco\", \"Refosco\", \"Ribolla\", \"Riesling\", \"Riesling\", \"Sagrantino\", \"Sangiovese\", \"Sangiovese\", \"Sauvignon Blanc\", \"Sauvignon Blanc - Semillon\", \"Soave Blend\", \"Southern Rhone White Blend\", \"Syrah\", \"Syrah\", \"Tempranillo\", \"Torrontes\", \"Valdiguie\", \"Verdejo\", \"Verdicchio\", \"Zweigelt\", \"Aromatic and Floral\", \"Berries and Cream\", \"Bold and Structured\", \"Buttery and Complex\", \"Complex and Traditional\", \"Crisp and Dry\", \"Fresh and Youthful\", \"Green and Flinty\", \"Light and Perfumed\", \"Lush and Balanced\", \"Lush and Balanced\", \"Rich and Intense\", \"Savory and Classic\", \"Tropical and Balanced\", \"Red\", \"Rose\", \"Sparkling\", \"White\"], \"marker\": {\"coloraxis\": \"coloraxis\", \"colors\": [3.0, 3.0, 3.0, 3.0, 3.0, 2.0, 3.0, 3.0, 3.0, 3.0, 3.0, 3.0, 3.0, 2.3333333333333335, 3.0, 3.0, 3.0, 3.0, 2.0, 3.0, 3.0, 3.0, 3.0, 3.0, 3.0, 3.0, 3.0, 3.0, 3.0, 3.0, 3.0, 3.0, 2.5, 3.0, 3.0, 3.0, 3.0, 3.0, 3.0, 3.0, 3.0, 3.0, 3.0, 3.0, 3.0, 3.0, 3.0, 3.0, 3.0, 3.0, 3.0, 3.0, 3.0, 3.0, 3.0, 3.0, 3.0, 3.0, 3.0, 3.0, 2.3333333333333335, 3.0, 3.0, 3.0, 3.0, 3.0, 3.0, 3.0, 3.0, 2.0, 3.0, 3.0, 3.0, 3.0, 2.8, 3.0, 2.8666666666666667, 2.4, 3.0, 3.0, 3.0, 2.96875, 3.0, 3.0, 3.0, 2.9523809523809526, 2.9375, 3.0, 2.9322033898305087, 3.0, 3.0, 2.8620689655172415]}, \"name\": \"\", \"parents\": [\"White/Green and Flinty\", \"White/Tropical and Balanced\", \"White/Green and Flinty\", \"Red/Rich and Intense\", \"Red/Savory and Classic\", \"Red/Savory and Classic\", \"Red/Bold and Structured\", \"Red/Bold and Structured\", \"Red/Rich and Intense\", \"Sparkling/Fresh and Youthful\", \"Sparkling/Berries and Cream\", \"Sparkling/Complex and Traditional\", \"Red/Rich and Intense\", \"White/Buttery and Complex\", \"Sparkling/Complex and Traditional\", \"White/Green and Flinty\", \"White/Tropical and Balanced\", \"Sparkling/Fresh and Youthful\", \"White/Green and Flinty\", \"White/Buttery and Complex\", \"Red/Savory and Classic\", \"Red/Rich and Intense\", \"White/Green and Flinty\", \"Red/Light and Perfumed\", \"Red/Savory and Classic\", \"Sparkling/Fresh and Youthful\", \"White/Tropical and Balanced\", \"Red/Rich and Intense\", \"Red/Rich and Intense\", \"White/Green and Flinty\", \"Red/Bold and Structured\", \"Red/Rich and Intense\", \"Red/Rich and Intense\", \"Red/Bold and Structured\", \"White/Aromatic and Floral\", \"White/Aromatic and Floral\", \"Red/Rich and Intense\", \"Red/Savory and Classic\", \"Red/Rich and Intense\", \"Red/Rich and Intense\", \"White/Tropical and Balanced\", \"White/Green and Flinty\", \"White/Aromatic and Floral\", \"White/Tropical and Balanced\", \"Sparkling/Complex and Traditional\", \"Red/Light and Perfumed\", \"White/Aromatic and Floral\", \"Red/Rich and Intense\", \"Red/Rich and Intense\", \"Red/Bold and Structured\", \"Red/Rich and Intense\", \"Rose/Crisp and Dry\", \"White/Green and Flinty\", \"White/Tropical and Balanced\", \"Red/Lush and Balanced\", \"Red/Rich and Intense\", \"White/Green and Flinty\", \"White/Green and Flinty\", \"White/Lush and Balanced\", \"Red/Bold and Structured\", \"Red/Bold and Structured\", \"Red/Savory and Classic\", \"White/Green and Flinty\", \"White/Green and Flinty\", \"White/Green and Flinty\", \"White/Tropical and Balanced\", \"Red/Bold and Structured\", \"Red/Rich and Intense\", \"Red/Rich and Intense\", \"White/Aromatic and Floral\", \"Red/Rich and Intense\", \"White/Green and Flinty\", \"White/Green and Flinty\", \"Red/Savory and Classic\", \"White\", \"Sparkling\", \"Red\", \"White\", \"Sparkling\", \"Rose\", \"Sparkling\", \"White\", \"Red\", \"Red\", \"White\", \"Red\", \"Red\", \"White\", \"\", \"\", \"\", \"\"], \"type\": \"sunburst\", \"values\": [1, 2, 1, 1, 1, 1, 3, 1, 1, 2, 1, 2, 1, 9, 1, 3, 2, 1, 1, 1, 2, 1, 1, 2, 1, 2, 2, 1, 1, 1, 1, 1, 2, 2, 1, 1, 1, 9, 1, 1, 1, 2, 1, 1, 1, 4, 1, 1, 1, 2, 2, 1, 1, 1, 1, 1, 1, 9, 1, 1, 3, 1, 7, 1, 1, 1, 2, 1, 2, 1, 1, 1, 1, 1, 5, 1, 15, 10, 4, 1, 5, 32, 6, 1, 1, 21, 16, 10, 59, 1, 10, 58]}],\n",
       "                        {\"coloraxis\": {\"cmid\": 2.90625, \"colorbar\": {\"title\": {\"text\": \"acidity\"}}, \"colorscale\": [[0.0, \"rgb(255,247,251)\"], [0.125, \"rgb(236,231,242)\"], [0.25, \"rgb(208,209,230)\"], [0.375, \"rgb(166,189,219)\"], [0.5, \"rgb(116,169,207)\"], [0.625, \"rgb(54,144,192)\"], [0.75, \"rgb(5,112,176)\"], [0.875, \"rgb(4,90,141)\"], [1.0, \"rgb(2,56,88)\"]]}, \"legend\": {\"tracegroupgap\": 0}, \"margin\": {\"t\": 60}, \"template\": {\"data\": {\"bar\": [{\"error_x\": {\"color\": \"#2a3f5f\"}, \"error_y\": {\"color\": \"#2a3f5f\"}, \"marker\": {\"line\": {\"color\": \"#E5ECF6\", \"width\": 0.5}}, \"type\": \"bar\"}], \"barpolar\": [{\"marker\": {\"line\": {\"color\": \"#E5ECF6\", \"width\": 0.5}}, \"type\": \"barpolar\"}], \"carpet\": [{\"aaxis\": {\"endlinecolor\": \"#2a3f5f\", \"gridcolor\": \"white\", \"linecolor\": \"white\", \"minorgridcolor\": \"white\", \"startlinecolor\": \"#2a3f5f\"}, \"baxis\": {\"endlinecolor\": \"#2a3f5f\", \"gridcolor\": \"white\", \"linecolor\": \"white\", \"minorgridcolor\": \"white\", \"startlinecolor\": \"#2a3f5f\"}, \"type\": \"carpet\"}], \"choropleth\": [{\"colorbar\": {\"outlinewidth\": 0, \"ticks\": \"\"}, \"type\": \"choropleth\"}], \"contour\": [{\"colorbar\": {\"outlinewidth\": 0, \"ticks\": \"\"}, \"colorscale\": [[0.0, \"#0d0887\"], [0.1111111111111111, \"#46039f\"], [0.2222222222222222, \"#7201a8\"], [0.3333333333333333, \"#9c179e\"], [0.4444444444444444, \"#bd3786\"], [0.5555555555555556, \"#d8576b\"], [0.6666666666666666, \"#ed7953\"], [0.7777777777777778, \"#fb9f3a\"], [0.8888888888888888, \"#fdca26\"], [1.0, \"#f0f921\"]], \"type\": \"contour\"}], \"contourcarpet\": [{\"colorbar\": {\"outlinewidth\": 0, \"ticks\": \"\"}, \"type\": \"contourcarpet\"}], \"heatmap\": [{\"colorbar\": {\"outlinewidth\": 0, \"ticks\": \"\"}, \"colorscale\": [[0.0, \"#0d0887\"], [0.1111111111111111, \"#46039f\"], [0.2222222222222222, \"#7201a8\"], [0.3333333333333333, \"#9c179e\"], [0.4444444444444444, \"#bd3786\"], [0.5555555555555556, \"#d8576b\"], [0.6666666666666666, \"#ed7953\"], [0.7777777777777778, \"#fb9f3a\"], [0.8888888888888888, \"#fdca26\"], [1.0, \"#f0f921\"]], \"type\": \"heatmap\"}], \"heatmapgl\": [{\"colorbar\": {\"outlinewidth\": 0, \"ticks\": \"\"}, \"colorscale\": [[0.0, \"#0d0887\"], [0.1111111111111111, \"#46039f\"], [0.2222222222222222, \"#7201a8\"], [0.3333333333333333, \"#9c179e\"], [0.4444444444444444, \"#bd3786\"], [0.5555555555555556, \"#d8576b\"], [0.6666666666666666, \"#ed7953\"], [0.7777777777777778, \"#fb9f3a\"], [0.8888888888888888, \"#fdca26\"], [1.0, \"#f0f921\"]], \"type\": \"heatmapgl\"}], \"histogram\": [{\"marker\": {\"colorbar\": {\"outlinewidth\": 0, \"ticks\": \"\"}}, \"type\": \"histogram\"}], \"histogram2d\": [{\"colorbar\": {\"outlinewidth\": 0, \"ticks\": \"\"}, \"colorscale\": [[0.0, \"#0d0887\"], [0.1111111111111111, \"#46039f\"], [0.2222222222222222, \"#7201a8\"], [0.3333333333333333, \"#9c179e\"], [0.4444444444444444, \"#bd3786\"], [0.5555555555555556, \"#d8576b\"], [0.6666666666666666, \"#ed7953\"], [0.7777777777777778, \"#fb9f3a\"], [0.8888888888888888, \"#fdca26\"], [1.0, \"#f0f921\"]], \"type\": \"histogram2d\"}], \"histogram2dcontour\": [{\"colorbar\": {\"outlinewidth\": 0, \"ticks\": \"\"}, \"colorscale\": [[0.0, \"#0d0887\"], [0.1111111111111111, \"#46039f\"], [0.2222222222222222, \"#7201a8\"], [0.3333333333333333, \"#9c179e\"], [0.4444444444444444, \"#bd3786\"], [0.5555555555555556, \"#d8576b\"], [0.6666666666666666, \"#ed7953\"], [0.7777777777777778, \"#fb9f3a\"], [0.8888888888888888, \"#fdca26\"], [1.0, \"#f0f921\"]], \"type\": \"histogram2dcontour\"}], \"mesh3d\": [{\"colorbar\": {\"outlinewidth\": 0, \"ticks\": \"\"}, \"type\": \"mesh3d\"}], \"parcoords\": [{\"line\": {\"colorbar\": {\"outlinewidth\": 0, \"ticks\": \"\"}}, \"type\": \"parcoords\"}], \"pie\": [{\"automargin\": true, \"type\": \"pie\"}], \"scatter\": [{\"marker\": {\"colorbar\": {\"outlinewidth\": 0, \"ticks\": \"\"}}, \"type\": \"scatter\"}], \"scatter3d\": [{\"line\": {\"colorbar\": {\"outlinewidth\": 0, \"ticks\": \"\"}}, \"marker\": {\"colorbar\": {\"outlinewidth\": 0, \"ticks\": \"\"}}, \"type\": \"scatter3d\"}], \"scattercarpet\": [{\"marker\": {\"colorbar\": {\"outlinewidth\": 0, \"ticks\": \"\"}}, \"type\": \"scattercarpet\"}], \"scattergeo\": [{\"marker\": {\"colorbar\": {\"outlinewidth\": 0, \"ticks\": \"\"}}, \"type\": \"scattergeo\"}], \"scattergl\": [{\"marker\": {\"colorbar\": {\"outlinewidth\": 0, \"ticks\": \"\"}}, \"type\": \"scattergl\"}], \"scattermapbox\": [{\"marker\": {\"colorbar\": {\"outlinewidth\": 0, \"ticks\": \"\"}}, \"type\": \"scattermapbox\"}], \"scatterpolar\": [{\"marker\": {\"colorbar\": {\"outlinewidth\": 0, \"ticks\": \"\"}}, \"type\": \"scatterpolar\"}], \"scatterpolargl\": [{\"marker\": {\"colorbar\": {\"outlinewidth\": 0, \"ticks\": \"\"}}, \"type\": \"scatterpolargl\"}], \"scatterternary\": [{\"marker\": {\"colorbar\": {\"outlinewidth\": 0, \"ticks\": \"\"}}, \"type\": \"scatterternary\"}], \"surface\": [{\"colorbar\": {\"outlinewidth\": 0, \"ticks\": \"\"}, \"colorscale\": [[0.0, \"#0d0887\"], [0.1111111111111111, \"#46039f\"], [0.2222222222222222, \"#7201a8\"], [0.3333333333333333, \"#9c179e\"], [0.4444444444444444, \"#bd3786\"], [0.5555555555555556, \"#d8576b\"], [0.6666666666666666, \"#ed7953\"], [0.7777777777777778, \"#fb9f3a\"], [0.8888888888888888, \"#fdca26\"], [1.0, \"#f0f921\"]], \"type\": \"surface\"}], \"table\": [{\"cells\": {\"fill\": {\"color\": \"#EBF0F8\"}, \"line\": {\"color\": \"white\"}}, \"header\": {\"fill\": {\"color\": \"#C8D4E3\"}, \"line\": {\"color\": \"white\"}}, \"type\": \"table\"}]}, \"layout\": {\"annotationdefaults\": {\"arrowcolor\": \"#2a3f5f\", \"arrowhead\": 0, \"arrowwidth\": 1}, \"coloraxis\": {\"colorbar\": {\"outlinewidth\": 0, \"ticks\": \"\"}}, \"colorscale\": {\"diverging\": [[0, \"#8e0152\"], [0.1, \"#c51b7d\"], [0.2, \"#de77ae\"], [0.3, \"#f1b6da\"], [0.4, \"#fde0ef\"], [0.5, \"#f7f7f7\"], [0.6, \"#e6f5d0\"], [0.7, \"#b8e186\"], [0.8, \"#7fbc41\"], [0.9, \"#4d9221\"], [1, \"#276419\"]], \"sequential\": [[0.0, \"#0d0887\"], [0.1111111111111111, \"#46039f\"], [0.2222222222222222, \"#7201a8\"], [0.3333333333333333, \"#9c179e\"], [0.4444444444444444, \"#bd3786\"], [0.5555555555555556, \"#d8576b\"], [0.6666666666666666, \"#ed7953\"], [0.7777777777777778, \"#fb9f3a\"], [0.8888888888888888, \"#fdca26\"], [1.0, \"#f0f921\"]], \"sequentialminus\": [[0.0, \"#0d0887\"], [0.1111111111111111, \"#46039f\"], [0.2222222222222222, \"#7201a8\"], [0.3333333333333333, \"#9c179e\"], [0.4444444444444444, \"#bd3786\"], [0.5555555555555556, \"#d8576b\"], [0.6666666666666666, \"#ed7953\"], [0.7777777777777778, \"#fb9f3a\"], [0.8888888888888888, \"#fdca26\"], [1.0, \"#f0f921\"]]}, \"colorway\": [\"#636efa\", \"#EF553B\", \"#00cc96\", \"#ab63fa\", \"#FFA15A\", \"#19d3f3\", \"#FF6692\", \"#B6E880\", \"#FF97FF\", \"#FECB52\"], \"font\": {\"color\": \"#2a3f5f\"}, \"geo\": {\"bgcolor\": \"white\", \"lakecolor\": \"white\", \"landcolor\": \"#E5ECF6\", \"showlakes\": true, \"showland\": true, \"subunitcolor\": \"white\"}, \"hoverlabel\": {\"align\": \"left\"}, \"hovermode\": \"closest\", \"mapbox\": {\"style\": \"light\"}, \"paper_bgcolor\": \"white\", \"plot_bgcolor\": \"#E5ECF6\", \"polar\": {\"angularaxis\": {\"gridcolor\": \"white\", \"linecolor\": \"white\", \"ticks\": \"\"}, \"bgcolor\": \"#E5ECF6\", \"radialaxis\": {\"gridcolor\": \"white\", \"linecolor\": \"white\", \"ticks\": \"\"}}, \"scene\": {\"xaxis\": {\"backgroundcolor\": \"#E5ECF6\", \"gridcolor\": \"white\", \"gridwidth\": 2, \"linecolor\": \"white\", \"showbackground\": true, \"ticks\": \"\", \"zerolinecolor\": \"white\"}, \"yaxis\": {\"backgroundcolor\": \"#E5ECF6\", \"gridcolor\": \"white\", \"gridwidth\": 2, \"linecolor\": \"white\", \"showbackground\": true, \"ticks\": \"\", \"zerolinecolor\": \"white\"}, \"zaxis\": {\"backgroundcolor\": \"#E5ECF6\", \"gridcolor\": \"white\", \"gridwidth\": 2, \"linecolor\": \"white\", \"showbackground\": true, \"ticks\": \"\", \"zerolinecolor\": \"white\"}}, \"shapedefaults\": {\"line\": {\"color\": \"#2a3f5f\"}}, \"ternary\": {\"aaxis\": {\"gridcolor\": \"white\", \"linecolor\": \"white\", \"ticks\": \"\"}, \"baxis\": {\"gridcolor\": \"white\", \"linecolor\": \"white\", \"ticks\": \"\"}, \"bgcolor\": \"#E5ECF6\", \"caxis\": {\"gridcolor\": \"white\", \"linecolor\": \"white\", \"ticks\": \"\"}}, \"title\": {\"x\": 0.05}, \"xaxis\": {\"automargin\": true, \"gridcolor\": \"white\", \"linecolor\": \"white\", \"ticks\": \"\", \"title\": {\"standoff\": 15}, \"zerolinecolor\": \"white\", \"zerolinewidth\": 2}, \"yaxis\": {\"automargin\": true, \"gridcolor\": \"white\", \"linecolor\": \"white\", \"ticks\": \"\", \"title\": {\"standoff\": 15}, \"zerolinecolor\": \"white\", \"zerolinewidth\": 2}}}},\n",
       "                        {\"responsive\": true}\n",
       "                    ).then(function(){\n",
       "                            \n",
       "var gd = document.getElementById('75eaf592-f94f-45c9-b413-877917c872fb');\n",
       "var x = new MutationObserver(function (mutations, observer) {{\n",
       "        var display = window.getComputedStyle(gd).display;\n",
       "        if (!display || display === 'none') {{\n",
       "            console.log([gd, 'removed!']);\n",
       "            Plotly.purge(gd);\n",
       "            observer.disconnect();\n",
       "        }}\n",
       "}});\n",
       "\n",
       "// Listen for the removal of the full notebook cells\n",
       "var notebookContainer = gd.closest('#notebook-container');\n",
       "if (notebookContainer) {{\n",
       "    x.observe(notebookContainer, {childList: true});\n",
       "}}\n",
       "\n",
       "// Listen for the clearing of the current output cell\n",
       "var outputEl = gd.closest('.output');\n",
       "if (outputEl) {{\n",
       "    x.observe(outputEl, {childList: true});\n",
       "}}\n",
       "\n",
       "                        })\n",
       "                };\n",
       "                });\n",
       "            </script>\n",
       "        </div>"
      ]
     },
     "metadata": {},
     "output_type": "display_data"
    }
   ],
   "source": [
    "fig = px.sunburst(df,path=['type','Wine Style','Grape/Blend'],\n",
    "                  color='acidity',color_continuous_scale='PuBu',\n",
    "                  color_continuous_midpoint=np.average(df['acidity'])\n",
    "                 )\n",
    "fig.show()"
   ]
  },
  {
   "cell_type": "code",
   "execution_count": 16,
   "metadata": {},
   "outputs": [
    {
     "data": {
      "application/vnd.plotly.v1+json": {
       "config": {
        "plotlyServerURL": "https://plot.ly"
       },
       "data": [
        {
         "branchvalues": "total",
         "customdata": [
          [
           3
          ],
          [
           2.5
          ],
          [
           4
          ],
          [
           4
          ],
          [
           4
          ],
          [
           4
          ],
          [
           4
          ],
          [
           4
          ],
          [
           4
          ],
          [
           2
          ],
          [
           3
          ],
          [
           3
          ],
          [
           3
          ],
          [
           3.888888888888889
          ],
          [
           2
          ],
          [
           4
          ],
          [
           4
          ],
          [
           2
          ],
          [
           2
          ],
          [
           4
          ],
          [
           3
          ],
          [
           4
          ],
          [
           3
          ],
          [
           3
          ],
          [
           3
          ],
          [
           1
          ],
          [
           3
          ],
          [
           4
          ],
          [
           4
          ],
          [
           3
          ],
          [
           4
          ],
          [
           3
          ],
          [
           4
          ],
          [
           3
          ],
          [
           2
          ],
          [
           3
          ],
          [
           5
          ],
          [
           4.888888888888889
          ],
          [
           4
          ],
          [
           4
          ],
          [
           3
          ],
          [
           3
          ],
          [
           3
          ],
          [
           3
          ],
          [
           3
          ],
          [
           3.5
          ],
          [
           4
          ],
          [
           4
          ],
          [
           4
          ],
          [
           4
          ],
          [
           4
          ],
          [
           4
          ],
          [
           3
          ],
          [
           4
          ],
          [
           4
          ],
          [
           4
          ],
          [
           3
          ],
          [
           2.5555555555555554
          ],
          [
           2
          ],
          [
           3
          ],
          [
           3.6666666666666665
          ],
          [
           3
          ],
          [
           3
          ],
          [
           3
          ],
          [
           2
          ],
          [
           4
          ],
          [
           4.5
          ],
          [
           5
          ],
          [
           4.5
          ],
          [
           3
          ],
          [
           4
          ],
          [
           3
          ],
          [
           3
          ],
          [
           4
          ],
          [
           3
          ],
          [
           3
          ],
          [
           3.8
          ],
          [
           3.9
          ],
          [
           2.75
          ],
          [
           4
          ],
          [
           1.6
          ],
          [
           2.9375
          ],
          [
           3.3333333333333335
          ],
          [
           4
          ],
          [
           2
          ],
          [
           4.0476190476190474
          ],
          [
           4.25
          ],
          [
           3.3
          ],
          [
           3.9661016949152543
          ],
          [
           4
          ],
          [
           2.2
          ],
          [
           3.1551724137931036
          ]
         ],
         "domain": {
          "x": [
           0,
           1
          ],
          "y": [
           0,
           1
          ]
         },
         "hovertemplate": "body=%{color}<br>labels=%{label}<br>count=%{value}<br>parent=%{parent}<br>id=%{id}<extra></extra>",
         "ids": [
          "White/Green and Flinty/Albarino (Alvarinho)",
          "White/Tropical and Balanced/Albarino (Alvarinho)",
          "White/Green and Flinty/Aligote",
          "Red/Rich and Intense/Bobal",
          "Red/Savory and Classic/Bordeaux Blend Red",
          "Red/Savory and Classic/Cabernet Franc - Merlot",
          "Red/Bold and Structured/Cabernet Sauvignon",
          "Red/Bold and Structured/Cabernet Sauvignon - Malbec",
          "Red/Rich and Intense/Carignan - Grenache - Syrah",
          "Sparkling/Fresh and Youthful/Cava Blend",
          "Sparkling/Berries and Cream/Champagne Blend",
          "Sparkling/Complex and Traditional/Champagne Blend",
          "Red/Rich and Intense/Charbono (Bonarda)",
          "White/Buttery and Complex/Chardonnay",
          "Sparkling/Complex and Traditional/Chardonnay",
          "White/Green and Flinty/Chardonnay",
          "White/Tropical and Balanced/Chardonnay",
          "Sparkling/Fresh and Youthful/Chardonnay - Pinot Noir",
          "White/Green and Flinty/Chasselas",
          "White/Buttery and Complex/Chenin Blanc",
          "Red/Savory and Classic/Chianti Blend",
          "Red/Rich and Intense/Counoise",
          "White/Green and Flinty/Erbaluce",
          "Red/Light and Perfumed/Gamay",
          "Red/Savory and Classic/Gamay",
          "Sparkling/Fresh and Youthful/Glera (Prosecco)",
          "White/Tropical and Balanced/Greco",
          "Red/Rich and Intense/Grenache (Garnacha)",
          "Red/Rich and Intense/Grenache - Mourvedre - Syrah",
          "White/Green and Flinty/Gruner Veltliner",
          "Red/Bold and Structured/Malbec - Syrah",
          "Red/Rich and Intense/Mencia",
          "Red/Rich and Intense/Merlot",
          "Red/Bold and Structured/Montepulciano",
          "White/Aromatic and Floral/Muller-Thurgau",
          "White/Aromatic and Floral/Muscat",
          "Red/Rich and Intense/Nebbiolo",
          "Red/Savory and Classic/Nebbiolo",
          "Red/Rich and Intense/Negroamaro",
          "Red/Rich and Intense/Nero d'Avola",
          "White/Tropical and Balanced/Pinot Blanc",
          "White/Green and Flinty/Pinot Grigio",
          "White/Aromatic and Floral/Pinot Gris",
          "White/Tropical and Balanced/Pinot Gris",
          "Sparkling/Complex and Traditional/Pinot Noir",
          "Red/Light and Perfumed/Pinot Noir",
          "White/Aromatic and Floral/Pinot d'Alsace",
          "Red/Rich and Intense/Pinotage",
          "Red/Rich and Intense/Portuguese Red Blend",
          "Red/Bold and Structured/Rare Red Blend",
          "Red/Rich and Intense/Rare Red Blend",
          "Rose/Crisp and Dry/Rare Rose Blend",
          "White/Green and Flinty/Rare White Blend",
          "White/Tropical and Balanced/Rare White Blend",
          "Red/Lush and Balanced/Refosco",
          "Red/Rich and Intense/Refosco",
          "White/Green and Flinty/Ribolla",
          "White/Green and Flinty/Riesling",
          "White/Lush and Balanced/Riesling",
          "Red/Bold and Structured/Sagrantino",
          "Red/Bold and Structured/Sangiovese",
          "Red/Savory and Classic/Sangiovese",
          "White/Green and Flinty/Sauvignon Blanc",
          "White/Green and Flinty/Sauvignon Blanc - Semillon",
          "White/Green and Flinty/Soave Blend",
          "White/Tropical and Balanced/Southern Rhone White Blend",
          "Red/Bold and Structured/Syrah",
          "Red/Rich and Intense/Syrah",
          "Red/Rich and Intense/Tempranillo",
          "White/Aromatic and Floral/Torrontes",
          "Red/Rich and Intense/Valdiguie",
          "White/Green and Flinty/Verdejo",
          "White/Green and Flinty/Verdicchio",
          "Red/Savory and Classic/Zweigelt",
          "White/Aromatic and Floral",
          "Sparkling/Berries and Cream",
          "Red/Bold and Structured",
          "White/Buttery and Complex",
          "Sparkling/Complex and Traditional",
          "Rose/Crisp and Dry",
          "Sparkling/Fresh and Youthful",
          "White/Green and Flinty",
          "Red/Light and Perfumed",
          "Red/Lush and Balanced",
          "White/Lush and Balanced",
          "Red/Rich and Intense",
          "Red/Savory and Classic",
          "White/Tropical and Balanced",
          "Red",
          "Rose",
          "Sparkling",
          "White"
         ],
         "labels": [
          "Albarino (Alvarinho)",
          "Albarino (Alvarinho)",
          "Aligote",
          "Bobal",
          "Bordeaux Blend Red",
          "Cabernet Franc - Merlot",
          "Cabernet Sauvignon",
          "Cabernet Sauvignon - Malbec",
          "Carignan - Grenache - Syrah",
          "Cava Blend",
          "Champagne Blend",
          "Champagne Blend",
          "Charbono (Bonarda)",
          "Chardonnay",
          "Chardonnay",
          "Chardonnay",
          "Chardonnay",
          "Chardonnay - Pinot Noir",
          "Chasselas",
          "Chenin Blanc",
          "Chianti Blend",
          "Counoise",
          "Erbaluce",
          "Gamay",
          "Gamay",
          "Glera (Prosecco)",
          "Greco",
          "Grenache (Garnacha)",
          "Grenache - Mourvedre - Syrah",
          "Gruner Veltliner",
          "Malbec - Syrah",
          "Mencia",
          "Merlot",
          "Montepulciano",
          "Muller-Thurgau",
          "Muscat",
          "Nebbiolo",
          "Nebbiolo",
          "Negroamaro",
          "Nero d'Avola",
          "Pinot Blanc",
          "Pinot Grigio",
          "Pinot Gris",
          "Pinot Gris",
          "Pinot Noir",
          "Pinot Noir",
          "Pinot d'Alsace",
          "Pinotage",
          "Portuguese Red Blend",
          "Rare Red Blend",
          "Rare Red Blend",
          "Rare Rose Blend",
          "Rare White Blend",
          "Rare White Blend",
          "Refosco",
          "Refosco",
          "Ribolla",
          "Riesling",
          "Riesling",
          "Sagrantino",
          "Sangiovese",
          "Sangiovese",
          "Sauvignon Blanc",
          "Sauvignon Blanc - Semillon",
          "Soave Blend",
          "Southern Rhone White Blend",
          "Syrah",
          "Syrah",
          "Tempranillo",
          "Torrontes",
          "Valdiguie",
          "Verdejo",
          "Verdicchio",
          "Zweigelt",
          "Aromatic and Floral",
          "Berries and Cream",
          "Bold and Structured",
          "Buttery and Complex",
          "Complex and Traditional",
          "Crisp and Dry",
          "Fresh and Youthful",
          "Green and Flinty",
          "Light and Perfumed",
          "Lush and Balanced",
          "Lush and Balanced",
          "Rich and Intense",
          "Savory and Classic",
          "Tropical and Balanced",
          "Red",
          "Rose",
          "Sparkling",
          "White"
         ],
         "marker": {
          "coloraxis": "coloraxis",
          "colors": [
           3,
           2.5,
           4,
           4,
           4,
           4,
           4,
           4,
           4,
           2,
           3,
           3,
           3,
           3.888888888888889,
           2,
           4,
           4,
           2,
           2,
           4,
           3,
           4,
           3,
           3,
           3,
           1,
           3,
           4,
           4,
           3,
           4,
           3,
           4,
           3,
           2,
           3,
           5,
           4.888888888888889,
           4,
           4,
           3,
           3,
           3,
           3,
           3,
           3.5,
           4,
           4,
           4,
           4,
           4,
           4,
           3,
           4,
           4,
           4,
           3,
           2.5555555555555554,
           2,
           3,
           3.6666666666666665,
           3,
           3,
           3,
           2,
           4,
           4.5,
           5,
           4.5,
           3,
           4,
           3,
           3,
           4,
           3,
           3,
           3.8,
           3.9,
           2.75,
           4,
           1.6,
           2.9375,
           3.3333333333333335,
           4,
           2,
           4.0476190476190474,
           4.25,
           3.3,
           3.9661016949152543,
           4,
           2.2,
           3.1551724137931036
          ]
         },
         "name": "",
         "parents": [
          "White/Green and Flinty",
          "White/Tropical and Balanced",
          "White/Green and Flinty",
          "Red/Rich and Intense",
          "Red/Savory and Classic",
          "Red/Savory and Classic",
          "Red/Bold and Structured",
          "Red/Bold and Structured",
          "Red/Rich and Intense",
          "Sparkling/Fresh and Youthful",
          "Sparkling/Berries and Cream",
          "Sparkling/Complex and Traditional",
          "Red/Rich and Intense",
          "White/Buttery and Complex",
          "Sparkling/Complex and Traditional",
          "White/Green and Flinty",
          "White/Tropical and Balanced",
          "Sparkling/Fresh and Youthful",
          "White/Green and Flinty",
          "White/Buttery and Complex",
          "Red/Savory and Classic",
          "Red/Rich and Intense",
          "White/Green and Flinty",
          "Red/Light and Perfumed",
          "Red/Savory and Classic",
          "Sparkling/Fresh and Youthful",
          "White/Tropical and Balanced",
          "Red/Rich and Intense",
          "Red/Rich and Intense",
          "White/Green and Flinty",
          "Red/Bold and Structured",
          "Red/Rich and Intense",
          "Red/Rich and Intense",
          "Red/Bold and Structured",
          "White/Aromatic and Floral",
          "White/Aromatic and Floral",
          "Red/Rich and Intense",
          "Red/Savory and Classic",
          "Red/Rich and Intense",
          "Red/Rich and Intense",
          "White/Tropical and Balanced",
          "White/Green and Flinty",
          "White/Aromatic and Floral",
          "White/Tropical and Balanced",
          "Sparkling/Complex and Traditional",
          "Red/Light and Perfumed",
          "White/Aromatic and Floral",
          "Red/Rich and Intense",
          "Red/Rich and Intense",
          "Red/Bold and Structured",
          "Red/Rich and Intense",
          "Rose/Crisp and Dry",
          "White/Green and Flinty",
          "White/Tropical and Balanced",
          "Red/Lush and Balanced",
          "Red/Rich and Intense",
          "White/Green and Flinty",
          "White/Green and Flinty",
          "White/Lush and Balanced",
          "Red/Bold and Structured",
          "Red/Bold and Structured",
          "Red/Savory and Classic",
          "White/Green and Flinty",
          "White/Green and Flinty",
          "White/Green and Flinty",
          "White/Tropical and Balanced",
          "Red/Bold and Structured",
          "Red/Rich and Intense",
          "Red/Rich and Intense",
          "White/Aromatic and Floral",
          "Red/Rich and Intense",
          "White/Green and Flinty",
          "White/Green and Flinty",
          "Red/Savory and Classic",
          "White",
          "Sparkling",
          "Red",
          "White",
          "Sparkling",
          "Rose",
          "Sparkling",
          "White",
          "Red",
          "Red",
          "White",
          "Red",
          "Red",
          "White",
          "",
          "",
          "",
          ""
         ],
         "type": "sunburst",
         "values": [
          1,
          2,
          1,
          1,
          1,
          1,
          3,
          1,
          1,
          2,
          1,
          2,
          1,
          9,
          1,
          3,
          2,
          1,
          1,
          1,
          2,
          1,
          1,
          2,
          1,
          2,
          2,
          1,
          1,
          1,
          1,
          1,
          2,
          2,
          1,
          1,
          1,
          9,
          1,
          1,
          1,
          2,
          1,
          1,
          1,
          4,
          1,
          1,
          1,
          2,
          2,
          1,
          1,
          1,
          1,
          1,
          1,
          9,
          1,
          1,
          3,
          1,
          7,
          1,
          1,
          1,
          2,
          1,
          2,
          1,
          1,
          1,
          1,
          1,
          5,
          1,
          15,
          10,
          4,
          1,
          5,
          32,
          6,
          1,
          1,
          21,
          16,
          10,
          59,
          1,
          10,
          58
         ]
        }
       ],
       "layout": {
        "coloraxis": {
         "cmid": 3.4609375,
         "colorbar": {
          "title": {
           "text": "body"
          }
         },
         "colorscale": [
          [
           0,
           "rgb(255,247,251)"
          ],
          [
           0.125,
           "rgb(236,231,242)"
          ],
          [
           0.25,
           "rgb(208,209,230)"
          ],
          [
           0.375,
           "rgb(166,189,219)"
          ],
          [
           0.5,
           "rgb(116,169,207)"
          ],
          [
           0.625,
           "rgb(54,144,192)"
          ],
          [
           0.75,
           "rgb(5,112,176)"
          ],
          [
           0.875,
           "rgb(4,90,141)"
          ],
          [
           1,
           "rgb(2,56,88)"
          ]
         ]
        },
        "legend": {
         "tracegroupgap": 0
        },
        "margin": {
         "t": 60
        },
        "template": {
         "data": {
          "bar": [
           {
            "error_x": {
             "color": "#2a3f5f"
            },
            "error_y": {
             "color": "#2a3f5f"
            },
            "marker": {
             "line": {
              "color": "#E5ECF6",
              "width": 0.5
             }
            },
            "type": "bar"
           }
          ],
          "barpolar": [
           {
            "marker": {
             "line": {
              "color": "#E5ECF6",
              "width": 0.5
             }
            },
            "type": "barpolar"
           }
          ],
          "carpet": [
           {
            "aaxis": {
             "endlinecolor": "#2a3f5f",
             "gridcolor": "white",
             "linecolor": "white",
             "minorgridcolor": "white",
             "startlinecolor": "#2a3f5f"
            },
            "baxis": {
             "endlinecolor": "#2a3f5f",
             "gridcolor": "white",
             "linecolor": "white",
             "minorgridcolor": "white",
             "startlinecolor": "#2a3f5f"
            },
            "type": "carpet"
           }
          ],
          "choropleth": [
           {
            "colorbar": {
             "outlinewidth": 0,
             "ticks": ""
            },
            "type": "choropleth"
           }
          ],
          "contour": [
           {
            "colorbar": {
             "outlinewidth": 0,
             "ticks": ""
            },
            "colorscale": [
             [
              0,
              "#0d0887"
             ],
             [
              0.1111111111111111,
              "#46039f"
             ],
             [
              0.2222222222222222,
              "#7201a8"
             ],
             [
              0.3333333333333333,
              "#9c179e"
             ],
             [
              0.4444444444444444,
              "#bd3786"
             ],
             [
              0.5555555555555556,
              "#d8576b"
             ],
             [
              0.6666666666666666,
              "#ed7953"
             ],
             [
              0.7777777777777778,
              "#fb9f3a"
             ],
             [
              0.8888888888888888,
              "#fdca26"
             ],
             [
              1,
              "#f0f921"
             ]
            ],
            "type": "contour"
           }
          ],
          "contourcarpet": [
           {
            "colorbar": {
             "outlinewidth": 0,
             "ticks": ""
            },
            "type": "contourcarpet"
           }
          ],
          "heatmap": [
           {
            "colorbar": {
             "outlinewidth": 0,
             "ticks": ""
            },
            "colorscale": [
             [
              0,
              "#0d0887"
             ],
             [
              0.1111111111111111,
              "#46039f"
             ],
             [
              0.2222222222222222,
              "#7201a8"
             ],
             [
              0.3333333333333333,
              "#9c179e"
             ],
             [
              0.4444444444444444,
              "#bd3786"
             ],
             [
              0.5555555555555556,
              "#d8576b"
             ],
             [
              0.6666666666666666,
              "#ed7953"
             ],
             [
              0.7777777777777778,
              "#fb9f3a"
             ],
             [
              0.8888888888888888,
              "#fdca26"
             ],
             [
              1,
              "#f0f921"
             ]
            ],
            "type": "heatmap"
           }
          ],
          "heatmapgl": [
           {
            "colorbar": {
             "outlinewidth": 0,
             "ticks": ""
            },
            "colorscale": [
             [
              0,
              "#0d0887"
             ],
             [
              0.1111111111111111,
              "#46039f"
             ],
             [
              0.2222222222222222,
              "#7201a8"
             ],
             [
              0.3333333333333333,
              "#9c179e"
             ],
             [
              0.4444444444444444,
              "#bd3786"
             ],
             [
              0.5555555555555556,
              "#d8576b"
             ],
             [
              0.6666666666666666,
              "#ed7953"
             ],
             [
              0.7777777777777778,
              "#fb9f3a"
             ],
             [
              0.8888888888888888,
              "#fdca26"
             ],
             [
              1,
              "#f0f921"
             ]
            ],
            "type": "heatmapgl"
           }
          ],
          "histogram": [
           {
            "marker": {
             "colorbar": {
              "outlinewidth": 0,
              "ticks": ""
             }
            },
            "type": "histogram"
           }
          ],
          "histogram2d": [
           {
            "colorbar": {
             "outlinewidth": 0,
             "ticks": ""
            },
            "colorscale": [
             [
              0,
              "#0d0887"
             ],
             [
              0.1111111111111111,
              "#46039f"
             ],
             [
              0.2222222222222222,
              "#7201a8"
             ],
             [
              0.3333333333333333,
              "#9c179e"
             ],
             [
              0.4444444444444444,
              "#bd3786"
             ],
             [
              0.5555555555555556,
              "#d8576b"
             ],
             [
              0.6666666666666666,
              "#ed7953"
             ],
             [
              0.7777777777777778,
              "#fb9f3a"
             ],
             [
              0.8888888888888888,
              "#fdca26"
             ],
             [
              1,
              "#f0f921"
             ]
            ],
            "type": "histogram2d"
           }
          ],
          "histogram2dcontour": [
           {
            "colorbar": {
             "outlinewidth": 0,
             "ticks": ""
            },
            "colorscale": [
             [
              0,
              "#0d0887"
             ],
             [
              0.1111111111111111,
              "#46039f"
             ],
             [
              0.2222222222222222,
              "#7201a8"
             ],
             [
              0.3333333333333333,
              "#9c179e"
             ],
             [
              0.4444444444444444,
              "#bd3786"
             ],
             [
              0.5555555555555556,
              "#d8576b"
             ],
             [
              0.6666666666666666,
              "#ed7953"
             ],
             [
              0.7777777777777778,
              "#fb9f3a"
             ],
             [
              0.8888888888888888,
              "#fdca26"
             ],
             [
              1,
              "#f0f921"
             ]
            ],
            "type": "histogram2dcontour"
           }
          ],
          "mesh3d": [
           {
            "colorbar": {
             "outlinewidth": 0,
             "ticks": ""
            },
            "type": "mesh3d"
           }
          ],
          "parcoords": [
           {
            "line": {
             "colorbar": {
              "outlinewidth": 0,
              "ticks": ""
             }
            },
            "type": "parcoords"
           }
          ],
          "pie": [
           {
            "automargin": true,
            "type": "pie"
           }
          ],
          "scatter": [
           {
            "marker": {
             "colorbar": {
              "outlinewidth": 0,
              "ticks": ""
             }
            },
            "type": "scatter"
           }
          ],
          "scatter3d": [
           {
            "line": {
             "colorbar": {
              "outlinewidth": 0,
              "ticks": ""
             }
            },
            "marker": {
             "colorbar": {
              "outlinewidth": 0,
              "ticks": ""
             }
            },
            "type": "scatter3d"
           }
          ],
          "scattercarpet": [
           {
            "marker": {
             "colorbar": {
              "outlinewidth": 0,
              "ticks": ""
             }
            },
            "type": "scattercarpet"
           }
          ],
          "scattergeo": [
           {
            "marker": {
             "colorbar": {
              "outlinewidth": 0,
              "ticks": ""
             }
            },
            "type": "scattergeo"
           }
          ],
          "scattergl": [
           {
            "marker": {
             "colorbar": {
              "outlinewidth": 0,
              "ticks": ""
             }
            },
            "type": "scattergl"
           }
          ],
          "scattermapbox": [
           {
            "marker": {
             "colorbar": {
              "outlinewidth": 0,
              "ticks": ""
             }
            },
            "type": "scattermapbox"
           }
          ],
          "scatterpolar": [
           {
            "marker": {
             "colorbar": {
              "outlinewidth": 0,
              "ticks": ""
             }
            },
            "type": "scatterpolar"
           }
          ],
          "scatterpolargl": [
           {
            "marker": {
             "colorbar": {
              "outlinewidth": 0,
              "ticks": ""
             }
            },
            "type": "scatterpolargl"
           }
          ],
          "scatterternary": [
           {
            "marker": {
             "colorbar": {
              "outlinewidth": 0,
              "ticks": ""
             }
            },
            "type": "scatterternary"
           }
          ],
          "surface": [
           {
            "colorbar": {
             "outlinewidth": 0,
             "ticks": ""
            },
            "colorscale": [
             [
              0,
              "#0d0887"
             ],
             [
              0.1111111111111111,
              "#46039f"
             ],
             [
              0.2222222222222222,
              "#7201a8"
             ],
             [
              0.3333333333333333,
              "#9c179e"
             ],
             [
              0.4444444444444444,
              "#bd3786"
             ],
             [
              0.5555555555555556,
              "#d8576b"
             ],
             [
              0.6666666666666666,
              "#ed7953"
             ],
             [
              0.7777777777777778,
              "#fb9f3a"
             ],
             [
              0.8888888888888888,
              "#fdca26"
             ],
             [
              1,
              "#f0f921"
             ]
            ],
            "type": "surface"
           }
          ],
          "table": [
           {
            "cells": {
             "fill": {
              "color": "#EBF0F8"
             },
             "line": {
              "color": "white"
             }
            },
            "header": {
             "fill": {
              "color": "#C8D4E3"
             },
             "line": {
              "color": "white"
             }
            },
            "type": "table"
           }
          ]
         },
         "layout": {
          "annotationdefaults": {
           "arrowcolor": "#2a3f5f",
           "arrowhead": 0,
           "arrowwidth": 1
          },
          "coloraxis": {
           "colorbar": {
            "outlinewidth": 0,
            "ticks": ""
           }
          },
          "colorscale": {
           "diverging": [
            [
             0,
             "#8e0152"
            ],
            [
             0.1,
             "#c51b7d"
            ],
            [
             0.2,
             "#de77ae"
            ],
            [
             0.3,
             "#f1b6da"
            ],
            [
             0.4,
             "#fde0ef"
            ],
            [
             0.5,
             "#f7f7f7"
            ],
            [
             0.6,
             "#e6f5d0"
            ],
            [
             0.7,
             "#b8e186"
            ],
            [
             0.8,
             "#7fbc41"
            ],
            [
             0.9,
             "#4d9221"
            ],
            [
             1,
             "#276419"
            ]
           ],
           "sequential": [
            [
             0,
             "#0d0887"
            ],
            [
             0.1111111111111111,
             "#46039f"
            ],
            [
             0.2222222222222222,
             "#7201a8"
            ],
            [
             0.3333333333333333,
             "#9c179e"
            ],
            [
             0.4444444444444444,
             "#bd3786"
            ],
            [
             0.5555555555555556,
             "#d8576b"
            ],
            [
             0.6666666666666666,
             "#ed7953"
            ],
            [
             0.7777777777777778,
             "#fb9f3a"
            ],
            [
             0.8888888888888888,
             "#fdca26"
            ],
            [
             1,
             "#f0f921"
            ]
           ],
           "sequentialminus": [
            [
             0,
             "#0d0887"
            ],
            [
             0.1111111111111111,
             "#46039f"
            ],
            [
             0.2222222222222222,
             "#7201a8"
            ],
            [
             0.3333333333333333,
             "#9c179e"
            ],
            [
             0.4444444444444444,
             "#bd3786"
            ],
            [
             0.5555555555555556,
             "#d8576b"
            ],
            [
             0.6666666666666666,
             "#ed7953"
            ],
            [
             0.7777777777777778,
             "#fb9f3a"
            ],
            [
             0.8888888888888888,
             "#fdca26"
            ],
            [
             1,
             "#f0f921"
            ]
           ]
          },
          "colorway": [
           "#636efa",
           "#EF553B",
           "#00cc96",
           "#ab63fa",
           "#FFA15A",
           "#19d3f3",
           "#FF6692",
           "#B6E880",
           "#FF97FF",
           "#FECB52"
          ],
          "font": {
           "color": "#2a3f5f"
          },
          "geo": {
           "bgcolor": "white",
           "lakecolor": "white",
           "landcolor": "#E5ECF6",
           "showlakes": true,
           "showland": true,
           "subunitcolor": "white"
          },
          "hoverlabel": {
           "align": "left"
          },
          "hovermode": "closest",
          "mapbox": {
           "style": "light"
          },
          "paper_bgcolor": "white",
          "plot_bgcolor": "#E5ECF6",
          "polar": {
           "angularaxis": {
            "gridcolor": "white",
            "linecolor": "white",
            "ticks": ""
           },
           "bgcolor": "#E5ECF6",
           "radialaxis": {
            "gridcolor": "white",
            "linecolor": "white",
            "ticks": ""
           }
          },
          "scene": {
           "xaxis": {
            "backgroundcolor": "#E5ECF6",
            "gridcolor": "white",
            "gridwidth": 2,
            "linecolor": "white",
            "showbackground": true,
            "ticks": "",
            "zerolinecolor": "white"
           },
           "yaxis": {
            "backgroundcolor": "#E5ECF6",
            "gridcolor": "white",
            "gridwidth": 2,
            "linecolor": "white",
            "showbackground": true,
            "ticks": "",
            "zerolinecolor": "white"
           },
           "zaxis": {
            "backgroundcolor": "#E5ECF6",
            "gridcolor": "white",
            "gridwidth": 2,
            "linecolor": "white",
            "showbackground": true,
            "ticks": "",
            "zerolinecolor": "white"
           }
          },
          "shapedefaults": {
           "line": {
            "color": "#2a3f5f"
           }
          },
          "ternary": {
           "aaxis": {
            "gridcolor": "white",
            "linecolor": "white",
            "ticks": ""
           },
           "baxis": {
            "gridcolor": "white",
            "linecolor": "white",
            "ticks": ""
           },
           "bgcolor": "#E5ECF6",
           "caxis": {
            "gridcolor": "white",
            "linecolor": "white",
            "ticks": ""
           }
          },
          "title": {
           "x": 0.05
          },
          "xaxis": {
           "automargin": true,
           "gridcolor": "white",
           "linecolor": "white",
           "ticks": "",
           "title": {
            "standoff": 15
           },
           "zerolinecolor": "white",
           "zerolinewidth": 2
          },
          "yaxis": {
           "automargin": true,
           "gridcolor": "white",
           "linecolor": "white",
           "ticks": "",
           "title": {
            "standoff": 15
           },
           "zerolinecolor": "white",
           "zerolinewidth": 2
          }
         }
        }
       }
      },
      "text/html": [
       "<div>\n",
       "        \n",
       "        \n",
       "            <div id=\"4583d16e-84d6-411d-a410-480f6954bd24\" class=\"plotly-graph-div\" style=\"height:525px; width:100%;\"></div>\n",
       "            <script type=\"text/javascript\">\n",
       "                require([\"plotly\"], function(Plotly) {\n",
       "                    window.PLOTLYENV=window.PLOTLYENV || {};\n",
       "                    \n",
       "                if (document.getElementById(\"4583d16e-84d6-411d-a410-480f6954bd24\")) {\n",
       "                    Plotly.newPlot(\n",
       "                        '4583d16e-84d6-411d-a410-480f6954bd24',\n",
       "                        [{\"branchvalues\": \"total\", \"customdata\": [[3.0], [2.5], [4.0], [4.0], [4.0], [4.0], [4.0], [4.0], [4.0], [2.0], [3.0], [3.0], [3.0], [3.888888888888889], [2.0], [4.0], [4.0], [2.0], [2.0], [4.0], [3.0], [4.0], [3.0], [3.0], [3.0], [1.0], [3.0], [4.0], [4.0], [3.0], [4.0], [3.0], [4.0], [3.0], [2.0], [3.0], [5.0], [4.888888888888889], [4.0], [4.0], [3.0], [3.0], [3.0], [3.0], [3.0], [3.5], [4.0], [4.0], [4.0], [4.0], [4.0], [4.0], [3.0], [4.0], [4.0], [4.0], [3.0], [2.5555555555555554], [2.0], [3.0], [3.6666666666666665], [3.0], [3.0], [3.0], [2.0], [4.0], [4.5], [5.0], [4.5], [3.0], [4.0], [3.0], [3.0], [4.0], [3.0], [3.0], [3.8], [3.9], [2.75], [4.0], [1.6], [2.9375], [3.3333333333333335], [4.0], [2.0], [4.0476190476190474], [4.25], [3.3], [3.9661016949152543], [4.0], [2.2], [3.1551724137931036]], \"domain\": {\"x\": [0.0, 1.0], \"y\": [0.0, 1.0]}, \"hovertemplate\": \"body=%{color}<br>labels=%{label}<br>count=%{value}<br>parent=%{parent}<br>id=%{id}<extra></extra>\", \"ids\": [\"White/Green and Flinty/Albarino (Alvarinho)\", \"White/Tropical and Balanced/Albarino (Alvarinho)\", \"White/Green and Flinty/Aligote\", \"Red/Rich and Intense/Bobal\", \"Red/Savory and Classic/Bordeaux Blend Red\", \"Red/Savory and Classic/Cabernet Franc - Merlot\", \"Red/Bold and Structured/Cabernet Sauvignon\", \"Red/Bold and Structured/Cabernet Sauvignon - Malbec\", \"Red/Rich and Intense/Carignan - Grenache - Syrah\", \"Sparkling/Fresh and Youthful/Cava Blend\", \"Sparkling/Berries and Cream/Champagne Blend\", \"Sparkling/Complex and Traditional/Champagne Blend\", \"Red/Rich and Intense/Charbono (Bonarda)\", \"White/Buttery and Complex/Chardonnay\", \"Sparkling/Complex and Traditional/Chardonnay\", \"White/Green and Flinty/Chardonnay\", \"White/Tropical and Balanced/Chardonnay\", \"Sparkling/Fresh and Youthful/Chardonnay - Pinot Noir\", \"White/Green and Flinty/Chasselas\", \"White/Buttery and Complex/Chenin Blanc\", \"Red/Savory and Classic/Chianti Blend\", \"Red/Rich and Intense/Counoise\", \"White/Green and Flinty/Erbaluce\", \"Red/Light and Perfumed/Gamay\", \"Red/Savory and Classic/Gamay\", \"Sparkling/Fresh and Youthful/Glera (Prosecco)\", \"White/Tropical and Balanced/Greco\", \"Red/Rich and Intense/Grenache (Garnacha)\", \"Red/Rich and Intense/Grenache - Mourvedre - Syrah\", \"White/Green and Flinty/Gruner Veltliner\", \"Red/Bold and Structured/Malbec - Syrah\", \"Red/Rich and Intense/Mencia\", \"Red/Rich and Intense/Merlot\", \"Red/Bold and Structured/Montepulciano\", \"White/Aromatic and Floral/Muller-Thurgau\", \"White/Aromatic and Floral/Muscat\", \"Red/Rich and Intense/Nebbiolo\", \"Red/Savory and Classic/Nebbiolo\", \"Red/Rich and Intense/Negroamaro\", \"Red/Rich and Intense/Nero d'Avola\", \"White/Tropical and Balanced/Pinot Blanc\", \"White/Green and Flinty/Pinot Grigio\", \"White/Aromatic and Floral/Pinot Gris\", \"White/Tropical and Balanced/Pinot Gris\", \"Sparkling/Complex and Traditional/Pinot Noir\", \"Red/Light and Perfumed/Pinot Noir\", \"White/Aromatic and Floral/Pinot d'Alsace\", \"Red/Rich and Intense/Pinotage\", \"Red/Rich and Intense/Portuguese Red Blend\", \"Red/Bold and Structured/Rare Red Blend\", \"Red/Rich and Intense/Rare Red Blend\", \"Rose/Crisp and Dry/Rare Rose Blend\", \"White/Green and Flinty/Rare White Blend\", \"White/Tropical and Balanced/Rare White Blend\", \"Red/Lush and Balanced/Refosco\", \"Red/Rich and Intense/Refosco\", \"White/Green and Flinty/Ribolla\", \"White/Green and Flinty/Riesling\", \"White/Lush and Balanced/Riesling\", \"Red/Bold and Structured/Sagrantino\", \"Red/Bold and Structured/Sangiovese\", \"Red/Savory and Classic/Sangiovese\", \"White/Green and Flinty/Sauvignon Blanc\", \"White/Green and Flinty/Sauvignon Blanc - Semillon\", \"White/Green and Flinty/Soave Blend\", \"White/Tropical and Balanced/Southern Rhone White Blend\", \"Red/Bold and Structured/Syrah\", \"Red/Rich and Intense/Syrah\", \"Red/Rich and Intense/Tempranillo\", \"White/Aromatic and Floral/Torrontes\", \"Red/Rich and Intense/Valdiguie\", \"White/Green and Flinty/Verdejo\", \"White/Green and Flinty/Verdicchio\", \"Red/Savory and Classic/Zweigelt\", \"White/Aromatic and Floral\", \"Sparkling/Berries and Cream\", \"Red/Bold and Structured\", \"White/Buttery and Complex\", \"Sparkling/Complex and Traditional\", \"Rose/Crisp and Dry\", \"Sparkling/Fresh and Youthful\", \"White/Green and Flinty\", \"Red/Light and Perfumed\", \"Red/Lush and Balanced\", \"White/Lush and Balanced\", \"Red/Rich and Intense\", \"Red/Savory and Classic\", \"White/Tropical and Balanced\", \"Red\", \"Rose\", \"Sparkling\", \"White\"], \"labels\": [\"Albarino (Alvarinho)\", \"Albarino (Alvarinho)\", \"Aligote\", \"Bobal\", \"Bordeaux Blend Red\", \"Cabernet Franc - Merlot\", \"Cabernet Sauvignon\", \"Cabernet Sauvignon - Malbec\", \"Carignan - Grenache - Syrah\", \"Cava Blend\", \"Champagne Blend\", \"Champagne Blend\", \"Charbono (Bonarda)\", \"Chardonnay\", \"Chardonnay\", \"Chardonnay\", \"Chardonnay\", \"Chardonnay - Pinot Noir\", \"Chasselas\", \"Chenin Blanc\", \"Chianti Blend\", \"Counoise\", \"Erbaluce\", \"Gamay\", \"Gamay\", \"Glera (Prosecco)\", \"Greco\", \"Grenache (Garnacha)\", \"Grenache - Mourvedre - Syrah\", \"Gruner Veltliner\", \"Malbec - Syrah\", \"Mencia\", \"Merlot\", \"Montepulciano\", \"Muller-Thurgau\", \"Muscat\", \"Nebbiolo\", \"Nebbiolo\", \"Negroamaro\", \"Nero d'Avola\", \"Pinot Blanc\", \"Pinot Grigio\", \"Pinot Gris\", \"Pinot Gris\", \"Pinot Noir\", \"Pinot Noir\", \"Pinot d'Alsace\", \"Pinotage\", \"Portuguese Red Blend\", \"Rare Red Blend\", \"Rare Red Blend\", \"Rare Rose Blend\", \"Rare White Blend\", \"Rare White Blend\", \"Refosco\", \"Refosco\", \"Ribolla\", \"Riesling\", \"Riesling\", \"Sagrantino\", \"Sangiovese\", \"Sangiovese\", \"Sauvignon Blanc\", \"Sauvignon Blanc - Semillon\", \"Soave Blend\", \"Southern Rhone White Blend\", \"Syrah\", \"Syrah\", \"Tempranillo\", \"Torrontes\", \"Valdiguie\", \"Verdejo\", \"Verdicchio\", \"Zweigelt\", \"Aromatic and Floral\", \"Berries and Cream\", \"Bold and Structured\", \"Buttery and Complex\", \"Complex and Traditional\", \"Crisp and Dry\", \"Fresh and Youthful\", \"Green and Flinty\", \"Light and Perfumed\", \"Lush and Balanced\", \"Lush and Balanced\", \"Rich and Intense\", \"Savory and Classic\", \"Tropical and Balanced\", \"Red\", \"Rose\", \"Sparkling\", \"White\"], \"marker\": {\"coloraxis\": \"coloraxis\", \"colors\": [3.0, 2.5, 4.0, 4.0, 4.0, 4.0, 4.0, 4.0, 4.0, 2.0, 3.0, 3.0, 3.0, 3.888888888888889, 2.0, 4.0, 4.0, 2.0, 2.0, 4.0, 3.0, 4.0, 3.0, 3.0, 3.0, 1.0, 3.0, 4.0, 4.0, 3.0, 4.0, 3.0, 4.0, 3.0, 2.0, 3.0, 5.0, 4.888888888888889, 4.0, 4.0, 3.0, 3.0, 3.0, 3.0, 3.0, 3.5, 4.0, 4.0, 4.0, 4.0, 4.0, 4.0, 3.0, 4.0, 4.0, 4.0, 3.0, 2.5555555555555554, 2.0, 3.0, 3.6666666666666665, 3.0, 3.0, 3.0, 2.0, 4.0, 4.5, 5.0, 4.5, 3.0, 4.0, 3.0, 3.0, 4.0, 3.0, 3.0, 3.8, 3.9, 2.75, 4.0, 1.6, 2.9375, 3.3333333333333335, 4.0, 2.0, 4.0476190476190474, 4.25, 3.3, 3.9661016949152543, 4.0, 2.2, 3.1551724137931036]}, \"name\": \"\", \"parents\": [\"White/Green and Flinty\", \"White/Tropical and Balanced\", \"White/Green and Flinty\", \"Red/Rich and Intense\", \"Red/Savory and Classic\", \"Red/Savory and Classic\", \"Red/Bold and Structured\", \"Red/Bold and Structured\", \"Red/Rich and Intense\", \"Sparkling/Fresh and Youthful\", \"Sparkling/Berries and Cream\", \"Sparkling/Complex and Traditional\", \"Red/Rich and Intense\", \"White/Buttery and Complex\", \"Sparkling/Complex and Traditional\", \"White/Green and Flinty\", \"White/Tropical and Balanced\", \"Sparkling/Fresh and Youthful\", \"White/Green and Flinty\", \"White/Buttery and Complex\", \"Red/Savory and Classic\", \"Red/Rich and Intense\", \"White/Green and Flinty\", \"Red/Light and Perfumed\", \"Red/Savory and Classic\", \"Sparkling/Fresh and Youthful\", \"White/Tropical and Balanced\", \"Red/Rich and Intense\", \"Red/Rich and Intense\", \"White/Green and Flinty\", \"Red/Bold and Structured\", \"Red/Rich and Intense\", \"Red/Rich and Intense\", \"Red/Bold and Structured\", \"White/Aromatic and Floral\", \"White/Aromatic and Floral\", \"Red/Rich and Intense\", \"Red/Savory and Classic\", \"Red/Rich and Intense\", \"Red/Rich and Intense\", \"White/Tropical and Balanced\", \"White/Green and Flinty\", \"White/Aromatic and Floral\", \"White/Tropical and Balanced\", \"Sparkling/Complex and Traditional\", \"Red/Light and Perfumed\", \"White/Aromatic and Floral\", \"Red/Rich and Intense\", \"Red/Rich and Intense\", \"Red/Bold and Structured\", \"Red/Rich and Intense\", \"Rose/Crisp and Dry\", \"White/Green and Flinty\", \"White/Tropical and Balanced\", \"Red/Lush and Balanced\", \"Red/Rich and Intense\", \"White/Green and Flinty\", \"White/Green and Flinty\", \"White/Lush and Balanced\", \"Red/Bold and Structured\", \"Red/Bold and Structured\", \"Red/Savory and Classic\", \"White/Green and Flinty\", \"White/Green and Flinty\", \"White/Green and Flinty\", \"White/Tropical and Balanced\", \"Red/Bold and Structured\", \"Red/Rich and Intense\", \"Red/Rich and Intense\", \"White/Aromatic and Floral\", \"Red/Rich and Intense\", \"White/Green and Flinty\", \"White/Green and Flinty\", \"Red/Savory and Classic\", \"White\", \"Sparkling\", \"Red\", \"White\", \"Sparkling\", \"Rose\", \"Sparkling\", \"White\", \"Red\", \"Red\", \"White\", \"Red\", \"Red\", \"White\", \"\", \"\", \"\", \"\"], \"type\": \"sunburst\", \"values\": [1, 2, 1, 1, 1, 1, 3, 1, 1, 2, 1, 2, 1, 9, 1, 3, 2, 1, 1, 1, 2, 1, 1, 2, 1, 2, 2, 1, 1, 1, 1, 1, 2, 2, 1, 1, 1, 9, 1, 1, 1, 2, 1, 1, 1, 4, 1, 1, 1, 2, 2, 1, 1, 1, 1, 1, 1, 9, 1, 1, 3, 1, 7, 1, 1, 1, 2, 1, 2, 1, 1, 1, 1, 1, 5, 1, 15, 10, 4, 1, 5, 32, 6, 1, 1, 21, 16, 10, 59, 1, 10, 58]}],\n",
       "                        {\"coloraxis\": {\"cmid\": 3.4609375, \"colorbar\": {\"title\": {\"text\": \"body\"}}, \"colorscale\": [[0.0, \"rgb(255,247,251)\"], [0.125, \"rgb(236,231,242)\"], [0.25, \"rgb(208,209,230)\"], [0.375, \"rgb(166,189,219)\"], [0.5, \"rgb(116,169,207)\"], [0.625, \"rgb(54,144,192)\"], [0.75, \"rgb(5,112,176)\"], [0.875, \"rgb(4,90,141)\"], [1.0, \"rgb(2,56,88)\"]]}, \"legend\": {\"tracegroupgap\": 0}, \"margin\": {\"t\": 60}, \"template\": {\"data\": {\"bar\": [{\"error_x\": {\"color\": \"#2a3f5f\"}, \"error_y\": {\"color\": \"#2a3f5f\"}, \"marker\": {\"line\": {\"color\": \"#E5ECF6\", \"width\": 0.5}}, \"type\": \"bar\"}], \"barpolar\": [{\"marker\": {\"line\": {\"color\": \"#E5ECF6\", \"width\": 0.5}}, \"type\": \"barpolar\"}], \"carpet\": [{\"aaxis\": {\"endlinecolor\": \"#2a3f5f\", \"gridcolor\": \"white\", \"linecolor\": \"white\", \"minorgridcolor\": \"white\", \"startlinecolor\": \"#2a3f5f\"}, \"baxis\": {\"endlinecolor\": \"#2a3f5f\", \"gridcolor\": \"white\", \"linecolor\": \"white\", \"minorgridcolor\": \"white\", \"startlinecolor\": \"#2a3f5f\"}, \"type\": \"carpet\"}], \"choropleth\": [{\"colorbar\": {\"outlinewidth\": 0, \"ticks\": \"\"}, \"type\": \"choropleth\"}], \"contour\": [{\"colorbar\": {\"outlinewidth\": 0, \"ticks\": \"\"}, \"colorscale\": [[0.0, \"#0d0887\"], [0.1111111111111111, \"#46039f\"], [0.2222222222222222, \"#7201a8\"], [0.3333333333333333, \"#9c179e\"], [0.4444444444444444, \"#bd3786\"], [0.5555555555555556, \"#d8576b\"], [0.6666666666666666, \"#ed7953\"], [0.7777777777777778, \"#fb9f3a\"], [0.8888888888888888, \"#fdca26\"], [1.0, \"#f0f921\"]], \"type\": \"contour\"}], \"contourcarpet\": [{\"colorbar\": {\"outlinewidth\": 0, \"ticks\": \"\"}, \"type\": \"contourcarpet\"}], \"heatmap\": [{\"colorbar\": {\"outlinewidth\": 0, \"ticks\": \"\"}, \"colorscale\": [[0.0, \"#0d0887\"], [0.1111111111111111, \"#46039f\"], [0.2222222222222222, \"#7201a8\"], [0.3333333333333333, \"#9c179e\"], [0.4444444444444444, \"#bd3786\"], [0.5555555555555556, \"#d8576b\"], [0.6666666666666666, \"#ed7953\"], [0.7777777777777778, \"#fb9f3a\"], [0.8888888888888888, \"#fdca26\"], [1.0, \"#f0f921\"]], \"type\": \"heatmap\"}], \"heatmapgl\": [{\"colorbar\": {\"outlinewidth\": 0, \"ticks\": \"\"}, \"colorscale\": [[0.0, \"#0d0887\"], [0.1111111111111111, \"#46039f\"], [0.2222222222222222, \"#7201a8\"], [0.3333333333333333, \"#9c179e\"], [0.4444444444444444, \"#bd3786\"], [0.5555555555555556, \"#d8576b\"], [0.6666666666666666, \"#ed7953\"], [0.7777777777777778, \"#fb9f3a\"], [0.8888888888888888, \"#fdca26\"], [1.0, \"#f0f921\"]], \"type\": \"heatmapgl\"}], \"histogram\": [{\"marker\": {\"colorbar\": {\"outlinewidth\": 0, \"ticks\": \"\"}}, \"type\": \"histogram\"}], \"histogram2d\": [{\"colorbar\": {\"outlinewidth\": 0, \"ticks\": \"\"}, \"colorscale\": [[0.0, \"#0d0887\"], [0.1111111111111111, \"#46039f\"], [0.2222222222222222, \"#7201a8\"], [0.3333333333333333, \"#9c179e\"], [0.4444444444444444, \"#bd3786\"], [0.5555555555555556, \"#d8576b\"], [0.6666666666666666, \"#ed7953\"], [0.7777777777777778, \"#fb9f3a\"], [0.8888888888888888, \"#fdca26\"], [1.0, \"#f0f921\"]], \"type\": \"histogram2d\"}], \"histogram2dcontour\": [{\"colorbar\": {\"outlinewidth\": 0, \"ticks\": \"\"}, \"colorscale\": [[0.0, \"#0d0887\"], [0.1111111111111111, \"#46039f\"], [0.2222222222222222, \"#7201a8\"], [0.3333333333333333, \"#9c179e\"], [0.4444444444444444, \"#bd3786\"], [0.5555555555555556, \"#d8576b\"], [0.6666666666666666, \"#ed7953\"], [0.7777777777777778, \"#fb9f3a\"], [0.8888888888888888, \"#fdca26\"], [1.0, \"#f0f921\"]], \"type\": \"histogram2dcontour\"}], \"mesh3d\": [{\"colorbar\": {\"outlinewidth\": 0, \"ticks\": \"\"}, \"type\": \"mesh3d\"}], \"parcoords\": [{\"line\": {\"colorbar\": {\"outlinewidth\": 0, \"ticks\": \"\"}}, \"type\": \"parcoords\"}], \"pie\": [{\"automargin\": true, \"type\": \"pie\"}], \"scatter\": [{\"marker\": {\"colorbar\": {\"outlinewidth\": 0, \"ticks\": \"\"}}, \"type\": \"scatter\"}], \"scatter3d\": [{\"line\": {\"colorbar\": {\"outlinewidth\": 0, \"ticks\": \"\"}}, \"marker\": {\"colorbar\": {\"outlinewidth\": 0, \"ticks\": \"\"}}, \"type\": \"scatter3d\"}], \"scattercarpet\": [{\"marker\": {\"colorbar\": {\"outlinewidth\": 0, \"ticks\": \"\"}}, \"type\": \"scattercarpet\"}], \"scattergeo\": [{\"marker\": {\"colorbar\": {\"outlinewidth\": 0, \"ticks\": \"\"}}, \"type\": \"scattergeo\"}], \"scattergl\": [{\"marker\": {\"colorbar\": {\"outlinewidth\": 0, \"ticks\": \"\"}}, \"type\": \"scattergl\"}], \"scattermapbox\": [{\"marker\": {\"colorbar\": {\"outlinewidth\": 0, \"ticks\": \"\"}}, \"type\": \"scattermapbox\"}], \"scatterpolar\": [{\"marker\": {\"colorbar\": {\"outlinewidth\": 0, \"ticks\": \"\"}}, \"type\": \"scatterpolar\"}], \"scatterpolargl\": [{\"marker\": {\"colorbar\": {\"outlinewidth\": 0, \"ticks\": \"\"}}, \"type\": \"scatterpolargl\"}], \"scatterternary\": [{\"marker\": {\"colorbar\": {\"outlinewidth\": 0, \"ticks\": \"\"}}, \"type\": \"scatterternary\"}], \"surface\": [{\"colorbar\": {\"outlinewidth\": 0, \"ticks\": \"\"}, \"colorscale\": [[0.0, \"#0d0887\"], [0.1111111111111111, \"#46039f\"], [0.2222222222222222, \"#7201a8\"], [0.3333333333333333, \"#9c179e\"], [0.4444444444444444, \"#bd3786\"], [0.5555555555555556, \"#d8576b\"], [0.6666666666666666, \"#ed7953\"], [0.7777777777777778, \"#fb9f3a\"], [0.8888888888888888, \"#fdca26\"], [1.0, \"#f0f921\"]], \"type\": \"surface\"}], \"table\": [{\"cells\": {\"fill\": {\"color\": \"#EBF0F8\"}, \"line\": {\"color\": \"white\"}}, \"header\": {\"fill\": {\"color\": \"#C8D4E3\"}, \"line\": {\"color\": \"white\"}}, \"type\": \"table\"}]}, \"layout\": {\"annotationdefaults\": {\"arrowcolor\": \"#2a3f5f\", \"arrowhead\": 0, \"arrowwidth\": 1}, \"coloraxis\": {\"colorbar\": {\"outlinewidth\": 0, \"ticks\": \"\"}}, \"colorscale\": {\"diverging\": [[0, \"#8e0152\"], [0.1, \"#c51b7d\"], [0.2, \"#de77ae\"], [0.3, \"#f1b6da\"], [0.4, \"#fde0ef\"], [0.5, \"#f7f7f7\"], [0.6, \"#e6f5d0\"], [0.7, \"#b8e186\"], [0.8, \"#7fbc41\"], [0.9, \"#4d9221\"], [1, \"#276419\"]], \"sequential\": [[0.0, \"#0d0887\"], [0.1111111111111111, \"#46039f\"], [0.2222222222222222, \"#7201a8\"], [0.3333333333333333, \"#9c179e\"], [0.4444444444444444, \"#bd3786\"], [0.5555555555555556, \"#d8576b\"], [0.6666666666666666, \"#ed7953\"], [0.7777777777777778, \"#fb9f3a\"], [0.8888888888888888, \"#fdca26\"], [1.0, \"#f0f921\"]], \"sequentialminus\": [[0.0, \"#0d0887\"], [0.1111111111111111, \"#46039f\"], [0.2222222222222222, \"#7201a8\"], [0.3333333333333333, \"#9c179e\"], [0.4444444444444444, \"#bd3786\"], [0.5555555555555556, \"#d8576b\"], [0.6666666666666666, \"#ed7953\"], [0.7777777777777778, \"#fb9f3a\"], [0.8888888888888888, \"#fdca26\"], [1.0, \"#f0f921\"]]}, \"colorway\": [\"#636efa\", \"#EF553B\", \"#00cc96\", \"#ab63fa\", \"#FFA15A\", \"#19d3f3\", \"#FF6692\", \"#B6E880\", \"#FF97FF\", \"#FECB52\"], \"font\": {\"color\": \"#2a3f5f\"}, \"geo\": {\"bgcolor\": \"white\", \"lakecolor\": \"white\", \"landcolor\": \"#E5ECF6\", \"showlakes\": true, \"showland\": true, \"subunitcolor\": \"white\"}, \"hoverlabel\": {\"align\": \"left\"}, \"hovermode\": \"closest\", \"mapbox\": {\"style\": \"light\"}, \"paper_bgcolor\": \"white\", \"plot_bgcolor\": \"#E5ECF6\", \"polar\": {\"angularaxis\": {\"gridcolor\": \"white\", \"linecolor\": \"white\", \"ticks\": \"\"}, \"bgcolor\": \"#E5ECF6\", \"radialaxis\": {\"gridcolor\": \"white\", \"linecolor\": \"white\", \"ticks\": \"\"}}, \"scene\": {\"xaxis\": {\"backgroundcolor\": \"#E5ECF6\", \"gridcolor\": \"white\", \"gridwidth\": 2, \"linecolor\": \"white\", \"showbackground\": true, \"ticks\": \"\", \"zerolinecolor\": \"white\"}, \"yaxis\": {\"backgroundcolor\": \"#E5ECF6\", \"gridcolor\": \"white\", \"gridwidth\": 2, \"linecolor\": \"white\", \"showbackground\": true, \"ticks\": \"\", \"zerolinecolor\": \"white\"}, \"zaxis\": {\"backgroundcolor\": \"#E5ECF6\", \"gridcolor\": \"white\", \"gridwidth\": 2, \"linecolor\": \"white\", \"showbackground\": true, \"ticks\": \"\", \"zerolinecolor\": \"white\"}}, \"shapedefaults\": {\"line\": {\"color\": \"#2a3f5f\"}}, \"ternary\": {\"aaxis\": {\"gridcolor\": \"white\", \"linecolor\": \"white\", \"ticks\": \"\"}, \"baxis\": {\"gridcolor\": \"white\", \"linecolor\": \"white\", \"ticks\": \"\"}, \"bgcolor\": \"#E5ECF6\", \"caxis\": {\"gridcolor\": \"white\", \"linecolor\": \"white\", \"ticks\": \"\"}}, \"title\": {\"x\": 0.05}, \"xaxis\": {\"automargin\": true, \"gridcolor\": \"white\", \"linecolor\": \"white\", \"ticks\": \"\", \"title\": {\"standoff\": 15}, \"zerolinecolor\": \"white\", \"zerolinewidth\": 2}, \"yaxis\": {\"automargin\": true, \"gridcolor\": \"white\", \"linecolor\": \"white\", \"ticks\": \"\", \"title\": {\"standoff\": 15}, \"zerolinecolor\": \"white\", \"zerolinewidth\": 2}}}},\n",
       "                        {\"responsive\": true}\n",
       "                    ).then(function(){\n",
       "                            \n",
       "var gd = document.getElementById('4583d16e-84d6-411d-a410-480f6954bd24');\n",
       "var x = new MutationObserver(function (mutations, observer) {{\n",
       "        var display = window.getComputedStyle(gd).display;\n",
       "        if (!display || display === 'none') {{\n",
       "            console.log([gd, 'removed!']);\n",
       "            Plotly.purge(gd);\n",
       "            observer.disconnect();\n",
       "        }}\n",
       "}});\n",
       "\n",
       "// Listen for the removal of the full notebook cells\n",
       "var notebookContainer = gd.closest('#notebook-container');\n",
       "if (notebookContainer) {{\n",
       "    x.observe(notebookContainer, {childList: true});\n",
       "}}\n",
       "\n",
       "// Listen for the clearing of the current output cell\n",
       "var outputEl = gd.closest('.output');\n",
       "if (outputEl) {{\n",
       "    x.observe(outputEl, {childList: true});\n",
       "}}\n",
       "\n",
       "                        })\n",
       "                };\n",
       "                });\n",
       "            </script>\n",
       "        </div>"
      ]
     },
     "metadata": {},
     "output_type": "display_data"
    }
   ],
   "source": [
    "fig = px.sunburst(df,path=['type','Wine Style','Grape/Blend'],\n",
    "                  color='body',color_continuous_scale='PuBu',\n",
    "                  color_continuous_midpoint=np.average(df['body'])\n",
    "                 )\n",
    "fig.show()"
   ]
  },
  {
   "cell_type": "markdown",
   "metadata": {},
   "source": [
    "### Flavor Wheel"
   ]
  },
  {
   "cell_type": "code",
   "execution_count": 17,
   "metadata": {},
   "outputs": [],
   "source": [
    "tasting_notes=joblib.load('Wines/tasting_notes.pkl')\n",
    "\n",
    "records = []\n",
    "for t in tasting_notes:\n",
    "    d = {}\n",
    "    for k,v in t.items():\n",
    "        d['id']=k\n",
    "        d['notes']=list(\n",
    "            {x['note'].split(' mentions of')[-1].replace(' notes','').strip() for x in v})\n",
    "        d['tags']=list({x['tag'] for x in v})\n",
    "    records.append(d)"
   ]
  },
  {
   "cell_type": "code",
   "execution_count": 18,
   "metadata": {},
   "outputs": [],
   "source": [
    "nt_map = []\n",
    "count = 0 \n",
    "for t in tasting_notes:\n",
    "    d = {}\n",
    "    for k,value in t.items():\n",
    "        if k not in df['id'].to_list():\n",
    "            continue \n",
    "        for v in value:\n",
    "            d = {'id':k}\n",
    "            d['note'] = v['note'].split('mentions of')[-1].replace(' notes','').strip()\n",
    "            d['tag']=v['tag']\n",
    "            nt_map.append(d)"
   ]
  },
  {
   "cell_type": "code",
   "execution_count": 19,
   "metadata": {},
   "outputs": [
    {
     "data": {
      "application/vnd.plotly.v1+json": {
       "config": {
        "plotlyServerURL": "https://plot.ly"
       },
       "data": [
        {
         "branchvalues": "total",
         "domain": {
          "x": [
           0,
           1
          ],
          "y": [
           0,
           1
          ]
         },
         "hovertemplate": "labels=%{label}<br>count=%{value}<br>parent=%{parent}<br>id=%{id}<extra></extra>",
         "ids": [
          "spices/5-spice powder",
          "floral/acacia",
          "black fruit/acai berry",
          "oaky/allspice",
          "ageing/almond",
          "spices/anise",
          "spices/aniseed",
          "tree fruit/apple",
          "floral/apple blossom",
          "tree fruit/apricot",
          "tree fruit/apricot jam",
          "vegetal/arugula",
          "earthy/ash",
          "tree fruit/asian pear",
          "vegetal/asparagus",
          "earthy/bacon fat",
          "tree fruit/baked apple",
          "oaky/baking chocolate",
          "oaky/baking spice",
          "earthy/balsamic",
          "microbio/banana",
          "spices/bay leaf",
          "earthy/beeswax",
          "vegetal/bell pepper",
          "spices/bergamot",
          "black fruit/berry jam",
          "black fruit/berry sauce",
          "black fruit/bilberry",
          "red fruit/bing cherry",
          "ageing/biscuit",
          "vegetal/bitter almond",
          "black fruit/black cherry",
          "black fruit/black fruit",
          "spices/black licorice",
          "black fruit/black olive",
          "black fruit/black plum",
          "dried fruit/black raisin",
          "black fruit/black raspberry",
          "earthy/black truffle",
          "ageing/black walnut",
          "black fruit/blackberry",
          "black fruit/blackberry jam",
          "black fruit/blackcurrant",
          "black fruit/blackcurrant jam",
          "citrus/blood orange",
          "black fruit/blueberry",
          "black fruit/boysenberry",
          "black fruit/bramble",
          "microbio/bread yeast",
          "ageing/brioche",
          "ageing/brown sugar",
          "tree fruit/bruised apple",
          "tropical/bubblegum",
          "ageing/burnt sugar",
          "oaky/butter",
          "oaky/buttered popcorn",
          "oaky/butterscotch",
          "microbio/campfire",
          "spices/candied ginger",
          "tree fruit/cantaloupe",
          "oaky/caramel",
          "black fruit/cassis",
          "vegetal/cat's pee",
          "oaky/cedar",
          "vegetal/celery",
          "earthy/chalk",
          "floral/chamomile",
          "earthy/charcoal",
          "vegetal/chard",
          "microbio/cheese",
          "microbio/cheesy",
          "red fruit/cherry",
          "red fruit/cherry cola",
          "red fruit/cherry cough syrup",
          "red fruit/cherry syrup",
          "ageing/chestnut",
          "earthy/chewing tobacco",
          "spices/chili pepper",
          "oaky/chocolate",
          "earthy/chutney",
          "oaky/cigar",
          "oaky/cigar box",
          "spices/cinnamon",
          "citrus/citrus",
          "floral/citrus blossom",
          "earthy/citrus oil",
          "citrus/citrus zest",
          "earthy/clay pot",
          "oaky/clove",
          "earthy/cocoa",
          "oaky/coconut",
          "oaky/coffee",
          "oaky/cola",
          "spices/coriander",
          "red fruit/cotton candy",
          "spices/cracked pepper",
          "red fruit/cranberry",
          "microbio/cream",
          "oaky/creme brulee",
          "microbio/creme fraiche",
          "earthy/crushed rocks",
          "microbio/curd",
          "earthy/cured meat",
          "floral/dandelion",
          "oaky/dark chocolate",
          "black fruit/dark fruit",
          "oaky/dill",
          "dried fruit/dragon fruit",
          "dried fruit/dried apricot",
          "dried fruit/dried blackberry",
          "dried fruit/dried blueberry",
          "dried fruit/dried cranberry",
          "ageing/dried fig",
          "floral/dried flowers",
          "dried fruit/dried fruit",
          "spices/dried herbs",
          "earthy/dried leaves",
          "dried fruit/dried mango",
          "floral/dried rose",
          "red fruit/dried strawberry",
          "earthy/earthy",
          "floral/elderflower",
          "oaky/espresso",
          "spices/eucalyptus",
          "earthy/exotic spice",
          "spices/fennel",
          "spices/fennel seed",
          "dried fruit/fig",
          "earthy/flint",
          "earthy/forest floor",
          "microbio/fresh bread",
          "tree fruit/fresh grapes",
          "red fruit/fresh strawberry",
          "vegetal/fresh-cut grass",
          "tropical/fruit cup",
          "red fruit/fruit punch",
          "red fruit/fruit roll-up",
          "dried fruit/fruitcake",
          "oaky/fudge",
          "earthy/game",
          "floral/gardenia",
          "floral/geranium",
          "earthy/ginger",
          "spices/gingerbread",
          "oaky/gingersnap",
          "dried fruit/golden raisin",
          "vegetal/gooseberry",
          "ageing/graham cracker",
          "black fruit/grape jam",
          "citrus/grapefruit",
          "citrus/grapefruit pith",
          "earthy/graphite",
          "vegetal/grass",
          "vegetal/green almond",
          "tree fruit/green apple",
          "vegetal/green bell pepper",
          "spices/green cardamom",
          "spices/green herbs",
          "tropical/green mango",
          "tree fruit/green melon",
          "tropical/green papaya",
          "tree fruit/green pear",
          "spices/green peppercorn",
          "tropical/green pineapple",
          "earthy/grilled meat",
          "tropical/grilled pineapple",
          "tropical/guava",
          "earthy/gun smoke",
          "vegetal/hay",
          "ageing/hazelnut",
          "floral/hibiscus",
          "oaky/hickory",
          "black fruit/hoisin",
          "earthy/honey",
          "earthy/honeycomb",
          "tree fruit/honeydew melon",
          "floral/honeysuckle",
          "oaky/incense",
          "earthy/iron",
          "tropical/jackfruit",
          "spices/jalapeno",
          "black fruit/jam",
          "floral/jasmine",
          "spices/juniper",
          "spices/juniper berry",
          "earthy/kerosene",
          "citrus/key lime",
          "tropical/kiwi",
          "microbio/lager",
          "earthy/lanolin",
          "floral/lavender",
          "earthy/leather",
          "citrus/lemon",
          "microbio/lemon curd",
          "spices/lemon grass",
          "citrus/lemon peel",
          "citrus/lemon pith",
          "citrus/lemon zest",
          "spices/licorice",
          "floral/lilac",
          "floral/lily",
          "citrus/lime",
          "citrus/lime peel",
          "citrus/lime zest",
          "tropical/lychee",
          "spices/mace",
          "citrus/mandarin orange",
          "tropical/mango",
          "ageing/maple syrup",
          "red fruit/maraschino cherry",
          "black fruit/marionberry",
          "citrus/marmalade",
          "ageing/marzipan",
          "spices/matcha",
          "tree fruit/melon",
          "tree fruit/melon rind",
          "spices/menthol",
          "citrus/meyer lemon",
          "oaky/milk chocolate",
          "earthy/minerals",
          "spices/mint",
          "tree fruit/mirabelle plum",
          "oaky/mocha",
          "ageing/molasses",
          "red fruit/morello cherry",
          "black fruit/mulberry",
          "earthy/mushroom",
          "spices/musk",
          "spices/mustard seed",
          "tree fruit/nectarine",
          "earthy/new leather",
          "oaky/nutmeg",
          "ageing/nutty",
          "oaky/oak",
          "microbio/oil",
          "citrus/orange",
          "floral/orange blossom",
          "citrus/orange peel",
          "citrus/orange rind",
          "citrus/orange zest",
          "spices/oregano",
          "tropical/papaya",
          "tropical/passion fruit",
          "oaky/pastry",
          "tree fruit/peach",
          "ageing/peanut",
          "ageing/peanut brittle",
          "ageing/peanut shell",
          "tree fruit/pear",
          "earthy/pencil lead",
          "earthy/pencil shavings",
          "floral/peony",
          "spices/pepper",
          "floral/perfume",
          "tree fruit/persimmon",
          "earthy/petrichor",
          "earthy/petroleum",
          "oaky/pie crust",
          "ageing/pine nut",
          "tropical/pineapple",
          "citrus/pink grapefruit",
          "tree fruit/pink lady apple",
          "oaky/pipe tobacco",
          "earthy/plastic",
          "black fruit/plum",
          "red fruit/pomegranate",
          "floral/potpourri",
          "earthy/potting soil",
          "citrus/preserved lemon",
          "dried fruit/prune",
          "tree fruit/quince",
          "dried fruit/quince paste",
          "earthy/quinine",
          "vegetal/radicchio",
          "dried fruit/raisin",
          "red fruit/raspberry",
          "vegetal/red beet",
          "red fruit/red cherry",
          "red fruit/red currant",
          "red fruit/red fruit",
          "spices/red licorice",
          "red fruit/red plum",
          "red fruit/red-berry jam",
          "vegetal/rhubarb",
          "black fruit/ripe blackberry",
          "red fruit/ripe strawberry",
          "ageing/roasted almond",
          "ageing/roasted hazelnut",
          "red fruit/roasted tomato",
          "floral/rose hip",
          "floral/rose petal",
          "floral/rose water",
          "spices/rosemary",
          "earthy/rubber",
          "spices/sage",
          "earthy/saline",
          "earthy/salt",
          "oaky/sandalwood",
          "spices/savory",
          "earthy/seashell",
          "earthy/slate",
          "earthy/smoke",
          "earthy/smoked meats",
          "red fruit/sour cherry",
          "red fruit/sour cherry pie",
          "black fruit/sour plum",
          "microbio/sourdough",
          "spices/star anise",
          "tropical/starfruit",
          "tree fruit/stewed apricot",
          "earthy/stone",
          "tree fruit/stone fruit",
          "vegetal/straw",
          "red fruit/strawberry",
          "microbio/sweaty",
          "microbio/sweaty saddle",
          "oaky/sweet tobacco",
          "citrus/tangerine",
          "earthy/tar",
          "spices/tarragon",
          "ageing/teriyaki",
          "spices/thyme",
          "ageing/toast",
          "ageing/toasted almond",
          "microbio/toasted bread",
          "oaky/tobacco",
          "earthy/tobacco leaf",
          "oaky/toffee",
          "vegetal/tomato",
          "vegetal/tomato leaf",
          "earthy/tree bark",
          "tropical/tropical",
          "earthy/truffle",
          "earthy/underbrush",
          "tree fruit/unripe peach",
          "tree fruit/unripe pear",
          "oaky/vanilla",
          "spices/vanilla bean",
          "floral/violet",
          "ageing/walnut",
          "red fruit/watermelon",
          "earthy/wax",
          "earthy/wet concrete",
          "earthy/wet gravel",
          "earthy/wet slate",
          "red fruit/white cherry",
          "tree fruit/white nectarine",
          "tree fruit/white peach",
          "spices/white pepper",
          "black fruit/wild blueberry",
          "red fruit/wild strawberry",
          "oaky/wood smoke",
          "microbio/yeast",
          "tree fruit/yellow apple",
          "tree fruit/yellow peach",
          "tree fruit/yellow plum",
          "dried fruit/yellow raisin",
          "spices/yerba mate",
          "microbio/yogurt",
          "ageing",
          "black fruit",
          "citrus",
          "dried fruit",
          "earthy",
          "floral",
          "microbio",
          "oaky",
          "red fruit",
          "spices",
          "tree fruit",
          "tropical",
          "vegetal"
         ],
         "labels": [
          "5-spice powder",
          "acacia",
          "acai berry",
          "allspice",
          "almond",
          "anise",
          "aniseed",
          "apple",
          "apple blossom",
          "apricot",
          "apricot jam",
          "arugula",
          "ash",
          "asian pear",
          "asparagus",
          "bacon fat",
          "baked apple",
          "baking chocolate",
          "baking spice",
          "balsamic",
          "banana",
          "bay leaf",
          "beeswax",
          "bell pepper",
          "bergamot",
          "berry jam",
          "berry sauce",
          "bilberry",
          "bing cherry",
          "biscuit",
          "bitter almond",
          "black cherry",
          "black fruit",
          "black licorice",
          "black olive",
          "black plum",
          "black raisin",
          "black raspberry",
          "black truffle",
          "black walnut",
          "blackberry",
          "blackberry jam",
          "blackcurrant",
          "blackcurrant jam",
          "blood orange",
          "blueberry",
          "boysenberry",
          "bramble",
          "bread yeast",
          "brioche",
          "brown sugar",
          "bruised apple",
          "bubblegum",
          "burnt sugar",
          "butter",
          "buttered popcorn",
          "butterscotch",
          "campfire",
          "candied ginger",
          "cantaloupe",
          "caramel",
          "cassis",
          "cat's pee",
          "cedar",
          "celery",
          "chalk",
          "chamomile",
          "charcoal",
          "chard",
          "cheese",
          "cheesy",
          "cherry",
          "cherry cola",
          "cherry cough syrup",
          "cherry syrup",
          "chestnut",
          "chewing tobacco",
          "chili pepper",
          "chocolate",
          "chutney",
          "cigar",
          "cigar box",
          "cinnamon",
          "citrus",
          "citrus blossom",
          "citrus oil",
          "citrus zest",
          "clay pot",
          "clove",
          "cocoa",
          "coconut",
          "coffee",
          "cola",
          "coriander",
          "cotton candy",
          "cracked pepper",
          "cranberry",
          "cream",
          "creme brulee",
          "creme fraiche",
          "crushed rocks",
          "curd",
          "cured meat",
          "dandelion",
          "dark chocolate",
          "dark fruit",
          "dill",
          "dragon fruit",
          "dried apricot",
          "dried blackberry",
          "dried blueberry",
          "dried cranberry",
          "dried fig",
          "dried flowers",
          "dried fruit",
          "dried herbs",
          "dried leaves",
          "dried mango",
          "dried rose",
          "dried strawberry",
          "earthy",
          "elderflower",
          "espresso",
          "eucalyptus",
          "exotic spice",
          "fennel",
          "fennel seed",
          "fig",
          "flint",
          "forest floor",
          "fresh bread",
          "fresh grapes",
          "fresh strawberry",
          "fresh-cut grass",
          "fruit cup",
          "fruit punch",
          "fruit roll-up",
          "fruitcake",
          "fudge",
          "game",
          "gardenia",
          "geranium",
          "ginger",
          "gingerbread",
          "gingersnap",
          "golden raisin",
          "gooseberry",
          "graham cracker",
          "grape jam",
          "grapefruit",
          "grapefruit pith",
          "graphite",
          "grass",
          "green almond",
          "green apple",
          "green bell pepper",
          "green cardamom",
          "green herbs",
          "green mango",
          "green melon",
          "green papaya",
          "green pear",
          "green peppercorn",
          "green pineapple",
          "grilled meat",
          "grilled pineapple",
          "guava",
          "gun smoke",
          "hay",
          "hazelnut",
          "hibiscus",
          "hickory",
          "hoisin",
          "honey",
          "honeycomb",
          "honeydew melon",
          "honeysuckle",
          "incense",
          "iron",
          "jackfruit",
          "jalapeno",
          "jam",
          "jasmine",
          "juniper",
          "juniper berry",
          "kerosene",
          "key lime",
          "kiwi",
          "lager",
          "lanolin",
          "lavender",
          "leather",
          "lemon",
          "lemon curd",
          "lemon grass",
          "lemon peel",
          "lemon pith",
          "lemon zest",
          "licorice",
          "lilac",
          "lily",
          "lime",
          "lime peel",
          "lime zest",
          "lychee",
          "mace",
          "mandarin orange",
          "mango",
          "maple syrup",
          "maraschino cherry",
          "marionberry",
          "marmalade",
          "marzipan",
          "matcha",
          "melon",
          "melon rind",
          "menthol",
          "meyer lemon",
          "milk chocolate",
          "minerals",
          "mint",
          "mirabelle plum",
          "mocha",
          "molasses",
          "morello cherry",
          "mulberry",
          "mushroom",
          "musk",
          "mustard seed",
          "nectarine",
          "new leather",
          "nutmeg",
          "nutty",
          "oak",
          "oil",
          "orange",
          "orange blossom",
          "orange peel",
          "orange rind",
          "orange zest",
          "oregano",
          "papaya",
          "passion fruit",
          "pastry",
          "peach",
          "peanut",
          "peanut brittle",
          "peanut shell",
          "pear",
          "pencil lead",
          "pencil shavings",
          "peony",
          "pepper",
          "perfume",
          "persimmon",
          "petrichor",
          "petroleum",
          "pie crust",
          "pine nut",
          "pineapple",
          "pink grapefruit",
          "pink lady apple",
          "pipe tobacco",
          "plastic",
          "plum",
          "pomegranate",
          "potpourri",
          "potting soil",
          "preserved lemon",
          "prune",
          "quince",
          "quince paste",
          "quinine",
          "radicchio",
          "raisin",
          "raspberry",
          "red beet",
          "red cherry",
          "red currant",
          "red fruit",
          "red licorice",
          "red plum",
          "red-berry jam",
          "rhubarb",
          "ripe blackberry",
          "ripe strawberry",
          "roasted almond",
          "roasted hazelnut",
          "roasted tomato",
          "rose hip",
          "rose petal",
          "rose water",
          "rosemary",
          "rubber",
          "sage",
          "saline",
          "salt",
          "sandalwood",
          "savory",
          "seashell",
          "slate",
          "smoke",
          "smoked meats",
          "sour cherry",
          "sour cherry pie",
          "sour plum",
          "sourdough",
          "star anise",
          "starfruit",
          "stewed apricot",
          "stone",
          "stone fruit",
          "straw",
          "strawberry",
          "sweaty",
          "sweaty saddle",
          "sweet tobacco",
          "tangerine",
          "tar",
          "tarragon",
          "teriyaki",
          "thyme",
          "toast",
          "toasted almond",
          "toasted bread",
          "tobacco",
          "tobacco leaf",
          "toffee",
          "tomato",
          "tomato leaf",
          "tree bark",
          "tropical",
          "truffle",
          "underbrush",
          "unripe peach",
          "unripe pear",
          "vanilla",
          "vanilla bean",
          "violet",
          "walnut",
          "watermelon",
          "wax",
          "wet concrete",
          "wet gravel",
          "wet slate",
          "white cherry",
          "white nectarine",
          "white peach",
          "white pepper",
          "wild blueberry",
          "wild strawberry",
          "wood smoke",
          "yeast",
          "yellow apple",
          "yellow peach",
          "yellow plum",
          "yellow raisin",
          "yerba mate",
          "yogurt",
          "ageing",
          "black fruit",
          "citrus",
          "dried fruit",
          "earthy",
          "floral",
          "microbio",
          "oaky",
          "red fruit",
          "spices",
          "tree fruit",
          "tropical",
          "vegetal"
         ],
         "name": "",
         "parents": [
          "spices",
          "floral",
          "black fruit",
          "oaky",
          "ageing",
          "spices",
          "spices",
          "tree fruit",
          "floral",
          "tree fruit",
          "tree fruit",
          "vegetal",
          "earthy",
          "tree fruit",
          "vegetal",
          "earthy",
          "tree fruit",
          "oaky",
          "oaky",
          "earthy",
          "microbio",
          "spices",
          "earthy",
          "vegetal",
          "spices",
          "black fruit",
          "black fruit",
          "black fruit",
          "red fruit",
          "ageing",
          "vegetal",
          "black fruit",
          "black fruit",
          "spices",
          "black fruit",
          "black fruit",
          "dried fruit",
          "black fruit",
          "earthy",
          "ageing",
          "black fruit",
          "black fruit",
          "black fruit",
          "black fruit",
          "citrus",
          "black fruit",
          "black fruit",
          "black fruit",
          "microbio",
          "ageing",
          "ageing",
          "tree fruit",
          "tropical",
          "ageing",
          "oaky",
          "oaky",
          "oaky",
          "microbio",
          "spices",
          "tree fruit",
          "oaky",
          "black fruit",
          "vegetal",
          "oaky",
          "vegetal",
          "earthy",
          "floral",
          "earthy",
          "vegetal",
          "microbio",
          "microbio",
          "red fruit",
          "red fruit",
          "red fruit",
          "red fruit",
          "ageing",
          "earthy",
          "spices",
          "oaky",
          "earthy",
          "oaky",
          "oaky",
          "spices",
          "citrus",
          "floral",
          "earthy",
          "citrus",
          "earthy",
          "oaky",
          "earthy",
          "oaky",
          "oaky",
          "oaky",
          "spices",
          "red fruit",
          "spices",
          "red fruit",
          "microbio",
          "oaky",
          "microbio",
          "earthy",
          "microbio",
          "earthy",
          "floral",
          "oaky",
          "black fruit",
          "oaky",
          "dried fruit",
          "dried fruit",
          "dried fruit",
          "dried fruit",
          "dried fruit",
          "ageing",
          "floral",
          "dried fruit",
          "spices",
          "earthy",
          "dried fruit",
          "floral",
          "red fruit",
          "earthy",
          "floral",
          "oaky",
          "spices",
          "earthy",
          "spices",
          "spices",
          "dried fruit",
          "earthy",
          "earthy",
          "microbio",
          "tree fruit",
          "red fruit",
          "vegetal",
          "tropical",
          "red fruit",
          "red fruit",
          "dried fruit",
          "oaky",
          "earthy",
          "floral",
          "floral",
          "earthy",
          "spices",
          "oaky",
          "dried fruit",
          "vegetal",
          "ageing",
          "black fruit",
          "citrus",
          "citrus",
          "earthy",
          "vegetal",
          "vegetal",
          "tree fruit",
          "vegetal",
          "spices",
          "spices",
          "tropical",
          "tree fruit",
          "tropical",
          "tree fruit",
          "spices",
          "tropical",
          "earthy",
          "tropical",
          "tropical",
          "earthy",
          "vegetal",
          "ageing",
          "floral",
          "oaky",
          "black fruit",
          "earthy",
          "earthy",
          "tree fruit",
          "floral",
          "oaky",
          "earthy",
          "tropical",
          "spices",
          "black fruit",
          "floral",
          "spices",
          "spices",
          "earthy",
          "citrus",
          "tropical",
          "microbio",
          "earthy",
          "floral",
          "earthy",
          "citrus",
          "microbio",
          "spices",
          "citrus",
          "citrus",
          "citrus",
          "spices",
          "floral",
          "floral",
          "citrus",
          "citrus",
          "citrus",
          "tropical",
          "spices",
          "citrus",
          "tropical",
          "ageing",
          "red fruit",
          "black fruit",
          "citrus",
          "ageing",
          "spices",
          "tree fruit",
          "tree fruit",
          "spices",
          "citrus",
          "oaky",
          "earthy",
          "spices",
          "tree fruit",
          "oaky",
          "ageing",
          "red fruit",
          "black fruit",
          "earthy",
          "spices",
          "spices",
          "tree fruit",
          "earthy",
          "oaky",
          "ageing",
          "oaky",
          "microbio",
          "citrus",
          "floral",
          "citrus",
          "citrus",
          "citrus",
          "spices",
          "tropical",
          "tropical",
          "oaky",
          "tree fruit",
          "ageing",
          "ageing",
          "ageing",
          "tree fruit",
          "earthy",
          "earthy",
          "floral",
          "spices",
          "floral",
          "tree fruit",
          "earthy",
          "earthy",
          "oaky",
          "ageing",
          "tropical",
          "citrus",
          "tree fruit",
          "oaky",
          "earthy",
          "black fruit",
          "red fruit",
          "floral",
          "earthy",
          "citrus",
          "dried fruit",
          "tree fruit",
          "dried fruit",
          "earthy",
          "vegetal",
          "dried fruit",
          "red fruit",
          "vegetal",
          "red fruit",
          "red fruit",
          "red fruit",
          "spices",
          "red fruit",
          "red fruit",
          "vegetal",
          "black fruit",
          "red fruit",
          "ageing",
          "ageing",
          "red fruit",
          "floral",
          "floral",
          "floral",
          "spices",
          "earthy",
          "spices",
          "earthy",
          "earthy",
          "oaky",
          "spices",
          "earthy",
          "earthy",
          "earthy",
          "earthy",
          "red fruit",
          "red fruit",
          "black fruit",
          "microbio",
          "spices",
          "tropical",
          "tree fruit",
          "earthy",
          "tree fruit",
          "vegetal",
          "red fruit",
          "microbio",
          "microbio",
          "oaky",
          "citrus",
          "earthy",
          "spices",
          "ageing",
          "spices",
          "ageing",
          "ageing",
          "microbio",
          "oaky",
          "earthy",
          "oaky",
          "vegetal",
          "vegetal",
          "earthy",
          "tropical",
          "earthy",
          "earthy",
          "tree fruit",
          "tree fruit",
          "oaky",
          "spices",
          "floral",
          "ageing",
          "red fruit",
          "earthy",
          "earthy",
          "earthy",
          "earthy",
          "red fruit",
          "tree fruit",
          "tree fruit",
          "spices",
          "black fruit",
          "red fruit",
          "oaky",
          "microbio",
          "tree fruit",
          "tree fruit",
          "tree fruit",
          "dried fruit",
          "spices",
          "microbio",
          "",
          "",
          "",
          "",
          "",
          "",
          "",
          "",
          "",
          "",
          "",
          "",
          ""
         ],
         "type": "sunburst",
         "values": [
          1,
          6,
          1,
          4,
          30,
          16,
          5,
          57,
          7,
          39,
          4,
          1,
          4,
          7,
          13,
          3,
          7,
          2,
          13,
          16,
          22,
          3,
          4,
          8,
          4,
          2,
          1,
          3,
          5,
          10,
          7,
          27,
          22,
          7,
          5,
          4,
          2,
          4,
          3,
          1,
          36,
          5,
          27,
          1,
          8,
          22,
          6,
          11,
          4,
          11,
          4,
          4,
          3,
          1,
          41,
          3,
          11,
          5,
          1,
          10,
          27,
          16,
          4,
          24,
          5,
          24,
          7,
          4,
          16,
          55,
          1,
          47,
          4,
          1,
          3,
          6,
          2,
          1,
          30,
          1,
          11,
          7,
          27,
          70,
          4,
          2,
          10,
          1,
          26,
          12,
          13,
          25,
          4,
          2,
          3,
          1,
          26,
          50,
          2,
          1,
          1,
          2,
          1,
          3,
          14,
          26,
          9,
          2,
          14,
          1,
          2,
          4,
          3,
          5,
          15,
          6,
          3,
          1,
          7,
          4,
          57,
          12,
          7,
          13,
          3,
          15,
          1,
          14,
          20,
          16,
          3,
          1,
          4,
          4,
          1,
          1,
          1,
          2,
          1,
          11,
          1,
          2,
          16,
          1,
          1,
          1,
          16,
          2,
          2,
          38,
          4,
          9,
          34,
          2,
          52,
          3,
          1,
          5,
          3,
          7,
          3,
          9,
          1,
          4,
          6,
          3,
          11,
          1,
          19,
          12,
          5,
          2,
          1,
          41,
          4,
          11,
          23,
          2,
          10,
          1,
          5,
          22,
          14,
          5,
          1,
          1,
          6,
          15,
          1,
          2,
          14,
          42,
          56,
          12,
          7,
          16,
          6,
          21,
          27,
          5,
          5,
          41,
          5,
          17,
          17,
          2,
          3,
          16,
          2,
          3,
          1,
          7,
          10,
          1,
          35,
          1,
          14,
          11,
          7,
          73,
          24,
          1,
          7,
          3,
          2,
          9,
          26,
          9,
          1,
          23,
          1,
          16,
          22,
          69,
          25,
          34,
          9,
          16,
          7,
          9,
          6,
          6,
          19,
          6,
          43,
          2,
          1,
          1,
          51,
          3,
          2,
          2,
          45,
          19,
          1,
          1,
          11,
          4,
          1,
          37,
          10,
          2,
          5,
          5,
          43,
          19,
          8,
          1,
          1,
          21,
          16,
          1,
          1,
          2,
          20,
          44,
          1,
          18,
          16,
          39,
          5,
          13,
          1,
          11,
          3,
          5,
          2,
          2,
          1,
          3,
          12,
          4,
          13,
          3,
          13,
          22,
          20,
          5,
          26,
          4,
          18,
          46,
          1,
          14,
          1,
          3,
          7,
          5,
          5,
          1,
          50,
          34,
          35,
          43,
          2,
          1,
          3,
          16,
          13,
          5,
          3,
          19,
          24,
          2,
          7,
          29,
          4,
          9,
          25,
          3,
          1,
          36,
          12,
          3,
          4,
          1,
          59,
          3,
          23,
          9,
          8,
          7,
          2,
          1,
          8,
          3,
          3,
          17,
          31,
          1,
          7,
          1,
          18,
          20,
          2,
          6,
          1,
          1,
          4,
          164,
          304,
          412,
          101,
          659,
          200,
          220,
          499,
          336,
          379,
          469,
          180,
          209
         ]
        }
       ],
       "layout": {
        "legend": {
         "tracegroupgap": 0
        },
        "margin": {
         "t": 60
        },
        "template": {
         "data": {
          "bar": [
           {
            "error_x": {
             "color": "#2a3f5f"
            },
            "error_y": {
             "color": "#2a3f5f"
            },
            "marker": {
             "line": {
              "color": "#E5ECF6",
              "width": 0.5
             }
            },
            "type": "bar"
           }
          ],
          "barpolar": [
           {
            "marker": {
             "line": {
              "color": "#E5ECF6",
              "width": 0.5
             }
            },
            "type": "barpolar"
           }
          ],
          "carpet": [
           {
            "aaxis": {
             "endlinecolor": "#2a3f5f",
             "gridcolor": "white",
             "linecolor": "white",
             "minorgridcolor": "white",
             "startlinecolor": "#2a3f5f"
            },
            "baxis": {
             "endlinecolor": "#2a3f5f",
             "gridcolor": "white",
             "linecolor": "white",
             "minorgridcolor": "white",
             "startlinecolor": "#2a3f5f"
            },
            "type": "carpet"
           }
          ],
          "choropleth": [
           {
            "colorbar": {
             "outlinewidth": 0,
             "ticks": ""
            },
            "type": "choropleth"
           }
          ],
          "contour": [
           {
            "colorbar": {
             "outlinewidth": 0,
             "ticks": ""
            },
            "colorscale": [
             [
              0,
              "#0d0887"
             ],
             [
              0.1111111111111111,
              "#46039f"
             ],
             [
              0.2222222222222222,
              "#7201a8"
             ],
             [
              0.3333333333333333,
              "#9c179e"
             ],
             [
              0.4444444444444444,
              "#bd3786"
             ],
             [
              0.5555555555555556,
              "#d8576b"
             ],
             [
              0.6666666666666666,
              "#ed7953"
             ],
             [
              0.7777777777777778,
              "#fb9f3a"
             ],
             [
              0.8888888888888888,
              "#fdca26"
             ],
             [
              1,
              "#f0f921"
             ]
            ],
            "type": "contour"
           }
          ],
          "contourcarpet": [
           {
            "colorbar": {
             "outlinewidth": 0,
             "ticks": ""
            },
            "type": "contourcarpet"
           }
          ],
          "heatmap": [
           {
            "colorbar": {
             "outlinewidth": 0,
             "ticks": ""
            },
            "colorscale": [
             [
              0,
              "#0d0887"
             ],
             [
              0.1111111111111111,
              "#46039f"
             ],
             [
              0.2222222222222222,
              "#7201a8"
             ],
             [
              0.3333333333333333,
              "#9c179e"
             ],
             [
              0.4444444444444444,
              "#bd3786"
             ],
             [
              0.5555555555555556,
              "#d8576b"
             ],
             [
              0.6666666666666666,
              "#ed7953"
             ],
             [
              0.7777777777777778,
              "#fb9f3a"
             ],
             [
              0.8888888888888888,
              "#fdca26"
             ],
             [
              1,
              "#f0f921"
             ]
            ],
            "type": "heatmap"
           }
          ],
          "heatmapgl": [
           {
            "colorbar": {
             "outlinewidth": 0,
             "ticks": ""
            },
            "colorscale": [
             [
              0,
              "#0d0887"
             ],
             [
              0.1111111111111111,
              "#46039f"
             ],
             [
              0.2222222222222222,
              "#7201a8"
             ],
             [
              0.3333333333333333,
              "#9c179e"
             ],
             [
              0.4444444444444444,
              "#bd3786"
             ],
             [
              0.5555555555555556,
              "#d8576b"
             ],
             [
              0.6666666666666666,
              "#ed7953"
             ],
             [
              0.7777777777777778,
              "#fb9f3a"
             ],
             [
              0.8888888888888888,
              "#fdca26"
             ],
             [
              1,
              "#f0f921"
             ]
            ],
            "type": "heatmapgl"
           }
          ],
          "histogram": [
           {
            "marker": {
             "colorbar": {
              "outlinewidth": 0,
              "ticks": ""
             }
            },
            "type": "histogram"
           }
          ],
          "histogram2d": [
           {
            "colorbar": {
             "outlinewidth": 0,
             "ticks": ""
            },
            "colorscale": [
             [
              0,
              "#0d0887"
             ],
             [
              0.1111111111111111,
              "#46039f"
             ],
             [
              0.2222222222222222,
              "#7201a8"
             ],
             [
              0.3333333333333333,
              "#9c179e"
             ],
             [
              0.4444444444444444,
              "#bd3786"
             ],
             [
              0.5555555555555556,
              "#d8576b"
             ],
             [
              0.6666666666666666,
              "#ed7953"
             ],
             [
              0.7777777777777778,
              "#fb9f3a"
             ],
             [
              0.8888888888888888,
              "#fdca26"
             ],
             [
              1,
              "#f0f921"
             ]
            ],
            "type": "histogram2d"
           }
          ],
          "histogram2dcontour": [
           {
            "colorbar": {
             "outlinewidth": 0,
             "ticks": ""
            },
            "colorscale": [
             [
              0,
              "#0d0887"
             ],
             [
              0.1111111111111111,
              "#46039f"
             ],
             [
              0.2222222222222222,
              "#7201a8"
             ],
             [
              0.3333333333333333,
              "#9c179e"
             ],
             [
              0.4444444444444444,
              "#bd3786"
             ],
             [
              0.5555555555555556,
              "#d8576b"
             ],
             [
              0.6666666666666666,
              "#ed7953"
             ],
             [
              0.7777777777777778,
              "#fb9f3a"
             ],
             [
              0.8888888888888888,
              "#fdca26"
             ],
             [
              1,
              "#f0f921"
             ]
            ],
            "type": "histogram2dcontour"
           }
          ],
          "mesh3d": [
           {
            "colorbar": {
             "outlinewidth": 0,
             "ticks": ""
            },
            "type": "mesh3d"
           }
          ],
          "parcoords": [
           {
            "line": {
             "colorbar": {
              "outlinewidth": 0,
              "ticks": ""
             }
            },
            "type": "parcoords"
           }
          ],
          "pie": [
           {
            "automargin": true,
            "type": "pie"
           }
          ],
          "scatter": [
           {
            "marker": {
             "colorbar": {
              "outlinewidth": 0,
              "ticks": ""
             }
            },
            "type": "scatter"
           }
          ],
          "scatter3d": [
           {
            "line": {
             "colorbar": {
              "outlinewidth": 0,
              "ticks": ""
             }
            },
            "marker": {
             "colorbar": {
              "outlinewidth": 0,
              "ticks": ""
             }
            },
            "type": "scatter3d"
           }
          ],
          "scattercarpet": [
           {
            "marker": {
             "colorbar": {
              "outlinewidth": 0,
              "ticks": ""
             }
            },
            "type": "scattercarpet"
           }
          ],
          "scattergeo": [
           {
            "marker": {
             "colorbar": {
              "outlinewidth": 0,
              "ticks": ""
             }
            },
            "type": "scattergeo"
           }
          ],
          "scattergl": [
           {
            "marker": {
             "colorbar": {
              "outlinewidth": 0,
              "ticks": ""
             }
            },
            "type": "scattergl"
           }
          ],
          "scattermapbox": [
           {
            "marker": {
             "colorbar": {
              "outlinewidth": 0,
              "ticks": ""
             }
            },
            "type": "scattermapbox"
           }
          ],
          "scatterpolar": [
           {
            "marker": {
             "colorbar": {
              "outlinewidth": 0,
              "ticks": ""
             }
            },
            "type": "scatterpolar"
           }
          ],
          "scatterpolargl": [
           {
            "marker": {
             "colorbar": {
              "outlinewidth": 0,
              "ticks": ""
             }
            },
            "type": "scatterpolargl"
           }
          ],
          "scatterternary": [
           {
            "marker": {
             "colorbar": {
              "outlinewidth": 0,
              "ticks": ""
             }
            },
            "type": "scatterternary"
           }
          ],
          "surface": [
           {
            "colorbar": {
             "outlinewidth": 0,
             "ticks": ""
            },
            "colorscale": [
             [
              0,
              "#0d0887"
             ],
             [
              0.1111111111111111,
              "#46039f"
             ],
             [
              0.2222222222222222,
              "#7201a8"
             ],
             [
              0.3333333333333333,
              "#9c179e"
             ],
             [
              0.4444444444444444,
              "#bd3786"
             ],
             [
              0.5555555555555556,
              "#d8576b"
             ],
             [
              0.6666666666666666,
              "#ed7953"
             ],
             [
              0.7777777777777778,
              "#fb9f3a"
             ],
             [
              0.8888888888888888,
              "#fdca26"
             ],
             [
              1,
              "#f0f921"
             ]
            ],
            "type": "surface"
           }
          ],
          "table": [
           {
            "cells": {
             "fill": {
              "color": "#EBF0F8"
             },
             "line": {
              "color": "white"
             }
            },
            "header": {
             "fill": {
              "color": "#C8D4E3"
             },
             "line": {
              "color": "white"
             }
            },
            "type": "table"
           }
          ]
         },
         "layout": {
          "annotationdefaults": {
           "arrowcolor": "#2a3f5f",
           "arrowhead": 0,
           "arrowwidth": 1
          },
          "coloraxis": {
           "colorbar": {
            "outlinewidth": 0,
            "ticks": ""
           }
          },
          "colorscale": {
           "diverging": [
            [
             0,
             "#8e0152"
            ],
            [
             0.1,
             "#c51b7d"
            ],
            [
             0.2,
             "#de77ae"
            ],
            [
             0.3,
             "#f1b6da"
            ],
            [
             0.4,
             "#fde0ef"
            ],
            [
             0.5,
             "#f7f7f7"
            ],
            [
             0.6,
             "#e6f5d0"
            ],
            [
             0.7,
             "#b8e186"
            ],
            [
             0.8,
             "#7fbc41"
            ],
            [
             0.9,
             "#4d9221"
            ],
            [
             1,
             "#276419"
            ]
           ],
           "sequential": [
            [
             0,
             "#0d0887"
            ],
            [
             0.1111111111111111,
             "#46039f"
            ],
            [
             0.2222222222222222,
             "#7201a8"
            ],
            [
             0.3333333333333333,
             "#9c179e"
            ],
            [
             0.4444444444444444,
             "#bd3786"
            ],
            [
             0.5555555555555556,
             "#d8576b"
            ],
            [
             0.6666666666666666,
             "#ed7953"
            ],
            [
             0.7777777777777778,
             "#fb9f3a"
            ],
            [
             0.8888888888888888,
             "#fdca26"
            ],
            [
             1,
             "#f0f921"
            ]
           ],
           "sequentialminus": [
            [
             0,
             "#0d0887"
            ],
            [
             0.1111111111111111,
             "#46039f"
            ],
            [
             0.2222222222222222,
             "#7201a8"
            ],
            [
             0.3333333333333333,
             "#9c179e"
            ],
            [
             0.4444444444444444,
             "#bd3786"
            ],
            [
             0.5555555555555556,
             "#d8576b"
            ],
            [
             0.6666666666666666,
             "#ed7953"
            ],
            [
             0.7777777777777778,
             "#fb9f3a"
            ],
            [
             0.8888888888888888,
             "#fdca26"
            ],
            [
             1,
             "#f0f921"
            ]
           ]
          },
          "colorway": [
           "#636efa",
           "#EF553B",
           "#00cc96",
           "#ab63fa",
           "#FFA15A",
           "#19d3f3",
           "#FF6692",
           "#B6E880",
           "#FF97FF",
           "#FECB52"
          ],
          "font": {
           "color": "#2a3f5f"
          },
          "geo": {
           "bgcolor": "white",
           "lakecolor": "white",
           "landcolor": "#E5ECF6",
           "showlakes": true,
           "showland": true,
           "subunitcolor": "white"
          },
          "hoverlabel": {
           "align": "left"
          },
          "hovermode": "closest",
          "mapbox": {
           "style": "light"
          },
          "paper_bgcolor": "white",
          "plot_bgcolor": "#E5ECF6",
          "polar": {
           "angularaxis": {
            "gridcolor": "white",
            "linecolor": "white",
            "ticks": ""
           },
           "bgcolor": "#E5ECF6",
           "radialaxis": {
            "gridcolor": "white",
            "linecolor": "white",
            "ticks": ""
           }
          },
          "scene": {
           "xaxis": {
            "backgroundcolor": "#E5ECF6",
            "gridcolor": "white",
            "gridwidth": 2,
            "linecolor": "white",
            "showbackground": true,
            "ticks": "",
            "zerolinecolor": "white"
           },
           "yaxis": {
            "backgroundcolor": "#E5ECF6",
            "gridcolor": "white",
            "gridwidth": 2,
            "linecolor": "white",
            "showbackground": true,
            "ticks": "",
            "zerolinecolor": "white"
           },
           "zaxis": {
            "backgroundcolor": "#E5ECF6",
            "gridcolor": "white",
            "gridwidth": 2,
            "linecolor": "white",
            "showbackground": true,
            "ticks": "",
            "zerolinecolor": "white"
           }
          },
          "shapedefaults": {
           "line": {
            "color": "#2a3f5f"
           }
          },
          "ternary": {
           "aaxis": {
            "gridcolor": "white",
            "linecolor": "white",
            "ticks": ""
           },
           "baxis": {
            "gridcolor": "white",
            "linecolor": "white",
            "ticks": ""
           },
           "bgcolor": "#E5ECF6",
           "caxis": {
            "gridcolor": "white",
            "linecolor": "white",
            "ticks": ""
           }
          },
          "title": {
           "x": 0.05
          },
          "xaxis": {
           "automargin": true,
           "gridcolor": "white",
           "linecolor": "white",
           "ticks": "",
           "title": {
            "standoff": 15
           },
           "zerolinecolor": "white",
           "zerolinewidth": 2
          },
          "yaxis": {
           "automargin": true,
           "gridcolor": "white",
           "linecolor": "white",
           "ticks": "",
           "title": {
            "standoff": 15
           },
           "zerolinecolor": "white",
           "zerolinewidth": 2
          }
         }
        }
       }
      },
      "text/html": [
       "<div>\n",
       "        \n",
       "        \n",
       "            <div id=\"c780d77f-b6fb-4a6b-aee2-ea204b3e8573\" class=\"plotly-graph-div\" style=\"height:525px; width:100%;\"></div>\n",
       "            <script type=\"text/javascript\">\n",
       "                require([\"plotly\"], function(Plotly) {\n",
       "                    window.PLOTLYENV=window.PLOTLYENV || {};\n",
       "                    \n",
       "                if (document.getElementById(\"c780d77f-b6fb-4a6b-aee2-ea204b3e8573\")) {\n",
       "                    Plotly.newPlot(\n",
       "                        'c780d77f-b6fb-4a6b-aee2-ea204b3e8573',\n",
       "                        [{\"branchvalues\": \"total\", \"domain\": {\"x\": [0.0, 1.0], \"y\": [0.0, 1.0]}, \"hovertemplate\": \"labels=%{label}<br>count=%{value}<br>parent=%{parent}<br>id=%{id}<extra></extra>\", \"ids\": [\"spices/5-spice powder\", \"floral/acacia\", \"black fruit/acai berry\", \"oaky/allspice\", \"ageing/almond\", \"spices/anise\", \"spices/aniseed\", \"tree fruit/apple\", \"floral/apple blossom\", \"tree fruit/apricot\", \"tree fruit/apricot jam\", \"vegetal/arugula\", \"earthy/ash\", \"tree fruit/asian pear\", \"vegetal/asparagus\", \"earthy/bacon fat\", \"tree fruit/baked apple\", \"oaky/baking chocolate\", \"oaky/baking spice\", \"earthy/balsamic\", \"microbio/banana\", \"spices/bay leaf\", \"earthy/beeswax\", \"vegetal/bell pepper\", \"spices/bergamot\", \"black fruit/berry jam\", \"black fruit/berry sauce\", \"black fruit/bilberry\", \"red fruit/bing cherry\", \"ageing/biscuit\", \"vegetal/bitter almond\", \"black fruit/black cherry\", \"black fruit/black fruit\", \"spices/black licorice\", \"black fruit/black olive\", \"black fruit/black plum\", \"dried fruit/black raisin\", \"black fruit/black raspberry\", \"earthy/black truffle\", \"ageing/black walnut\", \"black fruit/blackberry\", \"black fruit/blackberry jam\", \"black fruit/blackcurrant\", \"black fruit/blackcurrant jam\", \"citrus/blood orange\", \"black fruit/blueberry\", \"black fruit/boysenberry\", \"black fruit/bramble\", \"microbio/bread yeast\", \"ageing/brioche\", \"ageing/brown sugar\", \"tree fruit/bruised apple\", \"tropical/bubblegum\", \"ageing/burnt sugar\", \"oaky/butter\", \"oaky/buttered popcorn\", \"oaky/butterscotch\", \"microbio/campfire\", \"spices/candied ginger\", \"tree fruit/cantaloupe\", \"oaky/caramel\", \"black fruit/cassis\", \"vegetal/cat's pee\", \"oaky/cedar\", \"vegetal/celery\", \"earthy/chalk\", \"floral/chamomile\", \"earthy/charcoal\", \"vegetal/chard\", \"microbio/cheese\", \"microbio/cheesy\", \"red fruit/cherry\", \"red fruit/cherry cola\", \"red fruit/cherry cough syrup\", \"red fruit/cherry syrup\", \"ageing/chestnut\", \"earthy/chewing tobacco\", \"spices/chili pepper\", \"oaky/chocolate\", \"earthy/chutney\", \"oaky/cigar\", \"oaky/cigar box\", \"spices/cinnamon\", \"citrus/citrus\", \"floral/citrus blossom\", \"earthy/citrus oil\", \"citrus/citrus zest\", \"earthy/clay pot\", \"oaky/clove\", \"earthy/cocoa\", \"oaky/coconut\", \"oaky/coffee\", \"oaky/cola\", \"spices/coriander\", \"red fruit/cotton candy\", \"spices/cracked pepper\", \"red fruit/cranberry\", \"microbio/cream\", \"oaky/creme brulee\", \"microbio/creme fraiche\", \"earthy/crushed rocks\", \"microbio/curd\", \"earthy/cured meat\", \"floral/dandelion\", \"oaky/dark chocolate\", \"black fruit/dark fruit\", \"oaky/dill\", \"dried fruit/dragon fruit\", \"dried fruit/dried apricot\", \"dried fruit/dried blackberry\", \"dried fruit/dried blueberry\", \"dried fruit/dried cranberry\", \"ageing/dried fig\", \"floral/dried flowers\", \"dried fruit/dried fruit\", \"spices/dried herbs\", \"earthy/dried leaves\", \"dried fruit/dried mango\", \"floral/dried rose\", \"red fruit/dried strawberry\", \"earthy/earthy\", \"floral/elderflower\", \"oaky/espresso\", \"spices/eucalyptus\", \"earthy/exotic spice\", \"spices/fennel\", \"spices/fennel seed\", \"dried fruit/fig\", \"earthy/flint\", \"earthy/forest floor\", \"microbio/fresh bread\", \"tree fruit/fresh grapes\", \"red fruit/fresh strawberry\", \"vegetal/fresh-cut grass\", \"tropical/fruit cup\", \"red fruit/fruit punch\", \"red fruit/fruit roll-up\", \"dried fruit/fruitcake\", \"oaky/fudge\", \"earthy/game\", \"floral/gardenia\", \"floral/geranium\", \"earthy/ginger\", \"spices/gingerbread\", \"oaky/gingersnap\", \"dried fruit/golden raisin\", \"vegetal/gooseberry\", \"ageing/graham cracker\", \"black fruit/grape jam\", \"citrus/grapefruit\", \"citrus/grapefruit pith\", \"earthy/graphite\", \"vegetal/grass\", \"vegetal/green almond\", \"tree fruit/green apple\", \"vegetal/green bell pepper\", \"spices/green cardamom\", \"spices/green herbs\", \"tropical/green mango\", \"tree fruit/green melon\", \"tropical/green papaya\", \"tree fruit/green pear\", \"spices/green peppercorn\", \"tropical/green pineapple\", \"earthy/grilled meat\", \"tropical/grilled pineapple\", \"tropical/guava\", \"earthy/gun smoke\", \"vegetal/hay\", \"ageing/hazelnut\", \"floral/hibiscus\", \"oaky/hickory\", \"black fruit/hoisin\", \"earthy/honey\", \"earthy/honeycomb\", \"tree fruit/honeydew melon\", \"floral/honeysuckle\", \"oaky/incense\", \"earthy/iron\", \"tropical/jackfruit\", \"spices/jalapeno\", \"black fruit/jam\", \"floral/jasmine\", \"spices/juniper\", \"spices/juniper berry\", \"earthy/kerosene\", \"citrus/key lime\", \"tropical/kiwi\", \"microbio/lager\", \"earthy/lanolin\", \"floral/lavender\", \"earthy/leather\", \"citrus/lemon\", \"microbio/lemon curd\", \"spices/lemon grass\", \"citrus/lemon peel\", \"citrus/lemon pith\", \"citrus/lemon zest\", \"spices/licorice\", \"floral/lilac\", \"floral/lily\", \"citrus/lime\", \"citrus/lime peel\", \"citrus/lime zest\", \"tropical/lychee\", \"spices/mace\", \"citrus/mandarin orange\", \"tropical/mango\", \"ageing/maple syrup\", \"red fruit/maraschino cherry\", \"black fruit/marionberry\", \"citrus/marmalade\", \"ageing/marzipan\", \"spices/matcha\", \"tree fruit/melon\", \"tree fruit/melon rind\", \"spices/menthol\", \"citrus/meyer lemon\", \"oaky/milk chocolate\", \"earthy/minerals\", \"spices/mint\", \"tree fruit/mirabelle plum\", \"oaky/mocha\", \"ageing/molasses\", \"red fruit/morello cherry\", \"black fruit/mulberry\", \"earthy/mushroom\", \"spices/musk\", \"spices/mustard seed\", \"tree fruit/nectarine\", \"earthy/new leather\", \"oaky/nutmeg\", \"ageing/nutty\", \"oaky/oak\", \"microbio/oil\", \"citrus/orange\", \"floral/orange blossom\", \"citrus/orange peel\", \"citrus/orange rind\", \"citrus/orange zest\", \"spices/oregano\", \"tropical/papaya\", \"tropical/passion fruit\", \"oaky/pastry\", \"tree fruit/peach\", \"ageing/peanut\", \"ageing/peanut brittle\", \"ageing/peanut shell\", \"tree fruit/pear\", \"earthy/pencil lead\", \"earthy/pencil shavings\", \"floral/peony\", \"spices/pepper\", \"floral/perfume\", \"tree fruit/persimmon\", \"earthy/petrichor\", \"earthy/petroleum\", \"oaky/pie crust\", \"ageing/pine nut\", \"tropical/pineapple\", \"citrus/pink grapefruit\", \"tree fruit/pink lady apple\", \"oaky/pipe tobacco\", \"earthy/plastic\", \"black fruit/plum\", \"red fruit/pomegranate\", \"floral/potpourri\", \"earthy/potting soil\", \"citrus/preserved lemon\", \"dried fruit/prune\", \"tree fruit/quince\", \"dried fruit/quince paste\", \"earthy/quinine\", \"vegetal/radicchio\", \"dried fruit/raisin\", \"red fruit/raspberry\", \"vegetal/red beet\", \"red fruit/red cherry\", \"red fruit/red currant\", \"red fruit/red fruit\", \"spices/red licorice\", \"red fruit/red plum\", \"red fruit/red-berry jam\", \"vegetal/rhubarb\", \"black fruit/ripe blackberry\", \"red fruit/ripe strawberry\", \"ageing/roasted almond\", \"ageing/roasted hazelnut\", \"red fruit/roasted tomato\", \"floral/rose hip\", \"floral/rose petal\", \"floral/rose water\", \"spices/rosemary\", \"earthy/rubber\", \"spices/sage\", \"earthy/saline\", \"earthy/salt\", \"oaky/sandalwood\", \"spices/savory\", \"earthy/seashell\", \"earthy/slate\", \"earthy/smoke\", \"earthy/smoked meats\", \"red fruit/sour cherry\", \"red fruit/sour cherry pie\", \"black fruit/sour plum\", \"microbio/sourdough\", \"spices/star anise\", \"tropical/starfruit\", \"tree fruit/stewed apricot\", \"earthy/stone\", \"tree fruit/stone fruit\", \"vegetal/straw\", \"red fruit/strawberry\", \"microbio/sweaty\", \"microbio/sweaty saddle\", \"oaky/sweet tobacco\", \"citrus/tangerine\", \"earthy/tar\", \"spices/tarragon\", \"ageing/teriyaki\", \"spices/thyme\", \"ageing/toast\", \"ageing/toasted almond\", \"microbio/toasted bread\", \"oaky/tobacco\", \"earthy/tobacco leaf\", \"oaky/toffee\", \"vegetal/tomato\", \"vegetal/tomato leaf\", \"earthy/tree bark\", \"tropical/tropical\", \"earthy/truffle\", \"earthy/underbrush\", \"tree fruit/unripe peach\", \"tree fruit/unripe pear\", \"oaky/vanilla\", \"spices/vanilla bean\", \"floral/violet\", \"ageing/walnut\", \"red fruit/watermelon\", \"earthy/wax\", \"earthy/wet concrete\", \"earthy/wet gravel\", \"earthy/wet slate\", \"red fruit/white cherry\", \"tree fruit/white nectarine\", \"tree fruit/white peach\", \"spices/white pepper\", \"black fruit/wild blueberry\", \"red fruit/wild strawberry\", \"oaky/wood smoke\", \"microbio/yeast\", \"tree fruit/yellow apple\", \"tree fruit/yellow peach\", \"tree fruit/yellow plum\", \"dried fruit/yellow raisin\", \"spices/yerba mate\", \"microbio/yogurt\", \"ageing\", \"black fruit\", \"citrus\", \"dried fruit\", \"earthy\", \"floral\", \"microbio\", \"oaky\", \"red fruit\", \"spices\", \"tree fruit\", \"tropical\", \"vegetal\"], \"labels\": [\"5-spice powder\", \"acacia\", \"acai berry\", \"allspice\", \"almond\", \"anise\", \"aniseed\", \"apple\", \"apple blossom\", \"apricot\", \"apricot jam\", \"arugula\", \"ash\", \"asian pear\", \"asparagus\", \"bacon fat\", \"baked apple\", \"baking chocolate\", \"baking spice\", \"balsamic\", \"banana\", \"bay leaf\", \"beeswax\", \"bell pepper\", \"bergamot\", \"berry jam\", \"berry sauce\", \"bilberry\", \"bing cherry\", \"biscuit\", \"bitter almond\", \"black cherry\", \"black fruit\", \"black licorice\", \"black olive\", \"black plum\", \"black raisin\", \"black raspberry\", \"black truffle\", \"black walnut\", \"blackberry\", \"blackberry jam\", \"blackcurrant\", \"blackcurrant jam\", \"blood orange\", \"blueberry\", \"boysenberry\", \"bramble\", \"bread yeast\", \"brioche\", \"brown sugar\", \"bruised apple\", \"bubblegum\", \"burnt sugar\", \"butter\", \"buttered popcorn\", \"butterscotch\", \"campfire\", \"candied ginger\", \"cantaloupe\", \"caramel\", \"cassis\", \"cat's pee\", \"cedar\", \"celery\", \"chalk\", \"chamomile\", \"charcoal\", \"chard\", \"cheese\", \"cheesy\", \"cherry\", \"cherry cola\", \"cherry cough syrup\", \"cherry syrup\", \"chestnut\", \"chewing tobacco\", \"chili pepper\", \"chocolate\", \"chutney\", \"cigar\", \"cigar box\", \"cinnamon\", \"citrus\", \"citrus blossom\", \"citrus oil\", \"citrus zest\", \"clay pot\", \"clove\", \"cocoa\", \"coconut\", \"coffee\", \"cola\", \"coriander\", \"cotton candy\", \"cracked pepper\", \"cranberry\", \"cream\", \"creme brulee\", \"creme fraiche\", \"crushed rocks\", \"curd\", \"cured meat\", \"dandelion\", \"dark chocolate\", \"dark fruit\", \"dill\", \"dragon fruit\", \"dried apricot\", \"dried blackberry\", \"dried blueberry\", \"dried cranberry\", \"dried fig\", \"dried flowers\", \"dried fruit\", \"dried herbs\", \"dried leaves\", \"dried mango\", \"dried rose\", \"dried strawberry\", \"earthy\", \"elderflower\", \"espresso\", \"eucalyptus\", \"exotic spice\", \"fennel\", \"fennel seed\", \"fig\", \"flint\", \"forest floor\", \"fresh bread\", \"fresh grapes\", \"fresh strawberry\", \"fresh-cut grass\", \"fruit cup\", \"fruit punch\", \"fruit roll-up\", \"fruitcake\", \"fudge\", \"game\", \"gardenia\", \"geranium\", \"ginger\", \"gingerbread\", \"gingersnap\", \"golden raisin\", \"gooseberry\", \"graham cracker\", \"grape jam\", \"grapefruit\", \"grapefruit pith\", \"graphite\", \"grass\", \"green almond\", \"green apple\", \"green bell pepper\", \"green cardamom\", \"green herbs\", \"green mango\", \"green melon\", \"green papaya\", \"green pear\", \"green peppercorn\", \"green pineapple\", \"grilled meat\", \"grilled pineapple\", \"guava\", \"gun smoke\", \"hay\", \"hazelnut\", \"hibiscus\", \"hickory\", \"hoisin\", \"honey\", \"honeycomb\", \"honeydew melon\", \"honeysuckle\", \"incense\", \"iron\", \"jackfruit\", \"jalapeno\", \"jam\", \"jasmine\", \"juniper\", \"juniper berry\", \"kerosene\", \"key lime\", \"kiwi\", \"lager\", \"lanolin\", \"lavender\", \"leather\", \"lemon\", \"lemon curd\", \"lemon grass\", \"lemon peel\", \"lemon pith\", \"lemon zest\", \"licorice\", \"lilac\", \"lily\", \"lime\", \"lime peel\", \"lime zest\", \"lychee\", \"mace\", \"mandarin orange\", \"mango\", \"maple syrup\", \"maraschino cherry\", \"marionberry\", \"marmalade\", \"marzipan\", \"matcha\", \"melon\", \"melon rind\", \"menthol\", \"meyer lemon\", \"milk chocolate\", \"minerals\", \"mint\", \"mirabelle plum\", \"mocha\", \"molasses\", \"morello cherry\", \"mulberry\", \"mushroom\", \"musk\", \"mustard seed\", \"nectarine\", \"new leather\", \"nutmeg\", \"nutty\", \"oak\", \"oil\", \"orange\", \"orange blossom\", \"orange peel\", \"orange rind\", \"orange zest\", \"oregano\", \"papaya\", \"passion fruit\", \"pastry\", \"peach\", \"peanut\", \"peanut brittle\", \"peanut shell\", \"pear\", \"pencil lead\", \"pencil shavings\", \"peony\", \"pepper\", \"perfume\", \"persimmon\", \"petrichor\", \"petroleum\", \"pie crust\", \"pine nut\", \"pineapple\", \"pink grapefruit\", \"pink lady apple\", \"pipe tobacco\", \"plastic\", \"plum\", \"pomegranate\", \"potpourri\", \"potting soil\", \"preserved lemon\", \"prune\", \"quince\", \"quince paste\", \"quinine\", \"radicchio\", \"raisin\", \"raspberry\", \"red beet\", \"red cherry\", \"red currant\", \"red fruit\", \"red licorice\", \"red plum\", \"red-berry jam\", \"rhubarb\", \"ripe blackberry\", \"ripe strawberry\", \"roasted almond\", \"roasted hazelnut\", \"roasted tomato\", \"rose hip\", \"rose petal\", \"rose water\", \"rosemary\", \"rubber\", \"sage\", \"saline\", \"salt\", \"sandalwood\", \"savory\", \"seashell\", \"slate\", \"smoke\", \"smoked meats\", \"sour cherry\", \"sour cherry pie\", \"sour plum\", \"sourdough\", \"star anise\", \"starfruit\", \"stewed apricot\", \"stone\", \"stone fruit\", \"straw\", \"strawberry\", \"sweaty\", \"sweaty saddle\", \"sweet tobacco\", \"tangerine\", \"tar\", \"tarragon\", \"teriyaki\", \"thyme\", \"toast\", \"toasted almond\", \"toasted bread\", \"tobacco\", \"tobacco leaf\", \"toffee\", \"tomato\", \"tomato leaf\", \"tree bark\", \"tropical\", \"truffle\", \"underbrush\", \"unripe peach\", \"unripe pear\", \"vanilla\", \"vanilla bean\", \"violet\", \"walnut\", \"watermelon\", \"wax\", \"wet concrete\", \"wet gravel\", \"wet slate\", \"white cherry\", \"white nectarine\", \"white peach\", \"white pepper\", \"wild blueberry\", \"wild strawberry\", \"wood smoke\", \"yeast\", \"yellow apple\", \"yellow peach\", \"yellow plum\", \"yellow raisin\", \"yerba mate\", \"yogurt\", \"ageing\", \"black fruit\", \"citrus\", \"dried fruit\", \"earthy\", \"floral\", \"microbio\", \"oaky\", \"red fruit\", \"spices\", \"tree fruit\", \"tropical\", \"vegetal\"], \"name\": \"\", \"parents\": [\"spices\", \"floral\", \"black fruit\", \"oaky\", \"ageing\", \"spices\", \"spices\", \"tree fruit\", \"floral\", \"tree fruit\", \"tree fruit\", \"vegetal\", \"earthy\", \"tree fruit\", \"vegetal\", \"earthy\", \"tree fruit\", \"oaky\", \"oaky\", \"earthy\", \"microbio\", \"spices\", \"earthy\", \"vegetal\", \"spices\", \"black fruit\", \"black fruit\", \"black fruit\", \"red fruit\", \"ageing\", \"vegetal\", \"black fruit\", \"black fruit\", \"spices\", \"black fruit\", \"black fruit\", \"dried fruit\", \"black fruit\", \"earthy\", \"ageing\", \"black fruit\", \"black fruit\", \"black fruit\", \"black fruit\", \"citrus\", \"black fruit\", \"black fruit\", \"black fruit\", \"microbio\", \"ageing\", \"ageing\", \"tree fruit\", \"tropical\", \"ageing\", \"oaky\", \"oaky\", \"oaky\", \"microbio\", \"spices\", \"tree fruit\", \"oaky\", \"black fruit\", \"vegetal\", \"oaky\", \"vegetal\", \"earthy\", \"floral\", \"earthy\", \"vegetal\", \"microbio\", \"microbio\", \"red fruit\", \"red fruit\", \"red fruit\", \"red fruit\", \"ageing\", \"earthy\", \"spices\", \"oaky\", \"earthy\", \"oaky\", \"oaky\", \"spices\", \"citrus\", \"floral\", \"earthy\", \"citrus\", \"earthy\", \"oaky\", \"earthy\", \"oaky\", \"oaky\", \"oaky\", \"spices\", \"red fruit\", \"spices\", \"red fruit\", \"microbio\", \"oaky\", \"microbio\", \"earthy\", \"microbio\", \"earthy\", \"floral\", \"oaky\", \"black fruit\", \"oaky\", \"dried fruit\", \"dried fruit\", \"dried fruit\", \"dried fruit\", \"dried fruit\", \"ageing\", \"floral\", \"dried fruit\", \"spices\", \"earthy\", \"dried fruit\", \"floral\", \"red fruit\", \"earthy\", \"floral\", \"oaky\", \"spices\", \"earthy\", \"spices\", \"spices\", \"dried fruit\", \"earthy\", \"earthy\", \"microbio\", \"tree fruit\", \"red fruit\", \"vegetal\", \"tropical\", \"red fruit\", \"red fruit\", \"dried fruit\", \"oaky\", \"earthy\", \"floral\", \"floral\", \"earthy\", \"spices\", \"oaky\", \"dried fruit\", \"vegetal\", \"ageing\", \"black fruit\", \"citrus\", \"citrus\", \"earthy\", \"vegetal\", \"vegetal\", \"tree fruit\", \"vegetal\", \"spices\", \"spices\", \"tropical\", \"tree fruit\", \"tropical\", \"tree fruit\", \"spices\", \"tropical\", \"earthy\", \"tropical\", \"tropical\", \"earthy\", \"vegetal\", \"ageing\", \"floral\", \"oaky\", \"black fruit\", \"earthy\", \"earthy\", \"tree fruit\", \"floral\", \"oaky\", \"earthy\", \"tropical\", \"spices\", \"black fruit\", \"floral\", \"spices\", \"spices\", \"earthy\", \"citrus\", \"tropical\", \"microbio\", \"earthy\", \"floral\", \"earthy\", \"citrus\", \"microbio\", \"spices\", \"citrus\", \"citrus\", \"citrus\", \"spices\", \"floral\", \"floral\", \"citrus\", \"citrus\", \"citrus\", \"tropical\", \"spices\", \"citrus\", \"tropical\", \"ageing\", \"red fruit\", \"black fruit\", \"citrus\", \"ageing\", \"spices\", \"tree fruit\", \"tree fruit\", \"spices\", \"citrus\", \"oaky\", \"earthy\", \"spices\", \"tree fruit\", \"oaky\", \"ageing\", \"red fruit\", \"black fruit\", \"earthy\", \"spices\", \"spices\", \"tree fruit\", \"earthy\", \"oaky\", \"ageing\", \"oaky\", \"microbio\", \"citrus\", \"floral\", \"citrus\", \"citrus\", \"citrus\", \"spices\", \"tropical\", \"tropical\", \"oaky\", \"tree fruit\", \"ageing\", \"ageing\", \"ageing\", \"tree fruit\", \"earthy\", \"earthy\", \"floral\", \"spices\", \"floral\", \"tree fruit\", \"earthy\", \"earthy\", \"oaky\", \"ageing\", \"tropical\", \"citrus\", \"tree fruit\", \"oaky\", \"earthy\", \"black fruit\", \"red fruit\", \"floral\", \"earthy\", \"citrus\", \"dried fruit\", \"tree fruit\", \"dried fruit\", \"earthy\", \"vegetal\", \"dried fruit\", \"red fruit\", \"vegetal\", \"red fruit\", \"red fruit\", \"red fruit\", \"spices\", \"red fruit\", \"red fruit\", \"vegetal\", \"black fruit\", \"red fruit\", \"ageing\", \"ageing\", \"red fruit\", \"floral\", \"floral\", \"floral\", \"spices\", \"earthy\", \"spices\", \"earthy\", \"earthy\", \"oaky\", \"spices\", \"earthy\", \"earthy\", \"earthy\", \"earthy\", \"red fruit\", \"red fruit\", \"black fruit\", \"microbio\", \"spices\", \"tropical\", \"tree fruit\", \"earthy\", \"tree fruit\", \"vegetal\", \"red fruit\", \"microbio\", \"microbio\", \"oaky\", \"citrus\", \"earthy\", \"spices\", \"ageing\", \"spices\", \"ageing\", \"ageing\", \"microbio\", \"oaky\", \"earthy\", \"oaky\", \"vegetal\", \"vegetal\", \"earthy\", \"tropical\", \"earthy\", \"earthy\", \"tree fruit\", \"tree fruit\", \"oaky\", \"spices\", \"floral\", \"ageing\", \"red fruit\", \"earthy\", \"earthy\", \"earthy\", \"earthy\", \"red fruit\", \"tree fruit\", \"tree fruit\", \"spices\", \"black fruit\", \"red fruit\", \"oaky\", \"microbio\", \"tree fruit\", \"tree fruit\", \"tree fruit\", \"dried fruit\", \"spices\", \"microbio\", \"\", \"\", \"\", \"\", \"\", \"\", \"\", \"\", \"\", \"\", \"\", \"\", \"\"], \"type\": \"sunburst\", \"values\": [1, 6, 1, 4, 30, 16, 5, 57, 7, 39, 4, 1, 4, 7, 13, 3, 7, 2, 13, 16, 22, 3, 4, 8, 4, 2, 1, 3, 5, 10, 7, 27, 22, 7, 5, 4, 2, 4, 3, 1, 36, 5, 27, 1, 8, 22, 6, 11, 4, 11, 4, 4, 3, 1, 41, 3, 11, 5, 1, 10, 27, 16, 4, 24, 5, 24, 7, 4, 16, 55, 1, 47, 4, 1, 3, 6, 2, 1, 30, 1, 11, 7, 27, 70, 4, 2, 10, 1, 26, 12, 13, 25, 4, 2, 3, 1, 26, 50, 2, 1, 1, 2, 1, 3, 14, 26, 9, 2, 14, 1, 2, 4, 3, 5, 15, 6, 3, 1, 7, 4, 57, 12, 7, 13, 3, 15, 1, 14, 20, 16, 3, 1, 4, 4, 1, 1, 1, 2, 1, 11, 1, 2, 16, 1, 1, 1, 16, 2, 2, 38, 4, 9, 34, 2, 52, 3, 1, 5, 3, 7, 3, 9, 1, 4, 6, 3, 11, 1, 19, 12, 5, 2, 1, 41, 4, 11, 23, 2, 10, 1, 5, 22, 14, 5, 1, 1, 6, 15, 1, 2, 14, 42, 56, 12, 7, 16, 6, 21, 27, 5, 5, 41, 5, 17, 17, 2, 3, 16, 2, 3, 1, 7, 10, 1, 35, 1, 14, 11, 7, 73, 24, 1, 7, 3, 2, 9, 26, 9, 1, 23, 1, 16, 22, 69, 25, 34, 9, 16, 7, 9, 6, 6, 19, 6, 43, 2, 1, 1, 51, 3, 2, 2, 45, 19, 1, 1, 11, 4, 1, 37, 10, 2, 5, 5, 43, 19, 8, 1, 1, 21, 16, 1, 1, 2, 20, 44, 1, 18, 16, 39, 5, 13, 1, 11, 3, 5, 2, 2, 1, 3, 12, 4, 13, 3, 13, 22, 20, 5, 26, 4, 18, 46, 1, 14, 1, 3, 7, 5, 5, 1, 50, 34, 35, 43, 2, 1, 3, 16, 13, 5, 3, 19, 24, 2, 7, 29, 4, 9, 25, 3, 1, 36, 12, 3, 4, 1, 59, 3, 23, 9, 8, 7, 2, 1, 8, 3, 3, 17, 31, 1, 7, 1, 18, 20, 2, 6, 1, 1, 4, 164, 304, 412, 101, 659, 200, 220, 499, 336, 379, 469, 180, 209]}],\n",
       "                        {\"legend\": {\"tracegroupgap\": 0}, \"margin\": {\"t\": 60}, \"template\": {\"data\": {\"bar\": [{\"error_x\": {\"color\": \"#2a3f5f\"}, \"error_y\": {\"color\": \"#2a3f5f\"}, \"marker\": {\"line\": {\"color\": \"#E5ECF6\", \"width\": 0.5}}, \"type\": \"bar\"}], \"barpolar\": [{\"marker\": {\"line\": {\"color\": \"#E5ECF6\", \"width\": 0.5}}, \"type\": \"barpolar\"}], \"carpet\": [{\"aaxis\": {\"endlinecolor\": \"#2a3f5f\", \"gridcolor\": \"white\", \"linecolor\": \"white\", \"minorgridcolor\": \"white\", \"startlinecolor\": \"#2a3f5f\"}, \"baxis\": {\"endlinecolor\": \"#2a3f5f\", \"gridcolor\": \"white\", \"linecolor\": \"white\", \"minorgridcolor\": \"white\", \"startlinecolor\": \"#2a3f5f\"}, \"type\": \"carpet\"}], \"choropleth\": [{\"colorbar\": {\"outlinewidth\": 0, \"ticks\": \"\"}, \"type\": \"choropleth\"}], \"contour\": [{\"colorbar\": {\"outlinewidth\": 0, \"ticks\": \"\"}, \"colorscale\": [[0.0, \"#0d0887\"], [0.1111111111111111, \"#46039f\"], [0.2222222222222222, \"#7201a8\"], [0.3333333333333333, \"#9c179e\"], [0.4444444444444444, \"#bd3786\"], [0.5555555555555556, \"#d8576b\"], [0.6666666666666666, \"#ed7953\"], [0.7777777777777778, \"#fb9f3a\"], [0.8888888888888888, \"#fdca26\"], [1.0, \"#f0f921\"]], \"type\": \"contour\"}], \"contourcarpet\": [{\"colorbar\": {\"outlinewidth\": 0, \"ticks\": \"\"}, \"type\": \"contourcarpet\"}], \"heatmap\": [{\"colorbar\": {\"outlinewidth\": 0, \"ticks\": \"\"}, \"colorscale\": [[0.0, \"#0d0887\"], [0.1111111111111111, \"#46039f\"], [0.2222222222222222, \"#7201a8\"], [0.3333333333333333, \"#9c179e\"], [0.4444444444444444, \"#bd3786\"], [0.5555555555555556, \"#d8576b\"], [0.6666666666666666, \"#ed7953\"], [0.7777777777777778, \"#fb9f3a\"], [0.8888888888888888, \"#fdca26\"], [1.0, \"#f0f921\"]], \"type\": \"heatmap\"}], \"heatmapgl\": [{\"colorbar\": {\"outlinewidth\": 0, \"ticks\": \"\"}, \"colorscale\": [[0.0, \"#0d0887\"], [0.1111111111111111, \"#46039f\"], [0.2222222222222222, \"#7201a8\"], [0.3333333333333333, \"#9c179e\"], [0.4444444444444444, \"#bd3786\"], [0.5555555555555556, \"#d8576b\"], [0.6666666666666666, \"#ed7953\"], [0.7777777777777778, \"#fb9f3a\"], [0.8888888888888888, \"#fdca26\"], [1.0, \"#f0f921\"]], \"type\": \"heatmapgl\"}], \"histogram\": [{\"marker\": {\"colorbar\": {\"outlinewidth\": 0, \"ticks\": \"\"}}, \"type\": \"histogram\"}], \"histogram2d\": [{\"colorbar\": {\"outlinewidth\": 0, \"ticks\": \"\"}, \"colorscale\": [[0.0, \"#0d0887\"], [0.1111111111111111, \"#46039f\"], [0.2222222222222222, \"#7201a8\"], [0.3333333333333333, \"#9c179e\"], [0.4444444444444444, \"#bd3786\"], [0.5555555555555556, \"#d8576b\"], [0.6666666666666666, \"#ed7953\"], [0.7777777777777778, \"#fb9f3a\"], [0.8888888888888888, \"#fdca26\"], [1.0, \"#f0f921\"]], \"type\": \"histogram2d\"}], \"histogram2dcontour\": [{\"colorbar\": {\"outlinewidth\": 0, \"ticks\": \"\"}, \"colorscale\": [[0.0, \"#0d0887\"], [0.1111111111111111, \"#46039f\"], [0.2222222222222222, \"#7201a8\"], [0.3333333333333333, \"#9c179e\"], [0.4444444444444444, \"#bd3786\"], [0.5555555555555556, \"#d8576b\"], [0.6666666666666666, \"#ed7953\"], [0.7777777777777778, \"#fb9f3a\"], [0.8888888888888888, \"#fdca26\"], [1.0, \"#f0f921\"]], \"type\": \"histogram2dcontour\"}], \"mesh3d\": [{\"colorbar\": {\"outlinewidth\": 0, \"ticks\": \"\"}, \"type\": \"mesh3d\"}], \"parcoords\": [{\"line\": {\"colorbar\": {\"outlinewidth\": 0, \"ticks\": \"\"}}, \"type\": \"parcoords\"}], \"pie\": [{\"automargin\": true, \"type\": \"pie\"}], \"scatter\": [{\"marker\": {\"colorbar\": {\"outlinewidth\": 0, \"ticks\": \"\"}}, \"type\": \"scatter\"}], \"scatter3d\": [{\"line\": {\"colorbar\": {\"outlinewidth\": 0, \"ticks\": \"\"}}, \"marker\": {\"colorbar\": {\"outlinewidth\": 0, \"ticks\": \"\"}}, \"type\": \"scatter3d\"}], \"scattercarpet\": [{\"marker\": {\"colorbar\": {\"outlinewidth\": 0, \"ticks\": \"\"}}, \"type\": \"scattercarpet\"}], \"scattergeo\": [{\"marker\": {\"colorbar\": {\"outlinewidth\": 0, \"ticks\": \"\"}}, \"type\": \"scattergeo\"}], \"scattergl\": [{\"marker\": {\"colorbar\": {\"outlinewidth\": 0, \"ticks\": \"\"}}, \"type\": \"scattergl\"}], \"scattermapbox\": [{\"marker\": {\"colorbar\": {\"outlinewidth\": 0, \"ticks\": \"\"}}, \"type\": \"scattermapbox\"}], \"scatterpolar\": [{\"marker\": {\"colorbar\": {\"outlinewidth\": 0, \"ticks\": \"\"}}, \"type\": \"scatterpolar\"}], \"scatterpolargl\": [{\"marker\": {\"colorbar\": {\"outlinewidth\": 0, \"ticks\": \"\"}}, \"type\": \"scatterpolargl\"}], \"scatterternary\": [{\"marker\": {\"colorbar\": {\"outlinewidth\": 0, \"ticks\": \"\"}}, \"type\": \"scatterternary\"}], \"surface\": [{\"colorbar\": {\"outlinewidth\": 0, \"ticks\": \"\"}, \"colorscale\": [[0.0, \"#0d0887\"], [0.1111111111111111, \"#46039f\"], [0.2222222222222222, \"#7201a8\"], [0.3333333333333333, \"#9c179e\"], [0.4444444444444444, \"#bd3786\"], [0.5555555555555556, \"#d8576b\"], [0.6666666666666666, \"#ed7953\"], [0.7777777777777778, \"#fb9f3a\"], [0.8888888888888888, \"#fdca26\"], [1.0, \"#f0f921\"]], \"type\": \"surface\"}], \"table\": [{\"cells\": {\"fill\": {\"color\": \"#EBF0F8\"}, \"line\": {\"color\": \"white\"}}, \"header\": {\"fill\": {\"color\": \"#C8D4E3\"}, \"line\": {\"color\": \"white\"}}, \"type\": \"table\"}]}, \"layout\": {\"annotationdefaults\": {\"arrowcolor\": \"#2a3f5f\", \"arrowhead\": 0, \"arrowwidth\": 1}, \"coloraxis\": {\"colorbar\": {\"outlinewidth\": 0, \"ticks\": \"\"}}, \"colorscale\": {\"diverging\": [[0, \"#8e0152\"], [0.1, \"#c51b7d\"], [0.2, \"#de77ae\"], [0.3, \"#f1b6da\"], [0.4, \"#fde0ef\"], [0.5, \"#f7f7f7\"], [0.6, \"#e6f5d0\"], [0.7, \"#b8e186\"], [0.8, \"#7fbc41\"], [0.9, \"#4d9221\"], [1, \"#276419\"]], \"sequential\": [[0.0, \"#0d0887\"], [0.1111111111111111, \"#46039f\"], [0.2222222222222222, \"#7201a8\"], [0.3333333333333333, \"#9c179e\"], [0.4444444444444444, \"#bd3786\"], [0.5555555555555556, \"#d8576b\"], [0.6666666666666666, \"#ed7953\"], [0.7777777777777778, \"#fb9f3a\"], [0.8888888888888888, \"#fdca26\"], [1.0, \"#f0f921\"]], \"sequentialminus\": [[0.0, \"#0d0887\"], [0.1111111111111111, \"#46039f\"], [0.2222222222222222, \"#7201a8\"], [0.3333333333333333, \"#9c179e\"], [0.4444444444444444, \"#bd3786\"], [0.5555555555555556, \"#d8576b\"], [0.6666666666666666, \"#ed7953\"], [0.7777777777777778, \"#fb9f3a\"], [0.8888888888888888, \"#fdca26\"], [1.0, \"#f0f921\"]]}, \"colorway\": [\"#636efa\", \"#EF553B\", \"#00cc96\", \"#ab63fa\", \"#FFA15A\", \"#19d3f3\", \"#FF6692\", \"#B6E880\", \"#FF97FF\", \"#FECB52\"], \"font\": {\"color\": \"#2a3f5f\"}, \"geo\": {\"bgcolor\": \"white\", \"lakecolor\": \"white\", \"landcolor\": \"#E5ECF6\", \"showlakes\": true, \"showland\": true, \"subunitcolor\": \"white\"}, \"hoverlabel\": {\"align\": \"left\"}, \"hovermode\": \"closest\", \"mapbox\": {\"style\": \"light\"}, \"paper_bgcolor\": \"white\", \"plot_bgcolor\": \"#E5ECF6\", \"polar\": {\"angularaxis\": {\"gridcolor\": \"white\", \"linecolor\": \"white\", \"ticks\": \"\"}, \"bgcolor\": \"#E5ECF6\", \"radialaxis\": {\"gridcolor\": \"white\", \"linecolor\": \"white\", \"ticks\": \"\"}}, \"scene\": {\"xaxis\": {\"backgroundcolor\": \"#E5ECF6\", \"gridcolor\": \"white\", \"gridwidth\": 2, \"linecolor\": \"white\", \"showbackground\": true, \"ticks\": \"\", \"zerolinecolor\": \"white\"}, \"yaxis\": {\"backgroundcolor\": \"#E5ECF6\", \"gridcolor\": \"white\", \"gridwidth\": 2, \"linecolor\": \"white\", \"showbackground\": true, \"ticks\": \"\", \"zerolinecolor\": \"white\"}, \"zaxis\": {\"backgroundcolor\": \"#E5ECF6\", \"gridcolor\": \"white\", \"gridwidth\": 2, \"linecolor\": \"white\", \"showbackground\": true, \"ticks\": \"\", \"zerolinecolor\": \"white\"}}, \"shapedefaults\": {\"line\": {\"color\": \"#2a3f5f\"}}, \"ternary\": {\"aaxis\": {\"gridcolor\": \"white\", \"linecolor\": \"white\", \"ticks\": \"\"}, \"baxis\": {\"gridcolor\": \"white\", \"linecolor\": \"white\", \"ticks\": \"\"}, \"bgcolor\": \"#E5ECF6\", \"caxis\": {\"gridcolor\": \"white\", \"linecolor\": \"white\", \"ticks\": \"\"}}, \"title\": {\"x\": 0.05}, \"xaxis\": {\"automargin\": true, \"gridcolor\": \"white\", \"linecolor\": \"white\", \"ticks\": \"\", \"title\": {\"standoff\": 15}, \"zerolinecolor\": \"white\", \"zerolinewidth\": 2}, \"yaxis\": {\"automargin\": true, \"gridcolor\": \"white\", \"linecolor\": \"white\", \"ticks\": \"\", \"title\": {\"standoff\": 15}, \"zerolinecolor\": \"white\", \"zerolinewidth\": 2}}}},\n",
       "                        {\"responsive\": true}\n",
       "                    ).then(function(){\n",
       "                            \n",
       "var gd = document.getElementById('c780d77f-b6fb-4a6b-aee2-ea204b3e8573');\n",
       "var x = new MutationObserver(function (mutations, observer) {{\n",
       "        var display = window.getComputedStyle(gd).display;\n",
       "        if (!display || display === 'none') {{\n",
       "            console.log([gd, 'removed!']);\n",
       "            Plotly.purge(gd);\n",
       "            observer.disconnect();\n",
       "        }}\n",
       "}});\n",
       "\n",
       "// Listen for the removal of the full notebook cells\n",
       "var notebookContainer = gd.closest('#notebook-container');\n",
       "if (notebookContainer) {{\n",
       "    x.observe(notebookContainer, {childList: true});\n",
       "}}\n",
       "\n",
       "// Listen for the clearing of the current output cell\n",
       "var outputEl = gd.closest('.output');\n",
       "if (outputEl) {{\n",
       "    x.observe(outputEl, {childList: true});\n",
       "}}\n",
       "\n",
       "                        })\n",
       "                };\n",
       "                });\n",
       "            </script>\n",
       "        </div>"
      ]
     },
     "metadata": {},
     "output_type": "display_data"
    }
   ],
   "source": [
    "taste_df = pd.DataFrame.from_records(nt_map).drop_duplicates()\n",
    "fig = px.sunburst(taste_df,path=['note','tag'])\n",
    "fig.show()"
   ]
  },
  {
   "cell_type": "markdown",
   "metadata": {},
   "source": [
    "### Co-occurrence of Tasting Notes"
   ]
  },
  {
   "cell_type": "code",
   "execution_count": 43,
   "metadata": {},
   "outputs": [],
   "source": [
    "from chord import Chord\n",
    "import itertools"
   ]
  },
  {
   "cell_type": "code",
   "execution_count": 44,
   "metadata": {},
   "outputs": [],
   "source": [
    "# get top 3 tasting notes\n",
    "records = []\n",
    "for t in tasting_notes:\n",
    "    d = {}\n",
    "    for k,v in t.items():\n",
    "        d['id']=k\n",
    "        for i in range(0,3):\n",
    "            for value in v:\n",
    "                if value['index']==i:\n",
    "                    note = value['note'].split(' mentions of ')[-1].replace('notes','').strip()\n",
    "                    d[f\"note_{i+1}\"]=note\n",
    "        \n",
    "    records.append(d)"
   ]
  },
  {
   "cell_type": "code",
   "execution_count": 45,
   "metadata": {},
   "outputs": [],
   "source": [
    "co_occ = pd.DataFrame.from_records(records)\n",
    "co_occ = co_occ[['note_1','note_2']].dropna()\n",
    "co_occ = list(itertools.chain.from_iterable((i, i[::-1]) for i in co_occ.values))"
   ]
  },
  {
   "cell_type": "code",
   "execution_count": 46,
   "metadata": {},
   "outputs": [],
   "source": [
    "matrix = pd.pivot_table(\n",
    "    pd.DataFrame(co_occ), index=0, columns=1, aggfunc=\"size\", fill_value=0\n",
    ").values.tolist()\n",
    "names = np.unique(co_occ).tolist()"
   ]
  },
  {
   "cell_type": "code",
   "execution_count": 47,
   "metadata": {},
   "outputs": [],
   "source": [
    "colors = [\"#A6B91A\", \"#705746\", \"#6F35FC\", \"#F7D02C\",\n",
    "          \"#D685AD\", \"#C22E28\", \"#EE8130\", \"#A98FF3\",\n",
    "          \"#735797\", \"#7AC74C\", \"#E2BF65\", \"#96D9D6\",\n",
    "          \"#A8A77A\", \"#A33EA1\", \"#F95587\", \"#B6A136\",\n",
    "          \"#B7B7CE\", \"#6390F0\"];"
   ]
  },
  {
   "cell_type": "code",
   "execution_count": 49,
   "metadata": {},
   "outputs": [
    {
     "data": {
      "text/html": [
       "<!DOCTYPE html>\n",
       "<html>\n",
       "  <head>\n",
       "    <!--Chord - Python wrapper around d3-chord\n",
       "\n",
       "    This package enables the generation of Chord diagrams. They can be saved \n",
       "    directly to HTML files or displayed in a Jupyter Notebook output cell.\n",
       "\n",
       "    Copyright 2020, Dr. Shahin Rostami\n",
       "    http://shahinrostami.com\n",
       "    https://github.com/shahinrostami/chord\n",
       "    https://pypi.org/project/chord/\n",
       "    -->\n",
       "  \t<meta http-equiv=\"Content-Type\" content=\"text/html;charset=utf-8\"/>\n",
       "    <title>Chord Diagram</title>\n",
       "    <!-- Google Fonts -->\n",
       "    <script src=\"https://d3js.org/d3.v5.min.js\"></script>\n",
       "    <link\n",
       "      href=\"https://fonts.googleapis.com/css?family=Bangers\"\n",
       "      rel=\"stylesheet\"\n",
       "      type=\"text/css\"\n",
       "    />\n",
       "    <link\n",
       "      href=\"https://fonts.googleapis.com/css?family=Oswald\"\n",
       "      rel=\"stylesheet\"\n",
       "      type=\"text/css\"\n",
       "    />\n",
       "    <link\n",
       "      href=\"https://fonts.googleapis.com/css?family=Lato:400,900\"\n",
       "      rel=\"stylesheet\"\n",
       "      type=\"text/css\"\n",
       "    />\n",
       "\n",
       "    <style>\n",
       "      .tippy-content {\n",
       "        font-family: \"Lato\", sans-serif;\n",
       "      }\n",
       "\n",
       "      #chart-b89d94b8 {\n",
       "        font-size: 16px;\n",
       "        font-family: \"Bangers\", sans-serif;\n",
       "        text-align: center;\n",
       "        fill: #454545;\n",
       "      }\n",
       "\n",
       "      @media (min-width: 600px) {\n",
       "\t\t\t\t#chart-b89d94b8{\n",
       "\t\t\t\t\tfont-size: 20px;\n",
       "\t\t\t\t}\n",
       "\t\t\t}\n",
       "    </style>\n",
       "  </head>\n",
       "  <body>\n",
       "    <div id=\"chart-b89d94b8\" class=\"chord\"></div>\n",
       "    <script src=\"https://unpkg.com/@popperjs/core@2\"></script>\n",
       "    <script src=\"https://unpkg.com/tippy.js@6\"></script>\n",
       "    <script>\n",
       "      var script = document.createElement(\"script\");\n",
       "      script.type = \"text/javascript\";\n",
       "      script.src = \"https://d3js.org/d3.v5.min.js\";\n",
       "\n",
       "      script.onload = function () {\n",
       "\n",
       "        var script2 = document.createElement(\"script\");\n",
       "        script2.type = \"text/javascript\";\n",
       "        script2.src = \"https://shahinrostami.com/assets/chord/script.js\";\n",
       "        //script2.src = \"http://localhost:8282/script.js\";\n",
       "\n",
       "        script2.onload = function () {\n",
       "          margin = {\n",
       "          left: 0,\n",
       "          top: 0,\n",
       "          right: 0,\n",
       "          bottom: 0\n",
       "        };\n",
       "        width = Math.min(window.innerWidth, 700) - margin.left - margin.right;\n",
       "        height = Math.min(window.innerWidth, 700) - margin.top - margin.bottom;\n",
       "        innerRadius = Math.min(width, height) * 0.39;\n",
       "        outerRadius = innerRadius * 1.1;\n",
       "\n",
       "      tag_id = \"chart-b89d94b8\";\n",
       "      padding = 0.01;\n",
       "      Names = ['ageing', 'black fruit', 'citrus', 'dried fruit', 'earthy', 'microbio', 'oaky', 'red fruit', 'spices', 'tree fruit', 'tropical', 'vegetal'];\n",
       "      colors = ['#A6B91A', '#705746', '#6F35FC', '#F7D02C', '#D685AD', '#C22E28', '#EE8130', '#A98FF3', '#735797', '#7AC74C', '#E2BF65', '#96D9D6', '#A8A77A', '#A33EA1', '#F95587', '#B6A136', '#B7B7CE', '#6390F0'];\n",
       "      opacityDefault = 0.8;\n",
       "      matrix = [[0, 0, 1, 0, 0, 0, 1, 0, 0, 0, 0, 0], [0, 0, 0, 2, 6, 1, 6, 10, 1, 1, 0, 0], [1, 0, 0, 0, 4, 0, 2, 1, 0, 32, 4, 2], [0, 2, 0, 0, 0, 0, 0, 0, 1, 0, 0, 0], [0, 6, 4, 0, 0, 1, 11, 13, 2, 14, 0, 0], [0, 1, 0, 0, 1, 0, 4, 0, 0, 0, 0, 0], [1, 6, 2, 0, 11, 4, 0, 6, 1, 5, 0, 0], [0, 10, 1, 0, 13, 0, 6, 0, 4, 1, 0, 0], [0, 1, 0, 1, 2, 0, 1, 4, 0, 1, 0, 0], [0, 1, 32, 0, 14, 0, 5, 1, 1, 0, 3, 0], [0, 0, 4, 0, 0, 0, 0, 0, 0, 3, 0, 0], [0, 0, 2, 0, 0, 0, 0, 0, 0, 0, 0, 0]];\n",
       "      wrap_labels = false;\n",
       "      \n",
       "      ////////////////////////////////////////////////////////////\n",
       "      /////////// Create scale and layout functions //////////////\n",
       "      ////////////////////////////////////////////////////////////\n",
       "\n",
       "      var colors = d3\n",
       "        .scaleOrdinal()\n",
       "        .domain(d3.range(Names.length))\n",
       "        .range(colors);\n",
       "\n",
       "      //A \"custom\" d3 chord function that automatically sorts the order of the chords in such a manner to reduce overlap\n",
       "      var chord = customChordLayout()\n",
       "        .padding(padding)\n",
       "        .sortChords(d3.descending) //which chord should be shown on top when chords cross. Now the biggest chord is at the bottom\n",
       "        .matrix(matrix);\n",
       "\n",
       "      var arc = d3\n",
       "        .arc()\n",
       "        .innerRadius(innerRadius * 1.01)\n",
       "        .outerRadius(outerRadius);\n",
       "\n",
       "      var path = d3.ribbon().radius(innerRadius);\n",
       "\n",
       "      ////////////////////////////////////////////////////////////\n",
       "      ////////////////////// Create SVG //////////////////////////\n",
       "      ///////////////////////////////////////////////////////////\n",
       "\n",
       "      var svg = d3\n",
       "        .select(\"#\" + tag_id)\n",
       "        .append(\"svg\")\n",
       "        .attr(\"width\", width + margin.left + margin.right)\n",
       "        .attr(\"height\", height + margin.top + margin.bottom)\n",
       "        .attr(\n",
       "          \"viewBox\",\n",
       "          \"0 0 \" +\n",
       "            (width + margin.left + margin.right) +\n",
       "\n",
       "          \" \" +\n",
       "          (height + margin.top + margin.bottom)\n",
       "        )\n",
       "        .attr(\"preserveAspectRatio\", \"xMinYMin meet\")\n",
       "        .append(\"g\")\n",
       "        .attr(\n",
       "          \"transform\",\n",
       "          \"translate(\" +\n",
       "            (width / 2 + margin.left) +\n",
       "            \",\" +\n",
       "            (height / 2 + margin.top) +\n",
       "            \")\"\n",
       "        );\n",
       "\n",
       "      ////////////////////////////////////////////////////////////\n",
       "      /////////////// Create the gradient fills //////////////////\n",
       "      ////////////////////////////////////////////////////////////\n",
       "\n",
       "      //Function to create the id for each chord gradient\n",
       "      function getGradID(d) {\n",
       "        return (\n",
       "          \"linkGrad-\" + tag_id + \"-\" + d.source.index + \"-\" + d.target.index\n",
       "        );\n",
       "      }\n",
       "\n",
       "      //Create the gradients definitions for each chord\n",
       "      var grads = svg\n",
       "        .append(\"defs\")\n",
       "        .selectAll(\"linearGradient\")\n",
       "        .data(chord.chords())\n",
       "        .enter()\n",
       "        .append(\"linearGradient\")\n",
       "        .attr(\"id\", getGradID)\n",
       "        .attr(\"gradientUnits\", \"userSpaceOnUse\")\n",
       "        .attr(\"x1\", function (d, i) {\n",
       "          return (\n",
       "            innerRadius *\n",
       "            Math.cos(\n",
       "              (d.source.endAngle - d.source.startAngle) / 2 +\n",
       "                d.source.startAngle -\n",
       "                Math.PI / 2\n",
       "            )\n",
       "          );\n",
       "        })\n",
       "        .attr(\"y1\", function (d, i) {\n",
       "          return (\n",
       "            innerRadius *\n",
       "            Math.sin(\n",
       "              (d.source.endAngle - d.source.startAngle) / 2 +\n",
       "                d.source.startAngle -\n",
       "                Math.PI / 2\n",
       "            )\n",
       "          );\n",
       "        })\n",
       "        .attr(\"x2\", function (d, i) {\n",
       "          return (\n",
       "            innerRadius *\n",
       "            Math.cos(\n",
       "              (d.target.endAngle - d.target.startAngle) / 2 +\n",
       "                d.target.startAngle -\n",
       "                Math.PI / 2\n",
       "            )\n",
       "          );\n",
       "        })\n",
       "        .attr(\"y2\", function (d, i) {\n",
       "          return (\n",
       "            innerRadius *\n",
       "            Math.sin(\n",
       "              (d.target.endAngle - d.target.startAngle) / 2 +\n",
       "                d.target.startAngle -\n",
       "                Math.PI / 2\n",
       "            )\n",
       "          );\n",
       "        });\n",
       "\n",
       "      //Set the starting color (at 0%)\n",
       "      grads\n",
       "        .append(\"stop\")\n",
       "        .attr(\"offset\", \"0%\")\n",
       "        .attr(\"stop-color\", function (d) {\n",
       "          return colors(d.source.index);\n",
       "        });\n",
       "\n",
       "      //Set the ending color (at 100%)\n",
       "      grads\n",
       "        .append(\"stop\")\n",
       "        .attr(\"offset\", \"100%\")\n",
       "        .attr(\"stop-color\", function (d) {\n",
       "          return colors(d.target.index);\n",
       "        });\n",
       "\n",
       "      ////////////////////////////////////////////////////////////\n",
       "      ////////////////// Draw outer Arcs /////////////////////////\n",
       "      ////////////////////////////////////////////////////////////\n",
       "\n",
       "      var outerArcs = svg\n",
       "        .selectAll(\"g.group\")\n",
       "        .data(chord.groups)\n",
       "        .enter()\n",
       "        .append(\"g\")\n",
       "        .attr(\"class\", \"group\")\n",
       "        .on(\"mouseover\", fade(0.1, 1))\n",
       "        .on(\"mouseout\", fade(opacityDefault, opacityDefault));\n",
       "\n",
       "      outerArcs\n",
       "        .append(\"path\")\n",
       "        .style(\"fill\", function (d) {\n",
       "          return colors(d.index);\n",
       "        })\n",
       "        .attr(\"d\", arc)\n",
       "        .each(function (d, i) {\n",
       "          //Search pattern for everything between the start and the first capital L\n",
       "          var firstArcSection = /(^.+?)L/;\n",
       "\n",
       "          //Grab everything up to the first Line statement\n",
       "          var newArc = firstArcSection.exec(d3.select(this).attr(\"d\"))[1];\n",
       "          //Replace all the comma's so that IE can handle it\n",
       "          newArc = newArc.replace(/,/g, \" \");\n",
       "\n",
       "          //If the end angle lies beyond a quarter of a circle (90 degrees or pi/2)\n",
       "          //flip the end and start position\n",
       "          if (\n",
       "            (d.endAngle > (90 * Math.PI) / 180) &\n",
       "            (d.startAngle < (270 * Math.PI) / 180)\n",
       "          ) {\n",
       "            var startLoc = /M(.*?)A/, //Everything between the first capital M and first capital A\n",
       "              middleLoc = /A(.*?)0 0 1/, //Everything between the first capital A and 0 0 1\n",
       "              endLoc = /0 0 1 (.*?)$/; //Everything between the first 0 0 1 and the end of the string (denoted by $)\n",
       "            //Flip the direction of the arc by switching the start en end point (and sweep flag)\n",
       "            //of those elements that are below the horizontal line\n",
       "            var newStart = endLoc.exec(newArc)[1];\n",
       "            var newEnd = startLoc.exec(newArc)[1];\n",
       "            var middleSec = middleLoc.exec(newArc)[1];\n",
       "\n",
       "            //Build up the new arc notation, set the sweep-flag to 0\n",
       "            newArc = \"M\" + newStart + \"A\" + middleSec + \"0 0 0 \" + newEnd;\n",
       "          } //if\n",
       "\n",
       "          //Create a new invisible arc that the text can flow along\n",
       "          svg\n",
       "            .append(\"path\")\n",
       "            .attr(\"class\", \"hiddenArcs\")\n",
       "            .attr(\"id\", \"arc-\" + tag_id + \"-\" + i)\n",
       "            .attr(\"d\", newArc)\n",
       "            .style(\"fill\", \"none\");\n",
       "\n",
       "          ////////////////////////////////////////////////////////////\n",
       "          ////////////////// Append Names ////////////////////////////\n",
       "          ////////////////////////////////////////////////////////////\n",
       "\n",
       "          //Append the label names on the outside\n",
       "\n",
       "          if (wrap_labels) {\n",
       "            outerArcs\n",
       "              .append(\"text\")\n",
       "              .attr(\"class\", \"titles\")\n",
       "              .attr(\"dy\", function (d, i) {\n",
       "                return (d.endAngle > (90 * Math.PI) / 180) &\n",
       "                  (d.startAngle < (270 * Math.PI) / 180)\n",
       "                  ? 25\n",
       "                  : -16;\n",
       "              })\n",
       "              .append(\"textPath\")\n",
       "              .attr(\"startOffset\", \"50%\")\n",
       "              .style(\"text-anchor\", \"middle\")\n",
       "              .attr(\"xlink:href\", function (d, i) {\n",
       "                return \"#arc-\" + tag_id + \"-\" + i;\n",
       "              })\n",
       "              .text(function (d, i) {\n",
       "                return Names[i];\n",
       "              });\n",
       "          } else {\n",
       "            //Append the label names on the outside\n",
       "            outerArcs\n",
       "              .append(\"text\")\n",
       "              .each(function (d) {\n",
       "                d.angle = (d.startAngle + d.endAngle) / 2;\n",
       "              })\n",
       "              .attr(\"dy\", \".35em\")\n",
       "              .attr(\"class\", \"titles\")\n",
       "              .attr(\"text-anchor\", function (d) {\n",
       "                return d.angle > Math.PI ? \"end\" : null;\n",
       "              })\n",
       "              .attr(\"transform\", function (d) {\n",
       "                return (\n",
       "                  \"rotate(\" +\n",
       "                  ((d.angle * 180) / Math.PI - 90) +\n",
       "                  \")\" +\n",
       "                  \"translate(\" +\n",
       "                  (outerRadius + 10) +\n",
       "                  \")\" +\n",
       "                  (d.angle > Math.PI ? \"rotate(180)\" : \"\")\n",
       "                );\n",
       "              })\n",
       "              .text(function (d, i) {\n",
       "                return Names[i];\n",
       "              });\n",
       "          }\n",
       "\n",
       "          ////////////////////////////////////////////////////////////\n",
       "          ////////////////// Draw inner chords ///////////////////////\n",
       "          ////////////////////////////////////////////////////////////\n",
       "\n",
       "          svg\n",
       "            .selectAll(\"path.chord\")\n",
       "            .data(chord.chords)\n",
       "            .enter()\n",
       "            .append(\"path\")\n",
       "            .attr(\"class\", \"chord\")\n",
       "            .style(\"fill\", function (d) {\n",
       "              return \"url(#\" + getGradID(d) + \")\";\n",
       "            })\n",
       "            .style(\"opacity\", opacityDefault)\n",
       "            .attr(\"d\", path)\n",
       "            .on(\"mouseover\", mouseoverChord)\n",
       "            .on(\"mouseout\", mouseoutChord(opacityDefault, opacityDefault));\n",
       "        });\n",
       "      ////////////////////////////////////////////////////////////\n",
       "      ////////////////// Extra Functions /////////////////////////\n",
       "      ////////////////////////////////////////////////////////////\n",
       "\n",
       "      //Returns an event handler for fading a given chord group.\n",
       "      function fade(opacityIn, opacityOut) {\n",
       "        return function (d, i) {\n",
       "          d3.select(this.ownerSVGElement)\n",
       "            .selectAll(\"path.chord\")\n",
       "            .filter(function (d) {\n",
       "              return d.source.index !== i && d.target.index !== i;\n",
       "            })\n",
       "            .transition()\n",
       "            .style(\"opacity\", opacityIn);\n",
       "\n",
       "          d3.select(this.ownerSVGElement)\n",
       "            .selectAll(\"path.chord\")\n",
       "            .filter(function (d) {\n",
       "              return d.source.index == i || d.target.index == i;\n",
       "            })\n",
       "            .transition()\n",
       "            .style(\"opacity\", opacityOut);\n",
       "\n",
       "            \n",
       "        };\n",
       "      } //fade\n",
       "\n",
       "      //Highlight hovered over chord\n",
       "      function mouseoverChord(d, i) {\n",
       "        d3.select(this.ownerSVGElement)\n",
       "          .selectAll(\"path.chord\")\n",
       "          .transition()\n",
       "          .style(\"opacity\", 0.1);\n",
       "        //Show hovered over chord with full opacity\n",
       "        d3.select(this).transition().style(\"opacity\", 1);\n",
       "\n",
       "        tippy(d3.select(this).node(), {\n",
       "          allowHTML: true,\n",
       "          followCursor: true,\n",
       "          content:\n",
       "            \"<span style='font-weight:900'>\" +\n",
       "            Names[d.source.index] +\n",
       "            \"</span> and <span style='font-weight:900'>\" +\n",
       "            Names[d.target.index] +\n",
       "            \"</span><br>occur together in <span style='font-weight:900'>\" +\n",
       "            d.source.value +\n",
       "            \"</span> instances\",\n",
       "          size: \"large\",\n",
       "          arrow: true,\n",
       "        });\n",
       "      } //mouseoverChord\n",
       "\n",
       "      //Bring all chords back to default opacity\n",
       "      function mouseoutChord(opacityIn, opacityOut) {\n",
       "        return function (d, i) {\n",
       "        d3.select(this.ownerSVGElement)\n",
       "          .selectAll(\"path.chord\")\n",
       "          .transition()\n",
       "          .style(\"opacity\", opacityOut);\n",
       "        };\n",
       "        //Set opacity back to default for all\n",
       "      } //function mouseoutChord\n",
       "\n",
       "\n",
       "        };\n",
       "        document.body.appendChild(script2);\n",
       "      };\n",
       "\n",
       "      document.body.appendChild(script);\n",
       "    </script>\n",
       "    <script></script>\n",
       "  </body>\n",
       "</html>\n"
      ],
      "text/plain": [
       "<IPython.core.display.HTML object>"
      ]
     },
     "metadata": {},
     "output_type": "display_data"
    }
   ],
   "source": [
    "Chord(matrix,names,colors=colors,wrap_labels=False).show()\n"
   ]
  }
 ],
 "metadata": {
  "kernelspec": {
   "display_name": "Python 3",
   "language": "python",
   "name": "python3"
  },
  "language_info": {
   "codemirror_mode": {
    "name": "ipython",
    "version": 3
   },
   "file_extension": ".py",
   "mimetype": "text/x-python",
   "name": "python",
   "nbconvert_exporter": "python",
   "pygments_lexer": "ipython3",
   "version": "3.7.3"
  }
 },
 "nbformat": 4,
 "nbformat_minor": 4
}
