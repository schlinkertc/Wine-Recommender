{
 "cells": [
  {
   "cell_type": "code",
   "execution_count": 9,
   "metadata": {},
   "outputs": [],
   "source": [
    "import plotly\n",
    "import plotly.express as px\n",
    "import numpy as np\n",
    "\n",
    "from class_definitions import *\n",
    "import pandas as pd\n",
    "from vivino_db import database\n",
    "db = database.db\n",
    "db.db_engine.table_names()"
   ]
  },
  {
   "cell_type": "code",
   "execution_count": 2,
   "metadata": {},
   "outputs": [],
   "source": [
    "tables = {}\n",
    "for table in db.db_engine.table_names():\n",
    "    tables[table]=pd.read_sql_table(table,db.db_engine)"
   ]
  },
  {
   "cell_type": "code",
   "execution_count": 3,
   "metadata": {},
   "outputs": [],
   "source": [
    "df = pd.read_csv('dataset.csv')"
   ]
  },
  {
   "cell_type": "markdown",
   "metadata": {},
   "source": [
    "### Some updates and formatting that I forgot when compiling the data"
   ]
  },
  {
   "cell_type": "code",
   "execution_count": 4,
   "metadata": {},
   "outputs": [],
   "source": [
    "region_country = pd.read_sql('select name as region,country_name from regions',db.db_engine)\n",
    "df = pd.merge(df,region_country,on='region')\n",
    "\n",
    "stmt=\"\"\"\n",
    "SELECT\n",
    "    v.id,\n",
    "    w.type_id\n",
    "FROM\n",
    "    vintages v\n",
    "INNER JOIN\n",
    "    wines w on v.wine_id = w.id\n",
    "\"\"\"\n",
    "types = pd.read_sql(stmt,db.db_engine)\n",
    "\n",
    "df = pd.merge(df,types,on='id')"
   ]
  },
  {
   "cell_type": "code",
   "execution_count": 5,
   "metadata": {},
   "outputs": [],
   "source": [
    "type_map = {\n",
    "    1:'Red',\n",
    "    2:'White',\n",
    "    3:'Sparkling',\n",
    "    4:'Rose'\n",
    "}\n",
    "df['type']=df['type_id'].map(type_map)"
   ]
  },
  {
   "cell_type": "code",
   "execution_count": 7,
   "metadata": {},
   "outputs": [],
   "source": [
    "# messy manual updates for now\n",
    "# need a better way to match vivino results with wineSearcher results\n",
    "df.loc[31,'type_id']=3\n",
    "df.loc[158,['Producer','Region/Appellation','Grape/Blend','Wine Style','Food Suggestion']] = ['Chateu Gassier', 'Cotes de Provence', 'Rare Rose Blend', 'Rose - Crisp and Dry', 'Tomato-based Dishes']\n",
    "df.loc[53,['Producer','Region/Appellation','Grape/Blend','Wine Style','Food Suggestion']] = ['Weingut Karl Proidl',\"Kremstal\",'Riesling',\"White - Green and Flinty\", 'White Fish' ]\n",
    "df.loc[4,['Producer','Region/Appellation','Grape/Blend','Wine Style','Food Suggestion']] = ['Weingut Koehler-Ruprecht','Pfalz','Pinot Noir','Red - Light and Perfumed','Meaty and Oily Fish']"
   ]
  },
  {
   "cell_type": "code",
   "execution_count": 29,
   "metadata": {},
   "outputs": [
    {
     "name": "stderr",
     "output_type": "stream",
     "text": [
      "//anaconda3/lib/python3.7/site-packages/ipykernel_launcher.py:6: UserWarning:\n",
      "\n",
      "Boolean Series key will be reindexed to match DataFrame index.\n",
      "\n"
     ]
    }
   ],
   "source": [
    "i = []\n",
    "for t in type_map.values():\n",
    "    i.extend(df[(df['Wine Style'].isna()==False)&(df['Wine Style'].str.contains(t))&(df['type']!=t)].index)\n",
    "\n",
    "temp = df.copy(deep=True) \n",
    "temp = df.drop(index=i)[df['Wine Style'].isna()==False]"
   ]
  },
  {
   "cell_type": "code",
   "execution_count": 30,
   "metadata": {},
   "outputs": [],
   "source": [
    "temp['Wine Style']=temp.apply(lambda x: x['Wine Style'].split('-')[-1].strip(),axis=1)"
   ]
  },
  {
   "cell_type": "code",
   "execution_count": 40,
   "metadata": {},
   "outputs": [],
   "source": [
    "fig = px.sunburst(temp,path=['type','Wine Style','Grape/Blend'],\n",
    "                  color='acidity',color_continuous_scale='PuBu',\n",
    "                  color_continuous_midpoint=np.average(temp['acidity'])\n",
    "                 )\n",
    "fig.show(renderer='browser')"
   ]
  },
  {
   "cell_type": "code",
   "execution_count": 78,
   "metadata": {},
   "outputs": [],
   "source": [
    "tasting_notes=joblib.load('Wines/tasting_notes.pkl')"
   ]
  },
  {
   "cell_type": "code",
   "execution_count": 3,
   "metadata": {},
   "outputs": [],
   "source": [
    "t = tasting_notes[0]"
   ]
  },
  {
   "cell_type": "code",
   "execution_count": 4,
   "metadata": {},
   "outputs": [
    {
     "data": {
      "text/plain": [
       "{4470482: [{'index': 0,\n",
       "   'tag': 'blackcurrant',\n",
       "   'note': '2 mentions of black fruit notes'},\n",
       "  {'index': 0, 'tag': 'plum', 'note': '2 mentions of black fruit notes'},\n",
       "  {'index': 1, 'tag': 'prune', 'note': '1 mentions of dried fruit notes'},\n",
       "  {'index': 2, 'tag': 'violet', 'note': '1 mentions of floral notes'},\n",
       "  {'index': 3, 'tag': 'chard', 'note': '1 mentions of vegetal notes'},\n",
       "  {'index': 3, 'tag': 'red beet', 'note': '1 mentions of vegetal notes'},\n",
       "  {'index': 4, 'tag': 'chocolate', 'note': '1 mentions of oaky notes'}]}"
      ]
     },
     "execution_count": 4,
     "metadata": {},
     "output_type": "execute_result"
    }
   ],
   "source": [
    "t"
   ]
  },
  {
   "cell_type": "code",
   "execution_count": 5,
   "metadata": {},
   "outputs": [],
   "source": [
    "records = []\n",
    "for t in tasting_notes:\n",
    "    d = {}\n",
    "    for k,v in t.items():\n",
    "        d['id']=k\n",
    "        d['notes']=list({x['note'] for x in v})\n",
    "    records.append(d)"
   ]
  },
  {
   "cell_type": "code",
   "execution_count": 7,
   "metadata": {},
   "outputs": [],
   "source": [
    "unique_notes = set()\n",
    "for record in records:\n",
    "    notes = [x.split(' mentions of ')[-1].replace(' notes','') for x in record['notes']]\n",
    "    [unique_notes.add(x) for x in notes]"
   ]
  },
  {
   "cell_type": "code",
   "execution_count": 8,
   "metadata": {},
   "outputs": [
    {
     "data": {
      "text/plain": [
       "{'ageing',\n",
       " 'black fruit',\n",
       " 'citrus',\n",
       " 'dried fruit',\n",
       " 'earthy',\n",
       " 'floral',\n",
       " 'microbio',\n",
       " 'oaky',\n",
       " 'red fruit',\n",
       " 'spices',\n",
       " 'tree fruit',\n",
       " 'tropical',\n",
       " 'vegetal'}"
      ]
     },
     "execution_count": 8,
     "metadata": {},
     "output_type": "execute_result"
    }
   ],
   "source": [
    "unique_notes"
   ]
  },
  {
   "cell_type": "code",
   "execution_count": 23,
   "metadata": {},
   "outputs": [
    {
     "data": {
      "text/plain": [
       "Northern Italy Red             9\n",
       "German Riesling                7\n",
       "Italian Nebbiolo               6\n",
       "Northern Italy White           5\n",
       "New Zealand Sauvignon Blanc    4\n",
       "                              ..\n",
       "Burgundy Côte de Nuits Red     1\n",
       "Burgundy Macônnais White       1\n",
       "Oregon Chardonnay              1\n",
       "Italian Brunello               1\n",
       "Australian Riesling            1\n",
       "Name: style, Length: 85, dtype: int64"
      ]
     },
     "execution_count": 23,
     "metadata": {},
     "output_type": "execute_result"
    }
   ],
   "source": [
    "df['style'].value_counts()"
   ]
  },
  {
   "cell_type": "code",
   "execution_count": 30,
   "metadata": {},
   "outputs": [
    {
     "data": {
      "text/plain": [
       "Red                        26\n",
       "White                      20\n",
       "Riesling                   12\n",
       "Chardonnay                 10\n",
       "Nebbiolo                    6\n",
       "Sauvignon Blanc             5\n",
       "Cabernet Sauvignon          5\n",
       "Champagne                   4\n",
       "Chianti                     3\n",
       "Chablis                     3\n",
       "Syrah                       3\n",
       "Pinot Noir                  3\n",
       "Barolo                      3\n",
       "Red Blend                   3\n",
       "Cava                        3\n",
       "Pinot Blanc                 2\n",
       "Prosecco                    2\n",
       "Côte de Beaune Red          2\n",
       "Grüner Veltliner            2\n",
       "Pinot Grigio                2\n",
       "Albariño                    2\n",
       "Spätburgunder               2\n",
       "Montepulciano d'Abruzzo     2\n",
       "Priorat Red                 2\n",
       "Bordeaux Blend              2\n",
       "Cremant                     1\n",
       "Silvaner                    1\n",
       "Merlot                      1\n",
       "Muscadet                    1\n",
       "Macônnais White             1\n",
       "Verdejo                     1\n",
       "Grenache                    1\n",
       "Dão Red                     1\n",
       "Bonarda                     1\n",
       "Graves Red                  1\n",
       "Pinotage                    1\n",
       "Côte de Nuits Red           1\n",
       "Chasselas                   1\n",
       "Côte de Beaune White        1\n",
       "Müller Thurgau              1\n",
       "Rioja White                 1\n",
       "Brunello                    1\n",
       "Soave                       1\n",
       "Châteauneuf-du-Pape Red     1\n",
       "Côte-Rotie                  1\n",
       "Torrontes                   1\n",
       "Mencia                      1\n",
       "Ribera Del Duero Red        1\n",
       "Zweigelt                    1\n",
       "Rioja Red                   1\n",
       "Rosé                        1\n",
       "Chenin Blanc                1\n",
       "Pinot Gris                  1\n",
       "Saint-Émilion               1\n",
       "Grauburgunder               1\n",
       "Name: varietal_name, dtype: int64"
      ]
     },
     "execution_count": 30,
     "metadata": {},
     "output_type": "execute_result"
    }
   ],
   "source": [
    "df['varietal_name'].value_counts()"
   ]
  },
  {
   "cell_type": "code",
   "execution_count": 41,
   "metadata": {},
   "outputs": [],
   "source": [
    "fig = px.sunburst(df,path=['country_name','style'])"
   ]
  },
  {
   "cell_type": "code",
   "execution_count": 42,
   "metadata": {},
   "outputs": [],
   "source": [
    "fig.show(renderer='browser')"
   ]
  },
  {
   "cell_type": "code",
   "execution_count": 21,
   "metadata": {},
   "outputs": [
    {
     "data": {
      "text/plain": [
       "0                   Austrian Zweigelt\n",
       "1                    Italian Nebbiolo\n",
       "2      Californian Cabernet Sauvignon\n",
       "3                German Spätburgunder\n",
       "4                German Spätburgunder\n",
       "                    ...              \n",
       "154        Languedoc-Roussillon White\n",
       "155                     Italian Soave\n",
       "156                Northern Italy Red\n",
       "157                     Provence Rosé\n",
       "158             German Müller Thurgau\n",
       "Name: style, Length: 159, dtype: object"
      ]
     },
     "execution_count": 21,
     "metadata": {},
     "output_type": "execute_result"
    }
   ],
   "source": [
    "df['style']"
   ]
  },
  {
   "cell_type": "code",
   "execution_count": 43,
   "metadata": {},
   "outputs": [
    {
     "name": "stdout",
     "output_type": "stream",
     "text": [
      "<class 'pandas.core.frame.DataFrame'>\n",
      "Int64Index: 160 entries, 0 to 159\n",
      "Data columns (total 29 columns):\n",
      "name                   160 non-null object\n",
      "Producer               125 non-null object\n",
      "Region/Appellation     139 non-null object\n",
      "Grape/Blend            139 non-null object\n",
      "Food Suggestion        135 non-null object\n",
      "Wine Style             135 non-null object\n",
      "Alcohol Content        85 non-null object\n",
      "instance               160 non-null object\n",
      "vivino_wine            160 non-null object\n",
      "id                     160 non-null int64\n",
      "winery                 160 non-null object\n",
      "region                 160 non-null object\n",
      "style                  160 non-null object\n",
      "varietal_name          160 non-null object\n",
      "regional_name          160 non-null object\n",
      "body                   160 non-null int64\n",
      "acidity                160 non-null int64\n",
      "style_description      119 non-null object\n",
      "ratings_count          160 non-null int64\n",
      "ratings_average        160 non-null float64\n",
      "vintage_description    0 non-null float64\n",
      "ranking_region         159 non-null float64\n",
      "ranking_global         159 non-null float64\n",
      "added_sulfites         0 non-null float64\n",
      "biodynamic             0 non-null float64\n",
      "wine_description       68 non-null object\n",
      "country_name           160 non-null object\n",
      "type_id                160 non-null int64\n",
      "type                   160 non-null object\n",
      "dtypes: float64(6), int64(5), object(18)\n",
      "memory usage: 42.5+ KB\n"
     ]
    }
   ],
   "source": [
    "df.info()"
   ]
  },
  {
   "cell_type": "code",
   "execution_count": null,
   "metadata": {},
   "outputs": [],
   "source": []
  }
 ],
 "metadata": {
  "kernelspec": {
   "display_name": "Python 3",
   "language": "python",
   "name": "python3"
  },
  "language_info": {
   "codemirror_mode": {
    "name": "ipython",
    "version": 3
   },
   "file_extension": ".py",
   "mimetype": "text/x-python",
   "name": "python",
   "nbconvert_exporter": "python",
   "pygments_lexer": "ipython3",
   "version": "3.7.3"
  }
 },
 "nbformat": 4,
 "nbformat_minor": 4
}
