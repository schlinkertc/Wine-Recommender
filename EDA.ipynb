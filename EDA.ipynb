{
 "cells": [
  {
   "cell_type": "code",
   "execution_count": 9,
   "metadata": {},
   "outputs": [],
   "source": [
    "import plotly\n",
    "import plotly.express as px\n",
    "import numpy as np\n",
    "\n",
    "from class_definitions import *\n",
    "import pandas as pd\n",
    "from vivino_db import database\n",
    "db = database.db\n",
    "db.db_engine.table_names()"
   ]
  },
  {
   "cell_type": "code",
   "execution_count": 2,
   "metadata": {},
   "outputs": [],
   "source": [
    "tables = {}\n",
    "for table in db.db_engine.table_names():\n",
    "    tables[table]=pd.read_sql_table(table,db.db_engine)"
   ]
  },
  {
   "cell_type": "code",
   "execution_count": 350,
   "metadata": {},
   "outputs": [],
   "source": [
    "df = pd.read_csv('dataset.csv')"
   ]
  },
  {
   "cell_type": "code",
   "execution_count": 351,
   "metadata": {},
   "outputs": [
    {
     "data": {
      "text/plain": [
       "(128, 30)"
      ]
     },
     "execution_count": 351,
     "metadata": {},
     "output_type": "execute_result"
    }
   ],
   "source": [
    "df.shape"
   ]
  },
  {
   "cell_type": "markdown",
   "metadata": {},
   "source": [
    "### Countries, Regions"
   ]
  },
  {
   "cell_type": "code",
   "execution_count": 301,
   "metadata": {},
   "outputs": [],
   "source": [
    "fig = px.sunburst(temp,path=['country_name','Region/Appellation'])\n",
    "fig.show(renderer='browser')"
   ]
  },
  {
   "cell_type": "code",
   "execution_count": 357,
   "metadata": {},
   "outputs": [],
   "source": [
    "fig = px.sunburst(temp,path=['varietal_name','Region/Appellation'])\n",
    "fig.show(renderer='browser')"
   ]
  },
  {
   "cell_type": "code",
   "execution_count": 285,
   "metadata": {},
   "outputs": [],
   "source": [
    "fig = px.box(df[df['ratings_average']!=0],x='country_name',y='ratings_average',points='all',hover_name='name')\n",
    "fig.update_traces(quartilemethod=\"exclusive\")\n",
    "fig.show(renderer='browser')"
   ]
  },
  {
   "cell_type": "code",
   "execution_count": 289,
   "metadata": {},
   "outputs": [],
   "source": [
    "fig = px.box(df[df['ratings_average']!=0],x='country_name',y='ranking_global',points='all',hover_name='name')\n",
    "fig.update_traces(quartilemethod=\"exclusive\")\n",
    "fig.show(renderer='browser')"
   ]
  },
  {
   "cell_type": "markdown",
   "metadata": {},
   "source": [
    "### Type,Wine Style,Grape/Blend"
   ]
  },
  {
   "cell_type": "code",
   "execution_count": 40,
   "metadata": {},
   "outputs": [],
   "source": [
    "fig = px.sunburst(df,path=['type','Wine Style','Grape/Blend'],\n",
    "                  color='acidity',color_continuous_scale='PuBu',\n",
    "                  color_continuous_midpoint=np.average(df['acidity'])\n",
    "                 )\n",
    "fig.show(renderer='browser')"
   ]
  },
  {
   "cell_type": "code",
   "execution_count": null,
   "metadata": {},
   "outputs": [],
   "source": [
    "fig = px.sunburst(df,path=['type','Wine Style','Grape/Blend'],\n",
    "                  color='body',color_continuous_scale='PuBu',\n",
    "                  color_continuous_midpoint=np.average(df['body'])\n",
    "                 )\n",
    "fig.show(renderer='browser')"
   ]
  },
  {
   "cell_type": "markdown",
   "metadata": {},
   "source": [
    "### Flavor Wheel"
   ]
  },
  {
   "cell_type": "code",
   "execution_count": 359,
   "metadata": {},
   "outputs": [],
   "source": [
    "tasting_notes=joblib.load('Wines/tasting_notes.pkl')\n",
    "\n",
    "records = []\n",
    "for t in tasting_notes:\n",
    "    d = {}\n",
    "    for k,v in t.items():\n",
    "        d['id']=k\n",
    "        d['notes']=list(\n",
    "            {x['note'].split(' mentions of')[-1].replace(' notes','').strip() for x in v})\n",
    "        d['tags']=list({x['tag'] for x in v})\n",
    "    records.append(d)\n",
    "\n",
    "records[0]"
   ]
  },
  {
   "cell_type": "code",
   "execution_count": 188,
   "metadata": {},
   "outputs": [],
   "source": [
    "nt_map = []\n",
    "count = 0 \n",
    "for t in tasting_notes:\n",
    "    d = {}\n",
    "    for k,value in t.items():\n",
    "        if k not in df['id'].to_list():\n",
    "            continue \n",
    "        for v in value:\n",
    "            d = {'id':k}\n",
    "            d['note'] = v['note'].split('mentions of')[-1].replace(' notes','').strip()\n",
    "            d['tag']=v['tag']\n",
    "            nt_map.append(d)"
   ]
  },
  {
   "cell_type": "code",
   "execution_count": 189,
   "metadata": {},
   "outputs": [],
   "source": [
    "taste_df = pd.DataFrame.from_records(nt_map).drop_duplicates()\n",
    "fig = px.sunburst(taste_df,path=['note','tag'])\n",
    "fig.show(renderer='browser')"
   ]
  },
  {
   "cell_type": "markdown",
   "metadata": {},
   "source": [
    "### Co-occurrence of Tasting Notes"
   ]
  },
  {
   "cell_type": "code",
   "execution_count": 334,
   "metadata": {},
   "outputs": [],
   "source": [
    "from chord import Chord\n",
    "import itertools"
   ]
  },
  {
   "cell_type": "code",
   "execution_count": 335,
   "metadata": {},
   "outputs": [],
   "source": [
    "# get top 3 tasting notes\n",
    "records = []\n",
    "for t in tasting_notes:\n",
    "    d = {}\n",
    "    for k,v in t.items():\n",
    "        d['id']=k\n",
    "        for i in range(0,3):\n",
    "            for value in v:\n",
    "                if value['index']==i:\n",
    "                    note = value['note'].split(' mentions of ')[-1].replace('notes','').strip()\n",
    "                    d[f\"note_{i+1}\"]=note\n",
    "        \n",
    "    records.append(d)"
   ]
  },
  {
   "cell_type": "code",
   "execution_count": 336,
   "metadata": {},
   "outputs": [],
   "source": [
    "co_occ = pd.DataFrame.from_records(records)\n",
    "co_occ = co_occ[['note_1','note_2']].dropna()\n",
    "co_occ = list(itertools.chain.from_iterable((i, i[::-1]) for i in co_occ.values))"
   ]
  },
  {
   "cell_type": "code",
   "execution_count": 340,
   "metadata": {},
   "outputs": [],
   "source": [
    "matrix = pd.pivot_table(\n",
    "    pd.DataFrame(co_occ), index=0, columns=1, aggfunc=\"size\", fill_value=0\n",
    ").values.tolist()\n",
    "names = np.unique(co_occ).tolist()"
   ]
  },
  {
   "cell_type": "code",
   "execution_count": 340,
   "metadata": {},
   "outputs": [],
   "source": [
    "chord_diagram = Chord(matrix,names,colors=colors,wrap_labels=True,padding=.01,width=700)\n",
    "chord_diagram.to_html('images/co')"
   ]
  },
  {
   "cell_type": "markdown",
   "metadata": {},
   "source": [
    "### Ratings by Type"
   ]
  },
  {
   "cell_type": "code",
   "execution_count": 354,
   "metadata": {},
   "outputs": [
    {
     "data": {
      "text/plain": [
       "array(['Savory and Classic', 'Rich and Intense', 'Bold and Structured',\n",
       "       'Light and Perfumed', 'Tropical and Balanced', 'Green and Flinty',\n",
       "       'Aromatic and Floral', 'Buttery and Complex', 'Fresh and Youthful',\n",
       "       'Lush and Balanced', 'Berries and Cream',\n",
       "       'Complex and Traditional', 'Crisp and Dry'], dtype=object)"
      ]
     },
     "execution_count": 354,
     "metadata": {},
     "output_type": "execute_result"
    }
   ],
   "source": [
    "df['Wine Style'].unique()"
   ]
  }
 ],
 "metadata": {
  "kernelspec": {
   "display_name": "Python 3",
   "language": "python",
   "name": "python3"
  },
  "language_info": {
   "codemirror_mode": {
    "name": "ipython",
    "version": 3
   },
   "file_extension": ".py",
   "mimetype": "text/x-python",
   "name": "python",
   "nbconvert_exporter": "python",
   "pygments_lexer": "ipython3",
   "version": "3.7.3"
  }
 },
 "nbformat": 4,
 "nbformat_minor": 4
}
