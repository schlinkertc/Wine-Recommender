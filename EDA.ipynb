{
 "cells": [
  {
   "cell_type": "code",
   "execution_count": 9,
   "metadata": {},
   "outputs": [],
   "source": [
    "import plotly\n",
    "import plotly.express as px\n",
    "import numpy as np\n",
    "\n",
    "from class_definitions import *\n",
    "import pandas as pd\n",
    "from vivino_db import database\n",
    "db = database.db\n",
    "db.db_engine.table_names()"
   ]
  },
  {
   "cell_type": "code",
   "execution_count": 2,
   "metadata": {},
   "outputs": [],
   "source": [
    "tables = {}\n",
    "for table in db.db_engine.table_names():\n",
    "    tables[table]=pd.read_sql_table(table,db.db_engine)"
   ]
  },
  {
   "cell_type": "code",
   "execution_count": 3,
   "metadata": {},
   "outputs": [],
   "source": [
    "df = pd.read_csv('dataset.csv')"
   ]
  },
  {
   "cell_type": "markdown",
   "metadata": {},
   "source": [
    "### Some updates and formatting that I forgot when compiling the data"
   ]
  },
  {
   "cell_type": "code",
   "execution_count": 4,
   "metadata": {},
   "outputs": [],
   "source": [
    "region_country = pd.read_sql('select name as region,country_name from regions',db.db_engine)\n",
    "df = pd.merge(df,region_country,on='region')\n",
    "\n",
    "stmt=\"\"\"\n",
    "SELECT\n",
    "    v.id,\n",
    "    w.type_id\n",
    "FROM\n",
    "    vintages v\n",
    "INNER JOIN\n",
    "    wines w on v.wine_id = w.id\n",
    "\"\"\"\n",
    "types = pd.read_sql(stmt,db.db_engine)\n",
    "\n",
    "df = pd.merge(df,types,on='id')"
   ]
  },
  {
   "cell_type": "code",
   "execution_count": 5,
   "metadata": {},
   "outputs": [],
   "source": [
    "type_map = {\n",
    "    1:'Red',\n",
    "    2:'White',\n",
    "    3:'Sparkling',\n",
    "    4:'Rose'\n",
    "}\n",
    "df['type']=df['type_id'].map(type_map)"
   ]
  },
  {
   "cell_type": "code",
   "execution_count": 7,
   "metadata": {},
   "outputs": [],
   "source": [
    "# messy manual updates for now\n",
    "# need a better way to match vivino results with wineSearcher results\n",
    "df.loc[31,'type_id']=3\n",
    "df.loc[158,['Producer','Region/Appellation','Grape/Blend','Wine Style','Food Suggestion']] = ['Chateu Gassier', 'Cotes de Provence', 'Rare Rose Blend', 'Rose - Crisp and Dry', 'Tomato-based Dishes']\n",
    "df.loc[53,['Producer','Region/Appellation','Grape/Blend','Wine Style','Food Suggestion']] = ['Weingut Karl Proidl',\"Kremstal\",'Riesling',\"White - Green and Flinty\", 'White Fish' ]\n",
    "df.loc[4,['Producer','Region/Appellation','Grape/Blend','Wine Style','Food Suggestion']] = ['Weingut Koehler-Ruprecht','Pfalz','Pinot Noir','Red - Light and Perfumed','Meaty and Oily Fish']"
   ]
  },
  {
   "cell_type": "markdown",
   "metadata": {},
   "source": [
    "### Type,Wine Style,Grape/Blend"
   ]
  },
  {
   "cell_type": "code",
   "execution_count": 29,
   "metadata": {
    "collapsed": true,
    "jupyter": {
     "outputs_hidden": true
    }
   },
   "outputs": [
    {
     "name": "stderr",
     "output_type": "stream",
     "text": [
      "//anaconda3/lib/python3.7/site-packages/ipykernel_launcher.py:6: UserWarning:\n",
      "\n",
      "Boolean Series key will be reindexed to match DataFrame index.\n",
      "\n"
     ]
    }
   ],
   "source": [
    "i = []\n",
    "for t in type_map.values():\n",
    "    i.extend(df[(df['Wine Style'].isna()==False)&(df['Wine Style'].str.contains(t))&(df['type']!=t)].index)\n",
    "\n",
    "temp = df.copy(deep=True) \n",
    "temp = df.drop(index=i)[df['Wine Style'].isna()==False]"
   ]
  },
  {
   "cell_type": "code",
   "execution_count": 30,
   "metadata": {},
   "outputs": [],
   "source": [
    "temp['Wine Style']=temp.apply(lambda x: x['Wine Style'].split('-')[-1].strip(),axis=1)"
   ]
  },
  {
   "cell_type": "code",
   "execution_count": 40,
   "metadata": {},
   "outputs": [],
   "source": [
    "fig = px.sunburst(temp,path=['type','Wine Style','Grape/Blend'],\n",
    "                  color='acidity',color_continuous_scale='PuBu',\n",
    "                  color_continuous_midpoint=np.average(temp['acidity'])\n",
    "                 )\n",
    "fig.show(renderer='browser')"
   ]
  },
  {
   "cell_type": "code",
   "execution_count": null,
   "metadata": {},
   "outputs": [],
   "source": [
    "fig = px.sunburst(temp,path=['type','Wine Style','Grape/Blend'],\n",
    "                  color='body',color_continuous_scale='PuBu',\n",
    "                  color_continuous_midpoint=np.average(temp['body'])\n",
    "                 )\n",
    "fig.show(renderer='browser')"
   ]
  },
  {
   "cell_type": "markdown",
   "metadata": {},
   "source": [
    "### Incorporating Tasting Notes"
   ]
  },
  {
   "cell_type": "code",
   "execution_count": 47,
   "metadata": {},
   "outputs": [],
   "source": [
    "tasting_notes=joblib.load('Wines/tasting_notes.pkl')"
   ]
  },
  {
   "cell_type": "code",
   "execution_count": 86,
   "metadata": {},
   "outputs": [
    {
     "data": {
      "text/plain": [
       "{4470482: [{'index': 0,\n",
       "   'tag': 'blackcurrant',\n",
       "   'note': '2 mentions of black fruit notes'},\n",
       "  {'index': 0, 'tag': 'plum', 'note': '2 mentions of black fruit notes'},\n",
       "  {'index': 1, 'tag': 'prune', 'note': '1 mentions of dried fruit notes'},\n",
       "  {'index': 2, 'tag': 'violet', 'note': '1 mentions of floral notes'},\n",
       "  {'index': 3, 'tag': 'chard', 'note': '1 mentions of vegetal notes'},\n",
       "  {'index': 3, 'tag': 'red beet', 'note': '1 mentions of vegetal notes'},\n",
       "  {'index': 4, 'tag': 'chocolate', 'note': '1 mentions of oaky notes'}]}"
      ]
     },
     "execution_count": 86,
     "metadata": {},
     "output_type": "execute_result"
    }
   ],
   "source": [
    "tasting_notes[0]"
   ]
  },
  {
   "cell_type": "code",
   "execution_count": 76,
   "metadata": {},
   "outputs": [],
   "source": [
    "records = []\n",
    "for t in tasting_notes:\n",
    "    d = {}\n",
    "    for k,v in t.items():\n",
    "        d['id']=k\n",
    "        d['notes']=list({x['note'].split('mentions of')[-1].replace('') for x in v})\n",
    "        d['tags']=list({x['tag'] for x in v})\n",
    "    records.append(d)"
   ]
  },
  {
   "cell_type": "code",
   "execution_count": 105,
   "metadata": {},
   "outputs": [
    {
     "data": {
      "text/plain": [
       "{'id': 4470482,\n",
       " 'notes': ['2 mentions of black fruit notes',\n",
       "  '1 mentions of dried fruit notes',\n",
       "  '1 mentions of floral notes',\n",
       "  '1 mentions of oaky notes',\n",
       "  '1 mentions of vegetal notes'],\n",
       " 'tags': ['red beet',\n",
       "  'blackcurrant',\n",
       "  'chard',\n",
       "  'chocolate',\n",
       "  'prune',\n",
       "  'violet',\n",
       "  'plum']}"
      ]
     },
     "execution_count": 105,
     "metadata": {},
     "output_type": "execute_result"
    }
   ],
   "source": [
    "records[0]"
   ]
  },
  {
   "cell_type": "code",
   "execution_count": 77,
   "metadata": {},
   "outputs": [
    {
     "name": "stdout",
     "output_type": "stream",
     "text": [
      "2\n",
      "6\n",
      "1\n"
     ]
    }
   ],
   "source": [
    "for record in records[:5]:\n",
    "    for note in record[\"notes\"]:\n",
    "        if 'black' in note:\n",
    "            print(note.split(' ')[0])"
   ]
  },
  {
   "cell_type": "code",
   "execution_count": 57,
   "metadata": {},
   "outputs": [],
   "source": [
    "notes_tags =[]\n",
    "for t in tasting_notes:\n",
    "    v=list(t.values())[0]\n",
    "    notes_tags.extend(v)"
   ]
  },
  {
   "cell_type": "code",
   "execution_count": 66,
   "metadata": {},
   "outputs": [],
   "source": [
    "notes = []\n",
    "for nt in notes_tags[:5]:\n",
    "    notes.append(nt['note'])"
   ]
  },
  {
   "cell_type": "code",
   "execution_count": 69,
   "metadata": {},
   "outputs": [
    {
     "data": {
      "text/plain": [
       "True"
      ]
     },
     "execution_count": 69,
     "metadata": {},
     "output_type": "execute_result"
    }
   ],
   "source": [
    "'black fruit' in notes[0]"
   ]
  },
  {
   "cell_type": "code",
   "execution_count": 79,
   "metadata": {},
   "outputs": [],
   "source": [
    "unique_notes = set()\n",
    "unique_tags = set()\n",
    "for record in records:\n",
    "    notes = [x.split(' mentions of ')[-1].replace(' notes','') for x in record['notes']]\n",
    "    [unique_notes.add(x) for x in notes]\n",
    "    [unique_tags.add(x) for x in record['tags']]"
   ]
  },
  {
   "cell_type": "code",
   "execution_count": 80,
   "metadata": {},
   "outputs": [
    {
     "data": {
      "text/plain": [
       "{'ageing',\n",
       " 'black fruit',\n",
       " 'citrus',\n",
       " 'dried fruit',\n",
       " 'earthy',\n",
       " 'floral',\n",
       " 'microbio',\n",
       " 'oaky',\n",
       " 'red fruit',\n",
       " 'spices',\n",
       " 'tree fruit',\n",
       " 'tropical',\n",
       " 'vegetal'}"
      ]
     },
     "execution_count": 80,
     "metadata": {},
     "output_type": "execute_result"
    }
   ],
   "source": [
    "unique_notes"
   ]
  },
  {
   "cell_type": "code",
   "execution_count": 104,
   "metadata": {},
   "outputs": [
    {
     "data": {
      "text/plain": [
       "{4470482: [{'index': 0,\n",
       "   'tag': 'blackcurrant',\n",
       "   'note': '2 mentions of black fruit notes'},\n",
       "  {'index': 0, 'tag': 'plum', 'note': '2 mentions of black fruit notes'},\n",
       "  {'index': 1, 'tag': 'prune', 'note': '1 mentions of dried fruit notes'},\n",
       "  {'index': 2, 'tag': 'violet', 'note': '1 mentions of floral notes'},\n",
       "  {'index': 3, 'tag': 'chard', 'note': '1 mentions of vegetal notes'},\n",
       "  {'index': 3, 'tag': 'red beet', 'note': '1 mentions of vegetal notes'},\n",
       "  {'index': 4, 'tag': 'chocolate', 'note': '1 mentions of oaky notes'}]}"
      ]
     },
     "execution_count": 104,
     "metadata": {},
     "output_type": "execute_result"
    }
   ],
   "source": [
    "tasting_notes[0]"
   ]
  },
  {
   "cell_type": "code",
   "execution_count": 109,
   "metadata": {},
   "outputs": [],
   "source": [
    "nt_map = []\n",
    "for t in tasting_notes:\n",
    "    d = {}\n",
    "    for k,value in t.items():\n",
    "        d = {}\n",
    "        for v in value:\n",
    "            d['note'] = v['note'].split('mentions of')[-1].replace(' notes','')\n",
    "            d['tag']=v['tag']\n",
    "            nt_map.append(d)"
   ]
  },
  {
   "cell_type": "code",
   "execution_count": 115,
   "metadata": {},
   "outputs": [],
   "source": [
    "taste_df = pd.DataFrame.from_records(nt_map).drop_duplicates()"
   ]
  },
  {
   "cell_type": "code",
   "execution_count": 116,
   "metadata": {},
   "outputs": [],
   "source": [
    "fig = px.sunburst(taste_df,path=['note','tag'])"
   ]
  },
  {
   "cell_type": "code",
   "execution_count": 117,
   "metadata": {},
   "outputs": [],
   "source": [
    "fig.show(renderer='browser')"
   ]
  },
  {
   "cell_type": "code",
   "execution_count": null,
   "metadata": {},
   "outputs": [],
   "source": []
  }
 ],
 "metadata": {
  "kernelspec": {
   "display_name": "Python 3",
   "language": "python",
   "name": "python3"
  },
  "language_info": {
   "codemirror_mode": {
    "name": "ipython",
    "version": 3
   },
   "file_extension": ".py",
   "mimetype": "text/x-python",
   "name": "python",
   "nbconvert_exporter": "python",
   "pygments_lexer": "ipython3",
   "version": "3.7.3"
  }
 },
 "nbformat": 4,
 "nbformat_minor": 4
}
